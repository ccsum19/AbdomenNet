{
 "cells": [
  {
   "cell_type": "code",
   "execution_count": 1,
   "id": "cd8b2316",
   "metadata": {
    "execution": {
     "iopub.execute_input": "2023-10-05T02:54:04.100756Z",
     "iopub.status.busy": "2023-10-05T02:54:04.100386Z",
     "iopub.status.idle": "2023-10-05T02:54:05.830200Z",
     "shell.execute_reply": "2023-10-05T02:54:05.829099Z"
    },
    "papermill": {
     "duration": 1.740208,
     "end_time": "2023-10-05T02:54:05.833393",
     "exception": false,
     "start_time": "2023-10-05T02:54:04.093185",
     "status": "completed"
    },
    "tags": []
   },
   "outputs": [
    {
     "name": "stderr",
     "output_type": "stream",
     "text": [
      "/opt/conda/lib/python3.10/site-packages/scipy/__init__.py:146: UserWarning: A NumPy version >=1.16.5 and <1.23.0 is required for this version of SciPy (detected version 1.23.5\n",
      "  warnings.warn(f\"A NumPy version >={np_minversion} and <{np_maxversion}\"\n"
     ]
    }
   ],
   "source": [
    "import numpy as np\n",
    "import pandas as pd  \n",
    "import seaborn as sns \n",
    "import matplotlib.pyplot as plt  \n",
    "\n",
    "import pandas.api.types\n",
    "import sklearn.metrics\n",
    "\n",
    "import os\n",
    "from glob import glob\n",
    "from tqdm import tqdm, trange"
   ]
  },
  {
   "cell_type": "code",
   "execution_count": 2,
   "id": "ca31b71b",
   "metadata": {
    "execution": {
     "iopub.execute_input": "2023-10-05T02:54:05.844855Z",
     "iopub.status.busy": "2023-10-05T02:54:05.844457Z",
     "iopub.status.idle": "2023-10-05T02:54:05.849309Z",
     "shell.execute_reply": "2023-10-05T02:54:05.848339Z"
    },
    "papermill": {
     "duration": 0.013237,
     "end_time": "2023-10-05T02:54:05.851719",
     "exception": false,
     "start_time": "2023-10-05T02:54:05.838482",
     "status": "completed"
    },
    "tags": []
   },
   "outputs": [],
   "source": [
    "file_path = \"/kaggle/input/rsna-2023-abdominal-trauma-detection\""
   ]
  },
  {
   "cell_type": "code",
   "execution_count": 3,
   "id": "d61a1cbc",
   "metadata": {
    "execution": {
     "iopub.execute_input": "2023-10-05T02:54:05.863329Z",
     "iopub.status.busy": "2023-10-05T02:54:05.862711Z",
     "iopub.status.idle": "2023-10-05T02:54:05.867922Z",
     "shell.execute_reply": "2023-10-05T02:54:05.866753Z"
    },
    "papermill": {
     "duration": 0.013918,
     "end_time": "2023-10-05T02:54:05.870440",
     "exception": false,
     "start_time": "2023-10-05T02:54:05.856522",
     "status": "completed"
    },
    "tags": []
   },
   "outputs": [],
   "source": [
    "Target_cols = [\"bowel_healthy\", \"bowel_injury\", \"extravasation_healthy\",\n",
    "                   \"extravasation_injury\", \"kidney_healthy\", \"kidney_low\",\n",
    "                   \"kidney_high\", \"liver_healthy\", \"liver_low\", \"liver_high\",\n",
    "                   \"spleen_healthy\", \"spleen_low\", \"spleen_high\",\"any_injury\"]"
   ]
  },
  {
   "cell_type": "code",
   "execution_count": 4,
   "id": "6bf09959",
   "metadata": {
    "execution": {
     "iopub.execute_input": "2023-10-05T02:54:05.882020Z",
     "iopub.status.busy": "2023-10-05T02:54:05.881645Z",
     "iopub.status.idle": "2023-10-05T02:54:05.928690Z",
     "shell.execute_reply": "2023-10-05T02:54:05.927555Z"
    },
    "papermill": {
     "duration": 0.056077,
     "end_time": "2023-10-05T02:54:05.931209",
     "exception": false,
     "start_time": "2023-10-05T02:54:05.875132",
     "status": "completed"
    },
    "tags": []
   },
   "outputs": [
    {
     "data": {
      "text/html": [
       "<div>\n",
       "<style scoped>\n",
       "    .dataframe tbody tr th:only-of-type {\n",
       "        vertical-align: middle;\n",
       "    }\n",
       "\n",
       "    .dataframe tbody tr th {\n",
       "        vertical-align: top;\n",
       "    }\n",
       "\n",
       "    .dataframe thead th {\n",
       "        text-align: right;\n",
       "    }\n",
       "</style>\n",
       "<table border=\"1\" class=\"dataframe\">\n",
       "  <thead>\n",
       "    <tr style=\"text-align: right;\">\n",
       "      <th></th>\n",
       "      <th>patient_id</th>\n",
       "      <th>bowel_healthy</th>\n",
       "      <th>bowel_injury</th>\n",
       "      <th>extravasation_healthy</th>\n",
       "      <th>extravasation_injury</th>\n",
       "      <th>kidney_healthy</th>\n",
       "      <th>kidney_low</th>\n",
       "      <th>kidney_high</th>\n",
       "      <th>liver_healthy</th>\n",
       "      <th>liver_low</th>\n",
       "      <th>liver_high</th>\n",
       "      <th>spleen_healthy</th>\n",
       "      <th>spleen_low</th>\n",
       "      <th>spleen_high</th>\n",
       "      <th>any_injury</th>\n",
       "    </tr>\n",
       "  </thead>\n",
       "  <tbody>\n",
       "    <tr>\n",
       "      <th>0</th>\n",
       "      <td>10004</td>\n",
       "      <td>1</td>\n",
       "      <td>0</td>\n",
       "      <td>0</td>\n",
       "      <td>1</td>\n",
       "      <td>0</td>\n",
       "      <td>1</td>\n",
       "      <td>0</td>\n",
       "      <td>1</td>\n",
       "      <td>0</td>\n",
       "      <td>0</td>\n",
       "      <td>0</td>\n",
       "      <td>0</td>\n",
       "      <td>1</td>\n",
       "      <td>1</td>\n",
       "    </tr>\n",
       "    <tr>\n",
       "      <th>1</th>\n",
       "      <td>10005</td>\n",
       "      <td>1</td>\n",
       "      <td>0</td>\n",
       "      <td>1</td>\n",
       "      <td>0</td>\n",
       "      <td>1</td>\n",
       "      <td>0</td>\n",
       "      <td>0</td>\n",
       "      <td>1</td>\n",
       "      <td>0</td>\n",
       "      <td>0</td>\n",
       "      <td>1</td>\n",
       "      <td>0</td>\n",
       "      <td>0</td>\n",
       "      <td>0</td>\n",
       "    </tr>\n",
       "    <tr>\n",
       "      <th>2</th>\n",
       "      <td>10007</td>\n",
       "      <td>1</td>\n",
       "      <td>0</td>\n",
       "      <td>1</td>\n",
       "      <td>0</td>\n",
       "      <td>1</td>\n",
       "      <td>0</td>\n",
       "      <td>0</td>\n",
       "      <td>1</td>\n",
       "      <td>0</td>\n",
       "      <td>0</td>\n",
       "      <td>1</td>\n",
       "      <td>0</td>\n",
       "      <td>0</td>\n",
       "      <td>0</td>\n",
       "    </tr>\n",
       "    <tr>\n",
       "      <th>3</th>\n",
       "      <td>10026</td>\n",
       "      <td>1</td>\n",
       "      <td>0</td>\n",
       "      <td>1</td>\n",
       "      <td>0</td>\n",
       "      <td>1</td>\n",
       "      <td>0</td>\n",
       "      <td>0</td>\n",
       "      <td>1</td>\n",
       "      <td>0</td>\n",
       "      <td>0</td>\n",
       "      <td>1</td>\n",
       "      <td>0</td>\n",
       "      <td>0</td>\n",
       "      <td>0</td>\n",
       "    </tr>\n",
       "    <tr>\n",
       "      <th>4</th>\n",
       "      <td>10051</td>\n",
       "      <td>1</td>\n",
       "      <td>0</td>\n",
       "      <td>1</td>\n",
       "      <td>0</td>\n",
       "      <td>1</td>\n",
       "      <td>0</td>\n",
       "      <td>0</td>\n",
       "      <td>1</td>\n",
       "      <td>0</td>\n",
       "      <td>0</td>\n",
       "      <td>0</td>\n",
       "      <td>1</td>\n",
       "      <td>0</td>\n",
       "      <td>1</td>\n",
       "    </tr>\n",
       "  </tbody>\n",
       "</table>\n",
       "</div>"
      ],
      "text/plain": [
       "   patient_id  bowel_healthy  bowel_injury  extravasation_healthy  \\\n",
       "0       10004              1             0                      0   \n",
       "1       10005              1             0                      1   \n",
       "2       10007              1             0                      1   \n",
       "3       10026              1             0                      1   \n",
       "4       10051              1             0                      1   \n",
       "\n",
       "   extravasation_injury  kidney_healthy  kidney_low  kidney_high  \\\n",
       "0                     1               0           1            0   \n",
       "1                     0               1           0            0   \n",
       "2                     0               1           0            0   \n",
       "3                     0               1           0            0   \n",
       "4                     0               1           0            0   \n",
       "\n",
       "   liver_healthy  liver_low  liver_high  spleen_healthy  spleen_low  \\\n",
       "0              1          0           0               0           0   \n",
       "1              1          0           0               1           0   \n",
       "2              1          0           0               1           0   \n",
       "3              1          0           0               1           0   \n",
       "4              1          0           0               0           1   \n",
       "\n",
       "   spleen_high  any_injury  \n",
       "0            1           1  \n",
       "1            0           0  \n",
       "2            0           0  \n",
       "3            0           0  \n",
       "4            0           1  "
      ]
     },
     "execution_count": 4,
     "metadata": {},
     "output_type": "execute_result"
    }
   ],
   "source": [
    "file_path = \"/kaggle/input/rsna-2023-abdominal-trauma-detection\"\n",
    "train_csv=f\"{file_path}/train.csv\" \n",
    "train=pd.read_csv(train_csv) \n",
    "train.head()"
   ]
  },
  {
   "cell_type": "code",
   "execution_count": 5,
   "id": "d3b55909",
   "metadata": {
    "execution": {
     "iopub.execute_input": "2023-10-05T02:54:05.942181Z",
     "iopub.status.busy": "2023-10-05T02:54:05.941841Z",
     "iopub.status.idle": "2023-10-05T02:54:06.392344Z",
     "shell.execute_reply": "2023-10-05T02:54:06.390908Z"
    },
    "papermill": {
     "duration": 0.458681,
     "end_time": "2023-10-05T02:54:06.394752",
     "exception": false,
     "start_time": "2023-10-05T02:54:05.936071",
     "status": "completed"
    },
    "tags": []
   },
   "outputs": [
    {
     "data": {
      "text/plain": [
       "Text(0.5, 1.0, 'Correlation Heatmap for healthy organs')"
      ]
     },
     "execution_count": 5,
     "metadata": {},
     "output_type": "execute_result"
    },
    {
     "data": {
      "image/png": "[encoded data removed]",
      "text/plain": [
       "<Figure size 640x480 with 2 Axes>"
      ]
     },
     "metadata": {},
     "output_type": "display_data"
    }
   ],
   "source": [
    "organs_healthy = [ \n",
    "          'bowel_healthy',\n",
    "          'extravasation_healthy',\n",
    "          'kidney_healthy',\n",
    "          'liver_healthy',\n",
    "          'spleen_healthy'\n",
    "] \n",
    "#calculate and plot \n",
    "corr_matrix1=train[organs_healthy].corr()\n",
    "sns.heatmap(corr_matrix1,annot=True); \n",
    "plt.title('Correlation Heatmap for healthy organs')"
   ]
  },
  {
   "cell_type": "code",
   "execution_count": 6,
   "id": "de94b396",
   "metadata": {
    "execution": {
     "iopub.execute_input": "2023-10-05T02:54:06.411341Z",
     "iopub.status.busy": "2023-10-05T02:54:06.410940Z",
     "iopub.status.idle": "2023-10-05T02:54:07.020395Z",
     "shell.execute_reply": "2023-10-05T02:54:07.019580Z"
    },
    "papermill": {
     "duration": 0.620476,
     "end_time": "2023-10-05T02:54:07.023509",
     "exception": false,
     "start_time": "2023-10-05T02:54:06.403033",
     "status": "completed"
    },
    "tags": []
   },
   "outputs": [
    {
     "data": {
      "text/plain": [
       "Text(0.5, 1.0, 'Correlation heatmap for injury organs')"
      ]
     },
     "execution_count": 6,
     "metadata": {},
     "output_type": "execute_result"
    },
    {
     "data": {
      "image/png": "[encoded data removed]",
      "text/plain": [
       "<Figure size 640x480 with 2 Axes>"
      ]
     },
     "metadata": {},
     "output_type": "display_data"
    }
   ],
   "source": [
    "low_high = [\n",
    "            'bowel_injury',\n",
    "            'extravasation_injury',\n",
    "            'kidney_low',\n",
    "            'kidney_high',\n",
    "            'liver_high',\n",
    "            'liver_low' , \n",
    "            'spleen_low',\n",
    "            'spleen_high',\n",
    "            'any_injury'\n",
    "] \n",
    "#calculate and plot \n",
    "corr_matrix2 = train[low_high].corr()\n",
    "sns.heatmap(corr_matrix2,annot=True , linewidths=1) \n",
    "plt.title('Correlation heatmap for injury organs')"
   ]
  },
  {
   "cell_type": "code",
   "execution_count": 7,
   "id": "9adad178",
   "metadata": {
    "execution": {
     "iopub.execute_input": "2023-10-05T02:54:07.041489Z",
     "iopub.status.busy": "2023-10-05T02:54:07.040844Z",
     "iopub.status.idle": "2023-10-05T02:54:07.059318Z",
     "shell.execute_reply": "2023-10-05T02:54:07.058319Z"
    },
    "papermill": {
     "duration": 0.02983,
     "end_time": "2023-10-05T02:54:07.061364",
     "exception": false,
     "start_time": "2023-10-05T02:54:07.031534",
     "status": "completed"
    },
    "tags": []
   },
   "outputs": [
    {
     "data": {
      "text/html": [
       "<div>\n",
       "<style scoped>\n",
       "    .dataframe tbody tr th:only-of-type {\n",
       "        vertical-align: middle;\n",
       "    }\n",
       "\n",
       "    .dataframe tbody tr th {\n",
       "        vertical-align: top;\n",
       "    }\n",
       "\n",
       "    .dataframe thead th {\n",
       "        text-align: right;\n",
       "    }\n",
       "</style>\n",
       "<table border=\"1\" class=\"dataframe\">\n",
       "  <thead>\n",
       "    <tr style=\"text-align: right;\">\n",
       "      <th></th>\n",
       "      <th>patient_id</th>\n",
       "      <th>series_id</th>\n",
       "      <th>aortic_hu</th>\n",
       "      <th>incomplete_organ</th>\n",
       "    </tr>\n",
       "  </thead>\n",
       "  <tbody>\n",
       "    <tr>\n",
       "      <th>0</th>\n",
       "      <td>10004</td>\n",
       "      <td>21057</td>\n",
       "      <td>146.00</td>\n",
       "      <td>0</td>\n",
       "    </tr>\n",
       "    <tr>\n",
       "      <th>1</th>\n",
       "      <td>10004</td>\n",
       "      <td>51033</td>\n",
       "      <td>454.75</td>\n",
       "      <td>0</td>\n",
       "    </tr>\n",
       "    <tr>\n",
       "      <th>2</th>\n",
       "      <td>10005</td>\n",
       "      <td>18667</td>\n",
       "      <td>187.00</td>\n",
       "      <td>0</td>\n",
       "    </tr>\n",
       "    <tr>\n",
       "      <th>3</th>\n",
       "      <td>10007</td>\n",
       "      <td>47578</td>\n",
       "      <td>329.00</td>\n",
       "      <td>0</td>\n",
       "    </tr>\n",
       "    <tr>\n",
       "      <th>4</th>\n",
       "      <td>10026</td>\n",
       "      <td>29700</td>\n",
       "      <td>327.00</td>\n",
       "      <td>0</td>\n",
       "    </tr>\n",
       "  </tbody>\n",
       "</table>\n",
       "</div>"
      ],
      "text/plain": [
       "   patient_id  series_id  aortic_hu  incomplete_organ\n",
       "0       10004      21057     146.00                 0\n",
       "1       10004      51033     454.75                 0\n",
       "2       10005      18667     187.00                 0\n",
       "3       10007      47578     329.00                 0\n",
       "4       10026      29700     327.00                 0"
      ]
     },
     "execution_count": 7,
     "metadata": {},
     "output_type": "execute_result"
    }
   ],
   "source": [
    "train_series_meta = pd.read_csv('/kaggle/input/rsna-2023-abdominal-trauma-detection/train_series_meta.csv')\n",
    "train_series_meta.head()"
   ]
  },
  {
   "cell_type": "code",
   "execution_count": 8,
   "id": "06c00b92",
   "metadata": {
    "execution": {
     "iopub.execute_input": "2023-10-05T02:54:07.080043Z",
     "iopub.status.busy": "2023-10-05T02:54:07.079683Z",
     "iopub.status.idle": "2023-10-05T02:54:07.094584Z",
     "shell.execute_reply": "2023-10-05T02:54:07.093484Z"
    },
    "papermill": {
     "duration": 0.026044,
     "end_time": "2023-10-05T02:54:07.096637",
     "exception": false,
     "start_time": "2023-10-05T02:54:07.070593",
     "status": "completed"
    },
    "tags": []
   },
   "outputs": [
    {
     "data": {
      "text/html": [
       "<div>\n",
       "<style scoped>\n",
       "    .dataframe tbody tr th:only-of-type {\n",
       "        vertical-align: middle;\n",
       "    }\n",
       "\n",
       "    .dataframe tbody tr th {\n",
       "        vertical-align: top;\n",
       "    }\n",
       "\n",
       "    .dataframe thead th {\n",
       "        text-align: right;\n",
       "    }\n",
       "</style>\n",
       "<table border=\"1\" class=\"dataframe\">\n",
       "  <thead>\n",
       "    <tr style=\"text-align: right;\">\n",
       "      <th></th>\n",
       "      <th>patient_id</th>\n",
       "      <th>series_id</th>\n",
       "      <th>aortic_hu</th>\n",
       "    </tr>\n",
       "  </thead>\n",
       "  <tbody>\n",
       "    <tr>\n",
       "      <th>0</th>\n",
       "      <td>48843</td>\n",
       "      <td>295</td>\n",
       "      <td>401.25</td>\n",
       "    </tr>\n",
       "    <tr>\n",
       "      <th>1</th>\n",
       "      <td>48843</td>\n",
       "      <td>62825</td>\n",
       "      <td>238.00</td>\n",
       "    </tr>\n",
       "    <tr>\n",
       "      <th>2</th>\n",
       "      <td>50046</td>\n",
       "      <td>24574</td>\n",
       "      <td>149.00</td>\n",
       "    </tr>\n",
       "    <tr>\n",
       "      <th>3</th>\n",
       "      <td>50046</td>\n",
       "      <td>60658</td>\n",
       "      <td>352.00</td>\n",
       "    </tr>\n",
       "    <tr>\n",
       "      <th>4</th>\n",
       "      <td>63706</td>\n",
       "      <td>39279</td>\n",
       "      <td>219.00</td>\n",
       "    </tr>\n",
       "  </tbody>\n",
       "</table>\n",
       "</div>"
      ],
      "text/plain": [
       "   patient_id  series_id  aortic_hu\n",
       "0       48843        295     401.25\n",
       "1       48843      62825     238.00\n",
       "2       50046      24574     149.00\n",
       "3       50046      60658     352.00\n",
       "4       63706      39279     219.00"
      ]
     },
     "execution_count": 8,
     "metadata": {},
     "output_type": "execute_result"
    }
   ],
   "source": [
    "test_series_meta=pd.read_csv(\"/kaggle/input/rsna-2023-abdominal-trauma-detection/test_series_meta.csv\") \n",
    "test_series_meta.head()"
   ]
  },
  {
   "cell_type": "code",
   "execution_count": 9,
   "id": "1577ff0e",
   "metadata": {
    "execution": {
     "iopub.execute_input": "2023-10-05T02:54:07.115688Z",
     "iopub.status.busy": "2023-10-05T02:54:07.115220Z",
     "iopub.status.idle": "2023-10-05T02:54:07.146821Z",
     "shell.execute_reply": "2023-10-05T02:54:07.145729Z"
    },
    "papermill": {
     "duration": 0.044708,
     "end_time": "2023-10-05T02:54:07.149242",
     "exception": false,
     "start_time": "2023-10-05T02:54:07.104534",
     "status": "completed"
    },
    "tags": []
   },
   "outputs": [
    {
     "data": {
      "text/html": [
       "<div>\n",
       "<style scoped>\n",
       "    .dataframe tbody tr th:only-of-type {\n",
       "        vertical-align: middle;\n",
       "    }\n",
       "\n",
       "    .dataframe tbody tr th {\n",
       "        vertical-align: top;\n",
       "    }\n",
       "\n",
       "    .dataframe thead th {\n",
       "        text-align: right;\n",
       "    }\n",
       "</style>\n",
       "<table border=\"1\" class=\"dataframe\">\n",
       "  <thead>\n",
       "    <tr style=\"text-align: right;\">\n",
       "      <th></th>\n",
       "      <th>patient_id</th>\n",
       "      <th>series_id</th>\n",
       "      <th>instance_number</th>\n",
       "      <th>injury_name</th>\n",
       "    </tr>\n",
       "  </thead>\n",
       "  <tbody>\n",
       "    <tr>\n",
       "      <th>0</th>\n",
       "      <td>10004</td>\n",
       "      <td>21057</td>\n",
       "      <td>362</td>\n",
       "      <td>Active_Extravasation</td>\n",
       "    </tr>\n",
       "    <tr>\n",
       "      <th>1</th>\n",
       "      <td>10004</td>\n",
       "      <td>21057</td>\n",
       "      <td>363</td>\n",
       "      <td>Active_Extravasation</td>\n",
       "    </tr>\n",
       "    <tr>\n",
       "      <th>2</th>\n",
       "      <td>10004</td>\n",
       "      <td>21057</td>\n",
       "      <td>364</td>\n",
       "      <td>Active_Extravasation</td>\n",
       "    </tr>\n",
       "    <tr>\n",
       "      <th>3</th>\n",
       "      <td>10004</td>\n",
       "      <td>21057</td>\n",
       "      <td>365</td>\n",
       "      <td>Active_Extravasation</td>\n",
       "    </tr>\n",
       "    <tr>\n",
       "      <th>4</th>\n",
       "      <td>10004</td>\n",
       "      <td>21057</td>\n",
       "      <td>366</td>\n",
       "      <td>Active_Extravasation</td>\n",
       "    </tr>\n",
       "  </tbody>\n",
       "</table>\n",
       "</div>"
      ],
      "text/plain": [
       "   patient_id  series_id  instance_number           injury_name\n",
       "0       10004      21057              362  Active_Extravasation\n",
       "1       10004      21057              363  Active_Extravasation\n",
       "2       10004      21057              364  Active_Extravasation\n",
       "3       10004      21057              365  Active_Extravasation\n",
       "4       10004      21057              366  Active_Extravasation"
      ]
     },
     "execution_count": 9,
     "metadata": {},
     "output_type": "execute_result"
    }
   ],
   "source": [
    "image_labels = pd.read_csv( \"/kaggle/input/rsna-2023-abdominal-trauma-detection/image_level_labels.csv\")\n",
    "image_labels.head()"
   ]
  },
  {
   "cell_type": "code",
   "execution_count": 10,
   "id": "941c8ce4",
   "metadata": {
    "execution": {
     "iopub.execute_input": "2023-10-05T02:54:07.167437Z",
     "iopub.status.busy": "2023-10-05T02:54:07.166982Z",
     "iopub.status.idle": "2023-10-05T02:54:07.172577Z",
     "shell.execute_reply": "2023-10-05T02:54:07.171485Z"
    },
    "papermill": {
     "duration": 0.01742,
     "end_time": "2023-10-05T02:54:07.174747",
     "exception": false,
     "start_time": "2023-10-05T02:54:07.157327",
     "status": "completed"
    },
    "tags": []
   },
   "outputs": [],
   "source": [
    "class ParticipantVisibleError(Exception):\n",
    "    pass\n"
   ]
  },
  {
   "cell_type": "code",
   "execution_count": 11,
   "id": "32b76775",
   "metadata": {
    "execution": {
     "iopub.execute_input": "2023-10-05T02:54:07.193050Z",
     "iopub.status.busy": "2023-10-05T02:54:07.192646Z",
     "iopub.status.idle": "2023-10-05T02:54:07.198887Z",
     "shell.execute_reply": "2023-10-05T02:54:07.197650Z"
    },
    "papermill": {
     "duration": 0.018371,
     "end_time": "2023-10-05T02:54:07.201077",
     "exception": false,
     "start_time": "2023-10-05T02:54:07.182706",
     "status": "completed"
    },
    "tags": []
   },
   "outputs": [],
   "source": [
    "def normalize_probabilities_to_one(df: pd.DataFrame, group_columns: list) -> pd.DataFrame:\n",
    "    # Normalize the sum of each row's probabilities to 100%.\n",
    "    # 0.75, 0.75 => 0.5, 0.5\n",
    "    # 0.1, 0.1 => 0.5, 0.5\n",
    "    row_totals = df[group_columns].sum(axis=1)\n",
    "    if row_totals.min() == 0:\n",
    "        raise ParticipantVisibleError('All rows must contain at least one non-zero prediction')\n",
    "    for col in group_columns:\n",
    "        df[col] /= row_totals\n",
    "    return df\n",
    "\n"
   ]
  },
  {
   "cell_type": "code",
   "execution_count": 12,
   "id": "3288fa62",
   "metadata": {
    "execution": {
     "iopub.execute_input": "2023-10-05T02:54:07.219113Z",
     "iopub.status.busy": "2023-10-05T02:54:07.218665Z",
     "iopub.status.idle": "2023-10-05T02:54:07.230404Z",
     "shell.execute_reply": "2023-10-05T02:54:07.229561Z"
    },
    "papermill": {
     "duration": 0.023393,
     "end_time": "2023-10-05T02:54:07.232330",
     "exception": false,
     "start_time": "2023-10-05T02:54:07.208937",
     "status": "completed"
    },
    "tags": []
   },
   "outputs": [],
   "source": [
    "\n",
    "def score(solution: pd.DataFrame, submission: pd.DataFrame, row_id_column_name: str) -> float:\n",
    "    '''\n",
    "    Pseudocode:\n",
    "    1. For every label group (liver, bowel, etc):\n",
    "        - Normalize the sum of each row's probabilities to 100%.\n",
    "        - Calculate the sample weighted log loss.\n",
    "    2. Derive a new any_injury label by taking the max of 1 - p(healthy) for each label group\n",
    "    3. Calculate the sample weighted log loss for the new label group\n",
    "    4. Return the average of all of the label group log losses as the final score.\n",
    "    '''\n",
    "    del solution[row_id_column_name]\n",
    "    del submission[row_id_column_name]\n",
    "    # Run basic QC checks on the inputs\n",
    "    if not pandas.api.types.is_numeric_dtype(submission.values):\n",
    "        raise ParticipantVisibleError('All submission values must be numeric')\n",
    "\n",
    "    if not np.isfinite(submission.values).all():\n",
    "        raise ParticipantVisibleError('All submission values must be finite')\n",
    "\n",
    "    if solution.min().min() < 0:\n",
    "        raise ParticipantVisibleError('All labels must be at least zero')\n",
    "    if submission.min().min() < 0:\n",
    "        raise ParticipantVisibleError('All predictions must be at least zero')\n",
    "\n",
    "    # Calculate the label group log losses\n",
    "    binary_targets = ['bowel', 'extravasation']\n",
    "    triple_level_targets = ['kidney', 'liver', 'spleen']\n",
    "    all_target_categories = binary_targets + triple_level_targets\n",
    "\n",
    "    label_group_losses = []\n",
    "    for category in all_target_categories:\n",
    "        if category in binary_targets:\n",
    "            col_group = [f'{category}_healthy', f'{category}_injury']\n",
    "        else:\n",
    "            col_group = [f'{category}_healthy', f'{category}_low', f'{category}_high']\n",
    "            \n",
    "        solution = normalize_probabilities_to_one(solution, col_group)\n",
    "\n",
    "        for col in col_group:\n",
    "            if col not in submission.columns:\n",
    "                raise ParticipantVisibleError(f'Missing submission column {col}')\n",
    "        submission = normalize_probabilities_to_one(submission, col_group)\n",
    "        label_group_losses.append(\n",
    "            sklearn.metrics.log_loss(\n",
    "                y_true=solution[col_group].values,\n",
    "                y_pred=submission[col_group].values,\n",
    "                sample_weight=solution[f'{category}_weight'].values\n",
    "            )\n",
    "        )\n",
    "        \n",
    "    # Derive a new any_injury label by taking the max of 1 - p(healthy) for each label group\n",
    "    healthy_cols = [x + '_healthy' for x in all_target_categories]\n",
    "    any_injury_labels = (1 - solution[healthy_cols]).max(axis=1)\n",
    "    any_injury_predictions = (1 - submission[healthy_cols]).max(axis=1)\n",
    "    any_injury_loss = sklearn.metrics.log_loss(\n",
    "        y_true=any_injury_labels.values,\n",
    "        y_pred=any_injury_predictions.values,\n",
    "        sample_weight=solution['any_injury_weight'].values\n",
    "    )\n",
    "\n",
    "    label_group_losses.append(any_injury_loss)\n",
    "    return np.mean(label_group_losses) "
   ]
  },
  {
   "cell_type": "code",
   "execution_count": 13,
   "id": "4f09acbe",
   "metadata": {
    "execution": {
     "iopub.execute_input": "2023-10-05T02:54:07.250935Z",
     "iopub.status.busy": "2023-10-05T02:54:07.249771Z",
     "iopub.status.idle": "2023-10-05T02:54:07.256831Z",
     "shell.execute_reply": "2023-10-05T02:54:07.256105Z"
    },
    "papermill": {
     "duration": 0.018169,
     "end_time": "2023-10-05T02:54:07.258702",
     "exception": false,
     "start_time": "2023-10-05T02:54:07.240533",
     "status": "completed"
    },
    "tags": []
   },
   "outputs": [],
   "source": [
    "# Assign the appropriate weights to each category\n",
    "def create_training_solution(y_train):\n",
    "    sol_train = y_train.copy()\n",
    "    \n",
    "    # bowel healthy|injury sample weight = 1|2/1\n",
    "    sol_train['bowel_weight'] = np.where(sol_train['bowel_injury'] == 1, 2, 1)\n",
    "    \n",
    "    # extravasation healthy/injury sample weight = 1|6/1\n",
    "    sol_train['extravasation_weight'] = np.where(sol_train['extravasation_injury'] == 1, 6, 1)\n",
    "    \n",
    "    # kidney healthy|low|high sample weight = 1|2|4\n",
    "    sol_train['kidney_weight'] = np.where(sol_train['kidney_low'] == 1, 2, np.where(sol_train['kidney_high'] == 1, 4, 1))\n",
    "    \n",
    "    # liver healthy|low|high sample weight = 1|2|4\n",
    "    sol_train['liver_weight'] = np.where(sol_train['liver_low'] == 1, 2, np.where(sol_train['liver_high'] == 1, 4, 1))\n",
    "    \n",
    "    # spleen healthy|low|high sample weight = 1|2|4\n",
    "    sol_train['spleen_weight'] = np.where(sol_train['spleen_low'] == 1, 2, np.where(sol_train['spleen_high'] == 1, 4, 1))\n",
    "    \n",
    "    # any healthy|injury sample weight = 1|6/1\n",
    "    sol_train['any_injury_weight'] = np.where(sol_train['any_injury'] == 1, 6, 1)\n",
    "    return sol_train"
   ]
  },
  {
   "cell_type": "code",
   "execution_count": 14,
   "id": "8f149d02",
   "metadata": {
    "execution": {
     "iopub.execute_input": "2023-10-05T02:54:07.276683Z",
     "iopub.status.busy": "2023-10-05T02:54:07.275972Z",
     "iopub.status.idle": "2023-10-05T02:54:07.348836Z",
     "shell.execute_reply": "2023-10-05T02:54:07.347183Z"
    },
    "papermill": {
     "duration": 0.08462,
     "end_time": "2023-10-05T02:54:07.351374",
     "exception": false,
     "start_time": "2023-10-05T02:54:07.266754",
     "status": "completed"
    },
    "tags": []
   },
   "outputs": [
    {
     "name": "stdout",
     "output_type": "stream",
     "text": [
      "Training score without scaling: 0.7860663285561644\n"
     ]
    }
   ],
   "source": [
    "solution_train = create_training_solution(train)\n",
    "\n",
    "# predict a constant using the mean of the training data\n",
    "y_pred = train.copy()\n",
    "y_pred[Target_cols] = train[Target_cols].mean().tolist()\n",
    "\n",
    "no_scale_score = score(solution_train,y_pred,'patient_id')\n",
    "print(f'Training score without scaling: {no_scale_score}')"
   ]
  },
  {
   "cell_type": "code",
   "execution_count": 15,
   "id": "1f3ab663",
   "metadata": {
    "execution": {
     "iopub.execute_input": "2023-10-05T02:54:07.370602Z",
     "iopub.status.busy": "2023-10-05T02:54:07.369239Z",
     "iopub.status.idle": "2023-10-05T02:54:07.445468Z",
     "shell.execute_reply": "2023-10-05T02:54:07.444087Z"
    },
    "papermill": {
     "duration": 0.088248,
     "end_time": "2023-10-05T02:54:07.447963",
     "exception": false,
     "start_time": "2023-10-05T02:54:07.359715",
     "status": "completed"
    },
    "tags": []
   },
   "outputs": [
    {
     "name": "stdout",
     "output_type": "stream",
     "text": [
      "Training score with weight scaling: 0.5940216198703135\n"
     ]
    }
   ],
   "source": [
    "# Group by different sample weights\n",
    "scale_by_2 = ['kidney_low','liver_low','spleen_low','spleen_high']\n",
    "scale_by_4 = ['bowel_injury','kidney_high','liver_high']\n",
    "scale_by_6 = ['extravasation_injury','any_injury']\n",
    "scale_healthy = ['bowel_healthy', 'extravasation_healthy', 'kidney_healthy', 'liver_healthy', 'spleen_healthy']\n",
    "\n",
    "# Scale factors based on described metric \n",
    "sf_2 = 2.8461531332 * 0.99999999\n",
    "sf_4 = 4.841531 * 0.99999999\n",
    "sf_6 = 20.81635153 * 0.99999999\n",
    "scale_h = 0.99519515313 * 0.99999999\n",
    "\n",
    "# The score function deletes the ID column so we remake it\n",
    "solution_train = create_training_solution(train)\n",
    "\n",
    "# Reset the prediction\n",
    "y_pred = train.copy()\n",
    "y_pred[Target_cols] = train[Target_cols].mean().tolist()\n",
    "\n",
    "# Scale each target \n",
    "y_pred[scale_by_2] *=sf_2\n",
    "y_pred[scale_by_4] *=sf_4\n",
    "y_pred[scale_by_6] *=sf_6\n",
    "y_pred[scale_healthy] *=scale_h\n",
    "\n",
    "weight_scale_score = score(solution_train,y_pred,'patient_id')\n",
    "print(f'Training score with weight scaling: {weight_scale_score}')"
   ]
  },
  {
   "cell_type": "code",
   "execution_count": 16,
   "id": "4a257aa5",
   "metadata": {
    "execution": {
     "iopub.execute_input": "2023-10-05T02:54:07.466840Z",
     "iopub.status.busy": "2023-10-05T02:54:07.466395Z",
     "iopub.status.idle": "2023-10-05T02:54:07.546909Z",
     "shell.execute_reply": "2023-10-05T02:54:07.545640Z"
    },
    "papermill": {
     "duration": 0.093086,
     "end_time": "2023-10-05T02:54:07.549432",
     "exception": false,
     "start_time": "2023-10-05T02:54:07.456346",
     "status": "completed"
    },
    "tags": []
   },
   "outputs": [
    {
     "name": "stdout",
     "output_type": "stream",
     "text": [
      "Training score with better scaling: 0.5940216198703135\n"
     ]
    }
   ],
   "source": [
    "# Update scale factors to improve score\n",
    "# sf_2 = 4\n",
    "# sf_4 = 6\n",
    "# sf_6 = 28\n",
    "\n",
    "# The score function deletes the ID column so we remake it\n",
    "solution_train = create_training_solution(train)\n",
    "\n",
    "# Reset the prediction, again\n",
    "y_pred = train.copy()\n",
    "y_pred[Target_cols] = train[Target_cols].mean().tolist()\n",
    "\n",
    "# Scale each target \n",
    "y_pred[scale_by_2] *=sf_2\n",
    "y_pred[scale_by_4] *=sf_4\n",
    "y_pred[scale_by_6] *=sf_6 \n",
    "y_pred[scale_healthy] *=scale_h\n",
    "\n",
    "improved_scale_score = score(solution_train,y_pred,'patient_id')\n",
    "print(f'Training score with better scaling: {improved_scale_score}')"
   ]
  },
  {
   "cell_type": "code",
   "execution_count": 17,
   "id": "5a0947ad",
   "metadata": {
    "execution": {
     "iopub.execute_input": "2023-10-05T02:54:07.567118Z",
     "iopub.status.busy": "2023-10-05T02:54:07.566776Z",
     "iopub.status.idle": "2023-10-05T02:54:07.592573Z",
     "shell.execute_reply": "2023-10-05T02:54:07.591566Z"
    },
    "papermill": {
     "duration": 0.037783,
     "end_time": "2023-10-05T02:54:07.595303",
     "exception": false,
     "start_time": "2023-10-05T02:54:07.557520",
     "status": "completed"
    },
    "tags": []
   },
   "outputs": [],
   "source": [
    "submission = pd.read_csv('/kaggle/input/rsna-2023-abdominal-trauma-detection/sample_submission.csv')\n",
    "\n",
    "# Set output to mean of training data\n",
    "submission[Target_cols] = train[Target_cols].mean().tolist()\n",
    "\n",
    "# Scale each category by desired scale factor\n",
    "submission[scale_by_2] *=sf_2\n",
    "submission[scale_by_4] *=sf_4\n",
    "submission[scale_by_6] *=sf_6 \n",
    "submission[scale_healthy] *=scale_h\n",
    "\n",
    "# Save Submission!\n",
    "submission.to_csv('submission.csv', index=False) "
   ]
  },
  {
   "cell_type": "code",
   "execution_count": 18,
   "id": "daf2880a",
   "metadata": {
    "execution": {
     "iopub.execute_input": "2023-10-05T02:54:07.614879Z",
     "iopub.status.busy": "2023-10-05T02:54:07.614526Z",
     "iopub.status.idle": "2023-10-05T02:54:07.631144Z",
     "shell.execute_reply": "2023-10-05T02:54:07.630449Z"
    },
    "papermill": {
     "duration": 0.029315,
     "end_time": "2023-10-05T02:54:07.633265",
     "exception": false,
     "start_time": "2023-10-05T02:54:07.603950",
     "status": "completed"
    },
    "tags": []
   },
   "outputs": [
    {
     "data": {
      "text/html": [
       "<div>\n",
       "<style scoped>\n",
       "    .dataframe tbody tr th:only-of-type {\n",
       "        vertical-align: middle;\n",
       "    }\n",
       "\n",
       "    .dataframe tbody tr th {\n",
       "        vertical-align: top;\n",
       "    }\n",
       "\n",
       "    .dataframe thead th {\n",
       "        text-align: right;\n",
       "    }\n",
       "</style>\n",
       "<table border=\"1\" class=\"dataframe\">\n",
       "  <thead>\n",
       "    <tr style=\"text-align: right;\">\n",
       "      <th></th>\n",
       "      <th>patient_id</th>\n",
       "      <th>bowel_healthy</th>\n",
       "      <th>bowel_injury</th>\n",
       "      <th>extravasation_healthy</th>\n",
       "      <th>extravasation_injury</th>\n",
       "      <th>kidney_healthy</th>\n",
       "      <th>kidney_low</th>\n",
       "      <th>kidney_high</th>\n",
       "      <th>liver_healthy</th>\n",
       "      <th>liver_low</th>\n",
       "      <th>liver_high</th>\n",
       "      <th>spleen_healthy</th>\n",
       "      <th>spleen_low</th>\n",
       "      <th>spleen_high</th>\n",
       "      <th>any_injury</th>\n",
       "    </tr>\n",
       "  </thead>\n",
       "  <tbody>\n",
       "    <tr>\n",
       "      <th>0</th>\n",
       "      <td>48843</td>\n",
       "      <td>0.974956</td>\n",
       "      <td>0.098461</td>\n",
       "      <td>0.931948</td>\n",
       "      <td>1.322933</td>\n",
       "      <td>0.93764</td>\n",
       "      <td>0.104006</td>\n",
       "      <td>0.103077</td>\n",
       "      <td>0.893683</td>\n",
       "      <td>0.23424</td>\n",
       "      <td>0.095384</td>\n",
       "      <td>0.883248</td>\n",
       "      <td>0.179976</td>\n",
       "      <td>0.140182</td>\n",
       "      <td>5.655539</td>\n",
       "    </tr>\n",
       "    <tr>\n",
       "      <th>1</th>\n",
       "      <td>50046</td>\n",
       "      <td>0.974956</td>\n",
       "      <td>0.098461</td>\n",
       "      <td>0.931948</td>\n",
       "      <td>1.322933</td>\n",
       "      <td>0.93764</td>\n",
       "      <td>0.104006</td>\n",
       "      <td>0.103077</td>\n",
       "      <td>0.893683</td>\n",
       "      <td>0.23424</td>\n",
       "      <td>0.095384</td>\n",
       "      <td>0.883248</td>\n",
       "      <td>0.179976</td>\n",
       "      <td>0.140182</td>\n",
       "      <td>5.655539</td>\n",
       "    </tr>\n",
       "    <tr>\n",
       "      <th>2</th>\n",
       "      <td>63706</td>\n",
       "      <td>0.974956</td>\n",
       "      <td>0.098461</td>\n",
       "      <td>0.931948</td>\n",
       "      <td>1.322933</td>\n",
       "      <td>0.93764</td>\n",
       "      <td>0.104006</td>\n",
       "      <td>0.103077</td>\n",
       "      <td>0.893683</td>\n",
       "      <td>0.23424</td>\n",
       "      <td>0.095384</td>\n",
       "      <td>0.883248</td>\n",
       "      <td>0.179976</td>\n",
       "      <td>0.140182</td>\n",
       "      <td>5.655539</td>\n",
       "    </tr>\n",
       "  </tbody>\n",
       "</table>\n",
       "</div>"
      ],
      "text/plain": [
       "   patient_id  bowel_healthy  bowel_injury  extravasation_healthy  \\\n",
       "0       48843       0.974956      0.098461               0.931948   \n",
       "1       50046       0.974956      0.098461               0.931948   \n",
       "2       63706       0.974956      0.098461               0.931948   \n",
       "\n",
       "   extravasation_injury  kidney_healthy  kidney_low  kidney_high  \\\n",
       "0              1.322933         0.93764    0.104006     0.103077   \n",
       "1              1.322933         0.93764    0.104006     0.103077   \n",
       "2              1.322933         0.93764    0.104006     0.103077   \n",
       "\n",
       "   liver_healthy  liver_low  liver_high  spleen_healthy  spleen_low  \\\n",
       "0       0.893683    0.23424    0.095384        0.883248    0.179976   \n",
       "1       0.893683    0.23424    0.095384        0.883248    0.179976   \n",
       "2       0.893683    0.23424    0.095384        0.883248    0.179976   \n",
       "\n",
       "   spleen_high  any_injury  \n",
       "0     0.140182    5.655539  \n",
       "1     0.140182    5.655539  \n",
       "2     0.140182    5.655539  "
      ]
     },
     "execution_count": 18,
     "metadata": {},
     "output_type": "execute_result"
    }
   ],
   "source": [
    "submission.head(5)"
   ]
  },
  {
   "cell_type": "code",
   "execution_count": null,
   "id": "c3c199f8",
   "metadata": {
    "papermill": {
     "duration": 0.008124,
     "end_time": "2023-10-05T02:54:07.649962",
     "exception": false,
     "start_time": "2023-10-05T02:54:07.641838",
     "status": "completed"
    },
    "tags": []
   },
   "outputs": [],
   "source": []
  }
 ],
 "metadata": {
  "kernelspec": {
   "display_name": "Python 3 (ipykernel)",
   "language": "python",
   "name": "python3"
  },
  "language_info": {
   "codemirror_mode": {
    "name": "ipython",
    "version": 3
   },
   "file_extension": ".py",
   "mimetype": "text/x-python",
   "name": "python",
   "nbconvert_exporter": "python",
   "pygments_lexer": "ipython3",
   "version": "3.9.13"
  },
  "papermill": {
   "default_parameters": {},
   "duration": 14.434729,
   "end_time": "2023-10-05T02:54:08.883661",
   "environment_variables": {},
   "exception": null,
   "input_path": "__notebook__.ipynb",
   "output_path": "__notebook__.ipynb",
   "parameters": {},
   "start_time": "2023-10-05T02:53:54.448932",
   "version": "2.4.0"
  }
 },
 "nbformat": 4,
 "nbformat_minor": 5
}
