{
 "cells": [
  {
   "cell_type": "code",
   "execution_count": 1,
   "metadata": {
    "colab": {
     "base_uri": "https://localhost:8080/"
    },
    "executionInfo": {
     "elapsed": 3817,
     "status": "ok",
     "timestamp": 1697098472233,
     "user": {
      "displayName": "Sumin Cho",
      "userId": "16162125883516553653"
     },
     "user_tz": -540
    },
    "id": "R-t51mhwVtzL",
    "outputId": "231d84f0-930c-4211-b79f-461624831798"
   },
   "outputs": [
    {
     "name": "stdout",
     "output_type": "stream",
     "text": [
      "Requirement already satisfied: kaggle in /usr/local/lib/python3.10/dist-packages (1.5.16)\n",
      "Requirement already satisfied: six>=1.10 in /usr/local/lib/python3.10/dist-packages (from kaggle) (1.16.0)\n",
      "Requirement already satisfied: certifi in /usr/local/lib/python3.10/dist-packages (from kaggle) (2023.7.22)\n",
      "Requirement already satisfied: python-dateutil in /usr/local/lib/python3.10/dist-packages (from kaggle) (2.8.2)\n",
      "Requirement already satisfied: requests in /usr/local/lib/python3.10/dist-packages (from kaggle) (2.31.0)\n",
      "Requirement already satisfied: tqdm in /usr/local/lib/python3.10/dist-packages (from kaggle) (4.66.1)\n",
      "Requirement already satisfied: python-slugify in /usr/local/lib/python3.10/dist-packages (from kaggle) (8.0.1)\n",
      "Requirement already satisfied: urllib3 in /usr/local/lib/python3.10/dist-packages (from kaggle) (2.0.6)\n",
      "Requirement already satisfied: bleach in /usr/local/lib/python3.10/dist-packages (from kaggle) (6.0.0)\n",
      "Requirement already satisfied: webencodings in /usr/local/lib/python3.10/dist-packages (from bleach->kaggle) (0.5.1)\n",
      "Requirement already satisfied: text-unidecode>=1.3 in /usr/local/lib/python3.10/dist-packages (from python-slugify->kaggle) (1.3)\n",
      "Requirement already satisfied: charset-normalizer<4,>=2 in /usr/local/lib/python3.10/dist-packages (from requests->kaggle) (3.3.0)\n",
      "Requirement already satisfied: idna<4,>=2.5 in /usr/local/lib/python3.10/dist-packages (from requests->kaggle) (3.4)\n"
     ]
    }
   ],
   "source": [
    "!pip install kaggle"
   ]
  },
  {
   "cell_type": "code",
   "execution_count": 2,
   "metadata": {
    "colab": {
     "base_uri": "https://localhost:8080/"
    },
    "executionInfo": {
     "elapsed": 14885,
     "status": "ok",
     "timestamp": 1697098487112,
     "user": {
      "displayName": "Sumin Cho",
      "userId": "16162125883516553653"
     },
     "user_tz": -540
    },
    "id": "77ca2bFIc9rw",
    "outputId": "ed4a56a0-b03d-4e4c-8a96-57d0a19b827b"
   },
   "outputs": [
    {
     "name": "stdout",
     "output_type": "stream",
     "text": [
      "  Installing build dependencies ... \u001b[?25l\u001b[?25hdone\n",
      "  Getting requirements to build wheel ... \u001b[?25l\u001b[?25hdone\n",
      "  Preparing metadata (pyproject.toml) ... \u001b[?25l\u001b[?25hdone\n",
      "\u001b[2K     \u001b[90m━━━━━━━━━━━━━━━━━━━━━━━━━━━━━━━━━━━━━━\u001b[0m \u001b[32m950.8/950.8 kB\u001b[0m \u001b[31m18.6 MB/s\u001b[0m eta \u001b[36m0:00:00\u001b[0m\n",
      "\u001b[?25h  Building wheel for keras-cv (pyproject.toml) ... \u001b[?25l\u001b[?25hdone\n"
     ]
    }
   ],
   "source": [
    "! pip install -q git+https://github.com/keras-team/keras-cv"
   ]
  },
  {
   "cell_type": "code",
   "execution_count": 3,
   "metadata": {
    "colab": {
     "base_uri": "https://localhost:8080/"
    },
    "executionInfo": {
     "elapsed": 26323,
     "status": "ok",
     "timestamp": 1697098513431,
     "user": {
      "displayName": "Sumin Cho",
      "userId": "16162125883516553653"
     },
     "user_tz": -540
    },
    "id": "IlJKtstYV_94",
    "outputId": "265edbdd-7bcf-4f2e-d31f-a812f186b415"
   },
   "outputs": [
    {
     "name": "stdout",
     "output_type": "stream",
     "text": [
      "Mounted at /content/drive\n"
     ]
    }
   ],
   "source": [
    "# mount the drive\n",
    "from google.colab import drive\n",
    "drive.mount('/content/drive')"
   ]
  },
  {
   "cell_type": "code",
   "execution_count": 4,
   "metadata": {
    "colab": {
     "base_uri": "https://localhost:8080/"
    },
    "executionInfo": {
     "elapsed": 8167,
     "status": "ok",
     "timestamp": 1697098521594,
     "user": {
      "displayName": "Sumin Cho",
      "userId": "16162125883516553653"
     },
     "user_tz": -540
    },
    "id": "yQfATWvTWRDR",
    "outputId": "fb463520-d84e-4a05-c3d0-4f4375578364"
   },
   "outputs": [
    {
     "name": "stdout",
     "output_type": "stream",
     "text": [
      "Using TensorFlow backend\n"
     ]
    }
   ],
   "source": [
    "import os\n",
    "# You can use `tensorflow`, `pytorch`, `jax` here\n",
    "# KerasCore makes the notebook backend agnostic :)\n",
    "os.environ[\"KERAS_BACKEND\"] = \"tensorflow\"\n",
    "\n",
    "import keras_cv\n",
    "import keras_core as keras\n",
    "from keras_core import layers\n",
    "\n",
    "import numpy as np\n",
    "import pandas as pd\n",
    "import tensorflow as tf\n",
    "from matplotlib import pyplot as plt\n",
    "from sklearn.model_selection import train_test_split"
   ]
  },
  {
   "cell_type": "markdown",
   "metadata": {
    "id": "zLLjuZYEYPDx"
   },
   "source": [
    "keras starter 기반으로 작성된 노트북"
   ]
  },
  {
   "cell_type": "markdown",
   "metadata": {
    "id": "23qYpUFeXnR-"
   },
   "source": [
    "Config"
   ]
  },
  {
   "cell_type": "code",
   "execution_count": 5,
   "metadata": {
    "executionInfo": {
     "elapsed": 3,
     "status": "ok",
     "timestamp": 1697098521595,
     "user": {
      "displayName": "Sumin Cho",
      "userId": "16162125883516553653"
     },
     "user_tz": -540
    },
    "id": "quybXx-6XvRJ"
   },
   "outputs": [],
   "source": [
    "class Config:\n",
    "    SEED = 42\n",
    "    IMAGE_SIZE = [512, 512]\n",
    "    BATCH_SIZE = 16\n",
    "    EPOCHS = 15\n",
    "    TARGET_COLS = [\n",
    "        \"bowel\"\n",
    "    ]\n",
    "    AUTOTUNE = tf.data.AUTOTUNE\n",
    "\n",
    "config = Config()"
   ]
  },
  {
   "cell_type": "code",
   "execution_count": 6,
   "metadata": {
    "executionInfo": {
     "elapsed": 3,
     "status": "ok",
     "timestamp": 1697098521595,
     "user": {
      "displayName": "Sumin Cho",
      "userId": "16162125883516553653"
     },
     "user_tz": -540
    },
    "id": "ezZWvE3xW6lm"
   },
   "outputs": [],
   "source": [
    "keras.utils.set_random_seed(seed=config.SEED)"
   ]
  },
  {
   "cell_type": "markdown",
   "metadata": {
    "id": "bDfeF7AYXyaa"
   },
   "source": [
    "Dataset"
   ]
  },
  {
   "cell_type": "code",
   "execution_count": 7,
   "metadata": {
    "executionInfo": {
     "elapsed": 3,
     "status": "ok",
     "timestamp": 1697098521595,
     "user": {
      "displayName": "Sumin Cho",
      "userId": "16162125883516553653"
     },
     "user_tz": -540
    },
    "id": "RsWnShauXrN5"
   },
   "outputs": [],
   "source": [
    "BASE_PATH = \"/content/drive/MyDrive/rsna-atd-512x512-png-v2-dataset\""
   ]
  },
  {
   "cell_type": "code",
   "execution_count": 8,
   "metadata": {
    "colab": {
     "base_uri": "https://localhost:8080/",
     "height": 196
    },
    "executionInfo": {
     "elapsed": 2230,
     "status": "ok",
     "timestamp": 1697098523823,
     "user": {
      "displayName": "Sumin Cho",
      "userId": "16162125883516553653"
     },
     "user_tz": -540
    },
    "id": "xLn5bi3fX5tP",
    "outputId": "ad96a0c9-a875-47df-8b63-72d5b70f4d5e"
   },
   "outputs": [
    {
     "data": {
      "text/html": [
       "\n",
       "  <div id=\"df-b2f3e756-6a98-4a33-b21f-ae81573fd620\" class=\"colab-df-container\">\n",
       "    <div>\n",
       "<style scoped>\n",
       "    .dataframe tbody tr th:only-of-type {\n",
       "        vertical-align: middle;\n",
       "    }\n",
       "\n",
       "    .dataframe tbody tr th {\n",
       "        vertical-align: top;\n",
       "    }\n",
       "\n",
       "    .dataframe thead th {\n",
       "        text-align: right;\n",
       "    }\n",
       "</style>\n",
       "<table border=\"1\" class=\"dataframe\">\n",
       "  <thead>\n",
       "    <tr style=\"text-align: right;\">\n",
       "      <th></th>\n",
       "      <th>patient_id</th>\n",
       "      <th>bowel_healthy</th>\n",
       "      <th>bowel_injury</th>\n",
       "      <th>extravasation_healthy</th>\n",
       "      <th>extravasation_injury</th>\n",
       "      <th>kidney_healthy</th>\n",
       "      <th>kidney_low</th>\n",
       "      <th>kidney_high</th>\n",
       "      <th>liver_healthy</th>\n",
       "      <th>liver_low</th>\n",
       "      <th>...</th>\n",
       "      <th>spleen_healthy</th>\n",
       "      <th>spleen_low</th>\n",
       "      <th>spleen_high</th>\n",
       "      <th>any_injury</th>\n",
       "      <th>series_id</th>\n",
       "      <th>instance_number</th>\n",
       "      <th>injury_name</th>\n",
       "      <th>image_path</th>\n",
       "      <th>width</th>\n",
       "      <th>height</th>\n",
       "    </tr>\n",
       "  </thead>\n",
       "  <tbody>\n",
       "    <tr>\n",
       "      <th>0</th>\n",
       "      <td>10004</td>\n",
       "      <td>1</td>\n",
       "      <td>0</td>\n",
       "      <td>0</td>\n",
       "      <td>1</td>\n",
       "      <td>0</td>\n",
       "      <td>1</td>\n",
       "      <td>0</td>\n",
       "      <td>1</td>\n",
       "      <td>0</td>\n",
       "      <td>...</td>\n",
       "      <td>0</td>\n",
       "      <td>0</td>\n",
       "      <td>1</td>\n",
       "      <td>1</td>\n",
       "      <td>21057</td>\n",
       "      <td>362</td>\n",
       "      <td>Active_Extravasation</td>\n",
       "      <td>/content/drive/MyDrive/rsna-atd-512x512-png-v2...</td>\n",
       "      <td>512</td>\n",
       "      <td>512</td>\n",
       "    </tr>\n",
       "    <tr>\n",
       "      <th>1</th>\n",
       "      <td>10004</td>\n",
       "      <td>1</td>\n",
       "      <td>0</td>\n",
       "      <td>0</td>\n",
       "      <td>1</td>\n",
       "      <td>0</td>\n",
       "      <td>1</td>\n",
       "      <td>0</td>\n",
       "      <td>1</td>\n",
       "      <td>0</td>\n",
       "      <td>...</td>\n",
       "      <td>0</td>\n",
       "      <td>0</td>\n",
       "      <td>1</td>\n",
       "      <td>1</td>\n",
       "      <td>21057</td>\n",
       "      <td>363</td>\n",
       "      <td>Active_Extravasation</td>\n",
       "      <td>/content/drive/MyDrive/rsna-atd-512x512-png-v2...</td>\n",
       "      <td>512</td>\n",
       "      <td>512</td>\n",
       "    </tr>\n",
       "  </tbody>\n",
       "</table>\n",
       "<p>2 rows × 21 columns</p>\n",
       "</div>\n",
       "    <div class=\"colab-df-buttons\">\n",
       "\n",
       "  <div class=\"colab-df-container\">\n",
       "    <button class=\"colab-df-convert\" onclick=\"convertToInteractive('df-b2f3e756-6a98-4a33-b21f-ae81573fd620')\"\n",
       "            title=\"Convert this dataframe to an interactive table.\"\n",
       "            style=\"display:none;\">\n",
       "\n",
       "  <svg xmlns=\"http://www.w3.org/2000/svg\" height=\"24px\" viewBox=\"0 -960 960 960\">\n",
       "    <path d=\"M120-120v-720h720v720H120Zm60-500h600v-160H180v160Zm220 220h160v-160H400v160Zm0 220h160v-160H400v160ZM180-400h160v-160H180v160Zm440 0h160v-160H620v160ZM180-180h160v-160H180v160Zm440 0h160v-160H620v160Z\"/>\n",
       "  </svg>\n",
       "    </button>\n",
       "\n",
       "  <style>\n",
       "    .colab-df-container {\n",
       "      display:flex;\n",
       "      gap: 12px;\n",
       "    }\n",
       "\n",
       "    .colab-df-convert {\n",
       "      background-color: #E8F0FE;\n",
       "      border: none;\n",
       "      border-radius: 50%;\n",
       "      cursor: pointer;\n",
       "      display: none;\n",
       "      fill: #1967D2;\n",
       "      height: 32px;\n",
       "      padding: 0 0 0 0;\n",
       "      width: 32px;\n",
       "    }\n",
       "\n",
       "    .colab-df-convert:hover {\n",
       "      background-color: #E2EBFA;\n",
       "      box-shadow: 0px 1px 2px rgba(60, 64, 67, 0.3), 0px 1px 3px 1px rgba(60, 64, 67, 0.15);\n",
       "      fill: #174EA6;\n",
       "    }\n",
       "\n",
       "    .colab-df-buttons div {\n",
       "      margin-bottom: 4px;\n",
       "    }\n",
       "\n",
       "    [theme=dark] .colab-df-convert {\n",
       "      background-color: #3B4455;\n",
       "      fill: #D2E3FC;\n",
       "    }\n",
       "\n",
       "    [theme=dark] .colab-df-convert:hover {\n",
       "      background-color: #434B5C;\n",
       "      box-shadow: 0px 1px 3px 1px rgba(0, 0, 0, 0.15);\n",
       "      filter: drop-shadow(0px 1px 2px rgba(0, 0, 0, 0.3));\n",
       "      fill: #FFFFFF;\n",
       "    }\n",
       "  </style>\n",
       "\n",
       "    <script>\n",
       "      const buttonEl =\n",
       "        document.querySelector('#df-b2f3e756-6a98-4a33-b21f-ae81573fd620 button.colab-df-convert');\n",
       "      buttonEl.style.display =\n",
       "        google.colab.kernel.accessAllowed ? 'block' : 'none';\n",
       "\n",
       "      async function convertToInteractive(key) {\n",
       "        const element = document.querySelector('#df-b2f3e756-6a98-4a33-b21f-ae81573fd620');\n",
       "        const dataTable =\n",
       "          await google.colab.kernel.invokeFunction('convertToInteractive',\n",
       "                                                    [key], {});\n",
       "        if (!dataTable) return;\n",
       "\n",
       "        const docLinkHtml = 'Like what you see? Visit the ' +\n",
       "          '<a target=\"_blank\" href=https://colab.research.google.com/notebooks/data_table.ipynb>data table notebook</a>'\n",
       "          + ' to learn more about interactive tables.';\n",
       "        element.innerHTML = '';\n",
       "        dataTable['output_type'] = 'display_data';\n",
       "        await google.colab.output.renderOutput(dataTable, element);\n",
       "        const docLink = document.createElement('div');\n",
       "        docLink.innerHTML = docLinkHtml;\n",
       "        element.appendChild(docLink);\n",
       "      }\n",
       "    </script>\n",
       "  </div>\n",
       "\n",
       "\n",
       "<div id=\"df-c835f153-1d6f-4e06-b5d4-9336303c053f\">\n",
       "  <button class=\"colab-df-quickchart\" onclick=\"quickchart('df-c835f153-1d6f-4e06-b5d4-9336303c053f')\"\n",
       "            title=\"Suggest charts.\"\n",
       "            style=\"display:none;\">\n",
       "\n",
       "<svg xmlns=\"http://www.w3.org/2000/svg\" height=\"24px\"viewBox=\"0 0 24 24\"\n",
       "     width=\"24px\">\n",
       "    <g>\n",
       "        <path d=\"M19 3H5c-1.1 0-2 .9-2 2v14c0 1.1.9 2 2 2h14c1.1 0 2-.9 2-2V5c0-1.1-.9-2-2-2zM9 17H7v-7h2v7zm4 0h-2V7h2v10zm4 0h-2v-4h2v4z\"/>\n",
       "    </g>\n",
       "</svg>\n",
       "  </button>\n",
       "\n",
       "<style>\n",
       "  .colab-df-quickchart {\n",
       "      --bg-color: #E8F0FE;\n",
       "      --fill-color: #1967D2;\n",
       "      --hover-bg-color: #E2EBFA;\n",
       "      --hover-fill-color: #174EA6;\n",
       "      --disabled-fill-color: #AAA;\n",
       "      --disabled-bg-color: #DDD;\n",
       "  }\n",
       "\n",
       "  [theme=dark] .colab-df-quickchart {\n",
       "      --bg-color: #3B4455;\n",
       "      --fill-color: #D2E3FC;\n",
       "      --hover-bg-color: #434B5C;\n",
       "      --hover-fill-color: #FFFFFF;\n",
       "      --disabled-bg-color: #3B4455;\n",
       "      --disabled-fill-color: #666;\n",
       "  }\n",
       "\n",
       "  .colab-df-quickchart {\n",
       "    background-color: var(--bg-color);\n",
       "    border: none;\n",
       "    border-radius: 50%;\n",
       "    cursor: pointer;\n",
       "    display: none;\n",
       "    fill: var(--fill-color);\n",
       "    height: 32px;\n",
       "    padding: 0;\n",
       "    width: 32px;\n",
       "  }\n",
       "\n",
       "  .colab-df-quickchart:hover {\n",
       "    background-color: var(--hover-bg-color);\n",
       "    box-shadow: 0 1px 2px rgba(60, 64, 67, 0.3), 0 1px 3px 1px rgba(60, 64, 67, 0.15);\n",
       "    fill: var(--button-hover-fill-color);\n",
       "  }\n",
       "\n",
       "  .colab-df-quickchart-complete:disabled,\n",
       "  .colab-df-quickchart-complete:disabled:hover {\n",
       "    background-color: var(--disabled-bg-color);\n",
       "    fill: var(--disabled-fill-color);\n",
       "    box-shadow: none;\n",
       "  }\n",
       "\n",
       "  .colab-df-spinner {\n",
       "    border: 2px solid var(--fill-color);\n",
       "    border-color: transparent;\n",
       "    border-bottom-color: var(--fill-color);\n",
       "    animation:\n",
       "      spin 1s steps(1) infinite;\n",
       "  }\n",
       "\n",
       "  @keyframes spin {\n",
       "    0% {\n",
       "      border-color: transparent;\n",
       "      border-bottom-color: var(--fill-color);\n",
       "      border-left-color: var(--fill-color);\n",
       "    }\n",
       "    20% {\n",
       "      border-color: transparent;\n",
       "      border-left-color: var(--fill-color);\n",
       "      border-top-color: var(--fill-color);\n",
       "    }\n",
       "    30% {\n",
       "      border-color: transparent;\n",
       "      border-left-color: var(--fill-color);\n",
       "      border-top-color: var(--fill-color);\n",
       "      border-right-color: var(--fill-color);\n",
       "    }\n",
       "    40% {\n",
       "      border-color: transparent;\n",
       "      border-right-color: var(--fill-color);\n",
       "      border-top-color: var(--fill-color);\n",
       "    }\n",
       "    60% {\n",
       "      border-color: transparent;\n",
       "      border-right-color: var(--fill-color);\n",
       "    }\n",
       "    80% {\n",
       "      border-color: transparent;\n",
       "      border-right-color: var(--fill-color);\n",
       "      border-bottom-color: var(--fill-color);\n",
       "    }\n",
       "    90% {\n",
       "      border-color: transparent;\n",
       "      border-bottom-color: var(--fill-color);\n",
       "    }\n",
       "  }\n",
       "</style>\n",
       "\n",
       "  <script>\n",
       "    async function quickchart(key) {\n",
       "      const quickchartButtonEl =\n",
       "        document.querySelector('#' + key + ' button');\n",
       "      quickchartButtonEl.disabled = true;  // To prevent multiple clicks.\n",
       "      quickchartButtonEl.classList.add('colab-df-spinner');\n",
       "      try {\n",
       "        const charts = await google.colab.kernel.invokeFunction(\n",
       "            'suggestCharts', [key], {});\n",
       "      } catch (error) {\n",
       "        console.error('Error during call to suggestCharts:', error);\n",
       "      }\n",
       "      quickchartButtonEl.classList.remove('colab-df-spinner');\n",
       "      quickchartButtonEl.classList.add('colab-df-quickchart-complete');\n",
       "    }\n",
       "    (() => {\n",
       "      let quickchartButtonEl =\n",
       "        document.querySelector('#df-c835f153-1d6f-4e06-b5d4-9336303c053f button');\n",
       "      quickchartButtonEl.style.display =\n",
       "        google.colab.kernel.accessAllowed ? 'block' : 'none';\n",
       "    })();\n",
       "  </script>\n",
       "</div>\n",
       "    </div>\n",
       "  </div>\n"
      ],
      "text/plain": [
       "   patient_id  bowel_healthy  bowel_injury  extravasation_healthy  \\\n",
       "0       10004              1             0                      0   \n",
       "1       10004              1             0                      0   \n",
       "\n",
       "   extravasation_injury  kidney_healthy  kidney_low  kidney_high  \\\n",
       "0                     1               0           1            0   \n",
       "1                     1               0           1            0   \n",
       "\n",
       "   liver_healthy  liver_low  ...  spleen_healthy  spleen_low  spleen_high  \\\n",
       "0              1          0  ...               0           0            1   \n",
       "1              1          0  ...               0           0            1   \n",
       "\n",
       "   any_injury  series_id  instance_number           injury_name  \\\n",
       "0           1      21057              362  Active_Extravasation   \n",
       "1           1      21057              363  Active_Extravasation   \n",
       "\n",
       "                                          image_path width  height  \n",
       "0  /content/drive/MyDrive/rsna-atd-512x512-png-v2...   512     512  \n",
       "1  /content/drive/MyDrive/rsna-atd-512x512-png-v2...   512     512  \n",
       "\n",
       "[2 rows x 21 columns]"
      ]
     },
     "execution_count": 8,
     "metadata": {},
     "output_type": "execute_result"
    }
   ],
   "source": [
    "# train\n",
    "dataframe = pd.read_csv(f\"{BASE_PATH}/train.csv\")\n",
    "dataframe[\"image_path\"] = f\"{BASE_PATH}/train_images\"\\\n",
    "                    + \"/\" + dataframe.patient_id.astype(str)\\\n",
    "                    + \"/\" + dataframe.series_id.astype(str)\\\n",
    "                    + \"/\" + dataframe.instance_number.astype(str) +\".png\"\n",
    "dataframe = dataframe.drop_duplicates()\n",
    "\n",
    "dataframe.head(2)"
   ]
  },
  {
   "cell_type": "code",
   "execution_count": 9,
   "metadata": {
    "colab": {
     "base_uri": "https://localhost:8080/",
     "height": 196
    },
    "executionInfo": {
     "elapsed": 777,
     "status": "ok",
     "timestamp": 1697098524594,
     "user": {
      "displayName": "Sumin Cho",
      "userId": "16162125883516553653"
     },
     "user_tz": -540
    },
    "id": "ylvA7OBYfEKb",
    "outputId": "2d3e4e8f-35ad-4a8b-fb6d-abd3b2002143"
   },
   "outputs": [
    {
     "data": {
      "text/html": [
       "\n",
       "  <div id=\"df-3ce2fc16-6c35-49c3-baf7-e19e05756eb8\" class=\"colab-df-container\">\n",
       "    <div>\n",
       "<style scoped>\n",
       "    .dataframe tbody tr th:only-of-type {\n",
       "        vertical-align: middle;\n",
       "    }\n",
       "\n",
       "    .dataframe tbody tr th {\n",
       "        vertical-align: top;\n",
       "    }\n",
       "\n",
       "    .dataframe thead th {\n",
       "        text-align: right;\n",
       "    }\n",
       "</style>\n",
       "<table border=\"1\" class=\"dataframe\">\n",
       "  <thead>\n",
       "    <tr style=\"text-align: right;\">\n",
       "      <th></th>\n",
       "      <th>patient_id</th>\n",
       "      <th>bowel_healthy</th>\n",
       "      <th>bowel_injury</th>\n",
       "      <th>extravasation_healthy</th>\n",
       "      <th>extravasation_injury</th>\n",
       "      <th>kidney_healthy</th>\n",
       "      <th>kidney_low</th>\n",
       "      <th>kidney_high</th>\n",
       "      <th>liver_healthy</th>\n",
       "      <th>liver_low</th>\n",
       "      <th>...</th>\n",
       "      <th>spleen_low</th>\n",
       "      <th>spleen_high</th>\n",
       "      <th>any_injury</th>\n",
       "      <th>series_id</th>\n",
       "      <th>instance_number</th>\n",
       "      <th>injury_name</th>\n",
       "      <th>image_path</th>\n",
       "      <th>width</th>\n",
       "      <th>height</th>\n",
       "      <th>bowel</th>\n",
       "    </tr>\n",
       "  </thead>\n",
       "  <tbody>\n",
       "    <tr>\n",
       "      <th>0</th>\n",
       "      <td>10004</td>\n",
       "      <td>1</td>\n",
       "      <td>0</td>\n",
       "      <td>0</td>\n",
       "      <td>1</td>\n",
       "      <td>0</td>\n",
       "      <td>1</td>\n",
       "      <td>0</td>\n",
       "      <td>1</td>\n",
       "      <td>0</td>\n",
       "      <td>...</td>\n",
       "      <td>0</td>\n",
       "      <td>1</td>\n",
       "      <td>1</td>\n",
       "      <td>21057</td>\n",
       "      <td>362</td>\n",
       "      <td>Active_Extravasation</td>\n",
       "      <td>/content/drive/MyDrive/rsna-atd-512x512-png-v2...</td>\n",
       "      <td>512</td>\n",
       "      <td>512</td>\n",
       "      <td>0</td>\n",
       "    </tr>\n",
       "    <tr>\n",
       "      <th>1</th>\n",
       "      <td>10004</td>\n",
       "      <td>1</td>\n",
       "      <td>0</td>\n",
       "      <td>0</td>\n",
       "      <td>1</td>\n",
       "      <td>0</td>\n",
       "      <td>1</td>\n",
       "      <td>0</td>\n",
       "      <td>1</td>\n",
       "      <td>0</td>\n",
       "      <td>...</td>\n",
       "      <td>0</td>\n",
       "      <td>1</td>\n",
       "      <td>1</td>\n",
       "      <td>21057</td>\n",
       "      <td>363</td>\n",
       "      <td>Active_Extravasation</td>\n",
       "      <td>/content/drive/MyDrive/rsna-atd-512x512-png-v2...</td>\n",
       "      <td>512</td>\n",
       "      <td>512</td>\n",
       "      <td>0</td>\n",
       "    </tr>\n",
       "  </tbody>\n",
       "</table>\n",
       "<p>2 rows × 22 columns</p>\n",
       "</div>\n",
       "    <div class=\"colab-df-buttons\">\n",
       "\n",
       "  <div class=\"colab-df-container\">\n",
       "    <button class=\"colab-df-convert\" onclick=\"convertToInteractive('df-3ce2fc16-6c35-49c3-baf7-e19e05756eb8')\"\n",
       "            title=\"Convert this dataframe to an interactive table.\"\n",
       "            style=\"display:none;\">\n",
       "\n",
       "  <svg xmlns=\"http://www.w3.org/2000/svg\" height=\"24px\" viewBox=\"0 -960 960 960\">\n",
       "    <path d=\"M120-120v-720h720v720H120Zm60-500h600v-160H180v160Zm220 220h160v-160H400v160Zm0 220h160v-160H400v160ZM180-400h160v-160H180v160Zm440 0h160v-160H620v160ZM180-180h160v-160H180v160Zm440 0h160v-160H620v160Z\"/>\n",
       "  </svg>\n",
       "    </button>\n",
       "\n",
       "  <style>\n",
       "    .colab-df-container {\n",
       "      display:flex;\n",
       "      gap: 12px;\n",
       "    }\n",
       "\n",
       "    .colab-df-convert {\n",
       "      background-color: #E8F0FE;\n",
       "      border: none;\n",
       "      border-radius: 50%;\n",
       "      cursor: pointer;\n",
       "      display: none;\n",
       "      fill: #1967D2;\n",
       "      height: 32px;\n",
       "      padding: 0 0 0 0;\n",
       "      width: 32px;\n",
       "    }\n",
       "\n",
       "    .colab-df-convert:hover {\n",
       "      background-color: #E2EBFA;\n",
       "      box-shadow: 0px 1px 2px rgba(60, 64, 67, 0.3), 0px 1px 3px 1px rgba(60, 64, 67, 0.15);\n",
       "      fill: #174EA6;\n",
       "    }\n",
       "\n",
       "    .colab-df-buttons div {\n",
       "      margin-bottom: 4px;\n",
       "    }\n",
       "\n",
       "    [theme=dark] .colab-df-convert {\n",
       "      background-color: #3B4455;\n",
       "      fill: #D2E3FC;\n",
       "    }\n",
       "\n",
       "    [theme=dark] .colab-df-convert:hover {\n",
       "      background-color: #434B5C;\n",
       "      box-shadow: 0px 1px 3px 1px rgba(0, 0, 0, 0.15);\n",
       "      filter: drop-shadow(0px 1px 2px rgba(0, 0, 0, 0.3));\n",
       "      fill: #FFFFFF;\n",
       "    }\n",
       "  </style>\n",
       "\n",
       "    <script>\n",
       "      const buttonEl =\n",
       "        document.querySelector('#df-3ce2fc16-6c35-49c3-baf7-e19e05756eb8 button.colab-df-convert');\n",
       "      buttonEl.style.display =\n",
       "        google.colab.kernel.accessAllowed ? 'block' : 'none';\n",
       "\n",
       "      async function convertToInteractive(key) {\n",
       "        const element = document.querySelector('#df-3ce2fc16-6c35-49c3-baf7-e19e05756eb8');\n",
       "        const dataTable =\n",
       "          await google.colab.kernel.invokeFunction('convertToInteractive',\n",
       "                                                    [key], {});\n",
       "        if (!dataTable) return;\n",
       "\n",
       "        const docLinkHtml = 'Like what you see? Visit the ' +\n",
       "          '<a target=\"_blank\" href=https://colab.research.google.com/notebooks/data_table.ipynb>data table notebook</a>'\n",
       "          + ' to learn more about interactive tables.';\n",
       "        element.innerHTML = '';\n",
       "        dataTable['output_type'] = 'display_data';\n",
       "        await google.colab.output.renderOutput(dataTable, element);\n",
       "        const docLink = document.createElement('div');\n",
       "        docLink.innerHTML = docLinkHtml;\n",
       "        element.appendChild(docLink);\n",
       "      }\n",
       "    </script>\n",
       "  </div>\n",
       "\n",
       "\n",
       "<div id=\"df-6b088d44-48a9-4303-b72e-4c51724e688d\">\n",
       "  <button class=\"colab-df-quickchart\" onclick=\"quickchart('df-6b088d44-48a9-4303-b72e-4c51724e688d')\"\n",
       "            title=\"Suggest charts.\"\n",
       "            style=\"display:none;\">\n",
       "\n",
       "<svg xmlns=\"http://www.w3.org/2000/svg\" height=\"24px\"viewBox=\"0 0 24 24\"\n",
       "     width=\"24px\">\n",
       "    <g>\n",
       "        <path d=\"M19 3H5c-1.1 0-2 .9-2 2v14c0 1.1.9 2 2 2h14c1.1 0 2-.9 2-2V5c0-1.1-.9-2-2-2zM9 17H7v-7h2v7zm4 0h-2V7h2v10zm4 0h-2v-4h2v4z\"/>\n",
       "    </g>\n",
       "</svg>\n",
       "  </button>\n",
       "\n",
       "<style>\n",
       "  .colab-df-quickchart {\n",
       "      --bg-color: #E8F0FE;\n",
       "      --fill-color: #1967D2;\n",
       "      --hover-bg-color: #E2EBFA;\n",
       "      --hover-fill-color: #174EA6;\n",
       "      --disabled-fill-color: #AAA;\n",
       "      --disabled-bg-color: #DDD;\n",
       "  }\n",
       "\n",
       "  [theme=dark] .colab-df-quickchart {\n",
       "      --bg-color: #3B4455;\n",
       "      --fill-color: #D2E3FC;\n",
       "      --hover-bg-color: #434B5C;\n",
       "      --hover-fill-color: #FFFFFF;\n",
       "      --disabled-bg-color: #3B4455;\n",
       "      --disabled-fill-color: #666;\n",
       "  }\n",
       "\n",
       "  .colab-df-quickchart {\n",
       "    background-color: var(--bg-color);\n",
       "    border: none;\n",
       "    border-radius: 50%;\n",
       "    cursor: pointer;\n",
       "    display: none;\n",
       "    fill: var(--fill-color);\n",
       "    height: 32px;\n",
       "    padding: 0;\n",
       "    width: 32px;\n",
       "  }\n",
       "\n",
       "  .colab-df-quickchart:hover {\n",
       "    background-color: var(--hover-bg-color);\n",
       "    box-shadow: 0 1px 2px rgba(60, 64, 67, 0.3), 0 1px 3px 1px rgba(60, 64, 67, 0.15);\n",
       "    fill: var(--button-hover-fill-color);\n",
       "  }\n",
       "\n",
       "  .colab-df-quickchart-complete:disabled,\n",
       "  .colab-df-quickchart-complete:disabled:hover {\n",
       "    background-color: var(--disabled-bg-color);\n",
       "    fill: var(--disabled-fill-color);\n",
       "    box-shadow: none;\n",
       "  }\n",
       "\n",
       "  .colab-df-spinner {\n",
       "    border: 2px solid var(--fill-color);\n",
       "    border-color: transparent;\n",
       "    border-bottom-color: var(--fill-color);\n",
       "    animation:\n",
       "      spin 1s steps(1) infinite;\n",
       "  }\n",
       "\n",
       "  @keyframes spin {\n",
       "    0% {\n",
       "      border-color: transparent;\n",
       "      border-bottom-color: var(--fill-color);\n",
       "      border-left-color: var(--fill-color);\n",
       "    }\n",
       "    20% {\n",
       "      border-color: transparent;\n",
       "      border-left-color: var(--fill-color);\n",
       "      border-top-color: var(--fill-color);\n",
       "    }\n",
       "    30% {\n",
       "      border-color: transparent;\n",
       "      border-left-color: var(--fill-color);\n",
       "      border-top-color: var(--fill-color);\n",
       "      border-right-color: var(--fill-color);\n",
       "    }\n",
       "    40% {\n",
       "      border-color: transparent;\n",
       "      border-right-color: var(--fill-color);\n",
       "      border-top-color: var(--fill-color);\n",
       "    }\n",
       "    60% {\n",
       "      border-color: transparent;\n",
       "      border-right-color: var(--fill-color);\n",
       "    }\n",
       "    80% {\n",
       "      border-color: transparent;\n",
       "      border-right-color: var(--fill-color);\n",
       "      border-bottom-color: var(--fill-color);\n",
       "    }\n",
       "    90% {\n",
       "      border-color: transparent;\n",
       "      border-bottom-color: var(--fill-color);\n",
       "    }\n",
       "  }\n",
       "</style>\n",
       "\n",
       "  <script>\n",
       "    async function quickchart(key) {\n",
       "      const quickchartButtonEl =\n",
       "        document.querySelector('#' + key + ' button');\n",
       "      quickchartButtonEl.disabled = true;  // To prevent multiple clicks.\n",
       "      quickchartButtonEl.classList.add('colab-df-spinner');\n",
       "      try {\n",
       "        const charts = await google.colab.kernel.invokeFunction(\n",
       "            'suggestCharts', [key], {});\n",
       "      } catch (error) {\n",
       "        console.error('Error during call to suggestCharts:', error);\n",
       "      }\n",
       "      quickchartButtonEl.classList.remove('colab-df-spinner');\n",
       "      quickchartButtonEl.classList.add('colab-df-quickchart-complete');\n",
       "    }\n",
       "    (() => {\n",
       "      let quickchartButtonEl =\n",
       "        document.querySelector('#df-6b088d44-48a9-4303-b72e-4c51724e688d button');\n",
       "      quickchartButtonEl.style.display =\n",
       "        google.colab.kernel.accessAllowed ? 'block' : 'none';\n",
       "    })();\n",
       "  </script>\n",
       "</div>\n",
       "    </div>\n",
       "  </div>\n"
      ],
      "text/plain": [
       "   patient_id  bowel_healthy  bowel_injury  extravasation_healthy  \\\n",
       "0       10004              1             0                      0   \n",
       "1       10004              1             0                      0   \n",
       "\n",
       "   extravasation_injury  kidney_healthy  kidney_low  kidney_high  \\\n",
       "0                     1               0           1            0   \n",
       "1                     1               0           1            0   \n",
       "\n",
       "   liver_healthy  liver_low  ...  spleen_low  spleen_high  any_injury  \\\n",
       "0              1          0  ...           0            1           1   \n",
       "1              1          0  ...           0            1           1   \n",
       "\n",
       "   series_id  instance_number           injury_name  \\\n",
       "0      21057              362  Active_Extravasation   \n",
       "1      21057              363  Active_Extravasation   \n",
       "\n",
       "                                          image_path width height  bowel  \n",
       "0  /content/drive/MyDrive/rsna-atd-512x512-png-v2...   512    512      0  \n",
       "1  /content/drive/MyDrive/rsna-atd-512x512-png-v2...   512    512      0  \n",
       "\n",
       "[2 rows x 22 columns]"
      ]
     },
     "execution_count": 9,
     "metadata": {},
     "output_type": "execute_result"
    }
   ],
   "source": [
    "def bowel_assign_value(row):\n",
    "    if row['bowel_healthy'] == 1:\n",
    "        return 0\n",
    "    else:\n",
    "        return 1\n",
    "\n",
    "dataframe['bowel'] = dataframe.apply(bowel_assign_value, axis=1)\n",
    "dataframe.head(2)"
   ]
  },
  {
   "cell_type": "code",
   "execution_count": 10,
   "metadata": {
    "executionInfo": {
     "elapsed": 4,
     "status": "ok",
     "timestamp": 1697098524594,
     "user": {
      "displayName": "Sumin Cho",
      "userId": "16162125883516553653"
     },
     "user_tz": -540
    },
    "id": "zVksYvKZfYHo"
   },
   "outputs": [],
   "source": [
    "negative = dataframe[dataframe['bowel'] == 0]\n",
    "positive = dataframe[dataframe['bowel'] == 1]\n",
    "num_samples = min(len(negative), len(positive))\n",
    "negative_samples = negative.sample(n=num_samples, random_state=42)\n",
    "positive_samples = positive.sample(n=num_samples, random_state=42)\n",
    "bowel_dataframe = pd.concat([negative_samples, positive_samples], axis=0)"
   ]
  },
  {
   "cell_type": "code",
   "execution_count": 11,
   "metadata": {
    "colab": {
     "base_uri": "https://localhost:8080/"
    },
    "executionInfo": {
     "elapsed": 5,
     "status": "ok",
     "timestamp": 1697098525772,
     "user": {
      "displayName": "Sumin Cho",
      "userId": "16162125883516553653"
     },
     "user_tz": -540
    },
    "id": "Nu9XchDNX-iv",
    "outputId": "019242ae-e3af-4699-fa00-48ad67710e66"
   },
   "outputs": [
    {
     "name": "stderr",
     "output_type": "stream",
     "text": [
      "<ipython-input-11-41de00a524fb>:13: FutureWarning: In a future version of pandas, a length 1 tuple will be returned when iterating over a groupby with a grouper equal to a list of length 1. Don't supply a list with a single grouper to avoid this warning.\n",
      "  for _, group in bowel_dataframe.groupby(config.TARGET_COLS):\n"
     ]
    }
   ],
   "source": [
    "# Function to handle the split for each group\n",
    "def split_group(group, test_size=0.2):\n",
    "    if len(group) == 1:\n",
    "        return (group, pd.DataFrame()) if np.random.rand() < test_size else (pd.DataFrame(), group)\n",
    "    else:\n",
    "        return train_test_split(group, stratify=group[\"bowel\"], test_size=test_size, random_state=42)\n",
    "\n",
    "# Initialize the train and validation datasets\n",
    "bowel_train_data = pd.DataFrame()\n",
    "bowel_val_data = pd.DataFrame()\n",
    "\n",
    "# Iterate through the groups and split them, handling single-sample groups\n",
    "for _, group in bowel_dataframe.groupby(config.TARGET_COLS):\n",
    "    bowel_train_group, bowel_val_group = split_group(group)\n",
    "    bowel_train_data = pd.concat([bowel_train_data, bowel_train_group], ignore_index=True)\n",
    "    bowel_val_data = pd.concat([bowel_val_data, bowel_val_group], ignore_index=True)\n"
   ]
  },
  {
   "cell_type": "code",
   "execution_count": 12,
   "metadata": {
    "executionInfo": {
     "elapsed": 2,
     "status": "ok",
     "timestamp": 1697098533610,
     "user": {
      "displayName": "Sumin Cho",
      "userId": "16162125883516553653"
     },
     "user_tz": -540
    },
    "id": "lnGHaN1CYD0f"
   },
   "outputs": [],
   "source": [
    "def decode_image_and_label(image_path, label):\n",
    "    file_bytes = tf.io.read_file(image_path)\n",
    "    image = tf.io.decode_png(file_bytes, channels=3, dtype=tf.uint8)\n",
    "    image = tf.image.resize(image, config.IMAGE_SIZE, method=\"bilinear\")\n",
    "    image = tf.cast(image, tf.float32) / 255.0\n",
    "\n",
    "    label = tf.cast(label, tf.float32)\n",
    "\n",
    "    return (image, label)"
   ]
  },
  {
   "cell_type": "code",
   "execution_count": 13,
   "metadata": {
    "executionInfo": {
     "elapsed": 2,
     "status": "ok",
     "timestamp": 1697098537195,
     "user": {
      "displayName": "Sumin Cho",
      "userId": "16162125883516553653"
     },
     "user_tz": -540
    },
    "id": "eAL7PxEGYFaS"
   },
   "outputs": [],
   "source": [
    "# 레이어 외부에서 RandomFlip 레이어를 생성\n",
    "random_flip_layer = tf.keras.layers.experimental.preprocessing.RandomFlip(\"horizontal\")\n",
    "random_rotation_layer = tf.keras.layers.experimental.preprocessing.RandomRotation(0.2)\n",
    "\n",
    "class CustomAugmenter(tf.keras.layers.Layer):\n",
    "    def __init__(self, cutout_params, **kwargs):\n",
    "        super(CustomAugmenter, self).__init__(**kwargs)\n",
    "        self.cutout_layer = keras_cv.layers.Augmenter([keras_cv.layers.RandomCutout(**cutout_params)])\n",
    "\n",
    "    def call(self, inputs, training=None):\n",
    "        if training:\n",
    "            inputs = random_flip_layer(inputs)\n",
    "            inputs = random_rotation_layer(inputs)\n",
    "            inputs = self.cutout_layer(inputs)\n",
    "        return inputs\n",
    "\n",
    "def apply_augmentation(images, labels):\n",
    "    # 이미지 증강 파이프라인을 정의\n",
    "    augmenter = CustomAugmenter(cutout_params={\"height_factor\": 0.2, \"width_factor\": 0.2})\n",
    "\n",
    "    # 이미지 증강을 적용\n",
    "    augmented_images = augmenter(images, training=True)\n",
    "\n",
    "    return (augmented_images, labels)"
   ]
  },
  {
   "cell_type": "code",
   "execution_count": 14,
   "metadata": {
    "executionInfo": {
     "elapsed": 1265,
     "status": "ok",
     "timestamp": 1697098541339,
     "user": {
      "displayName": "Sumin Cho",
      "userId": "16162125883516553653"
     },
     "user_tz": -540
    },
    "id": "kaybtZl8YG9s"
   },
   "outputs": [],
   "source": [
    "\n",
    "def build_dataset(image_paths, labels):\n",
    "    ds = (\n",
    "        tf.data.Dataset.from_tensor_slices((image_paths, labels))\n",
    "        .map(decode_image_and_label, num_parallel_calls=config.AUTOTUNE)\n",
    "        .shuffle(config.BATCH_SIZE * 10)\n",
    "        .batch(config.BATCH_SIZE)\n",
    "        .map(apply_augmentation, num_parallel_calls=config.AUTOTUNE)  # 이미지 증강 적용\n",
    "        .prefetch(config.AUTOTUNE)\n",
    "    )\n",
    "    return ds"
   ]
  },
  {
   "cell_type": "code",
   "execution_count": 15,
   "metadata": {
    "colab": {
     "base_uri": "https://localhost:8080/"
    },
    "executionInfo": {
     "elapsed": 58599,
     "status": "ok",
     "timestamp": 1697098603224,
     "user": {
      "displayName": "Sumin Cho",
      "userId": "16162125883516553653"
     },
     "user_tz": -540
    },
    "id": "HGjkekmCYI71",
    "outputId": "bd782f9e-8231-499c-909b-72469a8e28a7"
   },
   "outputs": [
    {
     "data": {
      "text/plain": [
       "(TensorShape([16, 512, 512, 3]),\n",
       " [TensorShape([1]),\n",
       "  TensorShape([1]),\n",
       "  TensorShape([1]),\n",
       "  TensorShape([1]),\n",
       "  TensorShape([1]),\n",
       "  TensorShape([1]),\n",
       "  TensorShape([1]),\n",
       "  TensorShape([1]),\n",
       "  TensorShape([1]),\n",
       "  TensorShape([1]),\n",
       "  TensorShape([1]),\n",
       "  TensorShape([1]),\n",
       "  TensorShape([1]),\n",
       "  TensorShape([1]),\n",
       "  TensorShape([1]),\n",
       "  TensorShape([1])])"
      ]
     },
     "execution_count": 15,
     "metadata": {},
     "output_type": "execute_result"
    }
   ],
   "source": [
    "paths = bowel_train_data.image_path.tolist()\n",
    "labels = bowel_train_data[config.TARGET_COLS].values\n",
    "\n",
    "ds = build_dataset(image_paths=paths, labels=labels)\n",
    "images, labels = next(iter(ds))\n",
    "images.shape, [label.shape for label in labels]"
   ]
  },
  {
   "cell_type": "code",
   "execution_count": 16,
   "metadata": {
    "colab": {
     "base_uri": "https://localhost:8080/",
     "height": 797
    },
    "executionInfo": {
     "elapsed": 1668,
     "status": "ok",
     "timestamp": 1697098604890,
     "user": {
      "displayName": "Sumin Cho",
      "userId": "16162125883516553653"
     },
     "user_tz": -540
    },
    "id": "GUY-pZMPYK3z",
    "outputId": "5dc4c77f-b204-4644-ef2e-7e84c799e27d"
   },
   "outputs": [
    {
     "data": {
      "image/png": "[encoded data removed]",
      "text/plain": [
       "<Figure size 400x400 with 4 Axes>"
      ]
     },
     "execution_count": 16,
     "metadata": {},
     "output_type": "execute_result"
    },
    {
     "data": {
      "image/png": "[encoded data removed]",
      "text/plain": [
       "<Figure size 400x400 with 4 Axes>"
      ]
     },
     "metadata": {},
     "output_type": "display_data"
    }
   ],
   "source": [
    "keras_cv.visualization.plot_image_gallery(\n",
    "    images=images,\n",
    "    value_range=(0, 1),\n",
    "    rows=2,\n",
    "    cols=2,\n",
    ")"
   ]
  },
  {
   "cell_type": "markdown",
   "metadata": {
    "id": "rmcvaMvtbhyE"
   },
   "source": [
    "Model"
   ]
  },
  {
   "cell_type": "markdown",
   "metadata": {
    "id": "Ux1M9hViexZM"
   },
   "source": [
    "efficient Net"
   ]
  },
  {
   "cell_type": "code",
   "execution_count": 17,
   "metadata": {
    "executionInfo": {
     "elapsed": 492,
     "status": "ok",
     "timestamp": 1697098612146,
     "user": {
      "displayName": "Sumin Cho",
      "userId": "16162125883516553653"
     },
     "user_tz": -540
    },
    "id": "uQ5TczQBbTTa"
   },
   "outputs": [],
   "source": [
    "def build_binary_classification_model(warmup_steps, decay_steps, head_name):\n",
    "    # Define Input\n",
    "    inputs = keras.Input(shape=config.IMAGE_SIZE + [3,], batch_size=config.BATCH_SIZE)\n",
    "\n",
    "    # Define Backbone\n",
    "    backbone = keras_cv.models.EfficientNetV2Backbone.from_preset(\"efficientnetv2_b3\")\n",
    "    backbone.include_rescaling = False\n",
    "    x = backbone(inputs)\n",
    "\n",
    "    # GAP to get the activation maps\n",
    "    gap = keras.layers.GlobalAveragePooling2D()\n",
    "    x = gap(x)\n",
    "\n",
    "    # Define 'necks' for the binary classification head\n",
    "    x_head = keras.layers.Dense(32, activation='silu')(x)\n",
    "\n",
    "    # Define binary classification head\n",
    "    output = keras.layers.Dense(1, name=head_name, activation='sigmoid')(x_head)\n",
    "\n",
    "    # Create model\n",
    "    print(f\"[INFO] Building the {head_name} model...\")\n",
    "    model = keras.Model(inputs=inputs, outputs=output)\n",
    "\n",
    "    # Cosine Decay\n",
    "    cosine_decay = keras.optimizers.schedules.CosineDecay(\n",
    "        initial_learning_rate=1e-4,\n",
    "        decay_steps=decay_steps,\n",
    "        alpha=0.0,\n",
    "        warmup_target=1e-3,\n",
    "        warmup_steps=warmup_steps,\n",
    "    )\n",
    "\n",
    "    # Compile the model\n",
    "    optimizer = keras.optimizers.Adam(learning_rate=cosine_decay)\n",
    "    loss = keras.losses.BinaryCrossentropy()\n",
    "    metrics = [\"accuracy\"]\n",
    "\n",
    "    print(f\"[INFO] Compiling the {head_name} model...\")\n",
    "    model.compile(\n",
    "        optimizer=optimizer,\n",
    "        loss=loss,\n",
    "        metrics=metrics\n",
    "    )\n",
    "\n",
    "    return model"
   ]
  },
  {
   "cell_type": "markdown",
   "metadata": {
    "id": "QHOb-3zPbmF0"
   },
   "source": [
    "Train"
   ]
  },
  {
   "cell_type": "code",
   "execution_count": 18,
   "metadata": {
    "colab": {
     "base_uri": "https://localhost:8080/"
    },
    "executionInfo": {
     "elapsed": 2413,
     "status": "ok",
     "timestamp": 1697098618273,
     "user": {
      "displayName": "Sumin Cho",
      "userId": "16162125883516553653"
     },
     "user_tz": -540
    },
    "id": "0S8xxkyybkjD",
    "outputId": "90e7a905-253a-4331-df51-44fad7b8ebbf"
   },
   "outputs": [
    {
     "name": "stdout",
     "output_type": "stream",
     "text": [
      "[INFO] Building the dataset...\n",
      "total_train_steps=138240\n",
      "warmup_steps=13824\n",
      "decay_steps=124416\n"
     ]
    }
   ],
   "source": [
    "# get image_paths and labels\n",
    "print(\"[INFO] Building the dataset...\")\n",
    "train_paths = bowel_train_data.image_path.values; train_labels = bowel_train_data[config.TARGET_COLS].values.astype(np.float32)\n",
    "valid_paths = bowel_val_data.image_path.values; valid_labels = bowel_val_data[config.TARGET_COLS].values.astype(np.float32)\n",
    "\n",
    "# train and valid dataset\n",
    "train_ds = build_dataset(image_paths=train_paths, labels=train_labels)\n",
    "val_ds = build_dataset(image_paths=valid_paths, labels=valid_labels)\n",
    "\n",
    "total_train_steps = train_ds.cardinality().numpy() * config.BATCH_SIZE * config.EPOCHS\n",
    "warmup_steps = int(total_train_steps * 0.10)\n",
    "decay_steps = total_train_steps - warmup_steps\n",
    "\n",
    "print(f\"{total_train_steps=}\")\n",
    "print(f\"{warmup_steps=}\")\n",
    "print(f\"{decay_steps=}\")"
   ]
  },
  {
   "cell_type": "code",
   "execution_count": null,
   "metadata": {
    "colab": {
     "background_save": true,
     "base_uri": "https://localhost:8080/"
    },
    "id": "v-SXywAyiX4b"
   },
   "outputs": [
    {
     "name": "stdout",
     "output_type": "stream",
     "text": [
      "[INFO] Building the bowel model...\n",
      "[INFO] Compiling the bowel model...\n",
      "Epoch 1/15\n",
      "\u001b[1m576/576\u001b[0m \u001b[32m━━━━━━━━━━━━━━━━━━━━\u001b[0m\u001b[37m\u001b[0m \u001b[1m1549s\u001b[0m 2s/step - accuracy: 0.9822 - loss: 0.0972 - val_accuracy: 0.5000 - val_loss: 3.6764\n",
      "Epoch 2/15\n",
      "\u001b[1m576/576\u001b[0m \u001b[32m━━━━━━━━━━━━━━━━━━━━\u001b[0m\u001b[37m\u001b[0m \u001b[1m327s\u001b[0m 566ms/step - accuracy: 0.8725 - loss: 0.5223 - val_accuracy: 0.5000 - val_loss: 3.6048\n",
      "Epoch 3/15\n",
      "\u001b[1m576/576\u001b[0m \u001b[32m━━━━━━━━━━━━━━━━━━━━\u001b[0m\u001b[37m\u001b[0m \u001b[1m327s\u001b[0m 566ms/step - accuracy: 0.8517 - loss: 0.4966 - val_accuracy: 0.5000 - val_loss: 3.9173\n",
      "Epoch 4/15\n",
      "\u001b[1m576/576\u001b[0m \u001b[32m━━━━━━━━━━━━━━━━━━━━\u001b[0m\u001b[37m\u001b[0m \u001b[1m327s\u001b[0m 566ms/step - accuracy: 0.8765 - loss: 0.4741 - val_accuracy: 0.5000 - val_loss: 3.5347\n",
      "Epoch 5/15\n",
      "\u001b[1m576/576\u001b[0m \u001b[32m━━━━━━━━━━━━━━━━━━━━\u001b[0m\u001b[37m\u001b[0m \u001b[1m327s\u001b[0m 565ms/step - accuracy: 0.8908 - loss: 0.4055 - val_accuracy: 0.5000 - val_loss: 3.3190\n",
      "Epoch 6/15\n",
      "\u001b[1m576/576\u001b[0m \u001b[32m━━━━━━━━━━━━━━━━━━━━\u001b[0m\u001b[37m\u001b[0m \u001b[1m327s\u001b[0m 565ms/step - accuracy: 0.8809 - loss: 0.4251 - val_accuracy: 0.5000 - val_loss: 3.3306\n",
      "Epoch 7/15\n",
      "\u001b[1m576/576\u001b[0m \u001b[32m━━━━━━━━━━━━━━━━━━━━\u001b[0m\u001b[37m\u001b[0m \u001b[1m326s\u001b[0m 564ms/step - accuracy: 0.8822 - loss: 0.4246 - val_accuracy: 0.5000 - val_loss: 3.4639\n",
      "Epoch 8/15\n",
      "\u001b[1m160/576\u001b[0m \u001b[32m━━━━━\u001b[0m\u001b[37m━━━━━━━━━━━━━━━\u001b[0m \u001b[1m3:38\u001b[0m 524ms/step - accuracy: 0.7523 - loss: 1.0480"
     ]
    }
   ],
   "source": [
    "# List of model names\n",
    "model_names = [\"bowel\"]\n",
    "\n",
    "# Create a 1x2 grid for the subplots\n",
    "fig, axes = plt.subplots(1, 2, figsize=(15, 5))\n",
    "\n",
    "# Flatten axes to iterate through them\n",
    "axes = axes.flatten()\n",
    "\n",
    "for i, name in enumerate(model_names):\n",
    "    # Build the model\n",
    "    if name in [\"bowel\"]:\n",
    "        model = build_binary_classification_model(warmup_steps, decay_steps, name)\n",
    "\n",
    "    # Train the model\n",
    "    history = model.fit(train_ds, epochs=config.EPOCHS, validation_data=val_ds)\n",
    "\n",
    "\n",
    "    # Plot training accuracy\n",
    "    axes[0].plot(history.history['accuracy'], label='Training ' + name)\n",
    "    # Plot validation accuracy\n",
    "    axes[1].plot(history.history['val_accuracy'], label='Validation ' + name)\n",
    "\n",
    "    axes[0].set_title(\"Training Accuracy\")\n",
    "    axes[1].set_title(\"Validation Accuracy\")\n",
    "    axes[0].set_xlabel('Epoch')\n",
    "    axes[1].set_xlabel('Epoch')\n",
    "    axes[0].set_ylabel('Accuracy')\n",
    "    axes[1].set_ylabel('Accuracy')\n",
    "    axes[0].legend()\n",
    "    axes[1].legend()\n",
    "\n",
    "    plt.tight_layout()\n",
    "    plt.show()"
   ]
  },
  {
   "cell_type": "code",
   "execution_count": null,
   "metadata": {
    "id": "Ws1_MWFCFA2a"
   },
   "outputs": [],
   "source": [
    "from tensorflow.keras.models import load_model"
   ]
  },
  {
   "cell_type": "code",
   "execution_count": null,
   "metadata": {
    "id": "r71ILfXZbq23"
   },
   "outputs": [],
   "source": [
    "# Save the model\n",
    "model.save(BASE_PATH + \"/bowel_v2_rsna.keras\")"
   ]
  },
  {
   "cell_type": "code",
   "execution_count": null,
   "metadata": {
    "colab": {
     "base_uri": "https://localhost:8080/",
     "height": 339
    },
    "executionInfo": {
     "elapsed": 469,
     "status": "error",
     "timestamp": 1696765085577,
     "user": {
      "displayName": "Sumin Cho",
      "userId": "16162125883516553653"
     },
     "user_tz": -540
    },
    "id": "m8ipcxCfEsia",
    "outputId": "f688abf6-5577-4b8d-f8c9-cf28623d3237"
   },
   "outputs": [
    {
     "ename": "OSError",
     "evalue": "ignored",
     "output_type": "error",
     "traceback": [
      "\u001b[0;31m---------------------------------------------------------------------------\u001b[0m",
      "\u001b[0;31mOSError\u001b[0m                                   Traceback (most recent call last)",
      "\u001b[0;32m<ipython-input-5-9d74cd9da2f1>\u001b[0m in \u001b[0;36m<cell line: 1>\u001b[0;34m()\u001b[0m\n\u001b[0;32m----> 1\u001b[0;31m \u001b[0mmodel\u001b[0m \u001b[0;34m=\u001b[0m \u001b[0mload_model\u001b[0m\u001b[0;34m(\u001b[0m\u001b[0mBASE_PATH\u001b[0m \u001b[0;34m+\u001b[0m \u001b[0;34m\"/bowel_rsna.keras\"\u001b[0m\u001b[0;34m)\u001b[0m\u001b[0;34m\u001b[0m\u001b[0;34m\u001b[0m\u001b[0m\n\u001b[0m\u001b[1;32m      2\u001b[0m \u001b[0mmodel\u001b[0m\u001b[0;34m.\u001b[0m\u001b[0msummary\u001b[0m\u001b[0;34m(\u001b[0m\u001b[0;34m)\u001b[0m\u001b[0;34m\u001b[0m\u001b[0;34m\u001b[0m\u001b[0m\n",
      "\u001b[0;32m/usr/local/lib/python3.10/dist-packages/keras/src/saving/saving_api.py\u001b[0m in \u001b[0;36mload_model\u001b[0;34m(filepath, custom_objects, compile, safe_mode, **kwargs)\u001b[0m\n\u001b[1;32m    236\u001b[0m \u001b[0;34m\u001b[0m\u001b[0m\n\u001b[1;32m    237\u001b[0m     \u001b[0;31m# Legacy case.\u001b[0m\u001b[0;34m\u001b[0m\u001b[0;34m\u001b[0m\u001b[0m\n\u001b[0;32m--> 238\u001b[0;31m     return legacy_sm_saving_lib.load_model(\n\u001b[0m\u001b[1;32m    239\u001b[0m         \u001b[0mfilepath\u001b[0m\u001b[0;34m,\u001b[0m \u001b[0mcustom_objects\u001b[0m\u001b[0;34m=\u001b[0m\u001b[0mcustom_objects\u001b[0m\u001b[0;34m,\u001b[0m \u001b[0mcompile\u001b[0m\u001b[0;34m=\u001b[0m\u001b[0mcompile\u001b[0m\u001b[0;34m,\u001b[0m \u001b[0;34m**\u001b[0m\u001b[0mkwargs\u001b[0m\u001b[0;34m\u001b[0m\u001b[0;34m\u001b[0m\u001b[0m\n\u001b[1;32m    240\u001b[0m     )\n",
      "\u001b[0;32m/usr/local/lib/python3.10/dist-packages/keras/src/utils/traceback_utils.py\u001b[0m in \u001b[0;36merror_handler\u001b[0;34m(*args, **kwargs)\u001b[0m\n\u001b[1;32m     68\u001b[0m             \u001b[0;31m# To get the full stack trace, call:\u001b[0m\u001b[0;34m\u001b[0m\u001b[0;34m\u001b[0m\u001b[0m\n\u001b[1;32m     69\u001b[0m             \u001b[0;31m# `tf.debugging.disable_traceback_filtering()`\u001b[0m\u001b[0;34m\u001b[0m\u001b[0;34m\u001b[0m\u001b[0m\n\u001b[0;32m---> 70\u001b[0;31m             \u001b[0;32mraise\u001b[0m \u001b[0me\u001b[0m\u001b[0;34m.\u001b[0m\u001b[0mwith_traceback\u001b[0m\u001b[0;34m(\u001b[0m\u001b[0mfiltered_tb\u001b[0m\u001b[0;34m)\u001b[0m \u001b[0;32mfrom\u001b[0m \u001b[0;32mNone\u001b[0m\u001b[0;34m\u001b[0m\u001b[0;34m\u001b[0m\u001b[0m\n\u001b[0m\u001b[1;32m     71\u001b[0m         \u001b[0;32mfinally\u001b[0m\u001b[0;34m:\u001b[0m\u001b[0;34m\u001b[0m\u001b[0;34m\u001b[0m\u001b[0m\n\u001b[1;32m     72\u001b[0m             \u001b[0;32mdel\u001b[0m \u001b[0mfiltered_tb\u001b[0m\u001b[0;34m\u001b[0m\u001b[0;34m\u001b[0m\u001b[0m\n",
      "\u001b[0;32m/usr/local/lib/python3.10/dist-packages/keras/src/saving/legacy/save.py\u001b[0m in \u001b[0;36mload_model\u001b[0;34m(filepath, custom_objects, compile, options)\u001b[0m\n\u001b[1;32m    232\u001b[0m                     \u001b[0;32mif\u001b[0m \u001b[0misinstance\u001b[0m\u001b[0;34m(\u001b[0m\u001b[0mfilepath_str\u001b[0m\u001b[0;34m,\u001b[0m \u001b[0mstr\u001b[0m\u001b[0;34m)\u001b[0m\u001b[0;34m:\u001b[0m\u001b[0;34m\u001b[0m\u001b[0;34m\u001b[0m\u001b[0m\n\u001b[1;32m    233\u001b[0m                         \u001b[0;32mif\u001b[0m \u001b[0;32mnot\u001b[0m \u001b[0mtf\u001b[0m\u001b[0;34m.\u001b[0m\u001b[0mio\u001b[0m\u001b[0;34m.\u001b[0m\u001b[0mgfile\u001b[0m\u001b[0;34m.\u001b[0m\u001b[0mexists\u001b[0m\u001b[0;34m(\u001b[0m\u001b[0mfilepath_str\u001b[0m\u001b[0;34m)\u001b[0m\u001b[0;34m:\u001b[0m\u001b[0;34m\u001b[0m\u001b[0;34m\u001b[0m\u001b[0m\n\u001b[0;32m--> 234\u001b[0;31m                             raise IOError(\n\u001b[0m\u001b[1;32m    235\u001b[0m                                 \u001b[0;34mf\"No file or directory found at {filepath_str}\"\u001b[0m\u001b[0;34m\u001b[0m\u001b[0;34m\u001b[0m\u001b[0m\n\u001b[1;32m    236\u001b[0m                             )\n",
      "\u001b[0;31mOSError\u001b[0m: No file or directory found at /content/drive/MyDrive/rsna-atd-512x512-png-v2-dataset/bowel_rsna.keras"
     ]
    }
   ],
   "source": [
    "model = load_model(BASE_PATH + \"/bowel_v2_rsna.keras\")\n",
    "model.summary()"
   ]
  },
  {
   "cell_type": "markdown",
   "metadata": {
    "id": "YpXCgIJYLkS9"
   },
   "source": [
    "## INFER"
   ]
  },
  {
   "cell_type": "code",
   "execution_count": null,
   "metadata": {
    "id": "9DmZdl_uFPBQ"
   },
   "outputs": [],
   "source": [
    "from google.colab import drive\n",
    "drive.mount('/content/drive')"
   ]
  },
  {
   "cell_type": "code",
   "execution_count": null,
   "metadata": {
    "id": "eCnm_Cn0LlQr"
   },
   "outputs": [],
   "source": [
    "class Config_Infer:\n",
    "    IMAGE_SIZE = [256, 256]\n",
    "    RESIZE_DIM = 256\n",
    "    BATCH_SIZE = 64\n",
    "    AUTOTUNE = tf.data.AUTOTUNE\n",
    "    TARGET_COLS  = [\"bowel_healthy\", \"bowel_injury\", \"extravasation_healthy\",\n",
    "                   \"extravasation_injury\", \"kidney_healthy\", \"kidney_low\",\n",
    "                   \"kidney_high\", \"liver_healthy\", \"liver_low\", \"liver_high\",\n",
    "                   \"spleen_healthy\", \"spleen_low\", \"spleen_high\"]\n",
    "\n",
    "config_infer = Config_Infer()"
   ]
  },
  {
   "cell_type": "code",
   "execution_count": null,
   "metadata": {
    "id": "h9WOsN0pLlym"
   },
   "outputs": [],
   "source": [
    "test_df = pd.read_csv(f\"{BASE_PATH}/test.csv\")\n",
    "\n",
    "test_df[\"image_path\"] = f\"{BASE_PATH}/test_images\"\\\n",
    "                    + \"/\" + test_df.patient_id.astype(str)\\\n",
    "                    + \"/\" + test_df.series_id.astype(str)\\\n",
    "                    + \"/\" + test_df.instance_number.astype(str) +\".png\"\n",
    "\n",
    "test_df.head(2)"
   ]
  },
  {
   "cell_type": "code",
   "execution_count": null,
   "metadata": {
    "id": "stiTH63YLqeT"
   },
   "outputs": [],
   "source": [
    "def decode_image_infer(image_path):\n",
    "    file_bytes = tf.io.read_file(image_path)\n",
    "    image = tf.io.decode_png(file_bytes, channels=3, dtype=tf.uint8)\n",
    "    image = tf.image.resize(image, config.IMAGE_SIZE, method=\"bilinear\")\n",
    "    image = tf.cast(image, tf.float32) / 255.0\n",
    "    return image\n",
    "\n",
    "def build_dataset_infer(image_paths):\n",
    "    ds = (\n",
    "        tf.data.Dataset.from_tensor_slices(image_paths)\n",
    "        .map(decode_image_infer, num_parallel_calls=config.AUTOTUNE)\n",
    "        .shuffle(config.BATCH_SIZE * 10)\n",
    "        .batch(config.BATCH_SIZE)\n",
    "        .prefetch(config.AUTOTUNE)\n",
    "    )\n",
    "    return ds"
   ]
  },
  {
   "cell_type": "code",
   "execution_count": null,
   "metadata": {
    "id": "KOld8BUdLvzl"
   },
   "outputs": [],
   "source": [
    "paths  = test_df.image_path.tolist()\n",
    "\n",
    "ds = build_dataset_infer(image_paths=paths)\n",
    "images = next(iter(ds))\n",
    "\n",
    "images.shape"
   ]
  },
  {
   "cell_type": "code",
   "execution_count": null,
   "metadata": {
    "id": "G7d4qcc7LyAn"
   },
   "outputs": [],
   "source": [
    "!pip install tqdm"
   ]
  },
  {
   "cell_type": "code",
   "execution_count": null,
   "metadata": {
    "id": "bgoCdJ5XL0S9"
   },
   "outputs": [],
   "source": [
    "from tqdm import tqdm\n",
    "import gc"
   ]
  },
  {
   "cell_type": "code",
   "execution_count": null,
   "metadata": {
    "id": "F2NpLjkoL1oI"
   },
   "outputs": [],
   "source": [
    "def post_proc(pred, binary_threshold=0.7):\n",
    "    proc_pred = np.empty((pred.shape[0], 2*2 + 3*3), dtype=\"float32\")\n",
    "\n",
    "    # bowel, extravasation\n",
    "    proc_pred[:, 0] = pred[:, 0] #if pred[:, 0] >= binary_threshold else np.mean(pred[:, 0])\n",
    "    proc_pred[:, 1] = 1 - proc_pred[:, 0]\n",
    "    proc_pred[:, 2] = pred[:, 1] #if pred[:, 1] >= binary_threshold else np.mean(pred[:, 1])\n",
    "    proc_pred[:, 3] = 1 - proc_pred[:, 2]\n",
    "\n",
    "    # liver, kidney, sneel\n",
    "    proc_pred[:, 4:7] = pred[:, 2:5]\n",
    "    proc_pred[:, 7:10] = pred[:, 5:8]\n",
    "    proc_pred[:, 10:13] = pred[:, 8:11]\n",
    "\n",
    "    return proc_pred"
   ]
  },
  {
   "cell_type": "code",
   "execution_count": null,
   "metadata": {
    "id": "aovGcnNTL3Vf"
   },
   "outputs": [],
   "source": [
    "# Getting unique patient IDs from test dataset\n",
    "patient_ids = test_df[\"patient_id\"].unique()\n",
    "\n",
    "# Initializing array to store predictions\n",
    "patient_preds = np.zeros(\n",
    "    shape=(len(patient_ids), 2*2 + 3*3),\n",
    "    dtype=\"float32\"\n",
    ")\n",
    "\n",
    "# Iterating over each patient\n",
    "for pidx, patient_id in tqdm(enumerate(patient_ids), total=len(patient_ids), desc=\"Patients \"):\n",
    "    print(f\"Patient ID: {patient_id}\")\n",
    "\n",
    "    # Query the dataframe for a particular patient\n",
    "    patient_df = test_df[test_df[\"patient_id\"] == patient_id]\n",
    "\n",
    "    # Getting image paths for a patient\n",
    "    patient_paths = patient_df.image_path.tolist()\n",
    "\n",
    "    # Building dataset for prediction\n",
    "    dtest = build_dataset_infer(patient_paths)\n",
    "\n",
    "    # Predicting with the model\n",
    "    pred = model.predict(dtest)\n",
    "    pred = np.concatenate(pred, axis=-1).astype(\"float32\")\n",
    "    pred = pred[:len(patient_paths), :]\n",
    "    pred = np.mean(pred.reshape(1, len(patient_paths), 11), axis=0)\n",
    "    pred = np.max(pred, axis=0, keepdims=True)\n",
    "\n",
    "    patient_preds[pidx, :] += post_proc(pred)[0]\n",
    "\n",
    "    print(patient_preds)\n",
    "\n",
    "    # Deleting variables to free up memory\n",
    "    del patient_df, patient_paths, dtest, pred; gc.collect()"
   ]
  },
  {
   "cell_type": "code",
   "execution_count": null,
   "metadata": {
    "id": "Rjp5xjUeL6xB"
   },
   "outputs": [],
   "source": []
  }
 ],
 "metadata": {
  "accelerator": "GPU",
  "colab": {
   "machine_shape": "hm",
   "name": "",
   "version": ""
  },
  "kernelspec": {
   "display_name": "Python 3 (ipykernel)",
   "language": "python",
   "name": "python3"
  },
  "language_info": {
   "codemirror_mode": {
    "name": "ipython",
    "version": 3
   },
   "file_extension": ".py",
   "mimetype": "text/x-python",
   "name": "python",
   "nbconvert_exporter": "python",
   "pygments_lexer": "ipython3",
   "version": "3.9.13"
  }
 },
 "nbformat": 4,
 "nbformat_minor": 1
}
