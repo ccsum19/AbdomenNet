{
 "cells": [
  {
   "cell_type": "code",
   "execution_count": 1,
   "metadata": {
    "colab": {
     "base_uri": "https://localhost:8080/"
    },
    "executionInfo": {
     "elapsed": 4310,
     "status": "ok",
     "timestamp": 1696753331850,
     "user": {
      "displayName": "Sumin Cho",
      "userId": "16162125883516553653"
     },
     "user_tz": -540
    },
    "id": "R-t51mhwVtzL",
    "outputId": "08002253-1ba3-4ad9-aa53-12bf2be94163"
   },
   "outputs": [
    {
     "name": "stdout",
     "output_type": "stream",
     "text": [
      "Requirement already satisfied: kaggle in /usr/local/lib/python3.10/dist-packages (1.5.16)\n",
      "Requirement already satisfied: six>=1.10 in /usr/local/lib/python3.10/dist-packages (from kaggle) (1.16.0)\n",
      "Requirement already satisfied: certifi in /usr/local/lib/python3.10/dist-packages (from kaggle) (2023.7.22)\n",
      "Requirement already satisfied: python-dateutil in /usr/local/lib/python3.10/dist-packages (from kaggle) (2.8.2)\n",
      "Requirement already satisfied: requests in /usr/local/lib/python3.10/dist-packages (from kaggle) (2.31.0)\n",
      "Requirement already satisfied: tqdm in /usr/local/lib/python3.10/dist-packages (from kaggle) (4.66.1)\n",
      "Requirement already satisfied: python-slugify in /usr/local/lib/python3.10/dist-packages (from kaggle) (8.0.1)\n",
      "Requirement already satisfied: urllib3 in /usr/local/lib/python3.10/dist-packages (from kaggle) (2.0.6)\n",
      "Requirement already satisfied: bleach in /usr/local/lib/python3.10/dist-packages (from kaggle) (6.0.0)\n",
      "Requirement already satisfied: webencodings in /usr/local/lib/python3.10/dist-packages (from bleach->kaggle) (0.5.1)\n",
      "Requirement already satisfied: text-unidecode>=1.3 in /usr/local/lib/python3.10/dist-packages (from python-slugify->kaggle) (1.3)\n",
      "Requirement already satisfied: charset-normalizer<4,>=2 in /usr/local/lib/python3.10/dist-packages (from requests->kaggle) (3.3.0)\n",
      "Requirement already satisfied: idna<4,>=2.5 in /usr/local/lib/python3.10/dist-packages (from requests->kaggle) (3.4)\n"
     ]
    }
   ],
   "source": [
    "!pip install kaggle"
   ]
  },
  {
   "cell_type": "code",
   "execution_count": 2,
   "metadata": {
    "colab": {
     "base_uri": "https://localhost:8080/"
    },
    "executionInfo": {
     "elapsed": 16779,
     "status": "ok",
     "timestamp": 1696753348623,
     "user": {
      "displayName": "Sumin Cho",
      "userId": "16162125883516553653"
     },
     "user_tz": -540
    },
    "id": "77ca2bFIc9rw",
    "outputId": "bc98c34a-ae0e-496f-c38d-c0a4e5f3f8b2"
   },
   "outputs": [
    {
     "name": "stdout",
     "output_type": "stream",
     "text": [
      "  Installing build dependencies ... \u001b[?25l\u001b[?25hdone\n",
      "  Getting requirements to build wheel ... \u001b[?25l\u001b[?25hdone\n",
      "  Preparing metadata (pyproject.toml) ... \u001b[?25l\u001b[?25hdone\n",
      "\u001b[2K     \u001b[90m━━━━━━━━━━━━━━━━━━━━━━━━━━━━━━━━━━━━━━\u001b[0m \u001b[32m950.8/950.8 kB\u001b[0m \u001b[31m11.1 MB/s\u001b[0m eta \u001b[36m0:00:00\u001b[0m\n",
      "\u001b[?25h  Building wheel for keras-cv (pyproject.toml) ... \u001b[?25l\u001b[?25hdone\n"
     ]
    }
   ],
   "source": [
    "! pip install -q git+https://github.com/keras-team/keras-cv"
   ]
  },
  {
   "cell_type": "code",
   "execution_count": 3,
   "metadata": {
    "colab": {
     "base_uri": "https://localhost:8080/"
    },
    "executionInfo": {
     "elapsed": 31634,
     "status": "ok",
     "timestamp": 1696753380252,
     "user": {
      "displayName": "Sumin Cho",
      "userId": "16162125883516553653"
     },
     "user_tz": -540
    },
    "id": "IlJKtstYV_94",
    "outputId": "7178385c-8300-413d-f427-64551535db5f"
   },
   "outputs": [
    {
     "name": "stdout",
     "output_type": "stream",
     "text": [
      "Mounted at /content/drive\n"
     ]
    }
   ],
   "source": [
    "# mount the drive\n",
    "from google.colab import drive\n",
    "drive.mount('/content/drive')"
   ]
  },
  {
   "cell_type": "code",
   "execution_count": 4,
   "metadata": {
    "colab": {
     "base_uri": "https://localhost:8080/"
    },
    "executionInfo": {
     "elapsed": 10128,
     "status": "ok",
     "timestamp": 1696753390375,
     "user": {
      "displayName": "Sumin Cho",
      "userId": "16162125883516553653"
     },
     "user_tz": -540
    },
    "id": "yQfATWvTWRDR",
    "outputId": "89aeb03a-c848-49df-aa52-bd26c91a6248"
   },
   "outputs": [
    {
     "name": "stdout",
     "output_type": "stream",
     "text": [
      "Using TensorFlow backend\n"
     ]
    }
   ],
   "source": [
    "import os\n",
    "# You can use `tensorflow`, `pytorch`, `jax` here\n",
    "# KerasCore makes the notebook backend agnostic :)\n",
    "os.environ[\"KERAS_BACKEND\"] = \"tensorflow\"\n",
    "\n",
    "import keras_cv\n",
    "import keras_core as keras\n",
    "from keras_core import layers\n",
    "\n",
    "import numpy as np\n",
    "import pandas as pd\n",
    "import tensorflow as tf\n",
    "from matplotlib import pyplot as plt\n",
    "from sklearn.model_selection import train_test_split"
   ]
  },
  {
   "cell_type": "markdown",
   "metadata": {
    "id": "zLLjuZYEYPDx"
   },
   "source": [
    "keras starter 기반으로 작성된 노트북"
   ]
  },
  {
   "cell_type": "markdown",
   "metadata": {
    "id": "23qYpUFeXnR-"
   },
   "source": [
    "Config"
   ]
  },
  {
   "cell_type": "code",
   "execution_count": 5,
   "metadata": {
    "executionInfo": {
     "elapsed": 3,
     "status": "ok",
     "timestamp": 1696753390375,
     "user": {
      "displayName": "Sumin Cho",
      "userId": "16162125883516553653"
     },
     "user_tz": -540
    },
    "id": "quybXx-6XvRJ"
   },
   "outputs": [],
   "source": [
    "class Config:\n",
    "    SEED = 42\n",
    "    IMAGE_SIZE = [512, 512]\n",
    "    BATCH_SIZE = 16\n",
    "    EPOCHS = 15\n",
    "    TARGET_COLS = [\n",
    "        \"spleen_healthy\", \"spleen_low\", \"spleen_high\"\n",
    "    ]\n",
    "    AUTOTUNE = tf.data.AUTOTUNE\n",
    "\n",
    "config = Config()"
   ]
  },
  {
   "cell_type": "code",
   "execution_count": 6,
   "metadata": {
    "executionInfo": {
     "elapsed": 3,
     "status": "ok",
     "timestamp": 1696753390376,
     "user": {
      "displayName": "Sumin Cho",
      "userId": "16162125883516553653"
     },
     "user_tz": -540
    },
    "id": "ezZWvE3xW6lm"
   },
   "outputs": [],
   "source": [
    "keras.utils.set_random_seed(seed=config.SEED)"
   ]
  },
  {
   "cell_type": "markdown",
   "metadata": {
    "id": "bDfeF7AYXyaa"
   },
   "source": [
    "Dataset"
   ]
  },
  {
   "cell_type": "code",
   "execution_count": 7,
   "metadata": {
    "executionInfo": {
     "elapsed": 3,
     "status": "ok",
     "timestamp": 1696753390376,
     "user": {
      "displayName": "Sumin Cho",
      "userId": "16162125883516553653"
     },
     "user_tz": -540
    },
    "id": "RsWnShauXrN5"
   },
   "outputs": [],
   "source": [
    "BASE_PATH = \"/content/drive/MyDrive/rsna-atd-512x512-png-v2-dataset\""
   ]
  },
  {
   "cell_type": "code",
   "execution_count": 8,
   "metadata": {
    "colab": {
     "base_uri": "https://localhost:8080/",
     "height": 196
    },
    "executionInfo": {
     "elapsed": 1260,
     "status": "ok",
     "timestamp": 1696753391633,
     "user": {
      "displayName": "Sumin Cho",
      "userId": "16162125883516553653"
     },
     "user_tz": -540
    },
    "id": "xLn5bi3fX5tP",
    "outputId": "3923f06c-6d1f-4959-ac3a-e057e1adf2cf"
   },
   "outputs": [
    {
     "data": {
      "text/html": [
       "\n",
       "  <div id=\"df-f63495df-098f-43f5-8a79-3c972ea56a0b\" class=\"colab-df-container\">\n",
       "    <div>\n",
       "<style scoped>\n",
       "    .dataframe tbody tr th:only-of-type {\n",
       "        vertical-align: middle;\n",
       "    }\n",
       "\n",
       "    .dataframe tbody tr th {\n",
       "        vertical-align: top;\n",
       "    }\n",
       "\n",
       "    .dataframe thead th {\n",
       "        text-align: right;\n",
       "    }\n",
       "</style>\n",
       "<table border=\"1\" class=\"dataframe\">\n",
       "  <thead>\n",
       "    <tr style=\"text-align: right;\">\n",
       "      <th></th>\n",
       "      <th>patient_id</th>\n",
       "      <th>bowel_healthy</th>\n",
       "      <th>bowel_injury</th>\n",
       "      <th>extravasation_healthy</th>\n",
       "      <th>extravasation_injury</th>\n",
       "      <th>kidney_healthy</th>\n",
       "      <th>kidney_low</th>\n",
       "      <th>kidney_high</th>\n",
       "      <th>liver_healthy</th>\n",
       "      <th>liver_low</th>\n",
       "      <th>...</th>\n",
       "      <th>spleen_healthy</th>\n",
       "      <th>spleen_low</th>\n",
       "      <th>spleen_high</th>\n",
       "      <th>any_injury</th>\n",
       "      <th>series_id</th>\n",
       "      <th>instance_number</th>\n",
       "      <th>injury_name</th>\n",
       "      <th>image_path</th>\n",
       "      <th>width</th>\n",
       "      <th>height</th>\n",
       "    </tr>\n",
       "  </thead>\n",
       "  <tbody>\n",
       "    <tr>\n",
       "      <th>0</th>\n",
       "      <td>10004</td>\n",
       "      <td>1</td>\n",
       "      <td>0</td>\n",
       "      <td>0</td>\n",
       "      <td>1</td>\n",
       "      <td>0</td>\n",
       "      <td>1</td>\n",
       "      <td>0</td>\n",
       "      <td>1</td>\n",
       "      <td>0</td>\n",
       "      <td>...</td>\n",
       "      <td>0</td>\n",
       "      <td>0</td>\n",
       "      <td>1</td>\n",
       "      <td>1</td>\n",
       "      <td>21057</td>\n",
       "      <td>362</td>\n",
       "      <td>Active_Extravasation</td>\n",
       "      <td>/content/drive/MyDrive/rsna-atd-512x512-png-v2...</td>\n",
       "      <td>512</td>\n",
       "      <td>512</td>\n",
       "    </tr>\n",
       "    <tr>\n",
       "      <th>1</th>\n",
       "      <td>10004</td>\n",
       "      <td>1</td>\n",
       "      <td>0</td>\n",
       "      <td>0</td>\n",
       "      <td>1</td>\n",
       "      <td>0</td>\n",
       "      <td>1</td>\n",
       "      <td>0</td>\n",
       "      <td>1</td>\n",
       "      <td>0</td>\n",
       "      <td>...</td>\n",
       "      <td>0</td>\n",
       "      <td>0</td>\n",
       "      <td>1</td>\n",
       "      <td>1</td>\n",
       "      <td>21057</td>\n",
       "      <td>363</td>\n",
       "      <td>Active_Extravasation</td>\n",
       "      <td>/content/drive/MyDrive/rsna-atd-512x512-png-v2...</td>\n",
       "      <td>512</td>\n",
       "      <td>512</td>\n",
       "    </tr>\n",
       "  </tbody>\n",
       "</table>\n",
       "<p>2 rows × 21 columns</p>\n",
       "</div>\n",
       "    <div class=\"colab-df-buttons\">\n",
       "\n",
       "  <div class=\"colab-df-container\">\n",
       "    <button class=\"colab-df-convert\" onclick=\"convertToInteractive('df-f63495df-098f-43f5-8a79-3c972ea56a0b')\"\n",
       "            title=\"Convert this dataframe to an interactive table.\"\n",
       "            style=\"display:none;\">\n",
       "\n",
       "  <svg xmlns=\"http://www.w3.org/2000/svg\" height=\"24px\" viewBox=\"0 -960 960 960\">\n",
       "    <path d=\"M120-120v-720h720v720H120Zm60-500h600v-160H180v160Zm220 220h160v-160H400v160Zm0 220h160v-160H400v160ZM180-400h160v-160H180v160Zm440 0h160v-160H620v160ZM180-180h160v-160H180v160Zm440 0h160v-160H620v160Z\"/>\n",
       "  </svg>\n",
       "    </button>\n",
       "\n",
       "  <style>\n",
       "    .colab-df-container {\n",
       "      display:flex;\n",
       "      gap: 12px;\n",
       "    }\n",
       "\n",
       "    .colab-df-convert {\n",
       "      background-color: #E8F0FE;\n",
       "      border: none;\n",
       "      border-radius: 50%;\n",
       "      cursor: pointer;\n",
       "      display: none;\n",
       "      fill: #1967D2;\n",
       "      height: 32px;\n",
       "      padding: 0 0 0 0;\n",
       "      width: 32px;\n",
       "    }\n",
       "\n",
       "    .colab-df-convert:hover {\n",
       "      background-color: #E2EBFA;\n",
       "      box-shadow: 0px 1px 2px rgba(60, 64, 67, 0.3), 0px 1px 3px 1px rgba(60, 64, 67, 0.15);\n",
       "      fill: #174EA6;\n",
       "    }\n",
       "\n",
       "    .colab-df-buttons div {\n",
       "      margin-bottom: 4px;\n",
       "    }\n",
       "\n",
       "    [theme=dark] .colab-df-convert {\n",
       "      background-color: #3B4455;\n",
       "      fill: #D2E3FC;\n",
       "    }\n",
       "\n",
       "    [theme=dark] .colab-df-convert:hover {\n",
       "      background-color: #434B5C;\n",
       "      box-shadow: 0px 1px 3px 1px rgba(0, 0, 0, 0.15);\n",
       "      filter: drop-shadow(0px 1px 2px rgba(0, 0, 0, 0.3));\n",
       "      fill: #FFFFFF;\n",
       "    }\n",
       "  </style>\n",
       "\n",
       "    <script>\n",
       "      const buttonEl =\n",
       "        document.querySelector('#df-f63495df-098f-43f5-8a79-3c972ea56a0b button.colab-df-convert');\n",
       "      buttonEl.style.display =\n",
       "        google.colab.kernel.accessAllowed ? 'block' : 'none';\n",
       "\n",
       "      async function convertToInteractive(key) {\n",
       "        const element = document.querySelector('#df-f63495df-098f-43f5-8a79-3c972ea56a0b');\n",
       "        const dataTable =\n",
       "          await google.colab.kernel.invokeFunction('convertToInteractive',\n",
       "                                                    [key], {});\n",
       "        if (!dataTable) return;\n",
       "\n",
       "        const docLinkHtml = 'Like what you see? Visit the ' +\n",
       "          '<a target=\"_blank\" href=https://colab.research.google.com/notebooks/data_table.ipynb>data table notebook</a>'\n",
       "          + ' to learn more about interactive tables.';\n",
       "        element.innerHTML = '';\n",
       "        dataTable['output_type'] = 'display_data';\n",
       "        await google.colab.output.renderOutput(dataTable, element);\n",
       "        const docLink = document.createElement('div');\n",
       "        docLink.innerHTML = docLinkHtml;\n",
       "        element.appendChild(docLink);\n",
       "      }\n",
       "    </script>\n",
       "  </div>\n",
       "\n",
       "\n",
       "<div id=\"df-0163c911-c3bb-4bdb-b586-d6efbadf15c9\">\n",
       "  <button class=\"colab-df-quickchart\" onclick=\"quickchart('df-0163c911-c3bb-4bdb-b586-d6efbadf15c9')\"\n",
       "            title=\"Suggest charts.\"\n",
       "            style=\"display:none;\">\n",
       "\n",
       "<svg xmlns=\"http://www.w3.org/2000/svg\" height=\"24px\"viewBox=\"0 0 24 24\"\n",
       "     width=\"24px\">\n",
       "    <g>\n",
       "        <path d=\"M19 3H5c-1.1 0-2 .9-2 2v14c0 1.1.9 2 2 2h14c1.1 0 2-.9 2-2V5c0-1.1-.9-2-2-2zM9 17H7v-7h2v7zm4 0h-2V7h2v10zm4 0h-2v-4h2v4z\"/>\n",
       "    </g>\n",
       "</svg>\n",
       "  </button>\n",
       "\n",
       "<style>\n",
       "  .colab-df-quickchart {\n",
       "      --bg-color: #E8F0FE;\n",
       "      --fill-color: #1967D2;\n",
       "      --hover-bg-color: #E2EBFA;\n",
       "      --hover-fill-color: #174EA6;\n",
       "      --disabled-fill-color: #AAA;\n",
       "      --disabled-bg-color: #DDD;\n",
       "  }\n",
       "\n",
       "  [theme=dark] .colab-df-quickchart {\n",
       "      --bg-color: #3B4455;\n",
       "      --fill-color: #D2E3FC;\n",
       "      --hover-bg-color: #434B5C;\n",
       "      --hover-fill-color: #FFFFFF;\n",
       "      --disabled-bg-color: #3B4455;\n",
       "      --disabled-fill-color: #666;\n",
       "  }\n",
       "\n",
       "  .colab-df-quickchart {\n",
       "    background-color: var(--bg-color);\n",
       "    border: none;\n",
       "    border-radius: 50%;\n",
       "    cursor: pointer;\n",
       "    display: none;\n",
       "    fill: var(--fill-color);\n",
       "    height: 32px;\n",
       "    padding: 0;\n",
       "    width: 32px;\n",
       "  }\n",
       "\n",
       "  .colab-df-quickchart:hover {\n",
       "    background-color: var(--hover-bg-color);\n",
       "    box-shadow: 0 1px 2px rgba(60, 64, 67, 0.3), 0 1px 3px 1px rgba(60, 64, 67, 0.15);\n",
       "    fill: var(--button-hover-fill-color);\n",
       "  }\n",
       "\n",
       "  .colab-df-quickchart-complete:disabled,\n",
       "  .colab-df-quickchart-complete:disabled:hover {\n",
       "    background-color: var(--disabled-bg-color);\n",
       "    fill: var(--disabled-fill-color);\n",
       "    box-shadow: none;\n",
       "  }\n",
       "\n",
       "  .colab-df-spinner {\n",
       "    border: 2px solid var(--fill-color);\n",
       "    border-color: transparent;\n",
       "    border-bottom-color: var(--fill-color);\n",
       "    animation:\n",
       "      spin 1s steps(1) infinite;\n",
       "  }\n",
       "\n",
       "  @keyframes spin {\n",
       "    0% {\n",
       "      border-color: transparent;\n",
       "      border-bottom-color: var(--fill-color);\n",
       "      border-left-color: var(--fill-color);\n",
       "    }\n",
       "    20% {\n",
       "      border-color: transparent;\n",
       "      border-left-color: var(--fill-color);\n",
       "      border-top-color: var(--fill-color);\n",
       "    }\n",
       "    30% {\n",
       "      border-color: transparent;\n",
       "      border-left-color: var(--fill-color);\n",
       "      border-top-color: var(--fill-color);\n",
       "      border-right-color: var(--fill-color);\n",
       "    }\n",
       "    40% {\n",
       "      border-color: transparent;\n",
       "      border-right-color: var(--fill-color);\n",
       "      border-top-color: var(--fill-color);\n",
       "    }\n",
       "    60% {\n",
       "      border-color: transparent;\n",
       "      border-right-color: var(--fill-color);\n",
       "    }\n",
       "    80% {\n",
       "      border-color: transparent;\n",
       "      border-right-color: var(--fill-color);\n",
       "      border-bottom-color: var(--fill-color);\n",
       "    }\n",
       "    90% {\n",
       "      border-color: transparent;\n",
       "      border-bottom-color: var(--fill-color);\n",
       "    }\n",
       "  }\n",
       "</style>\n",
       "\n",
       "  <script>\n",
       "    async function quickchart(key) {\n",
       "      const quickchartButtonEl =\n",
       "        document.querySelector('#' + key + ' button');\n",
       "      quickchartButtonEl.disabled = true;  // To prevent multiple clicks.\n",
       "      quickchartButtonEl.classList.add('colab-df-spinner');\n",
       "      try {\n",
       "        const charts = await google.colab.kernel.invokeFunction(\n",
       "            'suggestCharts', [key], {});\n",
       "      } catch (error) {\n",
       "        console.error('Error during call to suggestCharts:', error);\n",
       "      }\n",
       "      quickchartButtonEl.classList.remove('colab-df-spinner');\n",
       "      quickchartButtonEl.classList.add('colab-df-quickchart-complete');\n",
       "    }\n",
       "    (() => {\n",
       "      let quickchartButtonEl =\n",
       "        document.querySelector('#df-0163c911-c3bb-4bdb-b586-d6efbadf15c9 button');\n",
       "      quickchartButtonEl.style.display =\n",
       "        google.colab.kernel.accessAllowed ? 'block' : 'none';\n",
       "    })();\n",
       "  </script>\n",
       "</div>\n",
       "    </div>\n",
       "  </div>\n"
      ],
      "text/plain": [
       "   patient_id  bowel_healthy  bowel_injury  extravasation_healthy  \\\n",
       "0       10004              1             0                      0   \n",
       "1       10004              1             0                      0   \n",
       "\n",
       "   extravasation_injury  kidney_healthy  kidney_low  kidney_high  \\\n",
       "0                     1               0           1            0   \n",
       "1                     1               0           1            0   \n",
       "\n",
       "   liver_healthy  liver_low  ...  spleen_healthy  spleen_low  spleen_high  \\\n",
       "0              1          0  ...               0           0            1   \n",
       "1              1          0  ...               0           0            1   \n",
       "\n",
       "   any_injury  series_id  instance_number           injury_name  \\\n",
       "0           1      21057              362  Active_Extravasation   \n",
       "1           1      21057              363  Active_Extravasation   \n",
       "\n",
       "                                          image_path width  height  \n",
       "0  /content/drive/MyDrive/rsna-atd-512x512-png-v2...   512     512  \n",
       "1  /content/drive/MyDrive/rsna-atd-512x512-png-v2...   512     512  \n",
       "\n",
       "[2 rows x 21 columns]"
      ]
     },
     "execution_count": 8,
     "metadata": {},
     "output_type": "execute_result"
    }
   ],
   "source": [
    "# train\n",
    "dataframe = pd.read_csv(f\"{BASE_PATH}/train.csv\")\n",
    "dataframe[\"image_path\"] = f\"{BASE_PATH}/train_images\"\\\n",
    "                    + \"/\" + dataframe.patient_id.astype(str)\\\n",
    "                    + \"/\" + dataframe.series_id.astype(str)\\\n",
    "                    + \"/\" + dataframe.instance_number.astype(str) +\".png\"\n",
    "dataframe = dataframe.drop_duplicates()\n",
    "\n",
    "dataframe.head(2)"
   ]
  },
  {
   "cell_type": "code",
   "execution_count": 9,
   "metadata": {
    "executionInfo": {
     "elapsed": 8,
     "status": "ok",
     "timestamp": 1696753391633,
     "user": {
      "displayName": "Sumin Cho",
      "userId": "16162125883516553653"
     },
     "user_tz": -540
    },
    "id": "Nu9XchDNX-iv"
   },
   "outputs": [],
   "source": [
    "# Function to handle the split for each group\n",
    "def split_group(group, test_size=0.2):\n",
    "    if len(group) == 1:\n",
    "        return (group, pd.DataFrame()) if np.random.rand() < test_size else (pd.DataFrame(), group)\n",
    "    else:\n",
    "        return train_test_split(group, test_size=test_size, random_state=42)\n",
    "\n",
    "# Initialize the train and validation datasets\n",
    "train_data = pd.DataFrame()\n",
    "val_data = pd.DataFrame()\n",
    "\n",
    "# Iterate through the target columns and split them\n",
    "for label in Config.TARGET_COLS:\n",
    "    group = dataframe[dataframe[label] == 1]  # 해당 레이블에 해당하는 데이터만 선택\n",
    "    train_group, val_group = split_group(group)\n",
    "    train_data = pd.concat([train_data, train_group], ignore_index=True)\n",
    "    val_data = pd.concat([val_data, val_group], ignore_index=True)"
   ]
  },
  {
   "cell_type": "code",
   "execution_count": 10,
   "metadata": {
    "executionInfo": {
     "elapsed": 7,
     "status": "ok",
     "timestamp": 1696753391633,
     "user": {
      "displayName": "Sumin Cho",
      "userId": "16162125883516553653"
     },
     "user_tz": -540
    },
    "id": "lnGHaN1CYD0f"
   },
   "outputs": [],
   "source": [
    "def decode_image_and_label(image_path, label):\n",
    "    file_bytes = tf.io.read_file(image_path)\n",
    "    image = tf.io.decode_png(file_bytes, channels=3, dtype=tf.uint8)\n",
    "    image = tf.image.resize(image, config.IMAGE_SIZE, method=\"bilinear\")\n",
    "    image = tf.cast(image, tf.float32) / 255.0\n",
    "\n",
    "    label = tf.cast(label, tf.float32)\n",
    "\n",
    "    return (image, label)"
   ]
  },
  {
   "cell_type": "code",
   "execution_count": 11,
   "metadata": {
    "executionInfo": {
     "elapsed": 8,
     "status": "ok",
     "timestamp": 1696753391634,
     "user": {
      "displayName": "Sumin Cho",
      "userId": "16162125883516553653"
     },
     "user_tz": -540
    },
    "id": "eAL7PxEGYFaS"
   },
   "outputs": [],
   "source": [
    "# 레이어 외부에서 RandomFlip 레이어를 생성\n",
    "random_flip_layer = tf.keras.layers.experimental.preprocessing.RandomFlip(\"horizontal\")\n",
    "random_rotation_layer = tf.keras.layers.experimental.preprocessing.RandomRotation(0.2)\n",
    "\n",
    "class CustomAugmenter(tf.keras.layers.Layer):\n",
    "    def __init__(self, cutout_params, **kwargs):\n",
    "        super(CustomAugmenter, self).__init__(**kwargs)\n",
    "        self.cutout_layer = keras_cv.layers.Augmenter([keras_cv.layers.RandomCutout(**cutout_params)])\n",
    "\n",
    "    def call(self, inputs, training=None):\n",
    "        if training:\n",
    "            inputs = random_flip_layer(inputs)\n",
    "            inputs = random_rotation_layer(inputs)\n",
    "            inputs = self.cutout_layer(inputs)\n",
    "        return inputs\n",
    "\n",
    "def apply_augmentation(images, labels):\n",
    "    # 이미지 증강 파이프라인을 정의\n",
    "    augmenter = CustomAugmenter(cutout_params={\"height_factor\": 0.2, \"width_factor\": 0.2})\n",
    "\n",
    "    # 이미지 증강을 적용\n",
    "    augmented_images = augmenter(images, training=True)\n",
    "\n",
    "    return (augmented_images, labels)"
   ]
  },
  {
   "cell_type": "code",
   "execution_count": 12,
   "metadata": {
    "executionInfo": {
     "elapsed": 7,
     "status": "ok",
     "timestamp": 1696753391634,
     "user": {
      "displayName": "Sumin Cho",
      "userId": "16162125883516553653"
     },
     "user_tz": -540
    },
    "id": "kaybtZl8YG9s"
   },
   "outputs": [],
   "source": [
    "\n",
    "def build_dataset(image_paths, labels):\n",
    "    ds = (\n",
    "        tf.data.Dataset.from_tensor_slices((image_paths, labels))\n",
    "        .map(decode_image_and_label, num_parallel_calls=config.AUTOTUNE)\n",
    "        .shuffle(config.BATCH_SIZE * 10)\n",
    "        .batch(config.BATCH_SIZE)\n",
    "        .map(apply_augmentation, num_parallel_calls=config.AUTOTUNE)  # 이미지 증강 적용\n",
    "        .prefetch(config.AUTOTUNE)\n",
    "    )\n",
    "    return ds"
   ]
  },
  {
   "cell_type": "code",
   "execution_count": 13,
   "metadata": {
    "colab": {
     "base_uri": "https://localhost:8080/"
    },
    "executionInfo": {
     "elapsed": 36592,
     "status": "ok",
     "timestamp": 1696753428220,
     "user": {
      "displayName": "Sumin Cho",
      "userId": "16162125883516553653"
     },
     "user_tz": -540
    },
    "id": "HGjkekmCYI71",
    "outputId": "c58fba8d-0ed7-4191-fcf8-a30e8f55fc82"
   },
   "outputs": [
    {
     "data": {
      "text/plain": [
       "(TensorShape([16, 512, 512, 3]),\n",
       " [TensorShape([3]),\n",
       "  TensorShape([3]),\n",
       "  TensorShape([3]),\n",
       "  TensorShape([3]),\n",
       "  TensorShape([3]),\n",
       "  TensorShape([3]),\n",
       "  TensorShape([3]),\n",
       "  TensorShape([3]),\n",
       "  TensorShape([3]),\n",
       "  TensorShape([3]),\n",
       "  TensorShape([3]),\n",
       "  TensorShape([3]),\n",
       "  TensorShape([3]),\n",
       "  TensorShape([3]),\n",
       "  TensorShape([3]),\n",
       "  TensorShape([3])])"
      ]
     },
     "execution_count": 13,
     "metadata": {},
     "output_type": "execute_result"
    }
   ],
   "source": [
    "paths = dataframe.image_path.tolist()\n",
    "labels = dataframe[config.TARGET_COLS].values\n",
    "\n",
    "ds = build_dataset(image_paths=paths, labels=labels)\n",
    "images, labels = next(iter(ds))\n",
    "images.shape, [label.shape for label in labels]"
   ]
  },
  {
   "cell_type": "code",
   "execution_count": 14,
   "metadata": {
    "colab": {
     "base_uri": "https://localhost:8080/",
     "height": 797
    },
    "executionInfo": {
     "elapsed": 1208,
     "status": "ok",
     "timestamp": 1696753429409,
     "user": {
      "displayName": "Sumin Cho",
      "userId": "16162125883516553653"
     },
     "user_tz": -540
    },
    "id": "GUY-pZMPYK3z",
    "outputId": "a4f524c7-f78a-4c80-961c-acd831097101"
   },
   "outputs": [
    {
     "data": {
      "image/png": "[encoded data removed]",
      "text/plain": [
       "<Figure size 400x400 with 4 Axes>"
      ]
     },
     "execution_count": 14,
     "metadata": {},
     "output_type": "execute_result"
    },
    {
     "data": {
      "image/png": "[encoded data removed]",
      "text/plain": [
       "<Figure size 400x400 with 4 Axes>"
      ]
     },
     "metadata": {},
     "output_type": "display_data"
    }
   ],
   "source": [
    "keras_cv.visualization.plot_image_gallery(\n",
    "    images=images,\n",
    "    value_range=(0, 1),\n",
    "    rows=2,\n",
    "    cols=2,\n",
    ")"
   ]
  },
  {
   "cell_type": "markdown",
   "metadata": {
    "id": "rmcvaMvtbhyE"
   },
   "source": [
    "Model"
   ]
  },
  {
   "cell_type": "markdown",
   "metadata": {
    "id": "Ux1M9hViexZM"
   },
   "source": [
    "efficient Net"
   ]
  },
  {
   "cell_type": "code",
   "execution_count": 18,
   "metadata": {
    "executionInfo": {
     "elapsed": 811,
     "status": "ok",
     "timestamp": 1696753596458,
     "user": {
      "displayName": "Sumin Cho",
      "userId": "16162125883516553653"
     },
     "user_tz": -540
    },
    "id": "uQ5TczQBbTTa"
   },
   "outputs": [],
   "source": [
    "import tensorflow as tf\n",
    "from tensorflow import keras\n",
    "import keras_cv.models\n",
    "from keras.layers import GlobalAveragePooling2D, Dense\n",
    "\n",
    "def custom_model(warmup_steps, decay_steps):\n",
    "    # Define Input\n",
    "    inputs = keras.Input(shape=config.IMAGE_SIZE + [3,], batch_size=config.BATCH_SIZE)\n",
    "\n",
    "    # Define Backbone (InceptionV3 in this example)\n",
    "    backbone = keras.applications.InceptionV3(input_shape=(config.IMAGE_SIZE[0], config.IMAGE_SIZE[1], 3), include_top=False, weights='imagenet')\n",
    "    x = backbone(inputs)\n",
    "\n",
    "    # GAP to get the activation maps\n",
    "    gap = GlobalAveragePooling2D()\n",
    "    x = gap(x)\n",
    "\n",
    "    # Define 'necks' for each head\n",
    "    x_spleen = Dense(32, activation='relu')(x)\n",
    "\n",
    "    # Define head\n",
    "    out_spleen = Dense(3, name='spleen', activation='softmax')(x_spleen)\n",
    "\n",
    "    # Concatenate the outputs\n",
    "    outputs = [out_spleen]\n",
    "\n",
    "    # Create model\n",
    "    print(\"[INFO] Building the model...\")\n",
    "    model = keras.Model(inputs=inputs, outputs=outputs)\n",
    "\n",
    "    # Cosine Decay\n",
    "    cosine_decay = keras.optimizers.schedules.CosineDecay(\n",
    "        initial_learning_rate=1e-4,\n",
    "        decay_steps=decay_steps,\n",
    "        alpha=0.0,\n",
    "        warmup_target=1e-3,\n",
    "        warmup_steps=warmup_steps,\n",
    "    )\n",
    "\n",
    "    # Compile the model\n",
    "    optimizer = keras.optimizers.Adam(learning_rate=cosine_decay)\n",
    "    loss = {\n",
    "        \"spleen\": keras.losses.CategoricalCrossentropy()\n",
    "    }\n",
    "    metrics = {\n",
    "        \"spleen\": [\"accuracy\"]\n",
    "    }\n",
    "    print(\"[INFO] Compiling the model...\")\n",
    "    model.compile(\n",
    "        optimizer=optimizer,\n",
    "        loss=loss,\n",
    "        metrics=metrics\n",
    "    )\n",
    "\n",
    "    return model\n"
   ]
  },
  {
   "cell_type": "markdown",
   "metadata": {
    "id": "QHOb-3zPbmF0"
   },
   "source": [
    "Train"
   ]
  },
  {
   "cell_type": "code",
   "execution_count": 19,
   "metadata": {
    "colab": {
     "base_uri": "https://localhost:8080/"
    },
    "executionInfo": {
     "elapsed": 2441,
     "status": "ok",
     "timestamp": 1696753601894,
     "user": {
      "displayName": "Sumin Cho",
      "userId": "16162125883516553653"
     },
     "user_tz": -540
    },
    "id": "0S8xxkyybkjD",
    "outputId": "2245794f-7457-4d11-a33b-791f14583c96"
   },
   "outputs": [
    {
     "name": "stdout",
     "output_type": "stream",
     "text": [
      "[INFO] Building the dataset...\n",
      "total_train_steps=144480\n",
      "warmup_steps=14448\n",
      "decay_steps=130032\n"
     ]
    }
   ],
   "source": [
    "# get image_paths and labels\n",
    "print(\"[INFO] Building the dataset...\")\n",
    "train_paths = train_data.image_path.values; train_labels = train_data[config.TARGET_COLS].values.astype(np.float32)\n",
    "valid_paths = val_data.image_path.values; valid_labels = val_data[config.TARGET_COLS].values.astype(np.float32)\n",
    "\n",
    "# train and valid dataset\n",
    "train_ds = build_dataset(image_paths=train_paths, labels=train_labels)\n",
    "val_ds = build_dataset(image_paths=valid_paths, labels=valid_labels)\n",
    "\n",
    "total_train_steps = train_ds.cardinality().numpy() * config.BATCH_SIZE * config.EPOCHS\n",
    "warmup_steps = int(total_train_steps * 0.10)\n",
    "decay_steps = total_train_steps - warmup_steps\n",
    "\n",
    "print(f\"{total_train_steps=}\")\n",
    "print(f\"{warmup_steps=}\")\n",
    "print(f\"{decay_steps=}\")"
   ]
  },
  {
   "cell_type": "code",
   "execution_count": 20,
   "metadata": {
    "colab": {
     "base_uri": "https://localhost:8080/"
    },
    "executionInfo": {
     "elapsed": 3262427,
     "status": "ok",
     "timestamp": 1696756877239,
     "user": {
      "displayName": "Sumin Cho",
      "userId": "16162125883516553653"
     },
     "user_tz": -540
    },
    "id": "9Tr_YUzyHpvB",
    "outputId": "04f3f264-846b-428d-f37b-74440bbf470c"
   },
   "outputs": [
    {
     "name": "stdout",
     "output_type": "stream",
     "text": [
      "[INFO] Building the model...\n",
      "Downloading data from https://storage.googleapis.com/tensorflow/keras-applications/inception_v3/inception_v3_weights_tf_dim_ordering_tf_kernels_notop.h5\n",
      "87910968/87910968 [==============================] - 4s 0us/step\n",
      "[INFO] Building the model...\n",
      "[INFO] Compiling the model...\n",
      "[INFO] Training...\n",
      "Epoch 1/15\n",
      "602/602 [==============================] - 1125s 2s/step - loss: 0.1161 - accuracy: 0.9639 - val_loss: 16.1225 - val_accuracy: 0.1708\n",
      "Epoch 2/15\n",
      "602/602 [==============================] - 152s 251ms/step - loss: 0.2291 - accuracy: 0.9326 - val_loss: 16.4436 - val_accuracy: 0.1708\n",
      "Epoch 3/15\n",
      "602/602 [==============================] - 152s 251ms/step - loss: 0.1955 - accuracy: 0.9423 - val_loss: 7.3929 - val_accuracy: 0.1708\n",
      "Epoch 4/15\n",
      "602/602 [==============================] - 152s 251ms/step - loss: 0.2501 - accuracy: 0.9306 - val_loss: 12.6911 - val_accuracy: 0.1708\n",
      "Epoch 5/15\n",
      "602/602 [==============================] - 152s 251ms/step - loss: 0.2601 - accuracy: 0.9263 - val_loss: 2.7966 - val_accuracy: 0.1708\n",
      "Epoch 6/15\n",
      "602/602 [==============================] - 152s 250ms/step - loss: 0.2376 - accuracy: 0.9170 - val_loss: 3.9590 - val_accuracy: 0.1708\n",
      "Epoch 7/15\n",
      "602/602 [==============================] - 152s 251ms/step - loss: 0.2514 - accuracy: 0.9226 - val_loss: 76.2020 - val_accuracy: 0.1708\n",
      "Epoch 8/15\n",
      "602/602 [==============================] - 152s 251ms/step - loss: 0.2878 - accuracy: 0.9082 - val_loss: 4.0383 - val_accuracy: 0.1708\n",
      "Epoch 9/15\n",
      "602/602 [==============================] - 152s 250ms/step - loss: 0.3390 - accuracy: 0.8884 - val_loss: 1.8282 - val_accuracy: 0.1708\n",
      "Epoch 10/15\n",
      "602/602 [==============================] - 152s 251ms/step - loss: 0.2639 - accuracy: 0.9126 - val_loss: 2.2323 - val_accuracy: 0.1708\n",
      "Epoch 11/15\n",
      "602/602 [==============================] - 151s 250ms/step - loss: 0.3154 - accuracy: 0.8679 - val_loss: 665.5363 - val_accuracy: 0.1708\n",
      "Epoch 12/15\n",
      "602/602 [==============================] - 152s 250ms/step - loss: 0.2822 - accuracy: 0.8985 - val_loss: 1.8981 - val_accuracy: 0.1708\n",
      "Epoch 13/15\n",
      "602/602 [==============================] - 152s 250ms/step - loss: 0.2958 - accuracy: 0.8674 - val_loss: 72.4080 - val_accuracy: 0.1708\n",
      "Epoch 14/15\n",
      "602/602 [==============================] - 153s 252ms/step - loss: 0.2398 - accuracy: 0.9139 - val_loss: 2.1476 - val_accuracy: 0.1708\n",
      "Epoch 15/15\n",
      "602/602 [==============================] - 152s 251ms/step - loss: 0.2255 - accuracy: 0.9225 - val_loss: 3.5582 - val_accuracy: 0.1708\n"
     ]
    }
   ],
   "source": [
    "# build the model\n",
    "print(\"[INFO] Building the model...\")\n",
    "model = custom_model(warmup_steps, decay_steps)\n",
    "\n",
    "# train\n",
    "print(\"[INFO] Training...\")\n",
    "history = model.fit(\n",
    "    train_ds,\n",
    "    epochs=config.EPOCHS,\n",
    "    validation_data=val_ds,\n",
    ")"
   ]
  },
  {
   "cell_type": "code",
   "execution_count": 21,
   "metadata": {
    "colab": {
     "base_uri": "https://localhost:8080/",
     "height": 378
    },
    "executionInfo": {
     "elapsed": 949,
     "status": "ok",
     "timestamp": 1696756878166,
     "user": {
      "displayName": "Sumin Cho",
      "userId": "16162125883516553653"
     },
     "user_tz": -540
    },
    "id": "v-SXywAyiX4b",
    "outputId": "c36ce19f-6e6b-4782-e4c1-7f61b35f71d1"
   },
   "outputs": [
    {
     "data": {
      "image/png": "[encoded data removed]",
      "text/plain": [
       "<Figure size 1200x400 with 2 Axes>"
      ]
     },
     "metadata": {},
     "output_type": "display_data"
    }
   ],
   "source": [
    "import matplotlib.pyplot as plt\n",
    "\n",
    "# 훈련 및 검증 데이터의 accuracy와 loss를 가져오기\n",
    "train_accuracy = history.history['accuracy']\n",
    "val_accuracy = history.history['val_accuracy']\n",
    "train_loss = history.history['loss']\n",
    "val_loss = history.history['val_loss']\n",
    "\n",
    "# 그래프 생성\n",
    "plt.figure(figsize=(12, 4))\n",
    "\n",
    "# Accuracy 그래프\n",
    "plt.subplot(1, 2, 1)\n",
    "plt.plot(train_accuracy, label='Train Accuracy')\n",
    "plt.plot(val_accuracy, label='Validation Accuracy')\n",
    "plt.title('Accuracy')\n",
    "plt.xlabel('Epochs')\n",
    "plt.ylabel('Accuracy')\n",
    "plt.legend()\n",
    "\n",
    "# Loss 그래프\n",
    "plt.subplot(1, 2, 2)\n",
    "plt.plot(train_loss, label='Train Loss')\n",
    "plt.plot(val_loss, label='Validation Loss')\n",
    "plt.title('Loss')\n",
    "plt.xlabel('Epochs')\n",
    "plt.ylabel('Loss')\n",
    "plt.legend()\n",
    "\n",
    "# 그래프 표시\n",
    "plt.tight_layout()\n",
    "plt.show()\n"
   ]
  },
  {
   "cell_type": "code",
   "execution_count": 23,
   "metadata": {
    "executionInfo": {
     "elapsed": 2440,
     "status": "ok",
     "timestamp": 1696756923175,
     "user": {
      "displayName": "Sumin Cho",
      "userId": "16162125883516553653"
     },
     "user_tz": -540
    },
    "id": "r71ILfXZbq23"
   },
   "outputs": [],
   "source": [
    "# Save the model\n",
    "model.save(BASE_PATH + \"/spleen_rsna.keras\")"
   ]
  },
  {
   "cell_type": "markdown",
   "metadata": {
    "id": "YpXCgIJYLkS9"
   },
   "source": [
    "## INFER"
   ]
  },
  {
   "cell_type": "code",
   "execution_count": 24,
   "metadata": {
    "executionInfo": {
     "elapsed": 999,
     "status": "ok",
     "timestamp": 1696758957681,
     "user": {
      "displayName": "Sumin Cho",
      "userId": "16162125883516553653"
     },
     "user_tz": -540
    },
    "id": "eCnm_Cn0LlQr"
   },
   "outputs": [],
   "source": [
    "class Config_Infer:\n",
    "    IMAGE_SIZE = [256, 256]\n",
    "    RESIZE_DIM = 256\n",
    "    BATCH_SIZE = 64\n",
    "    AUTOTUNE = tf.data.AUTOTUNE\n",
    "    TARGET_COLS  = [\"bowel_healthy\", \"bowel_injury\", \"extravasation_healthy\",\n",
    "                   \"extravasation_injury\", \"kidney_healthy\", \"kidney_low\",\n",
    "                   \"kidney_high\", \"liver_healthy\", \"liver_low\", \"liver_high\",\n",
    "                   \"spleen_healthy\", \"spleen_low\", \"spleen_high\"]\n",
    "\n",
    "config_infer = Config_Infer()"
   ]
  },
  {
   "cell_type": "code",
   "execution_count": 25,
   "metadata": {
    "colab": {
     "base_uri": "https://localhost:8080/",
     "height": 112
    },
    "executionInfo": {
     "elapsed": 548,
     "status": "ok",
     "timestamp": 1696758958821,
     "user": {
      "displayName": "Sumin Cho",
      "userId": "16162125883516553653"
     },
     "user_tz": -540
    },
    "id": "h9WOsN0pLlym",
    "outputId": "b87b8dcf-83f9-4c0d-f1fd-28c26f837559"
   },
   "outputs": [
    {
     "data": {
      "text/html": [
       "\n",
       "  <div id=\"df-cce57321-389b-4456-9128-84af4b78ca6e\" class=\"colab-df-container\">\n",
       "    <div>\n",
       "<style scoped>\n",
       "    .dataframe tbody tr th:only-of-type {\n",
       "        vertical-align: middle;\n",
       "    }\n",
       "\n",
       "    .dataframe tbody tr th {\n",
       "        vertical-align: top;\n",
       "    }\n",
       "\n",
       "    .dataframe thead th {\n",
       "        text-align: right;\n",
       "    }\n",
       "</style>\n",
       "<table border=\"1\" class=\"dataframe\">\n",
       "  <thead>\n",
       "    <tr style=\"text-align: right;\">\n",
       "      <th></th>\n",
       "      <th>image_path</th>\n",
       "      <th>patient_id</th>\n",
       "      <th>series_id</th>\n",
       "      <th>instance_number</th>\n",
       "      <th>width</th>\n",
       "      <th>height</th>\n",
       "    </tr>\n",
       "  </thead>\n",
       "  <tbody>\n",
       "    <tr>\n",
       "      <th>0</th>\n",
       "      <td>/content/drive/MyDrive/rsna-atd-512x512-png-v2...</td>\n",
       "      <td>63706</td>\n",
       "      <td>39279</td>\n",
       "      <td>30</td>\n",
       "      <td>512</td>\n",
       "      <td>512</td>\n",
       "    </tr>\n",
       "    <tr>\n",
       "      <th>1</th>\n",
       "      <td>/content/drive/MyDrive/rsna-atd-512x512-png-v2...</td>\n",
       "      <td>50046</td>\n",
       "      <td>24574</td>\n",
       "      <td>30</td>\n",
       "      <td>512</td>\n",
       "      <td>512</td>\n",
       "    </tr>\n",
       "  </tbody>\n",
       "</table>\n",
       "</div>\n",
       "    <div class=\"colab-df-buttons\">\n",
       "\n",
       "  <div class=\"colab-df-container\">\n",
       "    <button class=\"colab-df-convert\" onclick=\"convertToInteractive('df-cce57321-389b-4456-9128-84af4b78ca6e')\"\n",
       "            title=\"Convert this dataframe to an interactive table.\"\n",
       "            style=\"display:none;\">\n",
       "\n",
       "  <svg xmlns=\"http://www.w3.org/2000/svg\" height=\"24px\" viewBox=\"0 -960 960 960\">\n",
       "    <path d=\"M120-120v-720h720v720H120Zm60-500h600v-160H180v160Zm220 220h160v-160H400v160Zm0 220h160v-160H400v160ZM180-400h160v-160H180v160Zm440 0h160v-160H620v160ZM180-180h160v-160H180v160Zm440 0h160v-160H620v160Z\"/>\n",
       "  </svg>\n",
       "    </button>\n",
       "\n",
       "  <style>\n",
       "    .colab-df-container {\n",
       "      display:flex;\n",
       "      gap: 12px;\n",
       "    }\n",
       "\n",
       "    .colab-df-convert {\n",
       "      background-color: #E8F0FE;\n",
       "      border: none;\n",
       "      border-radius: 50%;\n",
       "      cursor: pointer;\n",
       "      display: none;\n",
       "      fill: #1967D2;\n",
       "      height: 32px;\n",
       "      padding: 0 0 0 0;\n",
       "      width: 32px;\n",
       "    }\n",
       "\n",
       "    .colab-df-convert:hover {\n",
       "      background-color: #E2EBFA;\n",
       "      box-shadow: 0px 1px 2px rgba(60, 64, 67, 0.3), 0px 1px 3px 1px rgba(60, 64, 67, 0.15);\n",
       "      fill: #174EA6;\n",
       "    }\n",
       "\n",
       "    .colab-df-buttons div {\n",
       "      margin-bottom: 4px;\n",
       "    }\n",
       "\n",
       "    [theme=dark] .colab-df-convert {\n",
       "      background-color: #3B4455;\n",
       "      fill: #D2E3FC;\n",
       "    }\n",
       "\n",
       "    [theme=dark] .colab-df-convert:hover {\n",
       "      background-color: #434B5C;\n",
       "      box-shadow: 0px 1px 3px 1px rgba(0, 0, 0, 0.15);\n",
       "      filter: drop-shadow(0px 1px 2px rgba(0, 0, 0, 0.3));\n",
       "      fill: #FFFFFF;\n",
       "    }\n",
       "  </style>\n",
       "\n",
       "    <script>\n",
       "      const buttonEl =\n",
       "        document.querySelector('#df-cce57321-389b-4456-9128-84af4b78ca6e button.colab-df-convert');\n",
       "      buttonEl.style.display =\n",
       "        google.colab.kernel.accessAllowed ? 'block' : 'none';\n",
       "\n",
       "      async function convertToInteractive(key) {\n",
       "        const element = document.querySelector('#df-cce57321-389b-4456-9128-84af4b78ca6e');\n",
       "        const dataTable =\n",
       "          await google.colab.kernel.invokeFunction('convertToInteractive',\n",
       "                                                    [key], {});\n",
       "        if (!dataTable) return;\n",
       "\n",
       "        const docLinkHtml = 'Like what you see? Visit the ' +\n",
       "          '<a target=\"_blank\" href=https://colab.research.google.com/notebooks/data_table.ipynb>data table notebook</a>'\n",
       "          + ' to learn more about interactive tables.';\n",
       "        element.innerHTML = '';\n",
       "        dataTable['output_type'] = 'display_data';\n",
       "        await google.colab.output.renderOutput(dataTable, element);\n",
       "        const docLink = document.createElement('div');\n",
       "        docLink.innerHTML = docLinkHtml;\n",
       "        element.appendChild(docLink);\n",
       "      }\n",
       "    </script>\n",
       "  </div>\n",
       "\n",
       "\n",
       "<div id=\"df-6e05553a-9bbe-4820-ac64-de00370fe6e8\">\n",
       "  <button class=\"colab-df-quickchart\" onclick=\"quickchart('df-6e05553a-9bbe-4820-ac64-de00370fe6e8')\"\n",
       "            title=\"Suggest charts.\"\n",
       "            style=\"display:none;\">\n",
       "\n",
       "<svg xmlns=\"http://www.w3.org/2000/svg\" height=\"24px\"viewBox=\"0 0 24 24\"\n",
       "     width=\"24px\">\n",
       "    <g>\n",
       "        <path d=\"M19 3H5c-1.1 0-2 .9-2 2v14c0 1.1.9 2 2 2h14c1.1 0 2-.9 2-2V5c0-1.1-.9-2-2-2zM9 17H7v-7h2v7zm4 0h-2V7h2v10zm4 0h-2v-4h2v4z\"/>\n",
       "    </g>\n",
       "</svg>\n",
       "  </button>\n",
       "\n",
       "<style>\n",
       "  .colab-df-quickchart {\n",
       "      --bg-color: #E8F0FE;\n",
       "      --fill-color: #1967D2;\n",
       "      --hover-bg-color: #E2EBFA;\n",
       "      --hover-fill-color: #174EA6;\n",
       "      --disabled-fill-color: #AAA;\n",
       "      --disabled-bg-color: #DDD;\n",
       "  }\n",
       "\n",
       "  [theme=dark] .colab-df-quickchart {\n",
       "      --bg-color: #3B4455;\n",
       "      --fill-color: #D2E3FC;\n",
       "      --hover-bg-color: #434B5C;\n",
       "      --hover-fill-color: #FFFFFF;\n",
       "      --disabled-bg-color: #3B4455;\n",
       "      --disabled-fill-color: #666;\n",
       "  }\n",
       "\n",
       "  .colab-df-quickchart {\n",
       "    background-color: var(--bg-color);\n",
       "    border: none;\n",
       "    border-radius: 50%;\n",
       "    cursor: pointer;\n",
       "    display: none;\n",
       "    fill: var(--fill-color);\n",
       "    height: 32px;\n",
       "    padding: 0;\n",
       "    width: 32px;\n",
       "  }\n",
       "\n",
       "  .colab-df-quickchart:hover {\n",
       "    background-color: var(--hover-bg-color);\n",
       "    box-shadow: 0 1px 2px rgba(60, 64, 67, 0.3), 0 1px 3px 1px rgba(60, 64, 67, 0.15);\n",
       "    fill: var(--button-hover-fill-color);\n",
       "  }\n",
       "\n",
       "  .colab-df-quickchart-complete:disabled,\n",
       "  .colab-df-quickchart-complete:disabled:hover {\n",
       "    background-color: var(--disabled-bg-color);\n",
       "    fill: var(--disabled-fill-color);\n",
       "    box-shadow: none;\n",
       "  }\n",
       "\n",
       "  .colab-df-spinner {\n",
       "    border: 2px solid var(--fill-color);\n",
       "    border-color: transparent;\n",
       "    border-bottom-color: var(--fill-color);\n",
       "    animation:\n",
       "      spin 1s steps(1) infinite;\n",
       "  }\n",
       "\n",
       "  @keyframes spin {\n",
       "    0% {\n",
       "      border-color: transparent;\n",
       "      border-bottom-color: var(--fill-color);\n",
       "      border-left-color: var(--fill-color);\n",
       "    }\n",
       "    20% {\n",
       "      border-color: transparent;\n",
       "      border-left-color: var(--fill-color);\n",
       "      border-top-color: var(--fill-color);\n",
       "    }\n",
       "    30% {\n",
       "      border-color: transparent;\n",
       "      border-left-color: var(--fill-color);\n",
       "      border-top-color: var(--fill-color);\n",
       "      border-right-color: var(--fill-color);\n",
       "    }\n",
       "    40% {\n",
       "      border-color: transparent;\n",
       "      border-right-color: var(--fill-color);\n",
       "      border-top-color: var(--fill-color);\n",
       "    }\n",
       "    60% {\n",
       "      border-color: transparent;\n",
       "      border-right-color: var(--fill-color);\n",
       "    }\n",
       "    80% {\n",
       "      border-color: transparent;\n",
       "      border-right-color: var(--fill-color);\n",
       "      border-bottom-color: var(--fill-color);\n",
       "    }\n",
       "    90% {\n",
       "      border-color: transparent;\n",
       "      border-bottom-color: var(--fill-color);\n",
       "    }\n",
       "  }\n",
       "</style>\n",
       "\n",
       "  <script>\n",
       "    async function quickchart(key) {\n",
       "      const quickchartButtonEl =\n",
       "        document.querySelector('#' + key + ' button');\n",
       "      quickchartButtonEl.disabled = true;  // To prevent multiple clicks.\n",
       "      quickchartButtonEl.classList.add('colab-df-spinner');\n",
       "      try {\n",
       "        const charts = await google.colab.kernel.invokeFunction(\n",
       "            'suggestCharts', [key], {});\n",
       "      } catch (error) {\n",
       "        console.error('Error during call to suggestCharts:', error);\n",
       "      }\n",
       "      quickchartButtonEl.classList.remove('colab-df-spinner');\n",
       "      quickchartButtonEl.classList.add('colab-df-quickchart-complete');\n",
       "    }\n",
       "    (() => {\n",
       "      let quickchartButtonEl =\n",
       "        document.querySelector('#df-6e05553a-9bbe-4820-ac64-de00370fe6e8 button');\n",
       "      quickchartButtonEl.style.display =\n",
       "        google.colab.kernel.accessAllowed ? 'block' : 'none';\n",
       "    })();\n",
       "  </script>\n",
       "</div>\n",
       "    </div>\n",
       "  </div>\n"
      ],
      "text/plain": [
       "                                          image_path  patient_id  series_id  \\\n",
       "0  /content/drive/MyDrive/rsna-atd-512x512-png-v2...       63706      39279   \n",
       "1  /content/drive/MyDrive/rsna-atd-512x512-png-v2...       50046      24574   \n",
       "\n",
       "   instance_number  width  height  \n",
       "0               30    512     512  \n",
       "1               30    512     512  "
      ]
     },
     "execution_count": 25,
     "metadata": {},
     "output_type": "execute_result"
    }
   ],
   "source": [
    "test_df = pd.read_csv(f\"{BASE_PATH}/test.csv\")\n",
    "\n",
    "test_df[\"image_path\"] = f\"{BASE_PATH}/test_images\"\\\n",
    "                    + \"/\" + test_df.patient_id.astype(str)\\\n",
    "                    + \"/\" + test_df.series_id.astype(str)\\\n",
    "                    + \"/\" + test_df.instance_number.astype(str) +\".png\"\n",
    "\n",
    "test_df.head(2)"
   ]
  },
  {
   "cell_type": "code",
   "execution_count": 26,
   "metadata": {
    "executionInfo": {
     "elapsed": 3,
     "status": "ok",
     "timestamp": 1696758961150,
     "user": {
      "displayName": "Sumin Cho",
      "userId": "16162125883516553653"
     },
     "user_tz": -540
    },
    "id": "stiTH63YLqeT"
   },
   "outputs": [],
   "source": [
    "def decode_image_infer(image_path):\n",
    "    file_bytes = tf.io.read_file(image_path)\n",
    "    image = tf.io.decode_png(file_bytes, channels=3, dtype=tf.uint8)\n",
    "    image = tf.image.resize(image, config.IMAGE_SIZE, method=\"bilinear\")\n",
    "    image = tf.cast(image, tf.float32) / 255.0\n",
    "    return image\n",
    "\n",
    "def build_dataset_infer(image_paths):\n",
    "    ds = (\n",
    "        tf.data.Dataset.from_tensor_slices(image_paths)\n",
    "        .map(decode_image_infer, num_parallel_calls=config.AUTOTUNE)\n",
    "        .shuffle(config.BATCH_SIZE * 10)\n",
    "        .batch(config.BATCH_SIZE)\n",
    "        .prefetch(config.AUTOTUNE)\n",
    "    )\n",
    "    return ds"
   ]
  },
  {
   "cell_type": "code",
   "execution_count": 27,
   "metadata": {
    "colab": {
     "base_uri": "https://localhost:8080/"
    },
    "executionInfo": {
     "elapsed": 1615,
     "status": "ok",
     "timestamp": 1696758965609,
     "user": {
      "displayName": "Sumin Cho",
      "userId": "16162125883516553653"
     },
     "user_tz": -540
    },
    "id": "KOld8BUdLvzl",
    "outputId": "159ddbc1-d31f-44a8-9368-20555300b6e4"
   },
   "outputs": [
    {
     "data": {
      "text/plain": [
       "TensorShape([3, 512, 512, 3])"
      ]
     },
     "execution_count": 27,
     "metadata": {},
     "output_type": "execute_result"
    }
   ],
   "source": [
    "paths  = test_df.image_path.tolist()\n",
    "\n",
    "ds = build_dataset_infer(image_paths=paths)\n",
    "images = next(iter(ds))\n",
    "\n",
    "images.shape"
   ]
  },
  {
   "cell_type": "code",
   "execution_count": 28,
   "metadata": {
    "colab": {
     "base_uri": "https://localhost:8080/"
    },
    "executionInfo": {
     "elapsed": 3726,
     "status": "ok",
     "timestamp": 1696758969331,
     "user": {
      "displayName": "Sumin Cho",
      "userId": "16162125883516553653"
     },
     "user_tz": -540
    },
    "id": "G7d4qcc7LyAn",
    "outputId": "a8c0ab82-408e-42e3-ac17-a1e801aeb55b"
   },
   "outputs": [
    {
     "name": "stdout",
     "output_type": "stream",
     "text": [
      "Requirement already satisfied: tqdm in /usr/local/lib/python3.10/dist-packages (4.66.1)\n"
     ]
    }
   ],
   "source": [
    "!pip install tqdm"
   ]
  },
  {
   "cell_type": "code",
   "execution_count": null,
   "metadata": {
    "id": "bgoCdJ5XL0S9"
   },
   "outputs": [],
   "source": [
    "from tqdm import tqdm\n",
    "import gc"
   ]
  },
  {
   "cell_type": "code",
   "execution_count": 34,
   "metadata": {
    "colab": {
     "base_uri": "https://localhost:8080/"
    },
    "executionInfo": {
     "elapsed": 1598,
     "status": "ok",
     "timestamp": 1696759162971,
     "user": {
      "displayName": "Sumin Cho",
      "userId": "16162125883516553653"
     },
     "user_tz": -540
    },
    "id": "5OKRQxXFuhn7",
    "outputId": "13aa097c-e173-4f5d-ed0e-614a37ae612d"
   },
   "outputs": [
    {
     "name": "stdout",
     "output_type": "stream",
     "text": [
      "0.6.4\n"
     ]
    }
   ],
   "source": [
    "print(keras_cv.__version__)"
   ]
  },
  {
   "cell_type": "code",
   "execution_count": 33,
   "metadata": {
    "colab": {
     "base_uri": "https://localhost:8080/"
    },
    "executionInfo": {
     "elapsed": 3,
     "status": "ok",
     "timestamp": 1696759152309,
     "user": {
      "displayName": "Sumin Cho",
      "userId": "16162125883516553653"
     },
     "user_tz": -540
    },
    "id": "qxezyKG8uQAU",
    "outputId": "5eb3ef8b-8c69-4f52-d0c7-96cd4ff39843"
   },
   "outputs": [
    {
     "name": "stdout",
     "output_type": "stream",
     "text": [
      "2.13.0\n",
      "2.13.1\n",
      "3.9.0\n",
      "1.23.5\n"
     ]
    }
   ],
   "source": [
    "import tensorflow as tf\n",
    "print(tf.__version__)\n",
    "\n",
    "import keras\n",
    "print(keras.__version__)\n",
    "\n",
    "import h5py\n",
    "print(h5py.__version__)\n",
    "\n",
    "import numpy as np\n",
    "print(np.__version__)\n"
   ]
  },
  {
   "cell_type": "code",
   "execution_count": null,
   "metadata": {
    "id": "twX9iEx5uQ67"
   },
   "outputs": [],
   "source": []
  },
  {
   "cell_type": "code",
   "execution_count": 29,
   "metadata": {
    "executionInfo": {
     "elapsed": 2,
     "status": "ok",
     "timestamp": 1696758978053,
     "user": {
      "displayName": "Sumin Cho",
      "userId": "16162125883516553653"
     },
     "user_tz": -540
    },
    "id": "TctogzFpt0zd"
   },
   "outputs": [],
   "source": [
    "from tensorflow.keras.models import load_model"
   ]
  },
  {
   "cell_type": "code",
   "execution_count": 31,
   "metadata": {
    "colab": {
     "base_uri": "https://localhost:8080/"
    },
    "executionInfo": {
     "elapsed": 29285,
     "status": "ok",
     "timestamp": 1696759032676,
     "user": {
      "displayName": "Sumin Cho",
      "userId": "16162125883516553653"
     },
     "user_tz": -540
    },
    "id": "zNwehCsCt2QK",
    "outputId": "5f41fddc-e136-4aad-f1ca-75f171f753d8"
   },
   "outputs": [
    {
     "name": "stdout",
     "output_type": "stream",
     "text": [
      "Model: \"model\"\n",
      "_________________________________________________________________\n",
      " Layer (type)                Output Shape              Param #   \n",
      "=================================================================\n",
      " input_1 (InputLayer)        [(16, 512, 512, 3)]       0         \n",
      "                                                                 \n",
      " inception_v3 (Functional)   (None, 14, 14, 2048)      21802784  \n",
      "                                                                 \n",
      " global_average_pooling2d (  (16, 2048)                0         \n",
      " GlobalAveragePooling2D)                                         \n",
      "                                                                 \n",
      " dense_6 (Dense)             (16, 32)                  65568     \n",
      "                                                                 \n",
      " spleen (Dense)              (16, 3)                   99        \n",
      "                                                                 \n",
      "=================================================================\n",
      "Total params: 21868451 (83.42 MB)\n",
      "Trainable params: 21834019 (83.29 MB)\n",
      "Non-trainable params: 34432 (134.50 KB)\n",
      "_________________________________________________________________\n"
     ]
    }
   ],
   "source": [
    "bowel_model = load_model(BASE_PATH + \"/spleen_rsna.keras\")\n",
    "bowel_model.summary()"
   ]
  },
  {
   "cell_type": "code",
   "execution_count": null,
   "metadata": {
    "id": "F2NpLjkoL1oI"
   },
   "outputs": [],
   "source": [
    "def post_proc(pred, binary_threshold=0.7):\n",
    "    proc_pred = np.empty((pred.shape[0], 2*2 + 3*3), dtype=\"float32\")\n",
    "\n",
    "    # bowel, extravasation\n",
    "    proc_pred[:, 0] = pred[:, 0] #if pred[:, 0] >= binary_threshold else np.mean(pred[:, 0])\n",
    "    proc_pred[:, 1] = 1 - proc_pred[:, 0]\n",
    "    proc_pred[:, 2] = pred[:, 1] #if pred[:, 1] >= binary_threshold else np.mean(pred[:, 1])\n",
    "    proc_pred[:, 3] = 1 - proc_pred[:, 2]\n",
    "\n",
    "    # liver, kidney, sneel\n",
    "    proc_pred[:, 4:7] = pred[:, 2:5]\n",
    "    proc_pred[:, 7:10] = pred[:, 5:8]\n",
    "    proc_pred[:, 10:13] = pred[:, 8:11]\n",
    "\n",
    "    return proc_pred"
   ]
  },
  {
   "cell_type": "code",
   "execution_count": null,
   "metadata": {
    "id": "aovGcnNTL3Vf"
   },
   "outputs": [],
   "source": [
    "# Getting unique patient IDs from test dataset\n",
    "patient_ids = test_df[\"patient_id\"].unique()\n",
    "\n",
    "# Initializing array to store predictions\n",
    "patient_preds = np.zeros(\n",
    "    shape=(len(patient_ids), 2*2 + 3*3),\n",
    "    dtype=\"float32\"\n",
    ")\n",
    "\n",
    "# Iterating over each patient\n",
    "for pidx, patient_id in tqdm(enumerate(patient_ids), total=len(patient_ids), desc=\"Patients \"):\n",
    "    print(f\"Patient ID: {patient_id}\")\n",
    "\n",
    "    # Query the dataframe for a particular patient\n",
    "    patient_df = test_df[test_df[\"patient_id\"] == patient_id]\n",
    "\n",
    "    # Getting image paths for a patient\n",
    "    patient_paths = patient_df.image_path.tolist()\n",
    "\n",
    "    # Building dataset for prediction\n",
    "    dtest = build_dataset_infer(patient_paths)\n",
    "\n",
    "    # Predicting with the model\n",
    "    pred = model.predict(dtest)\n",
    "    pred = np.concatenate(pred, axis=-1).astype(\"float32\")\n",
    "    pred = pred[:len(patient_paths), :]\n",
    "    pred = np.mean(pred.reshape(1, len(patient_paths), 11), axis=0)\n",
    "    pred = np.max(pred, axis=0, keepdims=True)\n",
    "\n",
    "    patient_preds[pidx, :] += post_proc(pred)[0]\n",
    "\n",
    "    print(patient_preds)\n",
    "\n",
    "    # Deleting variables to free up memory\n",
    "    del patient_df, patient_paths, dtest, pred; gc.collect()"
   ]
  },
  {
   "cell_type": "code",
   "execution_count": null,
   "metadata": {
    "id": "Rjp5xjUeL6xB"
   },
   "outputs": [],
   "source": []
  }
 ],
 "metadata": {
  "accelerator": "GPU",
  "colab": {
   "gpuType": "V100",
   "machine_shape": "hm",
   "provenance": []
  },
  "kernelspec": {
   "display_name": "Python 3 (ipykernel)",
   "language": "python",
   "name": "python3"
  },
  "language_info": {
   "codemirror_mode": {
    "name": "ipython",
    "version": 3
   },
   "file_extension": ".py",
   "mimetype": "text/x-python",
   "name": "python",
   "nbconvert_exporter": "python",
   "pygments_lexer": "ipython3",
   "version": "3.9.13"
  }
 },
 "nbformat": 4,
 "nbformat_minor": 1
}
