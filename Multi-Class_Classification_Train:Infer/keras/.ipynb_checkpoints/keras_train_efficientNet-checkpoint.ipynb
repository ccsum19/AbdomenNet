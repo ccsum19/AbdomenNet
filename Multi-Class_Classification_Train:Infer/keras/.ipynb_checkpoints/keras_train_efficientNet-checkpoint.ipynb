{
 "cells": [
  {
   "cell_type": "code",
   "execution_count": 1,
   "metadata": {
    "colab": {
     "base_uri": "https://localhost:8080/"
    },
    "executionInfo": {
     "elapsed": 4530,
     "status": "ok",
     "timestamp": 1696327403861,
     "user": {
      "displayName": "potato kaggle",
      "userId": "05409133564111543032"
     },
     "user_tz": -540
    },
    "id": "R-t51mhwVtzL",
    "outputId": "0d9b274c-cdf0-44e9-9564-f4b2c14f606e"
   },
   "outputs": [
    {
     "name": "stdout",
     "output_type": "stream",
     "text": [
      "Requirement already satisfied: kaggle in /usr/local/lib/python3.10/dist-packages (1.5.16)\n",
      "Requirement already satisfied: six>=1.10 in /usr/local/lib/python3.10/dist-packages (from kaggle) (1.16.0)\n",
      "Requirement already satisfied: certifi in /usr/local/lib/python3.10/dist-packages (from kaggle) (2023.7.22)\n",
      "Requirement already satisfied: python-dateutil in /usr/local/lib/python3.10/dist-packages (from kaggle) (2.8.2)\n",
      "Requirement already satisfied: requests in /usr/local/lib/python3.10/dist-packages (from kaggle) (2.31.0)\n",
      "Requirement already satisfied: tqdm in /usr/local/lib/python3.10/dist-packages (from kaggle) (4.66.1)\n",
      "Requirement already satisfied: python-slugify in /usr/local/lib/python3.10/dist-packages (from kaggle) (8.0.1)\n",
      "Requirement already satisfied: urllib3 in /usr/local/lib/python3.10/dist-packages (from kaggle) (2.0.4)\n",
      "Requirement already satisfied: bleach in /usr/local/lib/python3.10/dist-packages (from kaggle) (6.0.0)\n",
      "Requirement already satisfied: webencodings in /usr/local/lib/python3.10/dist-packages (from bleach->kaggle) (0.5.1)\n",
      "Requirement already satisfied: text-unidecode>=1.3 in /usr/local/lib/python3.10/dist-packages (from python-slugify->kaggle) (1.3)\n",
      "Requirement already satisfied: charset-normalizer<4,>=2 in /usr/local/lib/python3.10/dist-packages (from requests->kaggle) (3.2.0)\n",
      "Requirement already satisfied: idna<4,>=2.5 in /usr/local/lib/python3.10/dist-packages (from requests->kaggle) (3.4)\n"
     ]
    }
   ],
   "source": [
    "!pip install kaggle"
   ]
  },
  {
   "cell_type": "code",
   "execution_count": 2,
   "metadata": {
    "colab": {
     "base_uri": "https://localhost:8080/"
    },
    "executionInfo": {
     "elapsed": 16920,
     "status": "ok",
     "timestamp": 1696327421250,
     "user": {
      "displayName": "potato kaggle",
      "userId": "05409133564111543032"
     },
     "user_tz": -540
    },
    "id": "77ca2bFIc9rw",
    "outputId": "24e6e702-9443-480c-d7b2-b03d4411d5d4"
   },
   "outputs": [
    {
     "name": "stdout",
     "output_type": "stream",
     "text": [
      "  Installing build dependencies ... \u001b[?25l\u001b[?25hdone\n",
      "  Getting requirements to build wheel ... \u001b[?25l\u001b[?25hdone\n",
      "  Preparing metadata (pyproject.toml) ... \u001b[?25l\u001b[?25hdone\n",
      "\u001b[2K     \u001b[90m━━━━━━━━━━━━━━━━━━━━━━━━━━━━━━━━━━━━━━\u001b[0m \u001b[32m950.8/950.8 kB\u001b[0m \u001b[31m12.2 MB/s\u001b[0m eta \u001b[36m0:00:00\u001b[0m\n",
      "\u001b[?25h  Building wheel for keras-cv (pyproject.toml) ... \u001b[?25l\u001b[?25hdone\n"
     ]
    }
   ],
   "source": [
    "! pip install -q git+https://github.com/keras-team/keras-cv"
   ]
  },
  {
   "cell_type": "code",
   "execution_count": 3,
   "metadata": {
    "colab": {
     "base_uri": "https://localhost:8080/"
    },
    "executionInfo": {
     "elapsed": 19691,
     "status": "ok",
     "timestamp": 1696327440935,
     "user": {
      "displayName": "potato kaggle",
      "userId": "05409133564111543032"
     },
     "user_tz": -540
    },
    "id": "IlJKtstYV_94",
    "outputId": "e2b2a4e8-5caf-4c96-d217-8ee31effcc5d"
   },
   "outputs": [
    {
     "name": "stdout",
     "output_type": "stream",
     "text": [
      "Mounted at /content/drive\n"
     ]
    }
   ],
   "source": [
    "# mount the drive\n",
    "from google.colab import drive\n",
    "drive.mount('/content/drive')"
   ]
  },
  {
   "cell_type": "code",
   "execution_count": 4,
   "metadata": {
    "colab": {
     "base_uri": "https://localhost:8080/"
    },
    "executionInfo": {
     "elapsed": 12466,
     "status": "ok",
     "timestamp": 1696327453399,
     "user": {
      "displayName": "potato kaggle",
      "userId": "05409133564111543032"
     },
     "user_tz": -540
    },
    "id": "yQfATWvTWRDR",
    "outputId": "d0b74c4d-d750-4525-db56-23cf7bfa9661"
   },
   "outputs": [
    {
     "name": "stdout",
     "output_type": "stream",
     "text": [
      "Using TensorFlow backend\n"
     ]
    }
   ],
   "source": [
    "import os\n",
    "# You can use `tensorflow`, `pytorch`, `jax` here\n",
    "# KerasCore makes the notebook backend agnostic :)\n",
    "os.environ[\"KERAS_BACKEND\"] = \"tensorflow\"\n",
    "\n",
    "import keras_cv\n",
    "import keras_core as keras\n",
    "from keras_core import layers\n",
    "\n",
    "import numpy as np\n",
    "import pandas as pd\n",
    "import tensorflow as tf\n",
    "from matplotlib import pyplot as plt\n",
    "from sklearn.model_selection import train_test_split"
   ]
  },
  {
   "cell_type": "markdown",
   "metadata": {
    "id": "zLLjuZYEYPDx"
   },
   "source": [
    "keras starter 기반으로 작성된 노트북"
   ]
  },
  {
   "cell_type": "markdown",
   "metadata": {
    "id": "23qYpUFeXnR-"
   },
   "source": [
    "Config"
   ]
  },
  {
   "cell_type": "code",
   "execution_count": 5,
   "metadata": {
    "executionInfo": {
     "elapsed": 15,
     "status": "ok",
     "timestamp": 1696327453399,
     "user": {
      "displayName": "potato kaggle",
      "userId": "05409133564111543032"
     },
     "user_tz": -540
    },
    "id": "quybXx-6XvRJ"
   },
   "outputs": [],
   "source": [
    "class Config:\n",
    "    SEED = 42\n",
    "    IMAGE_SIZE = [256, 256]\n",
    "    BATCH_SIZE = 64\n",
    "    EPOCHS = 10\n",
    "    TARGET_COLS = [\n",
    "        \"bowel_injury\", \"extravasation_injury\",\n",
    "        \"kidney_healthy\", \"kidney_low\", \"kidney_high\",\n",
    "        \"liver_healthy\", \"liver_low\", \"liver_high\",\n",
    "        \"spleen_healthy\", \"spleen_low\", \"spleen_high\",\n",
    "    ]\n",
    "    AUTOTUNE = tf.data.AUTOTUNE\n",
    "\n",
    "config = Config()"
   ]
  },
  {
   "cell_type": "code",
   "execution_count": 6,
   "metadata": {
    "executionInfo": {
     "elapsed": 14,
     "status": "ok",
     "timestamp": 1696327453399,
     "user": {
      "displayName": "potato kaggle",
      "userId": "05409133564111543032"
     },
     "user_tz": -540
    },
    "id": "ezZWvE3xW6lm"
   },
   "outputs": [],
   "source": [
    "keras.utils.set_random_seed(seed=config.SEED)"
   ]
  },
  {
   "cell_type": "markdown",
   "metadata": {
    "id": "bDfeF7AYXyaa"
   },
   "source": [
    "Dataset"
   ]
  },
  {
   "cell_type": "code",
   "execution_count": 7,
   "metadata": {
    "executionInfo": {
     "elapsed": 14,
     "status": "ok",
     "timestamp": 1696327453399,
     "user": {
      "displayName": "potato kaggle",
      "userId": "05409133564111543032"
     },
     "user_tz": -540
    },
    "id": "RsWnShauXrN5"
   },
   "outputs": [],
   "source": [
    "BASE_PATH = \"/content/drive/MyDrive/test/rsna-atd-512x512-png-v2-dataset\""
   ]
  },
  {
   "cell_type": "code",
   "execution_count": 8,
   "metadata": {
    "colab": {
     "base_uri": "https://localhost:8080/",
     "height": 196
    },
    "executionInfo": {
     "elapsed": 927,
     "status": "ok",
     "timestamp": 1696327454312,
     "user": {
      "displayName": "potato kaggle",
      "userId": "05409133564111543032"
     },
     "user_tz": -540
    },
    "id": "xLn5bi3fX5tP",
    "outputId": "d8d560cf-72a3-414f-ebb7-a0c8b8a437c1"
   },
   "outputs": [
    {
     "data": {
      "text/html": [
       "\n",
       "  <div id=\"df-4b44b55e-96f2-4419-b6ff-b659adc900a4\" class=\"colab-df-container\">\n",
       "    <div>\n",
       "<style scoped>\n",
       "    .dataframe tbody tr th:only-of-type {\n",
       "        vertical-align: middle;\n",
       "    }\n",
       "\n",
       "    .dataframe tbody tr th {\n",
       "        vertical-align: top;\n",
       "    }\n",
       "\n",
       "    .dataframe thead th {\n",
       "        text-align: right;\n",
       "    }\n",
       "</style>\n",
       "<table border=\"1\" class=\"dataframe\">\n",
       "  <thead>\n",
       "    <tr style=\"text-align: right;\">\n",
       "      <th></th>\n",
       "      <th>patient_id</th>\n",
       "      <th>bowel_healthy</th>\n",
       "      <th>bowel_injury</th>\n",
       "      <th>extravasation_healthy</th>\n",
       "      <th>extravasation_injury</th>\n",
       "      <th>kidney_healthy</th>\n",
       "      <th>kidney_low</th>\n",
       "      <th>kidney_high</th>\n",
       "      <th>liver_healthy</th>\n",
       "      <th>liver_low</th>\n",
       "      <th>...</th>\n",
       "      <th>spleen_healthy</th>\n",
       "      <th>spleen_low</th>\n",
       "      <th>spleen_high</th>\n",
       "      <th>any_injury</th>\n",
       "      <th>series_id</th>\n",
       "      <th>instance_number</th>\n",
       "      <th>injury_name</th>\n",
       "      <th>image_path</th>\n",
       "      <th>width</th>\n",
       "      <th>height</th>\n",
       "    </tr>\n",
       "  </thead>\n",
       "  <tbody>\n",
       "    <tr>\n",
       "      <th>0</th>\n",
       "      <td>10004</td>\n",
       "      <td>1</td>\n",
       "      <td>0</td>\n",
       "      <td>0</td>\n",
       "      <td>1</td>\n",
       "      <td>0</td>\n",
       "      <td>1</td>\n",
       "      <td>0</td>\n",
       "      <td>1</td>\n",
       "      <td>0</td>\n",
       "      <td>...</td>\n",
       "      <td>0</td>\n",
       "      <td>0</td>\n",
       "      <td>1</td>\n",
       "      <td>1</td>\n",
       "      <td>21057</td>\n",
       "      <td>362</td>\n",
       "      <td>Active_Extravasation</td>\n",
       "      <td>/content/drive/MyDrive/test/rsna-atd-512x512-p...</td>\n",
       "      <td>512</td>\n",
       "      <td>512</td>\n",
       "    </tr>\n",
       "    <tr>\n",
       "      <th>1</th>\n",
       "      <td>10004</td>\n",
       "      <td>1</td>\n",
       "      <td>0</td>\n",
       "      <td>0</td>\n",
       "      <td>1</td>\n",
       "      <td>0</td>\n",
       "      <td>1</td>\n",
       "      <td>0</td>\n",
       "      <td>1</td>\n",
       "      <td>0</td>\n",
       "      <td>...</td>\n",
       "      <td>0</td>\n",
       "      <td>0</td>\n",
       "      <td>1</td>\n",
       "      <td>1</td>\n",
       "      <td>21057</td>\n",
       "      <td>363</td>\n",
       "      <td>Active_Extravasation</td>\n",
       "      <td>/content/drive/MyDrive/test/rsna-atd-512x512-p...</td>\n",
       "      <td>512</td>\n",
       "      <td>512</td>\n",
       "    </tr>\n",
       "  </tbody>\n",
       "</table>\n",
       "<p>2 rows × 21 columns</p>\n",
       "</div>\n",
       "    <div class=\"colab-df-buttons\">\n",
       "\n",
       "  <div class=\"colab-df-container\">\n",
       "    <button class=\"colab-df-convert\" onclick=\"convertToInteractive('df-4b44b55e-96f2-4419-b6ff-b659adc900a4')\"\n",
       "            title=\"Convert this dataframe to an interactive table.\"\n",
       "            style=\"display:none;\">\n",
       "\n",
       "  <svg xmlns=\"http://www.w3.org/2000/svg\" height=\"24px\" viewBox=\"0 -960 960 960\">\n",
       "    <path d=\"M120-120v-720h720v720H120Zm60-500h600v-160H180v160Zm220 220h160v-160H400v160Zm0 220h160v-160H400v160ZM180-400h160v-160H180v160Zm440 0h160v-160H620v160ZM180-180h160v-160H180v160Zm440 0h160v-160H620v160Z\"/>\n",
       "  </svg>\n",
       "    </button>\n",
       "\n",
       "  <style>\n",
       "    .colab-df-container {\n",
       "      display:flex;\n",
       "      gap: 12px;\n",
       "    }\n",
       "\n",
       "    .colab-df-convert {\n",
       "      background-color: #E8F0FE;\n",
       "      border: none;\n",
       "      border-radius: 50%;\n",
       "      cursor: pointer;\n",
       "      display: none;\n",
       "      fill: #1967D2;\n",
       "      height: 32px;\n",
       "      padding: 0 0 0 0;\n",
       "      width: 32px;\n",
       "    }\n",
       "\n",
       "    .colab-df-convert:hover {\n",
       "      background-color: #E2EBFA;\n",
       "      box-shadow: 0px 1px 2px rgba(60, 64, 67, 0.3), 0px 1px 3px 1px rgba(60, 64, 67, 0.15);\n",
       "      fill: #174EA6;\n",
       "    }\n",
       "\n",
       "    .colab-df-buttons div {\n",
       "      margin-bottom: 4px;\n",
       "    }\n",
       "\n",
       "    [theme=dark] .colab-df-convert {\n",
       "      background-color: #3B4455;\n",
       "      fill: #D2E3FC;\n",
       "    }\n",
       "\n",
       "    [theme=dark] .colab-df-convert:hover {\n",
       "      background-color: #434B5C;\n",
       "      box-shadow: 0px 1px 3px 1px rgba(0, 0, 0, 0.15);\n",
       "      filter: drop-shadow(0px 1px 2px rgba(0, 0, 0, 0.3));\n",
       "      fill: #FFFFFF;\n",
       "    }\n",
       "  </style>\n",
       "\n",
       "    <script>\n",
       "      const buttonEl =\n",
       "        document.querySelector('#df-4b44b55e-96f2-4419-b6ff-b659adc900a4 button.colab-df-convert');\n",
       "      buttonEl.style.display =\n",
       "        google.colab.kernel.accessAllowed ? 'block' : 'none';\n",
       "\n",
       "      async function convertToInteractive(key) {\n",
       "        const element = document.querySelector('#df-4b44b55e-96f2-4419-b6ff-b659adc900a4');\n",
       "        const dataTable =\n",
       "          await google.colab.kernel.invokeFunction('convertToInteractive',\n",
       "                                                    [key], {});\n",
       "        if (!dataTable) return;\n",
       "\n",
       "        const docLinkHtml = 'Like what you see? Visit the ' +\n",
       "          '<a target=\"_blank\" href=https://colab.research.google.com/notebooks/data_table.ipynb>data table notebook</a>'\n",
       "          + ' to learn more about interactive tables.';\n",
       "        element.innerHTML = '';\n",
       "        dataTable['output_type'] = 'display_data';\n",
       "        await google.colab.output.renderOutput(dataTable, element);\n",
       "        const docLink = document.createElement('div');\n",
       "        docLink.innerHTML = docLinkHtml;\n",
       "        element.appendChild(docLink);\n",
       "      }\n",
       "    </script>\n",
       "  </div>\n",
       "\n",
       "\n",
       "<div id=\"df-c871b846-93d5-4fd5-93ef-68ee3d77bec3\">\n",
       "  <button class=\"colab-df-quickchart\" onclick=\"quickchart('df-c871b846-93d5-4fd5-93ef-68ee3d77bec3')\"\n",
       "            title=\"Suggest charts.\"\n",
       "            style=\"display:none;\">\n",
       "\n",
       "<svg xmlns=\"http://www.w3.org/2000/svg\" height=\"24px\"viewBox=\"0 0 24 24\"\n",
       "     width=\"24px\">\n",
       "    <g>\n",
       "        <path d=\"M19 3H5c-1.1 0-2 .9-2 2v14c0 1.1.9 2 2 2h14c1.1 0 2-.9 2-2V5c0-1.1-.9-2-2-2zM9 17H7v-7h2v7zm4 0h-2V7h2v10zm4 0h-2v-4h2v4z\"/>\n",
       "    </g>\n",
       "</svg>\n",
       "  </button>\n",
       "\n",
       "<style>\n",
       "  .colab-df-quickchart {\n",
       "      --bg-color: #E8F0FE;\n",
       "      --fill-color: #1967D2;\n",
       "      --hover-bg-color: #E2EBFA;\n",
       "      --hover-fill-color: #174EA6;\n",
       "      --disabled-fill-color: #AAA;\n",
       "      --disabled-bg-color: #DDD;\n",
       "  }\n",
       "\n",
       "  [theme=dark] .colab-df-quickchart {\n",
       "      --bg-color: #3B4455;\n",
       "      --fill-color: #D2E3FC;\n",
       "      --hover-bg-color: #434B5C;\n",
       "      --hover-fill-color: #FFFFFF;\n",
       "      --disabled-bg-color: #3B4455;\n",
       "      --disabled-fill-color: #666;\n",
       "  }\n",
       "\n",
       "  .colab-df-quickchart {\n",
       "    background-color: var(--bg-color);\n",
       "    border: none;\n",
       "    border-radius: 50%;\n",
       "    cursor: pointer;\n",
       "    display: none;\n",
       "    fill: var(--fill-color);\n",
       "    height: 32px;\n",
       "    padding: 0;\n",
       "    width: 32px;\n",
       "  }\n",
       "\n",
       "  .colab-df-quickchart:hover {\n",
       "    background-color: var(--hover-bg-color);\n",
       "    box-shadow: 0 1px 2px rgba(60, 64, 67, 0.3), 0 1px 3px 1px rgba(60, 64, 67, 0.15);\n",
       "    fill: var(--button-hover-fill-color);\n",
       "  }\n",
       "\n",
       "  .colab-df-quickchart-complete:disabled,\n",
       "  .colab-df-quickchart-complete:disabled:hover {\n",
       "    background-color: var(--disabled-bg-color);\n",
       "    fill: var(--disabled-fill-color);\n",
       "    box-shadow: none;\n",
       "  }\n",
       "\n",
       "  .colab-df-spinner {\n",
       "    border: 2px solid var(--fill-color);\n",
       "    border-color: transparent;\n",
       "    border-bottom-color: var(--fill-color);\n",
       "    animation:\n",
       "      spin 1s steps(1) infinite;\n",
       "  }\n",
       "\n",
       "  @keyframes spin {\n",
       "    0% {\n",
       "      border-color: transparent;\n",
       "      border-bottom-color: var(--fill-color);\n",
       "      border-left-color: var(--fill-color);\n",
       "    }\n",
       "    20% {\n",
       "      border-color: transparent;\n",
       "      border-left-color: var(--fill-color);\n",
       "      border-top-color: var(--fill-color);\n",
       "    }\n",
       "    30% {\n",
       "      border-color: transparent;\n",
       "      border-left-color: var(--fill-color);\n",
       "      border-top-color: var(--fill-color);\n",
       "      border-right-color: var(--fill-color);\n",
       "    }\n",
       "    40% {\n",
       "      border-color: transparent;\n",
       "      border-right-color: var(--fill-color);\n",
       "      border-top-color: var(--fill-color);\n",
       "    }\n",
       "    60% {\n",
       "      border-color: transparent;\n",
       "      border-right-color: var(--fill-color);\n",
       "    }\n",
       "    80% {\n",
       "      border-color: transparent;\n",
       "      border-right-color: var(--fill-color);\n",
       "      border-bottom-color: var(--fill-color);\n",
       "    }\n",
       "    90% {\n",
       "      border-color: transparent;\n",
       "      border-bottom-color: var(--fill-color);\n",
       "    }\n",
       "  }\n",
       "</style>\n",
       "\n",
       "  <script>\n",
       "    async function quickchart(key) {\n",
       "      const quickchartButtonEl =\n",
       "        document.querySelector('#' + key + ' button');\n",
       "      quickchartButtonEl.disabled = true;  // To prevent multiple clicks.\n",
       "      quickchartButtonEl.classList.add('colab-df-spinner');\n",
       "      try {\n",
       "        const charts = await google.colab.kernel.invokeFunction(\n",
       "            'suggestCharts', [key], {});\n",
       "      } catch (error) {\n",
       "        console.error('Error during call to suggestCharts:', error);\n",
       "      }\n",
       "      quickchartButtonEl.classList.remove('colab-df-spinner');\n",
       "      quickchartButtonEl.classList.add('colab-df-quickchart-complete');\n",
       "    }\n",
       "    (() => {\n",
       "      let quickchartButtonEl =\n",
       "        document.querySelector('#df-c871b846-93d5-4fd5-93ef-68ee3d77bec3 button');\n",
       "      quickchartButtonEl.style.display =\n",
       "        google.colab.kernel.accessAllowed ? 'block' : 'none';\n",
       "    })();\n",
       "  </script>\n",
       "</div>\n",
       "    </div>\n",
       "  </div>\n"
      ],
      "text/plain": [
       "   patient_id  bowel_healthy  bowel_injury  extravasation_healthy  \\\n",
       "0       10004              1             0                      0   \n",
       "1       10004              1             0                      0   \n",
       "\n",
       "   extravasation_injury  kidney_healthy  kidney_low  kidney_high  \\\n",
       "0                     1               0           1            0   \n",
       "1                     1               0           1            0   \n",
       "\n",
       "   liver_healthy  liver_low  ...  spleen_healthy  spleen_low  spleen_high  \\\n",
       "0              1          0  ...               0           0            1   \n",
       "1              1          0  ...               0           0            1   \n",
       "\n",
       "   any_injury  series_id  instance_number           injury_name  \\\n",
       "0           1      21057              362  Active_Extravasation   \n",
       "1           1      21057              363  Active_Extravasation   \n",
       "\n",
       "                                          image_path width  height  \n",
       "0  /content/drive/MyDrive/test/rsna-atd-512x512-p...   512     512  \n",
       "1  /content/drive/MyDrive/test/rsna-atd-512x512-p...   512     512  \n",
       "\n",
       "[2 rows x 21 columns]"
      ]
     },
     "execution_count": 8,
     "metadata": {},
     "output_type": "execute_result"
    }
   ],
   "source": [
    "# train\n",
    "dataframe = pd.read_csv(f\"{BASE_PATH}/train.csv\")\n",
    "dataframe[\"image_path\"] = f\"{BASE_PATH}/train_images\"\\\n",
    "                    + \"/\" + dataframe.patient_id.astype(str)\\\n",
    "                    + \"/\" + dataframe.series_id.astype(str)\\\n",
    "                    + \"/\" + dataframe.instance_number.astype(str) +\".png\"\n",
    "dataframe = dataframe.drop_duplicates()\n",
    "\n",
    "dataframe.head(2)"
   ]
  },
  {
   "cell_type": "code",
   "execution_count": 9,
   "metadata": {
    "executionInfo": {
     "elapsed": 5,
     "status": "ok",
     "timestamp": 1696327454312,
     "user": {
      "displayName": "potato kaggle",
      "userId": "05409133564111543032"
     },
     "user_tz": -540
    },
    "id": "Nu9XchDNX-iv"
   },
   "outputs": [],
   "source": [
    "# Function to handle the split for each group\n",
    "def split_group(group, test_size=0.2):\n",
    "    if len(group) == 1:\n",
    "        return (group, pd.DataFrame()) if np.random.rand() < test_size else (pd.DataFrame(), group)\n",
    "    else:\n",
    "        return train_test_split(group, test_size=test_size, random_state=42)\n",
    "\n",
    "# Initialize the train and validation datasets\n",
    "train_data = pd.DataFrame()\n",
    "val_data = pd.DataFrame()\n",
    "\n",
    "# Iterate through the groups and split them, handling single-sample groups\n",
    "for _, group in dataframe.groupby(config.TARGET_COLS):\n",
    "    train_group, val_group = split_group(group)\n",
    "    train_data = pd.concat([train_data, train_group], ignore_index=True)\n",
    "    val_data = pd.concat([val_data, val_group], ignore_index=True)"
   ]
  },
  {
   "cell_type": "code",
   "execution_count": 10,
   "metadata": {
    "colab": {
     "base_uri": "https://localhost:8080/"
    },
    "executionInfo": {
     "elapsed": 4,
     "status": "ok",
     "timestamp": 1696327454312,
     "user": {
      "displayName": "potato kaggle",
      "userId": "05409133564111543032"
     },
     "user_tz": -540
    },
    "id": "jtbt681pYCLo",
    "outputId": "12fd4442-1d1a-431b-8676-e6a08da23348"
   },
   "outputs": [
    {
     "data": {
      "text/plain": [
       "((9612, 21), (2417, 21))"
      ]
     },
     "execution_count": 10,
     "metadata": {},
     "output_type": "execute_result"
    }
   ],
   "source": [
    "train_data.shape, val_data.shape"
   ]
  },
  {
   "cell_type": "code",
   "execution_count": 11,
   "metadata": {
    "executionInfo": {
     "elapsed": 3,
     "status": "ok",
     "timestamp": 1696327454312,
     "user": {
      "displayName": "potato kaggle",
      "userId": "05409133564111543032"
     },
     "user_tz": -540
    },
    "id": "lnGHaN1CYD0f"
   },
   "outputs": [],
   "source": [
    "def decode_image_and_label(image_path, label):\n",
    "    file_bytes = tf.io.read_file(image_path)\n",
    "    image = tf.io.decode_png(file_bytes, channels=3, dtype=tf.uint8)\n",
    "    image = tf.image.resize(image, config.IMAGE_SIZE, method=\"bilinear\")\n",
    "    image = tf.cast(image, tf.float32) / 255.0\n",
    "\n",
    "    label = tf.cast(label, tf.float32)\n",
    "    labels = (label[0:1], label[1:2], label[2:5], label[5:8], label[8:11])\n",
    "\n",
    "    return (image, labels)"
   ]
  },
  {
   "cell_type": "code",
   "execution_count": 12,
   "metadata": {
    "executionInfo": {
     "elapsed": 3,
     "status": "ok",
     "timestamp": 1696327454312,
     "user": {
      "displayName": "potato kaggle",
      "userId": "05409133564111543032"
     },
     "user_tz": -540
    },
    "id": "eAL7PxEGYFaS"
   },
   "outputs": [],
   "source": [
    "import tensorflow as tf\n",
    "import keras_cv.layers\n",
    "\n",
    "# 레이어 외부에서 RandomFlip 레이어를 생성\n",
    "random_flip_layer = tf.keras.layers.experimental.preprocessing.RandomFlip(\"horizontal\")\n",
    "random_rotation_layer = tf.keras.layers.experimental.preprocessing.RandomRotation(0.2)\n",
    "\n",
    "class CustomAugmenter(tf.keras.layers.Layer):\n",
    "    def __init__(self, cutout_params, **kwargs):\n",
    "        super(CustomAugmenter, self).__init__(**kwargs)\n",
    "        self.cutout_layer = keras_cv.layers.Augmenter([keras_cv.layers.RandomCutout(**cutout_params)])\n",
    "\n",
    "    def call(self, inputs, training=None):\n",
    "        if training:\n",
    "            inputs = random_flip_layer(inputs)\n",
    "            inputs = random_rotation_layer(inputs)\n",
    "            inputs = self.cutout_layer(inputs)\n",
    "        return inputs\n",
    "\n",
    "def apply_augmentation(images, labels):\n",
    "    # 이미지 증강 파이프라인을 정의합니다.\n",
    "    augmenter = CustomAugmenter(cutout_params={\"height_factor\": 0.2, \"width_factor\": 0.2})\n",
    "\n",
    "    # 이미지 증강을 적용합니다.\n",
    "    augmented_images = augmenter(images, training=True)\n",
    "\n",
    "\n",
    "    return (augmented_images, labels)\n"
   ]
  },
  {
   "cell_type": "code",
   "execution_count": 13,
   "metadata": {
    "executionInfo": {
     "elapsed": 3,
     "status": "ok",
     "timestamp": 1696327454312,
     "user": {
      "displayName": "potato kaggle",
      "userId": "05409133564111543032"
     },
     "user_tz": -540
    },
    "id": "kaybtZl8YG9s"
   },
   "outputs": [],
   "source": [
    "\n",
    "def build_dataset(image_paths, labels):\n",
    "    ds = (\n",
    "        tf.data.Dataset.from_tensor_slices((image_paths, labels))\n",
    "        .map(decode_image_and_label, num_parallel_calls=config.AUTOTUNE)\n",
    "        .shuffle(config.BATCH_SIZE * 10)\n",
    "        .batch(config.BATCH_SIZE)\n",
    "        .map(apply_augmentation, num_parallel_calls=config.AUTOTUNE)  # 이미지 증강 적용\n",
    "        .prefetch(config.AUTOTUNE)\n",
    "    )\n",
    "    return ds"
   ]
  },
  {
   "cell_type": "code",
   "execution_count": 14,
   "metadata": {
    "colab": {
     "base_uri": "https://localhost:8080/"
    },
    "executionInfo": {
     "elapsed": 42093,
     "status": "ok",
     "timestamp": 1696327496403,
     "user": {
      "displayName": "potato kaggle",
      "userId": "05409133564111543032"
     },
     "user_tz": -540
    },
    "id": "HGjkekmCYI71",
    "outputId": "19f0aa23-b9b6-4008-c039-e03117c85276"
   },
   "outputs": [
    {
     "data": {
      "text/plain": [
       "(TensorShape([64, 256, 256, 3]),\n",
       " [TensorShape([64, 1]),\n",
       "  TensorShape([64, 1]),\n",
       "  TensorShape([64, 3]),\n",
       "  TensorShape([64, 3]),\n",
       "  TensorShape([64, 3])])"
      ]
     },
     "execution_count": 14,
     "metadata": {},
     "output_type": "execute_result"
    }
   ],
   "source": [
    "paths = train_data.image_path.tolist()\n",
    "labels = train_data[config.TARGET_COLS].values\n",
    "\n",
    "ds = build_dataset(image_paths=paths, labels=labels)\n",
    "images, labels = next(iter(ds))\n",
    "images.shape, [label.shape for label in labels]"
   ]
  },
  {
   "cell_type": "code",
   "execution_count": 15,
   "metadata": {
    "colab": {
     "base_uri": "https://localhost:8080/",
     "height": 797
    },
    "executionInfo": {
     "elapsed": 983,
     "status": "ok",
     "timestamp": 1696327497377,
     "user": {
      "displayName": "potato kaggle",
      "userId": "05409133564111543032"
     },
     "user_tz": -540
    },
    "id": "GUY-pZMPYK3z",
    "outputId": "93fb6cd0-d994-40e4-efd7-ba2f0033ba31"
   },
   "outputs": [
    {
     "data": {
      "image/png": "[encoded data removed]",
      "text/plain": [
       "<Figure size 400x400 with 4 Axes>"
      ]
     },
     "execution_count": 15,
     "metadata": {},
     "output_type": "execute_result"
    },
    {
     "data": {
      "image/png": "[encoded data removed]",
      "text/plain": [
       "<Figure size 400x400 with 4 Axes>"
      ]
     },
     "metadata": {},
     "output_type": "display_data"
    }
   ],
   "source": [
    "keras_cv.visualization.plot_image_gallery(\n",
    "    images=images,\n",
    "    value_range=(0, 1),\n",
    "    rows=2,\n",
    "    cols=2,\n",
    ")"
   ]
  },
  {
   "cell_type": "markdown",
   "metadata": {
    "id": "rmcvaMvtbhyE"
   },
   "source": [
    "Model"
   ]
  },
  {
   "cell_type": "markdown",
   "metadata": {
    "id": "Ux1M9hViexZM"
   },
   "source": [
    "efficient Net"
   ]
  },
  {
   "cell_type": "code",
   "execution_count": 16,
   "metadata": {
    "colab": {
     "base_uri": "https://localhost:8080/"
    },
    "executionInfo": {
     "elapsed": 3714,
     "status": "ok",
     "timestamp": 1696327501084,
     "user": {
      "displayName": "potato kaggle",
      "userId": "05409133564111543032"
     },
     "user_tz": -540
    },
    "id": "SZzGkJ4wOpa3",
    "outputId": "2f335b51-e17e-424e-ade3-91a3daaf9f57"
   },
   "outputs": [
    {
     "name": "stdout",
     "output_type": "stream",
     "text": [
      "Collecting keras_efficientnet\n",
      "  Downloading keras_efficientnet-0.1.4-py3-none-any.whl (17 kB)\n",
      "Installing collected packages: keras_efficientnet\n",
      "Successfully installed keras_efficientnet-0.1.4\n"
     ]
    }
   ],
   "source": [
    "!pip install keras_efficientnet"
   ]
  },
  {
   "cell_type": "code",
   "execution_count": 17,
   "metadata": {
    "executionInfo": {
     "elapsed": 14,
     "status": "ok",
     "timestamp": 1696327501084,
     "user": {
      "displayName": "potato kaggle",
      "userId": "05409133564111543032"
     },
     "user_tz": -540
    },
    "id": "uQ5TczQBbTTa"
   },
   "outputs": [],
   "source": [
    "import tensorflow as tf\n",
    "from tensorflow import keras\n",
    "from tensorflow.keras.applications import EfficientNetB0  # Use the desired version of EfficientNet\n",
    "\n",
    "def build_model(warmup_steps, decay_steps):\n",
    "    # Define Input\n",
    "    inputs = keras.Input(shape=config.IMAGE_SIZE + [3,], batch_size=config.BATCH_SIZE)\n",
    "\n",
    "    # Define Backbone (EfficientNet)\n",
    "    backbone = EfficientNetB0(weights='imagenet', include_top=False, input_shape=config.IMAGE_SIZE + [3,])\n",
    "    x = backbone(inputs)\n",
    "\n",
    "    # GAP to get the activation maps\n",
    "    gap = keras.layers.GlobalAveragePooling2D()\n",
    "    x = gap(x)\n",
    "\n",
    "    # Define 'necks' for each head\n",
    "    x_bowel = keras.layers.Dense(32, activation='silu')(x)\n",
    "    x_extra = keras.layers.Dense(32, activation='silu')(x)\n",
    "    x_liver = keras.layers.Dense(32, activation='silu')(x)\n",
    "    x_kidney = keras.layers.Dense(32, activation='silu')(x)\n",
    "    x_spleen = keras.layers.Dense(32, activation='silu')(x)\n",
    "\n",
    "    # Define heads\n",
    "    out_bowel = keras.layers.Dense(1, name='bowel', activation='sigmoid')(x_bowel) # use sigmoid to convert predictions to [0-1]\n",
    "    out_extra = keras.layers.Dense(1, name='extra', activation='sigmoid')(x_extra) # use sigmoid to convert predictions to [0-1]\n",
    "    out_liver = keras.layers.Dense(3, name='liver', activation='softmax')(x_liver) # use softmax for the liver head\n",
    "    out_kidney = keras.layers.Dense(3, name='kidney', activation='softmax')(x_kidney) # use softmax for the kidney head\n",
    "    out_spleen = keras.layers.Dense(3, name='spleen', activation='softmax')(x_spleen) # use softmax for the spleen head\n",
    "\n",
    "    # Concatenate the outputs\n",
    "    outputs = [out_bowel, out_extra, out_liver, out_kidney, out_spleen]\n",
    "\n",
    "    # Create model\n",
    "    print(\"[INFO] Building the model...\")\n",
    "    model = keras.Model(inputs=inputs, outputs=outputs)\n",
    "\n",
    "    # Cosine Decay\n",
    "    cosine_decay = keras.optimizers.schedules.CosineDecay(\n",
    "        initial_learning_rate=1e-4,\n",
    "        decay_steps=decay_steps,\n",
    "        alpha=0.0,\n",
    "        warmup_target=1e-3,\n",
    "        warmup_steps=warmup_steps,\n",
    "    )\n",
    "\n",
    "    # Compile the model\n",
    "    optimizer = keras.optimizers.Adam(learning_rate=cosine_decay)\n",
    "    loss = {\n",
    "        \"bowel\": keras.losses.BinaryCrossentropy(),\n",
    "        \"extra\": keras.losses.BinaryCrossentropy(),\n",
    "        \"liver\": keras.losses.CategoricalCrossentropy(),\n",
    "        \"kidney\": keras.losses.CategoricalCrossentropy(),\n",
    "        \"spleen\": keras.losses.CategoricalCrossentropy(),\n",
    "    }\n",
    "    metrics = {\n",
    "        \"bowel\": [\"accuracy\"],\n",
    "        \"extra\": [\"accuracy\"],\n",
    "        \"liver\": [\"accuracy\"],\n",
    "        \"kidney\": [\"accuracy\"],\n",
    "        \"spleen\": [\"accuracy\"],\n",
    "    }\n",
    "    print(\"[INFO] Compiling the model...\")\n",
    "    model.compile(\n",
    "        optimizer=optimizer,\n",
    "        loss=loss,\n",
    "        metrics=metrics\n",
    "    )\n",
    "\n",
    "    return model\n"
   ]
  },
  {
   "cell_type": "markdown",
   "metadata": {
    "id": "QHOb-3zPbmF0"
   },
   "source": [
    "Train"
   ]
  },
  {
   "cell_type": "code",
   "execution_count": 18,
   "metadata": {
    "colab": {
     "base_uri": "https://localhost:8080/"
    },
    "executionInfo": {
     "elapsed": 2163,
     "status": "ok",
     "timestamp": 1696327503233,
     "user": {
      "displayName": "potato kaggle",
      "userId": "05409133564111543032"
     },
     "user_tz": -540
    },
    "id": "0S8xxkyybkjD",
    "outputId": "112d893e-6894-4302-90c1-eec270bdb741"
   },
   "outputs": [
    {
     "name": "stdout",
     "output_type": "stream",
     "text": [
      "[INFO] Building the dataset...\n",
      "total_train_steps=96640\n",
      "warmup_steps=9664\n",
      "decay_steps=86976\n"
     ]
    }
   ],
   "source": [
    "# get image_paths and labels\n",
    "print(\"[INFO] Building the dataset...\")\n",
    "train_paths = train_data.image_path.values; train_labels = train_data[config.TARGET_COLS].values.astype(np.float32)\n",
    "valid_paths = val_data.image_path.values; valid_labels = val_data[config.TARGET_COLS].values.astype(np.float32)\n",
    "\n",
    "# train and valid dataset\n",
    "train_ds = build_dataset(image_paths=train_paths, labels=train_labels)\n",
    "val_ds = build_dataset(image_paths=valid_paths, labels=valid_labels)\n",
    "\n",
    "total_train_steps = train_ds.cardinality().numpy() * config.BATCH_SIZE * config.EPOCHS\n",
    "warmup_steps = int(total_train_steps * 0.10)\n",
    "decay_steps = total_train_steps - warmup_steps\n",
    "\n",
    "print(f\"{total_train_steps=}\")\n",
    "print(f\"{warmup_steps=}\")\n",
    "print(f\"{decay_steps=}\")"
   ]
  },
  {
   "cell_type": "code",
   "execution_count": null,
   "metadata": {
    "colab": {
     "base_uri": "https://localhost:8080/"
    },
    "id": "9FP3oSNAbmwV",
    "outputId": "d2885713-b7ad-411f-c362-80889a674355"
   },
   "outputs": [
    {
     "metadata": {
      "tags": null
     },
     "name": "stdout",
     "output_type": "stream",
     "text": [
      "[INFO] Building the model...\n",
      "Downloading data from https://storage.googleapis.com/keras-applications/efficientnetb0_notop.h5\n",
      "16705208/16705208 [==============================] - 0s 0us/step\n",
      "[INFO] Building the model...\n",
      "[INFO] Compiling the model...\n",
      "[INFO] Training...\n",
      "Epoch 1/10\n",
      "151/151 [==============================] - 1560s 10s/step - loss: 2.8064 - bowel_loss: 0.4182 - extra_loss: 0.5795 - liver_loss: 0.4532 - kidney_loss: 0.5663 - spleen_loss: 0.7893 - bowel_accuracy: 0.8782 - extra_accuracy: 0.7724 - liver_accuracy: 0.8571 - kidney_accuracy: 0.8162 - spleen_accuracy: 0.6822 - val_loss: 4.6398 - val_bowel_loss: 0.7001 - val_extra_loss: 0.8079 - val_liver_loss: 0.8841 - val_kidney_loss: 1.0745 - val_spleen_loss: 1.1732 - val_bowel_accuracy: 0.4741 - val_extra_accuracy: 0.3033 - val_liver_accuracy: 0.8506 - val_kidney_accuracy: 0.3397 - val_spleen_accuracy: 0.1713\n",
      "Epoch 2/10\n",
      "151/151 [==============================] - 1432s 9s/step - loss: 2.7736 - bowel_loss: 0.5654 - extra_loss: 0.5157 - liver_loss: 0.5160 - kidney_loss: 0.5085 - spleen_loss: 0.6680 - bowel_accuracy: 0.7862 - extra_accuracy: 0.7540 - liver_accuracy: 0.8678 - kidney_accuracy: 0.8362 - spleen_accuracy: 0.7305 - val_loss: 4.7246 - val_bowel_loss: 0.7345 - val_extra_loss: 0.8583 - val_liver_loss: 0.9979 - val_kidney_loss: 0.9761 - val_spleen_loss: 1.1577 - val_bowel_accuracy: 0.5321 - val_extra_accuracy: 0.3157 - val_liver_accuracy: 0.4402 - val_kidney_accuracy: 0.4377 - val_spleen_accuracy: 0.3575\n",
      "Epoch 3/10\n",
      "151/151 [==============================] - 1429s 9s/step - loss: 2.6259 - bowel_loss: 0.6318 - extra_loss: 0.4893 - liver_loss: 0.4591 - kidney_loss: 0.4376 - spleen_loss: 0.6081 - bowel_accuracy: 0.7404 - extra_accuracy: 0.7700 - liver_accuracy: 0.8758 - kidney_accuracy: 0.8618 - spleen_accuracy: 0.7705 - val_loss: 3.8597 - val_bowel_loss: 0.6979 - val_extra_loss: 0.9278 - val_liver_loss: 0.6392 - val_kidney_loss: 0.5741 - val_spleen_loss: 1.0207 - val_bowel_accuracy: 0.5077 - val_extra_accuracy: 0.3202 - val_liver_accuracy: 0.8697 - val_kidney_accuracy: 0.8113 - val_spleen_accuracy: 0.6773\n",
      "Epoch 4/10\n",
      "151/151 [==============================] - 1419s 9s/step - loss: 2.1686 - bowel_loss: 0.5540 - extra_loss: 0.4169 - liver_loss: 0.3762 - kidney_loss: 0.3301 - spleen_loss: 0.4913 - bowel_accuracy: 0.7135 - extra_accuracy: 0.8065 - liver_accuracy: 0.8936 - kidney_accuracy: 0.8871 - spleen_accuracy: 0.8069 - val_loss: 4.2613 - val_bowel_loss: 0.6920 - val_extra_loss: 0.9497 - val_liver_loss: 0.5100 - val_kidney_loss: 0.6307 - val_spleen_loss: 1.4789 - val_bowel_accuracy: 0.5168 - val_extra_accuracy: 0.3033 - val_liver_accuracy: 0.8697 - val_kidney_accuracy: 0.8113 - val_spleen_accuracy: 0.6773\n",
      "Epoch 5/10\n",
      "151/151 [==============================] - 1435s 9s/step - loss: 1.8629 - bowel_loss: 0.4334 - extra_loss: 0.4106 - liver_loss: 0.3241 - kidney_loss: 0.2796 - spleen_loss: 0.4152 - bowel_accuracy: 0.7959 - extra_accuracy: 0.8278 - liver_accuracy: 0.9116 - kidney_accuracy: 0.9057 - spleen_accuracy: 0.8473 - val_loss: 3022.2454 - val_bowel_loss: 57.0762 - val_extra_loss: 32.3875 - val_liver_loss: 508.7748 - val_kidney_loss: 903.3477 - val_spleen_loss: 1520.6588 - val_bowel_accuracy: 0.5147 - val_extra_accuracy: 0.6818 - val_liver_accuracy: 0.8697 - val_kidney_accuracy: 0.8113 - val_spleen_accuracy: 0.6773\n",
      "Epoch 6/10\n",
      "151/151 [==============================] - 1432s 9s/step - loss: 1.3930 - bowel_loss: 0.3029 - extra_loss: 0.3118 - liver_loss: 0.2687 - kidney_loss: 0.2162 - spleen_loss: 0.2933 - bowel_accuracy: 0.8850 - extra_accuracy: 0.8708 - liver_accuracy: 0.9161 - kidney_accuracy: 0.9202 - spleen_accuracy: 0.8947 - val_loss: 1474.5450 - val_bowel_loss: 76.0675 - val_extra_loss: 65.2314 - val_liver_loss: 276.1689 - val_kidney_loss: 426.0690 - val_spleen_loss: 631.0083 - val_bowel_accuracy: 0.5197 - val_extra_accuracy: 0.6976 - val_liver_accuracy: 0.8697 - val_kidney_accuracy: 0.8113 - val_spleen_accuracy: 0.6773\n",
      "Epoch 7/10\n",
      "151/151 [==============================] - 1439s 10s/step - loss: 1.0989 - bowel_loss: 0.2044 - extra_loss: 0.2492 - liver_loss: 0.2216 - kidney_loss: 0.1833 - spleen_loss: 0.2404 - bowel_accuracy: 0.9275 - extra_accuracy: 0.9090 - liver_accuracy: 0.9328 - kidney_accuracy: 0.9321 - spleen_accuracy: 0.9097 - val_loss: 12227.5557 - val_bowel_loss: 254.6361 - val_extra_loss: 173.3828 - val_liver_loss: 1439.8658 - val_kidney_loss: 3632.3501 - val_spleen_loss: 6727.3213 - val_bowel_accuracy: 0.5114 - val_extra_accuracy: 0.6951 - val_liver_accuracy: 0.8697 - val_kidney_accuracy: 0.8113 - val_spleen_accuracy: 0.6773\n",
      "Epoch 8/10\n",
      "151/151 [==============================] - 1510s 10s/step - loss: 0.8806 - bowel_loss: 0.1520 - extra_loss: 0.2204 - liver_loss: 0.1520 - kidney_loss: 0.1538 - spleen_loss: 0.2025 - bowel_accuracy: 0.9450 - extra_accuracy: 0.9122 - liver_accuracy: 0.9505 - kidney_accuracy: 0.9460 - spleen_accuracy: 0.9278 - val_loss: 7.5382 - val_bowel_loss: 1.7773 - val_extra_loss: 0.8233 - val_liver_loss: 1.4408 - val_kidney_loss: 0.5925 - val_spleen_loss: 2.9043 - val_bowel_accuracy: 0.5205 - val_extra_accuracy: 0.3033 - val_liver_accuracy: 0.8697 - val_kidney_accuracy: 0.8113 - val_spleen_accuracy: 0.6773\n",
      "Epoch 9/10\n",
      "151/151 [==============================] - 1485s 10s/step - loss: 0.6963 - bowel_loss: 0.1069 - extra_loss: 0.1836 - liver_loss: 0.1331 - kidney_loss: 0.1193 - spleen_loss: 0.1534 - bowel_accuracy: 0.9677 - extra_accuracy: 0.9295 - liver_accuracy: 0.9598 - kidney_accuracy: 0.9568 - spleen_accuracy: 0.9454 - val_loss: 40455.6914 - val_bowel_loss: 2402.5713 - val_extra_loss: 1153.5898 - val_liver_loss: 7183.9990 - val_kidney_loss: 13766.8486 - val_spleen_loss: 15948.6855 - val_bowel_accuracy: 0.5561 - val_extra_accuracy: 0.6963 - val_liver_accuracy: 0.8697 - val_kidney_accuracy: 0.8113 - val_spleen_accuracy: 0.6773\n",
      "Epoch 10/10\n",
      "141/151 [===========================>..] - ETA: 1:29 - loss: 0.5941 - bowel_loss: 0.1170 - extra_loss: 0.1434 - liver_loss: 0.1065 - kidney_loss: 0.0850 - spleen_loss: 0.1422 - bowel_accuracy: 0.9691 - extra_accuracy: 0.9460 - liver_accuracy: 0.9686 - kidney_accuracy: 0.9737 - spleen_accuracy: 0.9496"
     ]
    }
   ],
   "source": [
    "# build the model\n",
    "print(\"[INFO] Building the model...\")\n",
    "model = build_model(warmup_steps, decay_steps)\n",
    "\n",
    "# train\n",
    "print(\"[INFO] Training...\")\n",
    "history = model.fit(\n",
    "    train_ds,\n",
    "    epochs=config.EPOCHS,\n",
    "    validation_data=val_ds,\n",
    ")"
   ]
  },
  {
   "cell_type": "code",
   "execution_count": null,
   "metadata": {
    "id": "zsiqEPqqT1jD"
   },
   "outputs": [],
   "source": [
    "import matplotlib.pyplot as plt\n",
    "\n",
    "# Create a 3x2 grid for the subplots\n",
    "fig, axes = plt.subplots(5, 2, figsize=(10, 15))\n",
    "\n",
    "# Flatten axes to iterate through them\n",
    "axes = axes.flatten()\n",
    "\n",
    "# Iterate through the metrics and plot them\n",
    "for i, name in enumerate([\"bowel\", \"extra\", \"kidney\", \"liver\", \"spleen\"]):\n",
    "    # Plot training accuracy\n",
    "    axes[i * 2].plot(history.history[name + '_accuracy'], label='Training ' + name)\n",
    "    # Plot validation accuracy\n",
    "    axes[i * 2].plot(history.history['val_' + name + '_accuracy'], label='Validation ' + name)\n",
    "    axes[i * 2].set_title(name + ' Accuracy')\n",
    "    axes[i * 2].set_xlabel('Epoch')\n",
    "    axes[i * 2].set_ylabel('Accuracy')\n",
    "    axes[i * 2].legend()\n",
    "\n",
    "    # Plot training loss\n",
    "    axes[i * 2 + 1].plot(history.history[name + '_loss'], label='Training ' + name)\n",
    "    # Plot validation loss\n",
    "    axes[i * 2 + 1].plot(history.history['val_' + name + '_loss'], label='Validation ' + name)\n",
    "    axes[i * 2 + 1].set_title(name + ' Loss')\n",
    "    axes[i * 2 + 1].set_xlabel('Epoch')\n",
    "    axes[i * 2 + 1].set_ylabel('Loss')\n",
    "    axes[i * 2 + 1].legend()\n",
    "\n",
    "plt.tight_layout()\n",
    "plt.show()\n"
   ]
  },
  {
   "cell_type": "code",
   "execution_count": null,
   "metadata": {
    "id": "NvrHuficbqn9"
   },
   "outputs": [],
   "source": [
    "# store best results\n",
    "best_epoch = np.argmin(history.history['val_loss'])\n",
    "best_loss = history.history['val_loss'][best_epoch]\n",
    "best_acc_bowel = history.history['val_bowel_accuracy'][best_epoch]\n",
    "best_acc_extra = history.history['val_extra_accuracy'][best_epoch]\n",
    "best_acc_liver = history.history['val_liver_accuracy'][best_epoch]\n",
    "best_acc_kidney = history.history['val_kidney_accuracy'][best_epoch]\n",
    "best_acc_spleen = history.history['val_spleen_accuracy'][best_epoch]\n",
    "\n",
    "# Find mean accuracy\n",
    "best_acc = np.mean(\n",
    "    [best_acc_bowel,\n",
    "     best_acc_extra,\n",
    "     best_acc_liver,\n",
    "     best_acc_kidney,\n",
    "     best_acc_spleen\n",
    "])\n",
    "\n",
    "\n",
    "print(f'>>>> BEST Loss  : {best_loss:.3f}\\n>>>> BEST Acc   : {best_acc:.3f}\\n>>>> BEST Epoch : {best_epoch}\\n')\n",
    "print('ORGAN Acc:')\n",
    "print(f'  >>>> {\"Bowel\".ljust(15)} : {best_acc_bowel:.3f}')\n",
    "print(f'  >>>> {\"Extravasation\".ljust(15)} : {best_acc_extra:.3f}')\n",
    "print(f'  >>>> {\"Liver\".ljust(15)} : {best_acc_liver:.3f}')\n",
    "print(f'  >>>> {\"Kidney\".ljust(15)} : {best_acc_kidney:.3f}')\n",
    "print(f'  >>>> {\"Spleen\".ljust(15)} : {best_acc_spleen:.3f}')"
   ]
  },
  {
   "cell_type": "code",
   "execution_count": null,
   "metadata": {
    "id": "r71ILfXZbq23"
   },
   "outputs": [],
   "source": [
    "# Save the model\n",
    "model.save(BASE_PATH + \"/efficient_rsna.kaggle\")"
   ]
  },
  {
   "cell_type": "markdown",
   "metadata": {
    "id": "YpXCgIJYLkS9"
   },
   "source": [
    "## INFER"
   ]
  },
  {
   "cell_type": "code",
   "execution_count": null,
   "metadata": {
    "id": "eCnm_Cn0LlQr"
   },
   "outputs": [],
   "source": [
    "class Config_Infer:\n",
    "    IMAGE_SIZE = [256, 256]\n",
    "    RESIZE_DIM = 256\n",
    "    BATCH_SIZE = 64\n",
    "    AUTOTUNE = tf.data.AUTOTUNE\n",
    "    TARGET_COLS  = [\"bowel_healthy\", \"bowel_injury\", \"extravasation_healthy\",\n",
    "                   \"extravasation_injury\", \"kidney_healthy\", \"kidney_low\",\n",
    "                   \"kidney_high\", \"liver_healthy\", \"liver_low\", \"liver_high\",\n",
    "                   \"spleen_healthy\", \"spleen_low\", \"spleen_high\"]\n",
    "\n",
    "config_infer = Config_Infer()"
   ]
  },
  {
   "cell_type": "code",
   "execution_count": null,
   "metadata": {
    "colab": {
     "base_uri": "https://localhost:8080/",
     "height": 112
    },
    "executionInfo": {
     "elapsed": 313,
     "status": "ok",
     "timestamp": 1695978269717,
     "user": {
      "displayName": "potato kaggle",
      "userId": "05409133564111543032"
     },
     "user_tz": -540
    },
    "id": "h9WOsN0pLlym",
    "outputId": "82dc5c34-a972-433c-bd2d-62cb32d99857"
   },
   "outputs": [
    {
     "data": {
      "text/html": [
       "\n",
       "  <div id=\"df-ddfa6a49-b8d3-4e35-a9f0-c625f0db5d49\" class=\"colab-df-container\">\n",
       "    <div>\n",
       "<style scoped>\n",
       "    .dataframe tbody tr th:only-of-type {\n",
       "        vertical-align: middle;\n",
       "    }\n",
       "\n",
       "    .dataframe tbody tr th {\n",
       "        vertical-align: top;\n",
       "    }\n",
       "\n",
       "    .dataframe thead th {\n",
       "        text-align: right;\n",
       "    }\n",
       "</style>\n",
       "<table border=\"1\" class=\"dataframe\">\n",
       "  <thead>\n",
       "    <tr style=\"text-align: right;\">\n",
       "      <th></th>\n",
       "      <th>image_path</th>\n",
       "      <th>patient_id</th>\n",
       "      <th>series_id</th>\n",
       "      <th>instance_number</th>\n",
       "      <th>width</th>\n",
       "      <th>height</th>\n",
       "    </tr>\n",
       "  </thead>\n",
       "  <tbody>\n",
       "    <tr>\n",
       "      <th>0</th>\n",
       "      <td>/content/drive/MyDrive/test/rsna-atd-512x512-p...</td>\n",
       "      <td>63706</td>\n",
       "      <td>39279</td>\n",
       "      <td>30</td>\n",
       "      <td>512</td>\n",
       "      <td>512</td>\n",
       "    </tr>\n",
       "    <tr>\n",
       "      <th>1</th>\n",
       "      <td>/content/drive/MyDrive/test/rsna-atd-512x512-p...</td>\n",
       "      <td>50046</td>\n",
       "      <td>24574</td>\n",
       "      <td>30</td>\n",
       "      <td>512</td>\n",
       "      <td>512</td>\n",
       "    </tr>\n",
       "  </tbody>\n",
       "</table>\n",
       "</div>\n",
       "    <div class=\"colab-df-buttons\">\n",
       "\n",
       "  <div class=\"colab-df-container\">\n",
       "    <button class=\"colab-df-convert\" onclick=\"convertToInteractive('df-ddfa6a49-b8d3-4e35-a9f0-c625f0db5d49')\"\n",
       "            title=\"Convert this dataframe to an interactive table.\"\n",
       "            style=\"display:none;\">\n",
       "\n",
       "  <svg xmlns=\"http://www.w3.org/2000/svg\" height=\"24px\" viewBox=\"0 -960 960 960\">\n",
       "    <path d=\"M120-120v-720h720v720H120Zm60-500h600v-160H180v160Zm220 220h160v-160H400v160Zm0 220h160v-160H400v160ZM180-400h160v-160H180v160Zm440 0h160v-160H620v160ZM180-180h160v-160H180v160Zm440 0h160v-160H620v160Z\"/>\n",
       "  </svg>\n",
       "    </button>\n",
       "\n",
       "  <style>\n",
       "    .colab-df-container {\n",
       "      display:flex;\n",
       "      gap: 12px;\n",
       "    }\n",
       "\n",
       "    .colab-df-convert {\n",
       "      background-color: #E8F0FE;\n",
       "      border: none;\n",
       "      border-radius: 50%;\n",
       "      cursor: pointer;\n",
       "      display: none;\n",
       "      fill: #1967D2;\n",
       "      height: 32px;\n",
       "      padding: 0 0 0 0;\n",
       "      width: 32px;\n",
       "    }\n",
       "\n",
       "    .colab-df-convert:hover {\n",
       "      background-color: #E2EBFA;\n",
       "      box-shadow: 0px 1px 2px rgba(60, 64, 67, 0.3), 0px 1px 3px 1px rgba(60, 64, 67, 0.15);\n",
       "      fill: #174EA6;\n",
       "    }\n",
       "\n",
       "    .colab-df-buttons div {\n",
       "      margin-bottom: 4px;\n",
       "    }\n",
       "\n",
       "    [theme=dark] .colab-df-convert {\n",
       "      background-color: #3B4455;\n",
       "      fill: #D2E3FC;\n",
       "    }\n",
       "\n",
       "    [theme=dark] .colab-df-convert:hover {\n",
       "      background-color: #434B5C;\n",
       "      box-shadow: 0px 1px 3px 1px rgba(0, 0, 0, 0.15);\n",
       "      filter: drop-shadow(0px 1px 2px rgba(0, 0, 0, 0.3));\n",
       "      fill: #FFFFFF;\n",
       "    }\n",
       "  </style>\n",
       "\n",
       "    <script>\n",
       "      const buttonEl =\n",
       "        document.querySelector('#df-ddfa6a49-b8d3-4e35-a9f0-c625f0db5d49 button.colab-df-convert');\n",
       "      buttonEl.style.display =\n",
       "        google.colab.kernel.accessAllowed ? 'block' : 'none';\n",
       "\n",
       "      async function convertToInteractive(key) {\n",
       "        const element = document.querySelector('#df-ddfa6a49-b8d3-4e35-a9f0-c625f0db5d49');\n",
       "        const dataTable =\n",
       "          await google.colab.kernel.invokeFunction('convertToInteractive',\n",
       "                                                    [key], {});\n",
       "        if (!dataTable) return;\n",
       "\n",
       "        const docLinkHtml = 'Like what you see? Visit the ' +\n",
       "          '<a target=\"_blank\" href=https://colab.research.google.com/notebooks/data_table.ipynb>data table notebook</a>'\n",
       "          + ' to learn more about interactive tables.';\n",
       "        element.innerHTML = '';\n",
       "        dataTable['output_type'] = 'display_data';\n",
       "        await google.colab.output.renderOutput(dataTable, element);\n",
       "        const docLink = document.createElement('div');\n",
       "        docLink.innerHTML = docLinkHtml;\n",
       "        element.appendChild(docLink);\n",
       "      }\n",
       "    </script>\n",
       "  </div>\n",
       "\n",
       "\n",
       "<div id=\"df-cc212694-2103-44fe-b19f-c3fe191b651d\">\n",
       "  <button class=\"colab-df-quickchart\" onclick=\"quickchart('df-cc212694-2103-44fe-b19f-c3fe191b651d')\"\n",
       "            title=\"Suggest charts.\"\n",
       "            style=\"display:none;\">\n",
       "\n",
       "<svg xmlns=\"http://www.w3.org/2000/svg\" height=\"24px\"viewBox=\"0 0 24 24\"\n",
       "     width=\"24px\">\n",
       "    <g>\n",
       "        <path d=\"M19 3H5c-1.1 0-2 .9-2 2v14c0 1.1.9 2 2 2h14c1.1 0 2-.9 2-2V5c0-1.1-.9-2-2-2zM9 17H7v-7h2v7zm4 0h-2V7h2v10zm4 0h-2v-4h2v4z\"/>\n",
       "    </g>\n",
       "</svg>\n",
       "  </button>\n",
       "\n",
       "<style>\n",
       "  .colab-df-quickchart {\n",
       "      --bg-color: #E8F0FE;\n",
       "      --fill-color: #1967D2;\n",
       "      --hover-bg-color: #E2EBFA;\n",
       "      --hover-fill-color: #174EA6;\n",
       "      --disabled-fill-color: #AAA;\n",
       "      --disabled-bg-color: #DDD;\n",
       "  }\n",
       "\n",
       "  [theme=dark] .colab-df-quickchart {\n",
       "      --bg-color: #3B4455;\n",
       "      --fill-color: #D2E3FC;\n",
       "      --hover-bg-color: #434B5C;\n",
       "      --hover-fill-color: #FFFFFF;\n",
       "      --disabled-bg-color: #3B4455;\n",
       "      --disabled-fill-color: #666;\n",
       "  }\n",
       "\n",
       "  .colab-df-quickchart {\n",
       "    background-color: var(--bg-color);\n",
       "    border: none;\n",
       "    border-radius: 50%;\n",
       "    cursor: pointer;\n",
       "    display: none;\n",
       "    fill: var(--fill-color);\n",
       "    height: 32px;\n",
       "    padding: 0;\n",
       "    width: 32px;\n",
       "  }\n",
       "\n",
       "  .colab-df-quickchart:hover {\n",
       "    background-color: var(--hover-bg-color);\n",
       "    box-shadow: 0 1px 2px rgba(60, 64, 67, 0.3), 0 1px 3px 1px rgba(60, 64, 67, 0.15);\n",
       "    fill: var(--button-hover-fill-color);\n",
       "  }\n",
       "\n",
       "  .colab-df-quickchart-complete:disabled,\n",
       "  .colab-df-quickchart-complete:disabled:hover {\n",
       "    background-color: var(--disabled-bg-color);\n",
       "    fill: var(--disabled-fill-color);\n",
       "    box-shadow: none;\n",
       "  }\n",
       "\n",
       "  .colab-df-spinner {\n",
       "    border: 2px solid var(--fill-color);\n",
       "    border-color: transparent;\n",
       "    border-bottom-color: var(--fill-color);\n",
       "    animation:\n",
       "      spin 1s steps(1) infinite;\n",
       "  }\n",
       "\n",
       "  @keyframes spin {\n",
       "    0% {\n",
       "      border-color: transparent;\n",
       "      border-bottom-color: var(--fill-color);\n",
       "      border-left-color: var(--fill-color);\n",
       "    }\n",
       "    20% {\n",
       "      border-color: transparent;\n",
       "      border-left-color: var(--fill-color);\n",
       "      border-top-color: var(--fill-color);\n",
       "    }\n",
       "    30% {\n",
       "      border-color: transparent;\n",
       "      border-left-color: var(--fill-color);\n",
       "      border-top-color: var(--fill-color);\n",
       "      border-right-color: var(--fill-color);\n",
       "    }\n",
       "    40% {\n",
       "      border-color: transparent;\n",
       "      border-right-color: var(--fill-color);\n",
       "      border-top-color: var(--fill-color);\n",
       "    }\n",
       "    60% {\n",
       "      border-color: transparent;\n",
       "      border-right-color: var(--fill-color);\n",
       "    }\n",
       "    80% {\n",
       "      border-color: transparent;\n",
       "      border-right-color: var(--fill-color);\n",
       "      border-bottom-color: var(--fill-color);\n",
       "    }\n",
       "    90% {\n",
       "      border-color: transparent;\n",
       "      border-bottom-color: var(--fill-color);\n",
       "    }\n",
       "  }\n",
       "</style>\n",
       "\n",
       "  <script>\n",
       "    async function quickchart(key) {\n",
       "      const quickchartButtonEl =\n",
       "        document.querySelector('#' + key + ' button');\n",
       "      quickchartButtonEl.disabled = true;  // To prevent multiple clicks.\n",
       "      quickchartButtonEl.classList.add('colab-df-spinner');\n",
       "      try {\n",
       "        const charts = await google.colab.kernel.invokeFunction(\n",
       "            'suggestCharts', [key], {});\n",
       "      } catch (error) {\n",
       "        console.error('Error during call to suggestCharts:', error);\n",
       "      }\n",
       "      quickchartButtonEl.classList.remove('colab-df-spinner');\n",
       "      quickchartButtonEl.classList.add('colab-df-quickchart-complete');\n",
       "    }\n",
       "    (() => {\n",
       "      let quickchartButtonEl =\n",
       "        document.querySelector('#df-cc212694-2103-44fe-b19f-c3fe191b651d button');\n",
       "      quickchartButtonEl.style.display =\n",
       "        google.colab.kernel.accessAllowed ? 'block' : 'none';\n",
       "    })();\n",
       "  </script>\n",
       "</div>\n",
       "    </div>\n",
       "  </div>\n"
      ],
      "text/plain": [
       "                                          image_path  patient_id  series_id  \\\n",
       "0  /content/drive/MyDrive/test/rsna-atd-512x512-p...       63706      39279   \n",
       "1  /content/drive/MyDrive/test/rsna-atd-512x512-p...       50046      24574   \n",
       "\n",
       "   instance_number  width  height  \n",
       "0               30    512     512  \n",
       "1               30    512     512  "
      ]
     },
     "execution_count": 26,
     "metadata": {},
     "output_type": "execute_result"
    }
   ],
   "source": [
    "test_df = pd.read_csv(f\"{BASE_PATH}/test.csv\")\n",
    "\n",
    "test_df[\"image_path\"] = f\"{BASE_PATH}/test_images\"\\\n",
    "                    + \"/\" + test_df.patient_id.astype(str)\\\n",
    "                    + \"/\" + test_df.series_id.astype(str)\\\n",
    "                    + \"/\" + test_df.instance_number.astype(str) +\".png\"\n",
    "\n",
    "test_df.head(2)"
   ]
  },
  {
   "cell_type": "code",
   "execution_count": null,
   "metadata": {
    "id": "stiTH63YLqeT"
   },
   "outputs": [],
   "source": [
    "def decode_image_infer(image_path):\n",
    "    file_bytes = tf.io.read_file(image_path)\n",
    "    image = tf.io.decode_png(file_bytes, channels=3, dtype=tf.uint8)\n",
    "    image = tf.image.resize(image, config.IMAGE_SIZE, method=\"bilinear\")\n",
    "    image = tf.cast(image, tf.float32) / 255.0\n",
    "    return image\n",
    "\n",
    "def build_dataset_infer(image_paths):\n",
    "    ds = (\n",
    "        tf.data.Dataset.from_tensor_slices(image_paths)\n",
    "        .map(decode_image_infer, num_parallel_calls=config.AUTOTUNE)\n",
    "        .shuffle(config.BATCH_SIZE * 10)\n",
    "        .batch(config.BATCH_SIZE)\n",
    "        .prefetch(config.AUTOTUNE)\n",
    "    )\n",
    "    return ds"
   ]
  },
  {
   "cell_type": "code",
   "execution_count": null,
   "metadata": {
    "colab": {
     "base_uri": "https://localhost:8080/"
    },
    "executionInfo": {
     "elapsed": 347,
     "status": "ok",
     "timestamp": 1695978300830,
     "user": {
      "displayName": "potato kaggle",
      "userId": "05409133564111543032"
     },
     "user_tz": -540
    },
    "id": "KOld8BUdLvzl",
    "outputId": "e5fc2574-edde-44b1-cdd5-a1afa8a27857"
   },
   "outputs": [
    {
     "data": {
      "text/plain": [
       "TensorShape([3, 256, 256, 3])"
      ]
     },
     "execution_count": 28,
     "metadata": {},
     "output_type": "execute_result"
    }
   ],
   "source": [
    "paths  = test_df.image_path.tolist()\n",
    "\n",
    "ds = build_dataset_infer(image_paths=paths)\n",
    "images = next(iter(ds))\n",
    "\n",
    "images.shape"
   ]
  },
  {
   "cell_type": "code",
   "execution_count": null,
   "metadata": {
    "colab": {
     "base_uri": "https://localhost:8080/"
    },
    "executionInfo": {
     "elapsed": 4302,
     "status": "ok",
     "timestamp": 1695978314422,
     "user": {
      "displayName": "potato kaggle",
      "userId": "05409133564111543032"
     },
     "user_tz": -540
    },
    "id": "G7d4qcc7LyAn",
    "outputId": "10481660-6c49-4d70-a5b0-496d9b86e9ec"
   },
   "outputs": [
    {
     "name": "stdout",
     "output_type": "stream",
     "text": [
      "Requirement already satisfied: tqdm in /usr/local/lib/python3.10/dist-packages (4.66.1)\n"
     ]
    }
   ],
   "source": [
    "!pip install tqdm"
   ]
  },
  {
   "cell_type": "code",
   "execution_count": null,
   "metadata": {
    "id": "bgoCdJ5XL0S9"
   },
   "outputs": [],
   "source": [
    "from tqdm import tqdm\n",
    "import gc"
   ]
  },
  {
   "cell_type": "code",
   "execution_count": null,
   "metadata": {
    "id": "F2NpLjkoL1oI"
   },
   "outputs": [],
   "source": [
    "def post_proc(pred, binary_threshold=0.7):\n",
    "    proc_pred = np.empty((pred.shape[0], 2*2 + 3*3), dtype=\"float32\")\n",
    "\n",
    "    # bowel, extravasation\n",
    "    proc_pred[:, 0] = pred[:, 0] #if pred[:, 0] >= binary_threshold else np.mean(pred[:, 0])\n",
    "    proc_pred[:, 1] = 1 - proc_pred[:, 0]\n",
    "    proc_pred[:, 2] = pred[:, 1] #if pred[:, 1] >= binary_threshold else np.mean(pred[:, 1])\n",
    "    proc_pred[:, 3] = 1 - proc_pred[:, 2]\n",
    "\n",
    "    # liver, kidney, sneel\n",
    "    proc_pred[:, 4:7] = pred[:, 2:5]\n",
    "    proc_pred[:, 7:10] = pred[:, 5:8]\n",
    "    proc_pred[:, 10:13] = pred[:, 8:11]\n",
    "\n",
    "    return proc_pred"
   ]
  },
  {
   "cell_type": "code",
   "execution_count": null,
   "metadata": {
    "colab": {
     "base_uri": "https://localhost:8080/"
    },
    "executionInfo": {
     "elapsed": 2156,
     "status": "ok",
     "timestamp": 1695978360851,
     "user": {
      "displayName": "potato kaggle",
      "userId": "05409133564111543032"
     },
     "user_tz": -540
    },
    "id": "aovGcnNTL3Vf",
    "outputId": "e10776d3-f2d9-4d29-ae9c-b165e97e9817"
   },
   "outputs": [
    {
     "name": "stderr",
     "output_type": "stream",
     "text": [
      "\r",
      "Patients :   0%|          | 0/3 [00:00<?, ?it/s]"
     ]
    },
    {
     "name": "stdout",
     "output_type": "stream",
     "text": [
      "Patient ID: 63706\n",
      "1/1 [==============================] - 0s 38ms/step\n",
      "[[1. 0. 1. 0. 1. 0. 0. 1. 0. 0. 1. 0. 0.]\n",
      " [0. 0. 0. 0. 0. 0. 0. 0. 0. 0. 0. 0. 0.]\n",
      " [0. 0. 0. 0. 0. 0. 0. 0. 0. 0. 0. 0. 0.]]\n"
     ]
    },
    {
     "name": "stderr",
     "output_type": "stream",
     "text": [
      "\r",
      "Patients :  33%|███▎      | 1/3 [00:00<00:01,  1.44it/s]"
     ]
    },
    {
     "name": "stdout",
     "output_type": "stream",
     "text": [
      "Patient ID: 50046\n",
      "1/1 [==============================] - 0s 37ms/step\n",
      "[[1. 0. 1. 0. 1. 0. 0. 1. 0. 0. 1. 0. 0.]\n",
      " [1. 0. 1. 0. 1. 0. 0. 1. 0. 0. 1. 0. 0.]\n",
      " [0. 0. 0. 0. 0. 0. 0. 0. 0. 0. 0. 0. 0.]]\n"
     ]
    },
    {
     "name": "stderr",
     "output_type": "stream",
     "text": [
      "\r",
      "Patients :  67%|██████▋   | 2/3 [00:01<00:00,  1.44it/s]"
     ]
    },
    {
     "name": "stdout",
     "output_type": "stream",
     "text": [
      "Patient ID: 48843\n",
      "1/1 [==============================] - 0s 34ms/step\n",
      "[[1.        0.        1.        0.        1.        0.        0.\n",
      "  1.        0.        0.        1.        0.        0.       ]\n",
      " [1.        0.        1.        0.        1.        0.        0.\n",
      "  1.        0.        0.        1.        0.        0.       ]\n",
      " [1.        0.        0.7793507 0.2206493 1.        0.        0.\n",
      "  1.        0.        0.        1.        0.        0.       ]]\n"
     ]
    },
    {
     "name": "stderr",
     "output_type": "stream",
     "text": [
      "Patients : 100%|██████████| 3/3 [00:02<00:00,  1.45it/s]\n"
     ]
    }
   ],
   "source": [
    "# Getting unique patient IDs from test dataset\n",
    "patient_ids = test_df[\"patient_id\"].unique()\n",
    "\n",
    "# Initializing array to store predictions\n",
    "patient_preds = np.zeros(\n",
    "    shape=(len(patient_ids), 2*2 + 3*3),\n",
    "    dtype=\"float32\"\n",
    ")\n",
    "\n",
    "# Iterating over each patient\n",
    "for pidx, patient_id in tqdm(enumerate(patient_ids), total=len(patient_ids), desc=\"Patients \"):\n",
    "    print(f\"Patient ID: {patient_id}\")\n",
    "\n",
    "    # Query the dataframe for a particular patient\n",
    "    patient_df = test_df[test_df[\"patient_id\"] == patient_id]\n",
    "\n",
    "    # Getting image paths for a patient\n",
    "    patient_paths = patient_df.image_path.tolist()\n",
    "\n",
    "    # Building dataset for prediction\n",
    "    dtest = build_dataset_infer(patient_paths)\n",
    "\n",
    "    # Predicting with the model\n",
    "    pred = model.predict(dtest)\n",
    "    pred = np.concatenate(pred, axis=-1).astype(\"float32\")\n",
    "    pred = pred[:len(patient_paths), :]\n",
    "    pred = np.mean(pred.reshape(1, len(patient_paths), 11), axis=0)\n",
    "    pred = np.max(pred, axis=0, keepdims=True)\n",
    "\n",
    "    patient_preds[pidx, :] += post_proc(pred)[0]\n",
    "\n",
    "    print(patient_preds)\n",
    "\n",
    "    # Deleting variables to free up memory\n",
    "    del patient_df, patient_paths, dtest, pred; gc.collect()"
   ]
  },
  {
   "cell_type": "code",
   "execution_count": null,
   "metadata": {
    "id": "Rjp5xjUeL6xB"
   },
   "outputs": [],
   "source": []
  }
 ],
 "metadata": {
  "colab": {
   "authorship_tag": "ABX9TyPN8ibAu8ll6NOMWnl//26J",
   "machine_shape": "hm",
   "provenance": []
  },
  "kernelspec": {
   "display_name": "Python 3 (ipykernel)",
   "language": "python",
   "name": "python3"
  },
  "language_info": {
   "codemirror_mode": {
    "name": "ipython",
    "version": 3
   },
   "file_extension": ".py",
   "mimetype": "text/x-python",
   "name": "python",
   "nbconvert_exporter": "python",
   "pygments_lexer": "ipython3",
   "version": "3.9.13"
  }
 },
 "nbformat": 4,
 "nbformat_minor": 1
}
