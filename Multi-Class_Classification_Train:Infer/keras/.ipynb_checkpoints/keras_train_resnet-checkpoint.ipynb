{
 "cells": [
  {
   "cell_type": "code",
   "execution_count": 1,
   "metadata": {
    "colab": {
     "base_uri": "https://localhost:8080/"
    },
    "executionInfo": {
     "elapsed": 5202,
     "status": "ok",
     "timestamp": 1696716453411,
     "user": {
      "displayName": "Sumin Cho",
      "userId": "16162125883516553653"
     },
     "user_tz": -540
    },
    "id": "R-t51mhwVtzL",
    "outputId": "f054e05d-33f7-4b72-8084-afc7aa914322"
   },
   "outputs": [
    {
     "name": "stdout",
     "output_type": "stream",
     "text": [
      "Requirement already satisfied: kaggle in /usr/local/lib/python3.10/dist-packages (1.5.16)\n",
      "Requirement already satisfied: six>=1.10 in /usr/local/lib/python3.10/dist-packages (from kaggle) (1.16.0)\n",
      "Requirement already satisfied: certifi in /usr/local/lib/python3.10/dist-packages (from kaggle) (2023.7.22)\n",
      "Requirement already satisfied: python-dateutil in /usr/local/lib/python3.10/dist-packages (from kaggle) (2.8.2)\n",
      "Requirement already satisfied: requests in /usr/local/lib/python3.10/dist-packages (from kaggle) (2.31.0)\n",
      "Requirement already satisfied: tqdm in /usr/local/lib/python3.10/dist-packages (from kaggle) (4.66.1)\n",
      "Requirement already satisfied: python-slugify in /usr/local/lib/python3.10/dist-packages (from kaggle) (8.0.1)\n",
      "Requirement already satisfied: urllib3 in /usr/local/lib/python3.10/dist-packages (from kaggle) (2.0.6)\n",
      "Requirement already satisfied: bleach in /usr/local/lib/python3.10/dist-packages (from kaggle) (6.0.0)\n",
      "Requirement already satisfied: webencodings in /usr/local/lib/python3.10/dist-packages (from bleach->kaggle) (0.5.1)\n",
      "Requirement already satisfied: text-unidecode>=1.3 in /usr/local/lib/python3.10/dist-packages (from python-slugify->kaggle) (1.3)\n",
      "Requirement already satisfied: charset-normalizer<4,>=2 in /usr/local/lib/python3.10/dist-packages (from requests->kaggle) (3.3.0)\n",
      "Requirement already satisfied: idna<4,>=2.5 in /usr/local/lib/python3.10/dist-packages (from requests->kaggle) (3.4)\n"
     ]
    }
   ],
   "source": [
    "!pip install kaggle"
   ]
  },
  {
   "cell_type": "code",
   "execution_count": 2,
   "metadata": {
    "colab": {
     "base_uri": "https://localhost:8080/"
    },
    "executionInfo": {
     "elapsed": 15487,
     "status": "ok",
     "timestamp": 1696716468891,
     "user": {
      "displayName": "Sumin Cho",
      "userId": "16162125883516553653"
     },
     "user_tz": -540
    },
    "id": "77ca2bFIc9rw",
    "outputId": "10b85b10-fa5e-44d4-a826-ce640ae99c66"
   },
   "outputs": [
    {
     "name": "stdout",
     "output_type": "stream",
     "text": [
      "  Installing build dependencies ... \u001b[?25l\u001b[?25hdone\n",
      "  Getting requirements to build wheel ... \u001b[?25l\u001b[?25hdone\n",
      "  Preparing metadata (pyproject.toml) ... \u001b[?25l\u001b[?25hdone\n",
      "\u001b[2K     \u001b[90m━━━━━━━━━━━━━━━━━━━━━━━━━━━━━━━━━━━━━━\u001b[0m \u001b[32m950.8/950.8 kB\u001b[0m \u001b[31m11.6 MB/s\u001b[0m eta \u001b[36m0:00:00\u001b[0m\n",
      "\u001b[?25h  Building wheel for keras-cv (pyproject.toml) ... \u001b[?25l\u001b[?25hdone\n"
     ]
    }
   ],
   "source": [
    "! pip install -q git+https://github.com/keras-team/keras-cv"
   ]
  },
  {
   "cell_type": "code",
   "execution_count": 3,
   "metadata": {
    "colab": {
     "base_uri": "https://localhost:8080/"
    },
    "executionInfo": {
     "elapsed": 19072,
     "status": "ok",
     "timestamp": 1696716487944,
     "user": {
      "displayName": "Sumin Cho",
      "userId": "16162125883516553653"
     },
     "user_tz": -540
    },
    "id": "IlJKtstYV_94",
    "outputId": "54a4c5a8-adc7-472c-82ec-1f35cb90d724"
   },
   "outputs": [
    {
     "name": "stdout",
     "output_type": "stream",
     "text": [
      "Mounted at /content/drive\n"
     ]
    }
   ],
   "source": [
    "# mount the drive\n",
    "from google.colab import drive\n",
    "drive.mount('/content/drive')"
   ]
  },
  {
   "cell_type": "code",
   "execution_count": 4,
   "metadata": {
    "colab": {
     "base_uri": "https://localhost:8080/"
    },
    "executionInfo": {
     "elapsed": 10580,
     "status": "ok",
     "timestamp": 1696716498518,
     "user": {
      "displayName": "Sumin Cho",
      "userId": "16162125883516553653"
     },
     "user_tz": -540
    },
    "id": "yQfATWvTWRDR",
    "outputId": "adb0f455-a8e2-4630-d8a4-1b850937da9d"
   },
   "outputs": [
    {
     "name": "stdout",
     "output_type": "stream",
     "text": [
      "Using TensorFlow backend\n"
     ]
    }
   ],
   "source": [
    "import os\n",
    "# You can use `tensorflow`, `pytorch`, `jax` here\n",
    "# KerasCore makes the notebook backend agnostic :)\n",
    "os.environ[\"KERAS_BACKEND\"] = \"tensorflow\"\n",
    "\n",
    "import keras_cv\n",
    "import keras_core as keras\n",
    "from keras_core import layers\n",
    "\n",
    "import numpy as np\n",
    "import pandas as pd\n",
    "import tensorflow as tf\n",
    "from matplotlib import pyplot as plt\n",
    "from sklearn.model_selection import train_test_split"
   ]
  },
  {
   "cell_type": "markdown",
   "metadata": {
    "id": "23qYpUFeXnR-"
   },
   "source": [
    "Config"
   ]
  },
  {
   "cell_type": "code",
   "execution_count": 5,
   "metadata": {
    "executionInfo": {
     "elapsed": 28,
     "status": "ok",
     "timestamp": 1696716498518,
     "user": {
      "displayName": "Sumin Cho",
      "userId": "16162125883516553653"
     },
     "user_tz": -540
    },
    "id": "quybXx-6XvRJ"
   },
   "outputs": [],
   "source": [
    "class Config:\n",
    "    SEED = 42\n",
    "    IMAGE_SIZE = [256, 256]\n",
    "    BATCH_SIZE = 64\n",
    "    EPOCHS = 10\n",
    "    TARGET_COLS = [\n",
    "        \"bowel_injury\", \"extravasation_injury\",\n",
    "        \"kidney_healthy\", \"kidney_low\", \"kidney_high\",\n",
    "        \"liver_healthy\", \"liver_low\", \"liver_high\",\n",
    "        \"spleen_healthy\", \"spleen_low\", \"spleen_high\",\n",
    "    ]\n",
    "    AUTOTUNE = tf.data.AUTOTUNE\n",
    "\n",
    "config = Config()"
   ]
  },
  {
   "cell_type": "code",
   "execution_count": 6,
   "metadata": {
    "executionInfo": {
     "elapsed": 25,
     "status": "ok",
     "timestamp": 1696716498518,
     "user": {
      "displayName": "Sumin Cho",
      "userId": "16162125883516553653"
     },
     "user_tz": -540
    },
    "id": "ezZWvE3xW6lm"
   },
   "outputs": [],
   "source": [
    "keras.utils.set_random_seed(seed=config.SEED)"
   ]
  },
  {
   "cell_type": "markdown",
   "metadata": {
    "id": "bDfeF7AYXyaa"
   },
   "source": [
    "Dataset"
   ]
  },
  {
   "cell_type": "code",
   "execution_count": 7,
   "metadata": {
    "executionInfo": {
     "elapsed": 24,
     "status": "ok",
     "timestamp": 1696716498518,
     "user": {
      "displayName": "Sumin Cho",
      "userId": "16162125883516553653"
     },
     "user_tz": -540
    },
    "id": "RsWnShauXrN5"
   },
   "outputs": [],
   "source": [
    "BASE_PATH = \"/content/drive/MyDrive/rsna_data\""
   ]
  },
  {
   "cell_type": "code",
   "execution_count": 8,
   "metadata": {
    "colab": {
     "base_uri": "https://localhost:8080/",
     "height": 132
    },
    "executionInfo": {
     "elapsed": 2124,
     "status": "ok",
     "timestamp": 1696716500618,
     "user": {
      "displayName": "Sumin Cho",
      "userId": "16162125883516553653"
     },
     "user_tz": -540
    },
    "id": "xLn5bi3fX5tP",
    "outputId": "f7900d86-4278-439c-c81b-fd6c57be8e46"
   },
   "outputs": [
    {
     "data": {
      "text/html": [
       "\n",
       "  <div id=\"df-43e3416b-0704-4cd0-85e6-daadb8968f58\" class=\"colab-df-container\">\n",
       "    <div>\n",
       "<style scoped>\n",
       "    .dataframe tbody tr th:only-of-type {\n",
       "        vertical-align: middle;\n",
       "    }\n",
       "\n",
       "    .dataframe tbody tr th {\n",
       "        vertical-align: top;\n",
       "    }\n",
       "\n",
       "    .dataframe thead th {\n",
       "        text-align: right;\n",
       "    }\n",
       "</style>\n",
       "<table border=\"1\" class=\"dataframe\">\n",
       "  <thead>\n",
       "    <tr style=\"text-align: right;\">\n",
       "      <th></th>\n",
       "      <th>patient_id</th>\n",
       "      <th>bowel_healthy</th>\n",
       "      <th>bowel_injury</th>\n",
       "      <th>extravasation_healthy</th>\n",
       "      <th>extravasation_injury</th>\n",
       "      <th>kidney_healthy</th>\n",
       "      <th>kidney_low</th>\n",
       "      <th>kidney_high</th>\n",
       "      <th>liver_healthy</th>\n",
       "      <th>liver_low</th>\n",
       "      <th>liver_high</th>\n",
       "      <th>spleen_healthy</th>\n",
       "      <th>spleen_low</th>\n",
       "      <th>spleen_high</th>\n",
       "      <th>any_injury</th>\n",
       "      <th>series_id</th>\n",
       "      <th>aortic_hu</th>\n",
       "      <th>incomplete_organ</th>\n",
       "      <th>image_path</th>\n",
       "    </tr>\n",
       "  </thead>\n",
       "  <tbody>\n",
       "    <tr>\n",
       "      <th>0</th>\n",
       "      <td>10004</td>\n",
       "      <td>1</td>\n",
       "      <td>0</td>\n",
       "      <td>0</td>\n",
       "      <td>1</td>\n",
       "      <td>0</td>\n",
       "      <td>1</td>\n",
       "      <td>0</td>\n",
       "      <td>1</td>\n",
       "      <td>0</td>\n",
       "      <td>0</td>\n",
       "      <td>0</td>\n",
       "      <td>0</td>\n",
       "      <td>1</td>\n",
       "      <td>1</td>\n",
       "      <td>21057</td>\n",
       "      <td>146.00</td>\n",
       "      <td>0</td>\n",
       "      <td>/content/drive/MyDrive/png_jjw/10004/21057/img...</td>\n",
       "    </tr>\n",
       "    <tr>\n",
       "      <th>1</th>\n",
       "      <td>10004</td>\n",
       "      <td>1</td>\n",
       "      <td>0</td>\n",
       "      <td>0</td>\n",
       "      <td>1</td>\n",
       "      <td>0</td>\n",
       "      <td>1</td>\n",
       "      <td>0</td>\n",
       "      <td>1</td>\n",
       "      <td>0</td>\n",
       "      <td>0</td>\n",
       "      <td>0</td>\n",
       "      <td>0</td>\n",
       "      <td>1</td>\n",
       "      <td>1</td>\n",
       "      <td>51033</td>\n",
       "      <td>454.75</td>\n",
       "      <td>0</td>\n",
       "      <td>/content/drive/MyDrive/png_jjw/10004/51033/img...</td>\n",
       "    </tr>\n",
       "  </tbody>\n",
       "</table>\n",
       "</div>\n",
       "    <div class=\"colab-df-buttons\">\n",
       "\n",
       "  <div class=\"colab-df-container\">\n",
       "    <button class=\"colab-df-convert\" onclick=\"convertToInteractive('df-43e3416b-0704-4cd0-85e6-daadb8968f58')\"\n",
       "            title=\"Convert this dataframe to an interactive table.\"\n",
       "            style=\"display:none;\">\n",
       "\n",
       "  <svg xmlns=\"http://www.w3.org/2000/svg\" height=\"24px\" viewBox=\"0 -960 960 960\">\n",
       "    <path d=\"M120-120v-720h720v720H120Zm60-500h600v-160H180v160Zm220 220h160v-160H400v160Zm0 220h160v-160H400v160ZM180-400h160v-160H180v160Zm440 0h160v-160H620v160ZM180-180h160v-160H180v160Zm440 0h160v-160H620v160Z\"/>\n",
       "  </svg>\n",
       "    </button>\n",
       "\n",
       "  <style>\n",
       "    .colab-df-container {\n",
       "      display:flex;\n",
       "      gap: 12px;\n",
       "    }\n",
       "\n",
       "    .colab-df-convert {\n",
       "      background-color: #E8F0FE;\n",
       "      border: none;\n",
       "      border-radius: 50%;\n",
       "      cursor: pointer;\n",
       "      display: none;\n",
       "      fill: #1967D2;\n",
       "      height: 32px;\n",
       "      padding: 0 0 0 0;\n",
       "      width: 32px;\n",
       "    }\n",
       "\n",
       "    .colab-df-convert:hover {\n",
       "      background-color: #E2EBFA;\n",
       "      box-shadow: 0px 1px 2px rgba(60, 64, 67, 0.3), 0px 1px 3px 1px rgba(60, 64, 67, 0.15);\n",
       "      fill: #174EA6;\n",
       "    }\n",
       "\n",
       "    .colab-df-buttons div {\n",
       "      margin-bottom: 4px;\n",
       "    }\n",
       "\n",
       "    [theme=dark] .colab-df-convert {\n",
       "      background-color: #3B4455;\n",
       "      fill: #D2E3FC;\n",
       "    }\n",
       "\n",
       "    [theme=dark] .colab-df-convert:hover {\n",
       "      background-color: #434B5C;\n",
       "      box-shadow: 0px 1px 3px 1px rgba(0, 0, 0, 0.15);\n",
       "      filter: drop-shadow(0px 1px 2px rgba(0, 0, 0, 0.3));\n",
       "      fill: #FFFFFF;\n",
       "    }\n",
       "  </style>\n",
       "\n",
       "    <script>\n",
       "      const buttonEl =\n",
       "        document.querySelector('#df-43e3416b-0704-4cd0-85e6-daadb8968f58 button.colab-df-convert');\n",
       "      buttonEl.style.display =\n",
       "        google.colab.kernel.accessAllowed ? 'block' : 'none';\n",
       "\n",
       "      async function convertToInteractive(key) {\n",
       "        const element = document.querySelector('#df-43e3416b-0704-4cd0-85e6-daadb8968f58');\n",
       "        const dataTable =\n",
       "          await google.colab.kernel.invokeFunction('convertToInteractive',\n",
       "                                                    [key], {});\n",
       "        if (!dataTable) return;\n",
       "\n",
       "        const docLinkHtml = 'Like what you see? Visit the ' +\n",
       "          '<a target=\"_blank\" href=https://colab.research.google.com/notebooks/data_table.ipynb>data table notebook</a>'\n",
       "          + ' to learn more about interactive tables.';\n",
       "        element.innerHTML = '';\n",
       "        dataTable['output_type'] = 'display_data';\n",
       "        await google.colab.output.renderOutput(dataTable, element);\n",
       "        const docLink = document.createElement('div');\n",
       "        docLink.innerHTML = docLinkHtml;\n",
       "        element.appendChild(docLink);\n",
       "      }\n",
       "    </script>\n",
       "  </div>\n",
       "\n",
       "\n",
       "<div id=\"df-85bd5a70-649f-44ec-8c74-c653b393b6e4\">\n",
       "  <button class=\"colab-df-quickchart\" onclick=\"quickchart('df-85bd5a70-649f-44ec-8c74-c653b393b6e4')\"\n",
       "            title=\"Suggest charts.\"\n",
       "            style=\"display:none;\">\n",
       "\n",
       "<svg xmlns=\"http://www.w3.org/2000/svg\" height=\"24px\"viewBox=\"0 0 24 24\"\n",
       "     width=\"24px\">\n",
       "    <g>\n",
       "        <path d=\"M19 3H5c-1.1 0-2 .9-2 2v14c0 1.1.9 2 2 2h14c1.1 0 2-.9 2-2V5c0-1.1-.9-2-2-2zM9 17H7v-7h2v7zm4 0h-2V7h2v10zm4 0h-2v-4h2v4z\"/>\n",
       "    </g>\n",
       "</svg>\n",
       "  </button>\n",
       "\n",
       "<style>\n",
       "  .colab-df-quickchart {\n",
       "      --bg-color: #E8F0FE;\n",
       "      --fill-color: #1967D2;\n",
       "      --hover-bg-color: #E2EBFA;\n",
       "      --hover-fill-color: #174EA6;\n",
       "      --disabled-fill-color: #AAA;\n",
       "      --disabled-bg-color: #DDD;\n",
       "  }\n",
       "\n",
       "  [theme=dark] .colab-df-quickchart {\n",
       "      --bg-color: #3B4455;\n",
       "      --fill-color: #D2E3FC;\n",
       "      --hover-bg-color: #434B5C;\n",
       "      --hover-fill-color: #FFFFFF;\n",
       "      --disabled-bg-color: #3B4455;\n",
       "      --disabled-fill-color: #666;\n",
       "  }\n",
       "\n",
       "  .colab-df-quickchart {\n",
       "    background-color: var(--bg-color);\n",
       "    border: none;\n",
       "    border-radius: 50%;\n",
       "    cursor: pointer;\n",
       "    display: none;\n",
       "    fill: var(--fill-color);\n",
       "    height: 32px;\n",
       "    padding: 0;\n",
       "    width: 32px;\n",
       "  }\n",
       "\n",
       "  .colab-df-quickchart:hover {\n",
       "    background-color: var(--hover-bg-color);\n",
       "    box-shadow: 0 1px 2px rgba(60, 64, 67, 0.3), 0 1px 3px 1px rgba(60, 64, 67, 0.15);\n",
       "    fill: var(--button-hover-fill-color);\n",
       "  }\n",
       "\n",
       "  .colab-df-quickchart-complete:disabled,\n",
       "  .colab-df-quickchart-complete:disabled:hover {\n",
       "    background-color: var(--disabled-bg-color);\n",
       "    fill: var(--disabled-fill-color);\n",
       "    box-shadow: none;\n",
       "  }\n",
       "\n",
       "  .colab-df-spinner {\n",
       "    border: 2px solid var(--fill-color);\n",
       "    border-color: transparent;\n",
       "    border-bottom-color: var(--fill-color);\n",
       "    animation:\n",
       "      spin 1s steps(1) infinite;\n",
       "  }\n",
       "\n",
       "  @keyframes spin {\n",
       "    0% {\n",
       "      border-color: transparent;\n",
       "      border-bottom-color: var(--fill-color);\n",
       "      border-left-color: var(--fill-color);\n",
       "    }\n",
       "    20% {\n",
       "      border-color: transparent;\n",
       "      border-left-color: var(--fill-color);\n",
       "      border-top-color: var(--fill-color);\n",
       "    }\n",
       "    30% {\n",
       "      border-color: transparent;\n",
       "      border-left-color: var(--fill-color);\n",
       "      border-top-color: var(--fill-color);\n",
       "      border-right-color: var(--fill-color);\n",
       "    }\n",
       "    40% {\n",
       "      border-color: transparent;\n",
       "      border-right-color: var(--fill-color);\n",
       "      border-top-color: var(--fill-color);\n",
       "    }\n",
       "    60% {\n",
       "      border-color: transparent;\n",
       "      border-right-color: var(--fill-color);\n",
       "    }\n",
       "    80% {\n",
       "      border-color: transparent;\n",
       "      border-right-color: var(--fill-color);\n",
       "      border-bottom-color: var(--fill-color);\n",
       "    }\n",
       "    90% {\n",
       "      border-color: transparent;\n",
       "      border-bottom-color: var(--fill-color);\n",
       "    }\n",
       "  }\n",
       "</style>\n",
       "\n",
       "  <script>\n",
       "    async function quickchart(key) {\n",
       "      const quickchartButtonEl =\n",
       "        document.querySelector('#' + key + ' button');\n",
       "      quickchartButtonEl.disabled = true;  // To prevent multiple clicks.\n",
       "      quickchartButtonEl.classList.add('colab-df-spinner');\n",
       "      try {\n",
       "        const charts = await google.colab.kernel.invokeFunction(\n",
       "            'suggestCharts', [key], {});\n",
       "      } catch (error) {\n",
       "        console.error('Error during call to suggestCharts:', error);\n",
       "      }\n",
       "      quickchartButtonEl.classList.remove('colab-df-spinner');\n",
       "      quickchartButtonEl.classList.add('colab-df-quickchart-complete');\n",
       "    }\n",
       "    (() => {\n",
       "      let quickchartButtonEl =\n",
       "        document.querySelector('#df-85bd5a70-649f-44ec-8c74-c653b393b6e4 button');\n",
       "      quickchartButtonEl.style.display =\n",
       "        google.colab.kernel.accessAllowed ? 'block' : 'none';\n",
       "    })();\n",
       "  </script>\n",
       "</div>\n",
       "    </div>\n",
       "  </div>\n"
      ],
      "text/plain": [
       "   patient_id  bowel_healthy  bowel_injury  extravasation_healthy  \\\n",
       "0       10004              1             0                      0   \n",
       "1       10004              1             0                      0   \n",
       "\n",
       "   extravasation_injury  kidney_healthy  kidney_low  kidney_high  \\\n",
       "0                     1               0           1            0   \n",
       "1                     1               0           1            0   \n",
       "\n",
       "   liver_healthy  liver_low  liver_high  spleen_healthy  spleen_low  \\\n",
       "0              1          0           0               0           0   \n",
       "1              1          0           0               0           0   \n",
       "\n",
       "   spleen_high  any_injury  series_id  aortic_hu  incomplete_organ  \\\n",
       "0            1           1      21057     146.00                 0   \n",
       "1            1           1      51033     454.75                 0   \n",
       "\n",
       "                                          image_path  \n",
       "0  /content/drive/MyDrive/png_jjw/10004/21057/img...  \n",
       "1  /content/drive/MyDrive/png_jjw/10004/51033/img...  "
      ]
     },
     "execution_count": 8,
     "metadata": {},
     "output_type": "execute_result"
    }
   ],
   "source": [
    "# CSV 파일을 읽어와서 데이터프레임 생성\n",
    "train_df = pd.read_csv(f\"{BASE_PATH}/train.csv\")\n",
    "series_meta_df = pd.read_csv(f\"{BASE_PATH}/train_series_meta.csv\")\n",
    "\n",
    "# train.csv와 train_series_meta.csv를 patient_id를 기준으로 병합\n",
    "dataframe = pd.merge(train_df, series_meta_df, on=\"patient_id\")\n",
    "\n",
    "# 이미지 경로 생성\n",
    "dataframe[\"image_path\"] = f\"/content/drive/MyDrive/png_jjw\"\\\n",
    "                    + \"/\" + dataframe.patient_id.astype(str)\\\n",
    "                    + \"/\" + dataframe.series_id.astype(str)\\\n",
    "                    + \"/\" + \"img_256x256_d1_original\"\\\n",
    "                    + \"/\" + \"image_\" + dataframe.groupby(\"series_id\").cumcount().add(1).astype(str).str.zfill(3) + \".png\"\n",
    "\n",
    "# 중복 행 제거\n",
    "dataframe = dataframe.drop_duplicates()\n",
    "\n",
    "# 처음 2개 행 출력\n",
    "dataframe.head(2)\n"
   ]
  },
  {
   "cell_type": "code",
   "execution_count": 9,
   "metadata": {
    "executionInfo": {
     "elapsed": 9,
     "status": "ok",
     "timestamp": 1696716500618,
     "user": {
      "displayName": "Sumin Cho",
      "userId": "16162125883516553653"
     },
     "user_tz": -540
    },
    "id": "Nu9XchDNX-iv"
   },
   "outputs": [],
   "source": [
    "# Function to handle the split for each group\n",
    "def split_group(group, test_size=0.2):\n",
    "    if len(group) == 1:\n",
    "        return (group, pd.DataFrame()) if np.random.rand() < test_size else (pd.DataFrame(), group)\n",
    "    else:\n",
    "        return train_test_split(group, test_size=test_size, random_state=42)\n",
    "\n",
    "# Initialize the train and validation datasets\n",
    "train_data = pd.DataFrame()\n",
    "val_data = pd.DataFrame()\n",
    "\n",
    "# Iterate through the groups and split them, handling single-sample groups\n",
    "for _, group in dataframe.groupby(config.TARGET_COLS):\n",
    "    train_group, val_group = split_group(group)\n",
    "    train_data = pd.concat([train_data, train_group], ignore_index=True)\n",
    "    val_data = pd.concat([val_data, val_group], ignore_index=True)"
   ]
  },
  {
   "cell_type": "code",
   "execution_count": 10,
   "metadata": {
    "colab": {
     "base_uri": "https://localhost:8080/"
    },
    "executionInfo": {
     "elapsed": 8,
     "status": "ok",
     "timestamp": 1696716500618,
     "user": {
      "displayName": "Sumin Cho",
      "userId": "16162125883516553653"
     },
     "user_tz": -540
    },
    "id": "jtbt681pYCLo",
    "outputId": "5f1f8b1e-6ceb-43ad-cf7b-7c6a952757e8"
   },
   "outputs": [
    {
     "data": {
      "text/plain": [
       "((3745, 19), (966, 19))"
      ]
     },
     "execution_count": 10,
     "metadata": {},
     "output_type": "execute_result"
    }
   ],
   "source": [
    "train_data.shape, val_data.shape"
   ]
  },
  {
   "cell_type": "code",
   "execution_count": 11,
   "metadata": {
    "executionInfo": {
     "elapsed": 6,
     "status": "ok",
     "timestamp": 1696716500618,
     "user": {
      "displayName": "Sumin Cho",
      "userId": "16162125883516553653"
     },
     "user_tz": -540
    },
    "id": "lnGHaN1CYD0f"
   },
   "outputs": [],
   "source": [
    "def decode_image_and_label(image_path, label):\n",
    "    file_bytes = tf.io.read_file(image_path)\n",
    "    image = tf.io.decode_png(file_bytes, channels=3, dtype=tf.uint8)\n",
    "    image = tf.image.resize(image, config.IMAGE_SIZE, method=\"bilinear\")\n",
    "    image = tf.cast(image, tf.float32) / 255.0\n",
    "\n",
    "    label = tf.cast(label, tf.float32)\n",
    "    labels = (label[0:1], label[1:2], label[2:5], label[5:8], label[8:11])\n",
    "\n",
    "    return (image, labels)"
   ]
  },
  {
   "cell_type": "code",
   "execution_count": 12,
   "metadata": {
    "executionInfo": {
     "elapsed": 6,
     "status": "ok",
     "timestamp": 1696716500618,
     "user": {
      "displayName": "Sumin Cho",
      "userId": "16162125883516553653"
     },
     "user_tz": -540
    },
    "id": "eAL7PxEGYFaS"
   },
   "outputs": [],
   "source": [
    "# 레이어 외부에서 RandomFlip 레이어를 생성\n",
    "random_flip_layer = tf.keras.layers.experimental.preprocessing.RandomFlip(\"horizontal\")\n",
    "random_rotation_layer = tf.keras.layers.experimental.preprocessing.RandomRotation(0.2)\n",
    "\n",
    "class CustomAugmenter(tf.keras.layers.Layer):\n",
    "    def __init__(self, cutout_params, **kwargs):\n",
    "        super(CustomAugmenter, self).__init__(**kwargs)\n",
    "        self.cutout_layer = keras_cv.layers.Augmenter([keras_cv.layers.RandomCutout(**cutout_params)])\n",
    "\n",
    "    def call(self, inputs, training=None):\n",
    "        if training:\n",
    "            inputs = random_flip_layer(inputs)\n",
    "            inputs = random_rotation_layer(inputs)\n",
    "            inputs = self.cutout_layer(inputs)\n",
    "        return inputs\n",
    "\n",
    "def apply_augmentation(images, labels):\n",
    "    # 이미지 증강 파이프라인을 정의\n",
    "    augmenter = CustomAugmenter(cutout_params={\"height_factor\": 0.2, \"width_factor\": 0.2})\n",
    "\n",
    "    # 이미지 증강을 적용\n",
    "    augmented_images = augmenter(images, training=True)\n",
    "\n",
    "    return (augmented_images, labels)"
   ]
  },
  {
   "cell_type": "code",
   "execution_count": 13,
   "metadata": {
    "executionInfo": {
     "elapsed": 6,
     "status": "ok",
     "timestamp": 1696716500619,
     "user": {
      "displayName": "Sumin Cho",
      "userId": "16162125883516553653"
     },
     "user_tz": -540
    },
    "id": "kaybtZl8YG9s"
   },
   "outputs": [],
   "source": [
    "def build_dataset(image_paths, labels):\n",
    "    ds = (\n",
    "        tf.data.Dataset.from_tensor_slices((image_paths, labels))\n",
    "        .map(decode_image_and_label, num_parallel_calls=config.AUTOTUNE)\n",
    "        .shuffle(config.BATCH_SIZE * 10)\n",
    "        .batch(config.BATCH_SIZE)\n",
    "        .map(apply_augmentation, num_parallel_calls=config.AUTOTUNE)  # 이미지 증강 적용\n",
    "        .prefetch(config.AUTOTUNE)\n",
    "    )\n",
    "    return ds"
   ]
  },
  {
   "cell_type": "code",
   "execution_count": 14,
   "metadata": {
    "colab": {
     "base_uri": "https://localhost:8080/",
     "height": 409
    },
    "executionInfo": {
     "elapsed": 38519,
     "status": "error",
     "timestamp": 1696716539132,
     "user": {
      "displayName": "Sumin Cho",
      "userId": "16162125883516553653"
     },
     "user_tz": -540
    },
    "id": "HGjkekmCYI71",
    "outputId": "96293449-6056-45fd-d42e-342dd8e283be"
   },
   "outputs": [
    {
     "ename": "NotFoundError",
     "evalue": "ignored",
     "output_type": "error",
     "traceback": [
      "\u001b[0;31m---------------------------------------------------------------------------\u001b[0m",
      "\u001b[0;31mNotFoundError\u001b[0m                             Traceback (most recent call last)",
      "\u001b[0;32m<ipython-input-14-4b95c9da5aeb>\u001b[0m in \u001b[0;36m<cell line: 5>\u001b[0;34m()\u001b[0m\n\u001b[1;32m      3\u001b[0m \u001b[0;34m\u001b[0m\u001b[0m\n\u001b[1;32m      4\u001b[0m \u001b[0mds\u001b[0m \u001b[0;34m=\u001b[0m \u001b[0mbuild_dataset\u001b[0m\u001b[0;34m(\u001b[0m\u001b[0mimage_paths\u001b[0m\u001b[0;34m=\u001b[0m\u001b[0mpaths\u001b[0m\u001b[0;34m,\u001b[0m \u001b[0mlabels\u001b[0m\u001b[0;34m=\u001b[0m\u001b[0mlabels\u001b[0m\u001b[0;34m)\u001b[0m\u001b[0;34m\u001b[0m\u001b[0;34m\u001b[0m\u001b[0m\n\u001b[0;32m----> 5\u001b[0;31m \u001b[0mimages\u001b[0m\u001b[0;34m,\u001b[0m \u001b[0mlabels\u001b[0m \u001b[0;34m=\u001b[0m \u001b[0mnext\u001b[0m\u001b[0;34m(\u001b[0m\u001b[0miter\u001b[0m\u001b[0;34m(\u001b[0m\u001b[0mds\u001b[0m\u001b[0;34m)\u001b[0m\u001b[0;34m)\u001b[0m\u001b[0;34m\u001b[0m\u001b[0;34m\u001b[0m\u001b[0m\n\u001b[0m\u001b[1;32m      6\u001b[0m \u001b[0mimages\u001b[0m\u001b[0;34m.\u001b[0m\u001b[0mshape\u001b[0m\u001b[0;34m,\u001b[0m \u001b[0;34m[\u001b[0m\u001b[0mlabel\u001b[0m\u001b[0;34m.\u001b[0m\u001b[0mshape\u001b[0m \u001b[0;32mfor\u001b[0m \u001b[0mlabel\u001b[0m \u001b[0;32min\u001b[0m \u001b[0mlabels\u001b[0m\u001b[0;34m]\u001b[0m\u001b[0;34m\u001b[0m\u001b[0;34m\u001b[0m\u001b[0m\n",
      "\u001b[0;32m/usr/local/lib/python3.10/dist-packages/tensorflow/python/data/ops/iterator_ops.py\u001b[0m in \u001b[0;36m__next__\u001b[0;34m(self)\u001b[0m\n\u001b[1;32m    812\u001b[0m   \u001b[0;32mdef\u001b[0m \u001b[0m__next__\u001b[0m\u001b[0;34m(\u001b[0m\u001b[0mself\u001b[0m\u001b[0;34m)\u001b[0m\u001b[0;34m:\u001b[0m\u001b[0;34m\u001b[0m\u001b[0;34m\u001b[0m\u001b[0m\n\u001b[1;32m    813\u001b[0m     \u001b[0;32mtry\u001b[0m\u001b[0;34m:\u001b[0m\u001b[0;34m\u001b[0m\u001b[0;34m\u001b[0m\u001b[0m\n\u001b[0;32m--> 814\u001b[0;31m       \u001b[0;32mreturn\u001b[0m \u001b[0mself\u001b[0m\u001b[0;34m.\u001b[0m\u001b[0m_next_internal\u001b[0m\u001b[0;34m(\u001b[0m\u001b[0;34m)\u001b[0m\u001b[0;34m\u001b[0m\u001b[0;34m\u001b[0m\u001b[0m\n\u001b[0m\u001b[1;32m    815\u001b[0m     \u001b[0;32mexcept\u001b[0m \u001b[0merrors\u001b[0m\u001b[0;34m.\u001b[0m\u001b[0mOutOfRangeError\u001b[0m\u001b[0;34m:\u001b[0m\u001b[0;34m\u001b[0m\u001b[0;34m\u001b[0m\u001b[0m\n\u001b[1;32m    816\u001b[0m       \u001b[0;32mraise\u001b[0m \u001b[0mStopIteration\u001b[0m\u001b[0;34m\u001b[0m\u001b[0;34m\u001b[0m\u001b[0m\n",
      "\u001b[0;32m/usr/local/lib/python3.10/dist-packages/tensorflow/python/data/ops/iterator_ops.py\u001b[0m in \u001b[0;36m_next_internal\u001b[0;34m(self)\u001b[0m\n\u001b[1;32m    775\u001b[0m     \u001b[0;31m# to communicate that there is no more data to iterate over.\u001b[0m\u001b[0;34m\u001b[0m\u001b[0;34m\u001b[0m\u001b[0m\n\u001b[1;32m    776\u001b[0m     \u001b[0;32mwith\u001b[0m \u001b[0mcontext\u001b[0m\u001b[0;34m.\u001b[0m\u001b[0mexecution_mode\u001b[0m\u001b[0;34m(\u001b[0m\u001b[0mcontext\u001b[0m\u001b[0;34m.\u001b[0m\u001b[0mSYNC\u001b[0m\u001b[0;34m)\u001b[0m\u001b[0;34m:\u001b[0m\u001b[0;34m\u001b[0m\u001b[0;34m\u001b[0m\u001b[0m\n\u001b[0;32m--> 777\u001b[0;31m       ret = gen_dataset_ops.iterator_get_next(\n\u001b[0m\u001b[1;32m    778\u001b[0m           \u001b[0mself\u001b[0m\u001b[0;34m.\u001b[0m\u001b[0m_iterator_resource\u001b[0m\u001b[0;34m,\u001b[0m\u001b[0;34m\u001b[0m\u001b[0;34m\u001b[0m\u001b[0m\n\u001b[1;32m    779\u001b[0m           \u001b[0moutput_types\u001b[0m\u001b[0;34m=\u001b[0m\u001b[0mself\u001b[0m\u001b[0;34m.\u001b[0m\u001b[0m_flat_output_types\u001b[0m\u001b[0;34m,\u001b[0m\u001b[0;34m\u001b[0m\u001b[0;34m\u001b[0m\u001b[0m\n",
      "\u001b[0;32m/usr/local/lib/python3.10/dist-packages/tensorflow/python/ops/gen_dataset_ops.py\u001b[0m in \u001b[0;36miterator_get_next\u001b[0;34m(iterator, output_types, output_shapes, name)\u001b[0m\n\u001b[1;32m   3026\u001b[0m       \u001b[0;32mreturn\u001b[0m \u001b[0m_result\u001b[0m\u001b[0;34m\u001b[0m\u001b[0;34m\u001b[0m\u001b[0m\n\u001b[1;32m   3027\u001b[0m     \u001b[0;32mexcept\u001b[0m \u001b[0m_core\u001b[0m\u001b[0;34m.\u001b[0m\u001b[0m_NotOkStatusException\u001b[0m \u001b[0;32mas\u001b[0m \u001b[0me\u001b[0m\u001b[0;34m:\u001b[0m\u001b[0;34m\u001b[0m\u001b[0;34m\u001b[0m\u001b[0m\n\u001b[0;32m-> 3028\u001b[0;31m       \u001b[0m_ops\u001b[0m\u001b[0;34m.\u001b[0m\u001b[0mraise_from_not_ok_status\u001b[0m\u001b[0;34m(\u001b[0m\u001b[0me\u001b[0m\u001b[0;34m,\u001b[0m \u001b[0mname\u001b[0m\u001b[0;34m)\u001b[0m\u001b[0;34m\u001b[0m\u001b[0;34m\u001b[0m\u001b[0m\n\u001b[0m\u001b[1;32m   3029\u001b[0m     \u001b[0;32mexcept\u001b[0m \u001b[0m_core\u001b[0m\u001b[0;34m.\u001b[0m\u001b[0m_FallbackException\u001b[0m\u001b[0;34m:\u001b[0m\u001b[0;34m\u001b[0m\u001b[0;34m\u001b[0m\u001b[0m\n\u001b[1;32m   3030\u001b[0m       \u001b[0;32mpass\u001b[0m\u001b[0;34m\u001b[0m\u001b[0;34m\u001b[0m\u001b[0m\n",
      "\u001b[0;32m/usr/local/lib/python3.10/dist-packages/tensorflow/python/framework/ops.py\u001b[0m in \u001b[0;36mraise_from_not_ok_status\u001b[0;34m(e, name)\u001b[0m\n\u001b[1;32m   6654\u001b[0m \u001b[0;32mdef\u001b[0m \u001b[0mraise_from_not_ok_status\u001b[0m\u001b[0;34m(\u001b[0m\u001b[0me\u001b[0m\u001b[0;34m,\u001b[0m \u001b[0mname\u001b[0m\u001b[0;34m)\u001b[0m\u001b[0;34m:\u001b[0m\u001b[0;34m\u001b[0m\u001b[0;34m\u001b[0m\u001b[0m\n\u001b[1;32m   6655\u001b[0m   \u001b[0me\u001b[0m\u001b[0;34m.\u001b[0m\u001b[0mmessage\u001b[0m \u001b[0;34m+=\u001b[0m \u001b[0;34m(\u001b[0m\u001b[0;34m\" name: \"\u001b[0m \u001b[0;34m+\u001b[0m \u001b[0mstr\u001b[0m\u001b[0;34m(\u001b[0m\u001b[0mname\u001b[0m \u001b[0;32mif\u001b[0m \u001b[0mname\u001b[0m \u001b[0;32mis\u001b[0m \u001b[0;32mnot\u001b[0m \u001b[0;32mNone\u001b[0m \u001b[0;32melse\u001b[0m \u001b[0;34m\"\"\u001b[0m\u001b[0;34m)\u001b[0m\u001b[0;34m)\u001b[0m\u001b[0;34m\u001b[0m\u001b[0;34m\u001b[0m\u001b[0m\n\u001b[0;32m-> 6656\u001b[0;31m   \u001b[0;32mraise\u001b[0m \u001b[0mcore\u001b[0m\u001b[0;34m.\u001b[0m\u001b[0m_status_to_exception\u001b[0m\u001b[0;34m(\u001b[0m\u001b[0me\u001b[0m\u001b[0;34m)\u001b[0m \u001b[0;32mfrom\u001b[0m \u001b[0;32mNone\u001b[0m  \u001b[0;31m# pylint: disable=protected-access\u001b[0m\u001b[0;34m\u001b[0m\u001b[0;34m\u001b[0m\u001b[0m\n\u001b[0m\u001b[1;32m   6657\u001b[0m \u001b[0;34m\u001b[0m\u001b[0m\n\u001b[1;32m   6658\u001b[0m \u001b[0;34m\u001b[0m\u001b[0m\n",
      "\u001b[0;31mNotFoundError\u001b[0m: {{function_node __wrapped__IteratorGetNext_output_types_6_device_/job:localhost/replica:0/task:0/device:CPU:0}} /content/drive/MyDrive/png_jjw/49443/26216/img_256x256_d1_original/image_001.png; No such file or directory\n\t [[{{node ReadFile}}]] [Op:IteratorGetNext] name: "
     ]
    }
   ],
   "source": [
    "paths = train_data.image_path.tolist()\n",
    "labels = train_data[config.TARGET_COLS].values\n",
    "\n",
    "ds = build_dataset(image_paths=paths, labels=labels)\n",
    "images, labels = next(iter(ds))\n",
    "images.shape, [label.shape for label in labels]"
   ]
  },
  {
   "cell_type": "code",
   "execution_count": null,
   "metadata": {
    "executionInfo": {
     "elapsed": 4,
     "status": "aborted",
     "timestamp": 1696716539133,
     "user": {
      "displayName": "Sumin Cho",
      "userId": "16162125883516553653"
     },
     "user_tz": -540
    },
    "id": "GUY-pZMPYK3z"
   },
   "outputs": [],
   "source": [
    "keras_cv.visualization.plot_image_gallery(\n",
    "    images=images,\n",
    "    value_range=(0, 1),\n",
    "    rows=2,\n",
    "    cols=2,\n",
    ")"
   ]
  },
  {
   "cell_type": "markdown",
   "metadata": {
    "id": "rmcvaMvtbhyE"
   },
   "source": [
    "Model"
   ]
  },
  {
   "cell_type": "markdown",
   "metadata": {
    "id": "Ux1M9hViexZM"
   },
   "source": [
    "Resnet50"
   ]
  },
  {
   "cell_type": "code",
   "execution_count": null,
   "metadata": {
    "executionInfo": {
     "elapsed": 4,
     "status": "aborted",
     "timestamp": 1696716539133,
     "user": {
      "displayName": "Sumin Cho",
      "userId": "16162125883516553653"
     },
     "user_tz": -540
    },
    "id": "uQ5TczQBbTTa"
   },
   "outputs": [],
   "source": [
    "def build_model(warmup_steps, decay_steps):\n",
    "    # Define Input\n",
    "    inputs = keras.Input(shape=config.IMAGE_SIZE + [3,], batch_size=config.BATCH_SIZE)\n",
    "\n",
    "    # Define Backbone\n",
    "    backbone = keras_cv.models.ResNetBackbone.from_preset(\"resnet50_imagenet\")\n",
    "    backbone.include_rescaling = False\n",
    "    x = backbone(inputs)\n",
    "\n",
    "    # GAP to get the activation maps\n",
    "    gap = keras.layers.GlobalAveragePooling2D()\n",
    "    x = gap(x)\n",
    "\n",
    "    # Define 'necks' for each head\n",
    "    x_bowel = keras.layers.Dense(32, activation='silu')(x)\n",
    "    x_extra = keras.layers.Dense(32, activation='silu')(x)\n",
    "    x_liver = keras.layers.Dense(32, activation='silu')(x)\n",
    "    x_kidney = keras.layers.Dense(32, activation='silu')(x)\n",
    "    x_spleen = keras.layers.Dense(32, activation='silu')(x)\n",
    "\n",
    "    # Define heads\n",
    "    out_bowel = keras.layers.Dense(1, name='bowel', activation='sigmoid')(x_bowel) # use sigmoid to convert predictions to [0-1]\n",
    "    out_extra = keras.layers.Dense(1, name='extra', activation='sigmoid')(x_extra) # use sigmoid to convert predictions to [0-1]\n",
    "    out_liver = keras.layers.Dense(3, name='liver', activation='softmax')(x_liver) # use softmax for the liver head\n",
    "    out_kidney = keras.layers.Dense(3, name='kidney', activation='softmax')(x_kidney) # use softmax for the kidney head\n",
    "    out_spleen = keras.layers.Dense(3, name='spleen', activation='softmax')(x_spleen) # use softmax for the spleen head\n",
    "\n",
    "    # Concatenate the outputs\n",
    "    outputs = [out_bowel, out_extra, out_liver, out_kidney, out_spleen]\n",
    "\n",
    "    # Create model\n",
    "    print(\"[INFO] Building the model...\")\n",
    "    model = keras.Model(inputs=inputs, outputs=outputs)\n",
    "\n",
    "    # Cosine Decay\n",
    "    cosine_decay = keras.optimizers.schedules.CosineDecay(\n",
    "        initial_learning_rate=1e-4,\n",
    "        decay_steps=decay_steps,\n",
    "        alpha=0.0,\n",
    "        warmup_target=1e-3,\n",
    "        warmup_steps=warmup_steps,\n",
    "    )\n",
    "\n",
    "    # Compile the model\n",
    "    optimizer = keras.optimizers.Adam(learning_rate=cosine_decay)\n",
    "    loss = {\n",
    "        \"bowel\":keras.losses.BinaryCrossentropy(),\n",
    "        \"extra\":keras.losses.BinaryCrossentropy(),\n",
    "        \"liver\":keras.losses.CategoricalCrossentropy(),\n",
    "        \"kidney\":keras.losses.CategoricalCrossentropy(),\n",
    "        \"spleen\":keras.losses.CategoricalCrossentropy(),\n",
    "    }\n",
    "    metrics = {\n",
    "        \"bowel\":[\"accuracy\"],\n",
    "        \"extra\":[\"accuracy\"],\n",
    "        \"liver\":[\"accuracy\"],\n",
    "        \"kidney\":[\"accuracy\"],\n",
    "        \"spleen\":[\"accuracy\"],\n",
    "    }\n",
    "    print(\"[INFO] Compiling the model...\")\n",
    "    model.compile(\n",
    "        optimizer=optimizer,\n",
    "      loss=loss,\n",
    "      metrics=metrics\n",
    "    )\n",
    "\n",
    "    return model"
   ]
  },
  {
   "cell_type": "markdown",
   "metadata": {
    "id": "QHOb-3zPbmF0"
   },
   "source": [
    "Train"
   ]
  },
  {
   "cell_type": "code",
   "execution_count": null,
   "metadata": {
    "executionInfo": {
     "elapsed": 3,
     "status": "aborted",
     "timestamp": 1696716539133,
     "user": {
      "displayName": "Sumin Cho",
      "userId": "16162125883516553653"
     },
     "user_tz": -540
    },
    "id": "0S8xxkyybkjD"
   },
   "outputs": [],
   "source": [
    "# get image_paths and labels\n",
    "print(\"[INFO] Building the dataset...\")\n",
    "train_paths = train_data.image_path.values; train_labels = train_data[config.TARGET_COLS].values.astype(np.float32)\n",
    "valid_paths = val_data.image_path.values; valid_labels = val_data[config.TARGET_COLS].values.astype(np.float32)\n",
    "\n",
    "# train and valid dataset\n",
    "train_ds = build_dataset(image_paths=train_paths, labels=train_labels)\n",
    "val_ds = build_dataset(image_paths=valid_paths, labels=valid_labels)\n",
    "\n",
    "total_train_steps = train_ds.cardinality().numpy() * config.BATCH_SIZE * config.EPOCHS\n",
    "warmup_steps = int(total_train_steps * 0.10)\n",
    "decay_steps = total_train_steps - warmup_steps\n",
    "\n",
    "print(f\"{total_train_steps=}\")\n",
    "print(f\"{warmup_steps=}\")\n",
    "print(f\"{decay_steps=}\")"
   ]
  },
  {
   "cell_type": "code",
   "execution_count": null,
   "metadata": {
    "executionInfo": {
     "elapsed": 3,
     "status": "aborted",
     "timestamp": 1696716539133,
     "user": {
      "displayName": "Sumin Cho",
      "userId": "16162125883516553653"
     },
     "user_tz": -540
    },
    "id": "9FP3oSNAbmwV"
   },
   "outputs": [],
   "source": [
    "# build the model\n",
    "print(\"[INFO] Building the model...\")\n",
    "model = build_model(warmup_steps, decay_steps)\n",
    "\n",
    "# train\n",
    "print(\"[INFO] Training...\")\n",
    "history = model.fit(\n",
    "    train_ds,\n",
    "    epochs=config.EPOCHS,\n",
    "    validation_data=val_ds,\n",
    ")"
   ]
  },
  {
   "cell_type": "code",
   "execution_count": null,
   "metadata": {
    "executionInfo": {
     "elapsed": 3,
     "status": "aborted",
     "timestamp": 1696716539133,
     "user": {
      "displayName": "Sumin Cho",
      "userId": "16162125883516553653"
     },
     "user_tz": -540
    },
    "id": "5tprq2yoboCD"
   },
   "outputs": [],
   "source": [
    "# Create a 3x2 grid for the subplots\n",
    "fig, axes = plt.subplots(5, 1, figsize=(5, 15))\n",
    "\n",
    "# Flatten axes to iterate through them\n",
    "axes = axes.flatten()\n",
    "\n",
    "# Iterate through the metrics and plot them\n",
    "for i, name in enumerate([\"bowel\", \"extra\", \"kidney\", \"liver\", \"spleen\"]):\n",
    "    # Plot training accuracy\n",
    "    axes[i].plot(history.history[name + '_accuracy'], label='Training ' + name)\n",
    "    # Plot validation accuracy\n",
    "    axes[i].plot(history.history['val_' + name + '_accuracy'], label='Validation ' + name)\n",
    "    axes[i].set_title(name)\n",
    "    axes[i].set_xlabel('Epoch')\n",
    "    axes[i].set_ylabel('Accuracy')\n",
    "    axes[i].legend()\n",
    "\n",
    "plt.tight_layout()\n",
    "plt.show()"
   ]
  },
  {
   "cell_type": "code",
   "execution_count": null,
   "metadata": {
    "executionInfo": {
     "elapsed": 3,
     "status": "aborted",
     "timestamp": 1696716539133,
     "user": {
      "displayName": "Sumin Cho",
      "userId": "16162125883516553653"
     },
     "user_tz": -540
    },
    "id": "NvrHuficbqn9"
   },
   "outputs": [],
   "source": [
    "# store best results\n",
    "best_epoch = np.argmin(history.history['val_loss'])\n",
    "best_loss = history.history['val_loss'][best_epoch]\n",
    "best_acc_bowel = history.history['val_bowel_accuracy'][best_epoch]\n",
    "best_acc_extra = history.history['val_extra_accuracy'][best_epoch]\n",
    "best_acc_liver = history.history['val_liver_accuracy'][best_epoch]\n",
    "best_acc_kidney = history.history['val_kidney_accuracy'][best_epoch]\n",
    "best_acc_spleen = history.history['val_spleen_accuracy'][best_epoch]\n",
    "\n",
    "# Find mean accuracy\n",
    "best_acc = np.mean(\n",
    "    [best_acc_bowel,\n",
    "     best_acc_extra,\n",
    "     best_acc_liver,\n",
    "     best_acc_kidney,\n",
    "     best_acc_spleen\n",
    "])\n",
    "\n",
    "\n",
    "print(f'>>>> BEST Loss  : {best_loss:.3f}\\n>>>> BEST Acc   : {best_acc:.3f}\\n>>>> BEST Epoch : {best_epoch}\\n')\n",
    "print('ORGAN Acc:')\n",
    "print(f'  >>>> {\"Bowel\".ljust(15)} : {best_acc_bowel:.3f}')\n",
    "print(f'  >>>> {\"Extravasation\".ljust(15)} : {best_acc_extra:.3f}')\n",
    "print(f'  >>>> {\"Liver\".ljust(15)} : {best_acc_liver:.3f}')\n",
    "print(f'  >>>> {\"Kidney\".ljust(15)} : {best_acc_kidney:.3f}')\n",
    "print(f'  >>>> {\"Spleen\".ljust(15)} : {best_acc_spleen:.3f}')"
   ]
  },
  {
   "cell_type": "markdown",
   "metadata": {
    "id": "bdZzLMn79Og-"
   },
   "source": [
    "## Model Save"
   ]
  },
  {
   "cell_type": "code",
   "execution_count": null,
   "metadata": {
    "executionInfo": {
     "elapsed": 3,
     "status": "aborted",
     "timestamp": 1696716539133,
     "user": {
      "displayName": "Sumin Cho",
      "userId": "16162125883516553653"
     },
     "user_tz": -540
    },
    "id": "r71ILfXZbq23"
   },
   "outputs": [],
   "source": [
    "model.save(BASE_PATH + \"/rsna_original_resnet.kaggle\")"
   ]
  },
  {
   "cell_type": "markdown",
   "metadata": {
    "id": "66Ti7ay49Yja"
   },
   "source": [
    "# Infer"
   ]
  },
  {
   "cell_type": "code",
   "execution_count": null,
   "metadata": {
    "id": "PLwJ7v_HAWWd"
   },
   "outputs": [],
   "source": [
    "class Config_Infer:\n",
    "    IMAGE_SIZE = [256, 256]\n",
    "    RESIZE_DIM = 256\n",
    "    BATCH_SIZE = 64\n",
    "    AUTOTUNE = tf.data.AUTOTUNE\n",
    "    TARGET_COLS  = [\"bowel_healthy\", \"bowel_injury\", \"extravasation_healthy\",\n",
    "                   \"extravasation_injury\", \"kidney_healthy\", \"kidney_low\",\n",
    "                   \"kidney_high\", \"liver_healthy\", \"liver_low\", \"liver_high\",\n",
    "                   \"spleen_healthy\", \"spleen_low\", \"spleen_high\"]\n",
    "\n",
    "config_infer = Config_Infer()"
   ]
  },
  {
   "cell_type": "code",
   "execution_count": null,
   "metadata": {
    "colab": {
     "base_uri": "https://localhost:8080/"
    },
    "id": "r7MvxNnczcWJ",
    "outputId": "c795dc3b-e01b-482e-93a5-d1ed32ae04a9"
   },
   "outputs": [
    {
     "name": "stdout",
     "output_type": "stream",
     "text": [
      "num_rows=6\n",
      "unique_patients=3\n"
     ]
    }
   ],
   "source": [
    "meta_df = pd.read_csv(f\"{BASE_PATH}/test_series_meta.csv\")\n",
    "\n",
    "# Checking if patients are repeated by finding the number of unique patient IDs\n",
    "num_rows = meta_df.shape[0]\n",
    "unique_patients = meta_df[\"patient_id\"].nunique()\n",
    "\n",
    "print(f\"{num_rows=}\")\n",
    "print(f\"{unique_patients=}\")\n",
    "num_rows=6\n",
    "unique_patients=3"
   ]
  },
  {
   "cell_type": "code",
   "execution_count": null,
   "metadata": {
    "colab": {
     "base_uri": "https://localhost:8080/"
    },
    "id": "KihTD-r-9akU",
    "outputId": "f159c9fd-17cd-49f3-a70a-231a5efde264"
   },
   "outputs": [
    {
     "name": "stdout",
     "output_type": "stream",
     "text": [
      "3\n"
     ]
    }
   ],
   "source": [
    "from glob import glob\n",
    "test_data = sorted(glob('/content/drive/MyDrive/test/rsna-atd-512x512-png-v2-dataset/test_images/*/*/*.png'))\n",
    "print(len(test_data))"
   ]
  },
  {
   "cell_type": "code",
   "execution_count": null,
   "metadata": {
    "colab": {
     "base_uri": "https://localhost:8080/",
     "height": 112
    },
    "id": "TpHGeRlj9fNe",
    "outputId": "007ebc0d-aefe-4453-a0c6-a16b52089990"
   },
   "outputs": [
    {
     "data": {
      "text/html": [
       "\n",
       "  <div id=\"df-21de160f-d385-48a9-ac9b-ee1b13a9908f\" class=\"colab-df-container\">\n",
       "    <div>\n",
       "<style scoped>\n",
       "    .dataframe tbody tr th:only-of-type {\n",
       "        vertical-align: middle;\n",
       "    }\n",
       "\n",
       "    .dataframe tbody tr th {\n",
       "        vertical-align: top;\n",
       "    }\n",
       "\n",
       "    .dataframe thead th {\n",
       "        text-align: right;\n",
       "    }\n",
       "</style>\n",
       "<table border=\"1\" class=\"dataframe\">\n",
       "  <thead>\n",
       "    <tr style=\"text-align: right;\">\n",
       "      <th></th>\n",
       "      <th>image_path</th>\n",
       "      <th>patient_id</th>\n",
       "      <th>series_id</th>\n",
       "      <th>instance_number</th>\n",
       "      <th>width</th>\n",
       "      <th>height</th>\n",
       "    </tr>\n",
       "  </thead>\n",
       "  <tbody>\n",
       "    <tr>\n",
       "      <th>0</th>\n",
       "      <td>/content/drive/MyDrive/test/rsna-atd-512x512-p...</td>\n",
       "      <td>63706</td>\n",
       "      <td>39279</td>\n",
       "      <td>30</td>\n",
       "      <td>512</td>\n",
       "      <td>512</td>\n",
       "    </tr>\n",
       "    <tr>\n",
       "      <th>1</th>\n",
       "      <td>/content/drive/MyDrive/test/rsna-atd-512x512-p...</td>\n",
       "      <td>50046</td>\n",
       "      <td>24574</td>\n",
       "      <td>30</td>\n",
       "      <td>512</td>\n",
       "      <td>512</td>\n",
       "    </tr>\n",
       "  </tbody>\n",
       "</table>\n",
       "</div>\n",
       "    <div class=\"colab-df-buttons\">\n",
       "\n",
       "  <div class=\"colab-df-container\">\n",
       "    <button class=\"colab-df-convert\" onclick=\"convertToInteractive('df-21de160f-d385-48a9-ac9b-ee1b13a9908f')\"\n",
       "            title=\"Convert this dataframe to an interactive table.\"\n",
       "            style=\"display:none;\">\n",
       "\n",
       "  <svg xmlns=\"http://www.w3.org/2000/svg\" height=\"24px\" viewBox=\"0 -960 960 960\">\n",
       "    <path d=\"M120-120v-720h720v720H120Zm60-500h600v-160H180v160Zm220 220h160v-160H400v160Zm0 220h160v-160H400v160ZM180-400h160v-160H180v160Zm440 0h160v-160H620v160ZM180-180h160v-160H180v160Zm440 0h160v-160H620v160Z\"/>\n",
       "  </svg>\n",
       "    </button>\n",
       "\n",
       "  <style>\n",
       "    .colab-df-container {\n",
       "      display:flex;\n",
       "      gap: 12px;\n",
       "    }\n",
       "\n",
       "    .colab-df-convert {\n",
       "      background-color: #E8F0FE;\n",
       "      border: none;\n",
       "      border-radius: 50%;\n",
       "      cursor: pointer;\n",
       "      display: none;\n",
       "      fill: #1967D2;\n",
       "      height: 32px;\n",
       "      padding: 0 0 0 0;\n",
       "      width: 32px;\n",
       "    }\n",
       "\n",
       "    .colab-df-convert:hover {\n",
       "      background-color: #E2EBFA;\n",
       "      box-shadow: 0px 1px 2px rgba(60, 64, 67, 0.3), 0px 1px 3px 1px rgba(60, 64, 67, 0.15);\n",
       "      fill: #174EA6;\n",
       "    }\n",
       "\n",
       "    .colab-df-buttons div {\n",
       "      margin-bottom: 4px;\n",
       "    }\n",
       "\n",
       "    [theme=dark] .colab-df-convert {\n",
       "      background-color: #3B4455;\n",
       "      fill: #D2E3FC;\n",
       "    }\n",
       "\n",
       "    [theme=dark] .colab-df-convert:hover {\n",
       "      background-color: #434B5C;\n",
       "      box-shadow: 0px 1px 3px 1px rgba(0, 0, 0, 0.15);\n",
       "      filter: drop-shadow(0px 1px 2px rgba(0, 0, 0, 0.3));\n",
       "      fill: #FFFFFF;\n",
       "    }\n",
       "  </style>\n",
       "\n",
       "    <script>\n",
       "      const buttonEl =\n",
       "        document.querySelector('#df-21de160f-d385-48a9-ac9b-ee1b13a9908f button.colab-df-convert');\n",
       "      buttonEl.style.display =\n",
       "        google.colab.kernel.accessAllowed ? 'block' : 'none';\n",
       "\n",
       "      async function convertToInteractive(key) {\n",
       "        const element = document.querySelector('#df-21de160f-d385-48a9-ac9b-ee1b13a9908f');\n",
       "        const dataTable =\n",
       "          await google.colab.kernel.invokeFunction('convertToInteractive',\n",
       "                                                    [key], {});\n",
       "        if (!dataTable) return;\n",
       "\n",
       "        const docLinkHtml = 'Like what you see? Visit the ' +\n",
       "          '<a target=\"_blank\" href=https://colab.research.google.com/notebooks/data_table.ipynb>data table notebook</a>'\n",
       "          + ' to learn more about interactive tables.';\n",
       "        element.innerHTML = '';\n",
       "        dataTable['output_type'] = 'display_data';\n",
       "        await google.colab.output.renderOutput(dataTable, element);\n",
       "        const docLink = document.createElement('div');\n",
       "        docLink.innerHTML = docLinkHtml;\n",
       "        element.appendChild(docLink);\n",
       "      }\n",
       "    </script>\n",
       "  </div>\n",
       "\n",
       "\n",
       "<div id=\"df-c586dd81-f4c4-4bc2-81b0-e5a28445e122\">\n",
       "  <button class=\"colab-df-quickchart\" onclick=\"quickchart('df-c586dd81-f4c4-4bc2-81b0-e5a28445e122')\"\n",
       "            title=\"Suggest charts.\"\n",
       "            style=\"display:none;\">\n",
       "\n",
       "<svg xmlns=\"http://www.w3.org/2000/svg\" height=\"24px\"viewBox=\"0 0 24 24\"\n",
       "     width=\"24px\">\n",
       "    <g>\n",
       "        <path d=\"M19 3H5c-1.1 0-2 .9-2 2v14c0 1.1.9 2 2 2h14c1.1 0 2-.9 2-2V5c0-1.1-.9-2-2-2zM9 17H7v-7h2v7zm4 0h-2V7h2v10zm4 0h-2v-4h2v4z\"/>\n",
       "    </g>\n",
       "</svg>\n",
       "  </button>\n",
       "\n",
       "<style>\n",
       "  .colab-df-quickchart {\n",
       "      --bg-color: #E8F0FE;\n",
       "      --fill-color: #1967D2;\n",
       "      --hover-bg-color: #E2EBFA;\n",
       "      --hover-fill-color: #174EA6;\n",
       "      --disabled-fill-color: #AAA;\n",
       "      --disabled-bg-color: #DDD;\n",
       "  }\n",
       "\n",
       "  [theme=dark] .colab-df-quickchart {\n",
       "      --bg-color: #3B4455;\n",
       "      --fill-color: #D2E3FC;\n",
       "      --hover-bg-color: #434B5C;\n",
       "      --hover-fill-color: #FFFFFF;\n",
       "      --disabled-bg-color: #3B4455;\n",
       "      --disabled-fill-color: #666;\n",
       "  }\n",
       "\n",
       "  .colab-df-quickchart {\n",
       "    background-color: var(--bg-color);\n",
       "    border: none;\n",
       "    border-radius: 50%;\n",
       "    cursor: pointer;\n",
       "    display: none;\n",
       "    fill: var(--fill-color);\n",
       "    height: 32px;\n",
       "    padding: 0;\n",
       "    width: 32px;\n",
       "  }\n",
       "\n",
       "  .colab-df-quickchart:hover {\n",
       "    background-color: var(--hover-bg-color);\n",
       "    box-shadow: 0 1px 2px rgba(60, 64, 67, 0.3), 0 1px 3px 1px rgba(60, 64, 67, 0.15);\n",
       "    fill: var(--button-hover-fill-color);\n",
       "  }\n",
       "\n",
       "  .colab-df-quickchart-complete:disabled,\n",
       "  .colab-df-quickchart-complete:disabled:hover {\n",
       "    background-color: var(--disabled-bg-color);\n",
       "    fill: var(--disabled-fill-color);\n",
       "    box-shadow: none;\n",
       "  }\n",
       "\n",
       "  .colab-df-spinner {\n",
       "    border: 2px solid var(--fill-color);\n",
       "    border-color: transparent;\n",
       "    border-bottom-color: var(--fill-color);\n",
       "    animation:\n",
       "      spin 1s steps(1) infinite;\n",
       "  }\n",
       "\n",
       "  @keyframes spin {\n",
       "    0% {\n",
       "      border-color: transparent;\n",
       "      border-bottom-color: var(--fill-color);\n",
       "      border-left-color: var(--fill-color);\n",
       "    }\n",
       "    20% {\n",
       "      border-color: transparent;\n",
       "      border-left-color: var(--fill-color);\n",
       "      border-top-color: var(--fill-color);\n",
       "    }\n",
       "    30% {\n",
       "      border-color: transparent;\n",
       "      border-left-color: var(--fill-color);\n",
       "      border-top-color: var(--fill-color);\n",
       "      border-right-color: var(--fill-color);\n",
       "    }\n",
       "    40% {\n",
       "      border-color: transparent;\n",
       "      border-right-color: var(--fill-color);\n",
       "      border-top-color: var(--fill-color);\n",
       "    }\n",
       "    60% {\n",
       "      border-color: transparent;\n",
       "      border-right-color: var(--fill-color);\n",
       "    }\n",
       "    80% {\n",
       "      border-color: transparent;\n",
       "      border-right-color: var(--fill-color);\n",
       "      border-bottom-color: var(--fill-color);\n",
       "    }\n",
       "    90% {\n",
       "      border-color: transparent;\n",
       "      border-bottom-color: var(--fill-color);\n",
       "    }\n",
       "  }\n",
       "</style>\n",
       "\n",
       "  <script>\n",
       "    async function quickchart(key) {\n",
       "      const quickchartButtonEl =\n",
       "        document.querySelector('#' + key + ' button');\n",
       "      quickchartButtonEl.disabled = true;  // To prevent multiple clicks.\n",
       "      quickchartButtonEl.classList.add('colab-df-spinner');\n",
       "      try {\n",
       "        const charts = await google.colab.kernel.invokeFunction(\n",
       "            'suggestCharts', [key], {});\n",
       "      } catch (error) {\n",
       "        console.error('Error during call to suggestCharts:', error);\n",
       "      }\n",
       "      quickchartButtonEl.classList.remove('colab-df-spinner');\n",
       "      quickchartButtonEl.classList.add('colab-df-quickchart-complete');\n",
       "    }\n",
       "    (() => {\n",
       "      let quickchartButtonEl =\n",
       "        document.querySelector('#df-c586dd81-f4c4-4bc2-81b0-e5a28445e122 button');\n",
       "      quickchartButtonEl.style.display =\n",
       "        google.colab.kernel.accessAllowed ? 'block' : 'none';\n",
       "    })();\n",
       "  </script>\n",
       "</div>\n",
       "    </div>\n",
       "  </div>\n"
      ],
      "text/plain": [
       "                                          image_path  patient_id  series_id  \\\n",
       "0  /content/drive/MyDrive/test/rsna-atd-512x512-p...       63706      39279   \n",
       "1  /content/drive/MyDrive/test/rsna-atd-512x512-p...       50046      24574   \n",
       "\n",
       "   instance_number  width  height  \n",
       "0               30    512     512  \n",
       "1               30    512     512  "
      ]
     },
     "execution_count": 19,
     "metadata": {},
     "output_type": "execute_result"
    }
   ],
   "source": [
    "test_df = pd.read_csv(f\"{BASE_PATH}/test.csv\")\n",
    "\n",
    "test_df[\"image_path\"] = f\"{BASE_PATH}/test_images\"\\\n",
    "                    + \"/\" + test_df.patient_id.astype(str)\\\n",
    "                    + \"/\" + test_df.series_id.astype(str)\\\n",
    "                    + \"/\" + test_df.instance_number.astype(str) +\".png\"\n",
    "\n",
    "test_df.head(2)"
   ]
  },
  {
   "cell_type": "code",
   "execution_count": null,
   "metadata": {
    "colab": {
     "base_uri": "https://localhost:8080/"
    },
    "id": "fhN9vlmN9ioN",
    "outputId": "819b4add-a7e1-4c20-f22b-ac14b57c99a6"
   },
   "outputs": [
    {
     "name": "stdout",
     "output_type": "stream",
     "text": [
      "num_rows=3\n",
      "unique_patients=3\n"
     ]
    }
   ],
   "source": [
    "# Checking if patients are repeated by finding the number of unique patient IDs\n",
    "num_rows = test_df.shape[0]\n",
    "unique_patients = test_df[\"patient_id\"].nunique()\n",
    "\n",
    "print(f\"{num_rows=}\")\n",
    "print(f\"{unique_patients=}\")\n",
    "num_rows=3\n",
    "unique_patients=3"
   ]
  },
  {
   "cell_type": "code",
   "execution_count": null,
   "metadata": {
    "id": "RWTY5ckH5RLr"
   },
   "outputs": [],
   "source": [
    "def decode_image_infer(image_path):\n",
    "    file_bytes = tf.io.read_file(image_path)\n",
    "    image = tf.io.decode_png(file_bytes, channels=3, dtype=tf.uint8)\n",
    "    image = tf.image.resize(image, config.IMAGE_SIZE, method=\"bilinear\")\n",
    "    image = tf.cast(image, tf.float32) / 255.0\n",
    "    return image\n",
    "\n",
    "def build_dataset_infer(image_paths):\n",
    "    ds = (\n",
    "        tf.data.Dataset.from_tensor_slices(image_paths)\n",
    "        .map(decode_image_infer, num_parallel_calls=config.AUTOTUNE)\n",
    "        .shuffle(config.BATCH_SIZE * 10)\n",
    "        .batch(config.BATCH_SIZE)\n",
    "        .prefetch(config.AUTOTUNE)\n",
    "    )\n",
    "    return ds"
   ]
  },
  {
   "cell_type": "code",
   "execution_count": null,
   "metadata": {
    "colab": {
     "base_uri": "https://localhost:8080/"
    },
    "id": "llInY1Hv9mAY",
    "outputId": "0fccb242-bcb6-4771-ee49-d2be4d1c74a4"
   },
   "outputs": [
    {
     "data": {
      "text/plain": [
       "TensorShape([3, 256, 256, 3])"
      ]
     },
     "execution_count": 30,
     "metadata": {},
     "output_type": "execute_result"
    }
   ],
   "source": [
    "paths  = test_df.image_path.tolist()\n",
    "\n",
    "ds = build_dataset_infer(image_paths=paths)\n",
    "images = next(iter(ds))\n",
    "\n",
    "images.shape"
   ]
  },
  {
   "cell_type": "code",
   "execution_count": null,
   "metadata": {
    "colab": {
     "base_uri": "https://localhost:8080/",
     "height": 397
    },
    "id": "qS-hKUng9oCE",
    "outputId": "be4f9036-a206-448d-b830-c6735cf5f15e"
   },
   "outputs": [
    {
     "data": {
      "image/png": "[encoded data removed]",
      "text/plain": [
       "<Figure size 600x200 with 3 Axes>"
      ]
     },
     "execution_count": 31,
     "metadata": {},
     "output_type": "execute_result"
    },
    {
     "data": {
      "image/png": "[encoded data removed]",
      "text/plain": [
       "<Figure size 600x200 with 3 Axes>"
      ]
     },
     "metadata": {},
     "output_type": "display_data"
    }
   ],
   "source": [
    "keras_cv.visualization.plot_image_gallery(\n",
    "    images=images,\n",
    "    value_range=(0, 1),\n",
    "    rows=1,\n",
    "    cols=3,\n",
    ")"
   ]
  },
  {
   "cell_type": "code",
   "execution_count": null,
   "metadata": {
    "colab": {
     "base_uri": "https://localhost:8080/",
     "height": 628
    },
    "id": "PVyUYJYf95tz",
    "outputId": "13134260-6bbe-4ebc-8be1-5d019500a43e"
   },
   "outputs": [
    {
     "data": {
      "text/html": [
       "<pre style=\"white-space:pre;overflow-x:auto;line-height:normal;font-family:Menlo,'DejaVu Sans Mono',consolas,'Courier New',monospace\"><span style=\"font-weight: bold\">Model: \"functional_1\"</span>\n",
       "</pre>\n"
      ],
      "text/plain": [
       "\u001b[1mModel: \"functional_1\"\u001b[0m\n"
      ]
     },
     "metadata": {},
     "output_type": "display_data"
    },
    {
     "data": {
      "text/html": [
       "<pre style=\"white-space:pre;overflow-x:auto;line-height:normal;font-family:Menlo,'DejaVu Sans Mono',consolas,'Courier New',monospace\">┏━━━━━━━━━━━━━━━━━━━━━┳━━━━━━━━━━━━━━━━━━━┳━━━━━━━━━┳━━━━━━━━━━━━━━━━━━━━━━┓\n",
       "┃<span style=\"font-weight: bold\"> Layer (type)        </span>┃<span style=\"font-weight: bold\"> Output Shape      </span>┃<span style=\"font-weight: bold\"> Param # </span>┃<span style=\"font-weight: bold\"> Connected to         </span>┃\n",
       "┡━━━━━━━━━━━━━━━━━━━━━╇━━━━━━━━━━━━━━━━━━━╇━━━━━━━━━╇━━━━━━━━━━━━━━━━━━━━━━┩\n",
       "│ input_layer         │ (<span style=\"color: #00af00; text-decoration-color: #00af00\">64</span>, <span style=\"color: #00af00; text-decoration-color: #00af00\">256</span>, <span style=\"color: #00af00; text-decoration-color: #00af00\">256</span>, <span style=\"color: #00af00; text-decoration-color: #00af00\">3</span>) │       <span style=\"color: #00af00; text-decoration-color: #00af00\">0</span> │ -                    │\n",
       "│ (<span style=\"color: #0087ff; text-decoration-color: #0087ff\">InputLayer</span>)        │                   │         │                      │\n",
       "├─────────────────────┼───────────────────┼─────────┼──────────────────────┤\n",
       "│ res_net_backbone    │ (<span style=\"color: #00af00; text-decoration-color: #00af00\">64</span>, <span style=\"color: #00af00; text-decoration-color: #00af00\">8</span>, <span style=\"color: #00af00; text-decoration-color: #00af00\">8</span>, <span style=\"color: #00af00; text-decoration-color: #00af00\">2048</span>)  │ <span style=\"color: #00af00; text-decoration-color: #00af00\">23,561…</span> │ input_layer[<span style=\"color: #00af00; text-decoration-color: #00af00\">0</span>][<span style=\"color: #00af00; text-decoration-color: #00af00\">0</span>]    │\n",
       "│ (<span style=\"color: #0087ff; text-decoration-color: #0087ff\">ResNetBackbone</span>)    │                   │         │                      │\n",
       "├─────────────────────┼───────────────────┼─────────┼──────────────────────┤\n",
       "│ global_average_poo… │ (<span style=\"color: #00af00; text-decoration-color: #00af00\">64</span>, <span style=\"color: #00af00; text-decoration-color: #00af00\">2048</span>)        │       <span style=\"color: #00af00; text-decoration-color: #00af00\">0</span> │ res_net_backbone[<span style=\"color: #00af00; text-decoration-color: #00af00\">0</span>]… │\n",
       "│ (<span style=\"color: #0087ff; text-decoration-color: #0087ff\">GlobalAveragePool…</span> │                   │         │                      │\n",
       "├─────────────────────┼───────────────────┼─────────┼──────────────────────┤\n",
       "│ dense (<span style=\"color: #0087ff; text-decoration-color: #0087ff\">Dense</span>)       │ (<span style=\"color: #00af00; text-decoration-color: #00af00\">64</span>, <span style=\"color: #00af00; text-decoration-color: #00af00\">32</span>)          │  <span style=\"color: #00af00; text-decoration-color: #00af00\">65,568</span> │ global_average_pool… │\n",
       "├─────────────────────┼───────────────────┼─────────┼──────────────────────┤\n",
       "│ dense_1 (<span style=\"color: #0087ff; text-decoration-color: #0087ff\">Dense</span>)     │ (<span style=\"color: #00af00; text-decoration-color: #00af00\">64</span>, <span style=\"color: #00af00; text-decoration-color: #00af00\">32</span>)          │  <span style=\"color: #00af00; text-decoration-color: #00af00\">65,568</span> │ global_average_pool… │\n",
       "├─────────────────────┼───────────────────┼─────────┼──────────────────────┤\n",
       "│ dense_2 (<span style=\"color: #0087ff; text-decoration-color: #0087ff\">Dense</span>)     │ (<span style=\"color: #00af00; text-decoration-color: #00af00\">64</span>, <span style=\"color: #00af00; text-decoration-color: #00af00\">32</span>)          │  <span style=\"color: #00af00; text-decoration-color: #00af00\">65,568</span> │ global_average_pool… │\n",
       "├─────────────────────┼───────────────────┼─────────┼──────────────────────┤\n",
       "│ dense_3 (<span style=\"color: #0087ff; text-decoration-color: #0087ff\">Dense</span>)     │ (<span style=\"color: #00af00; text-decoration-color: #00af00\">64</span>, <span style=\"color: #00af00; text-decoration-color: #00af00\">32</span>)          │  <span style=\"color: #00af00; text-decoration-color: #00af00\">65,568</span> │ global_average_pool… │\n",
       "├─────────────────────┼───────────────────┼─────────┼──────────────────────┤\n",
       "│ dense_4 (<span style=\"color: #0087ff; text-decoration-color: #0087ff\">Dense</span>)     │ (<span style=\"color: #00af00; text-decoration-color: #00af00\">64</span>, <span style=\"color: #00af00; text-decoration-color: #00af00\">32</span>)          │  <span style=\"color: #00af00; text-decoration-color: #00af00\">65,568</span> │ global_average_pool… │\n",
       "├─────────────────────┼───────────────────┼─────────┼──────────────────────┤\n",
       "│ bowel (<span style=\"color: #0087ff; text-decoration-color: #0087ff\">Dense</span>)       │ (<span style=\"color: #00af00; text-decoration-color: #00af00\">64</span>, <span style=\"color: #00af00; text-decoration-color: #00af00\">1</span>)           │      <span style=\"color: #00af00; text-decoration-color: #00af00\">33</span> │ dense[<span style=\"color: #00af00; text-decoration-color: #00af00\">0</span>][<span style=\"color: #00af00; text-decoration-color: #00af00\">0</span>]          │\n",
       "├─────────────────────┼───────────────────┼─────────┼──────────────────────┤\n",
       "│ extra (<span style=\"color: #0087ff; text-decoration-color: #0087ff\">Dense</span>)       │ (<span style=\"color: #00af00; text-decoration-color: #00af00\">64</span>, <span style=\"color: #00af00; text-decoration-color: #00af00\">1</span>)           │      <span style=\"color: #00af00; text-decoration-color: #00af00\">33</span> │ dense_1[<span style=\"color: #00af00; text-decoration-color: #00af00\">0</span>][<span style=\"color: #00af00; text-decoration-color: #00af00\">0</span>]        │\n",
       "├─────────────────────┼───────────────────┼─────────┼──────────────────────┤\n",
       "│ liver (<span style=\"color: #0087ff; text-decoration-color: #0087ff\">Dense</span>)       │ (<span style=\"color: #00af00; text-decoration-color: #00af00\">64</span>, <span style=\"color: #00af00; text-decoration-color: #00af00\">3</span>)           │      <span style=\"color: #00af00; text-decoration-color: #00af00\">99</span> │ dense_2[<span style=\"color: #00af00; text-decoration-color: #00af00\">0</span>][<span style=\"color: #00af00; text-decoration-color: #00af00\">0</span>]        │\n",
       "├─────────────────────┼───────────────────┼─────────┼──────────────────────┤\n",
       "│ kidney (<span style=\"color: #0087ff; text-decoration-color: #0087ff\">Dense</span>)      │ (<span style=\"color: #00af00; text-decoration-color: #00af00\">64</span>, <span style=\"color: #00af00; text-decoration-color: #00af00\">3</span>)           │      <span style=\"color: #00af00; text-decoration-color: #00af00\">99</span> │ dense_3[<span style=\"color: #00af00; text-decoration-color: #00af00\">0</span>][<span style=\"color: #00af00; text-decoration-color: #00af00\">0</span>]        │\n",
       "├─────────────────────┼───────────────────┼─────────┼──────────────────────┤\n",
       "│ spleen (<span style=\"color: #0087ff; text-decoration-color: #0087ff\">Dense</span>)      │ (<span style=\"color: #00af00; text-decoration-color: #00af00\">64</span>, <span style=\"color: #00af00; text-decoration-color: #00af00\">3</span>)           │      <span style=\"color: #00af00; text-decoration-color: #00af00\">99</span> │ dense_4[<span style=\"color: #00af00; text-decoration-color: #00af00\">0</span>][<span style=\"color: #00af00; text-decoration-color: #00af00\">0</span>]        │\n",
       "└─────────────────────┴───────────────────┴─────────┴──────────────────────┘\n",
       "</pre>\n"
      ],
      "text/plain": [
       "┏━━━━━━━━━━━━━━━━━━━━━┳━━━━━━━━━━━━━━━━━━━┳━━━━━━━━━┳━━━━━━━━━━━━━━━━━━━━━━┓\n",
       "┃\u001b[1m \u001b[0m\u001b[1mLayer (type)       \u001b[0m\u001b[1m \u001b[0m┃\u001b[1m \u001b[0m\u001b[1mOutput Shape     \u001b[0m\u001b[1m \u001b[0m┃\u001b[1m \u001b[0m\u001b[1mParam #\u001b[0m\u001b[1m \u001b[0m┃\u001b[1m \u001b[0m\u001b[1mConnected to        \u001b[0m\u001b[1m \u001b[0m┃\n",
       "┡━━━━━━━━━━━━━━━━━━━━━╇━━━━━━━━━━━━━━━━━━━╇━━━━━━━━━╇━━━━━━━━━━━━━━━━━━━━━━┩\n",
       "│ input_layer         │ (\u001b[38;5;34m64\u001b[0m, \u001b[38;5;34m256\u001b[0m, \u001b[38;5;34m256\u001b[0m, \u001b[38;5;34m3\u001b[0m) │       \u001b[38;5;34m0\u001b[0m │ -                    │\n",
       "│ (\u001b[38;5;33mInputLayer\u001b[0m)        │                   │         │                      │\n",
       "├─────────────────────┼───────────────────┼─────────┼──────────────────────┤\n",
       "│ res_net_backbone    │ (\u001b[38;5;34m64\u001b[0m, \u001b[38;5;34m8\u001b[0m, \u001b[38;5;34m8\u001b[0m, \u001b[38;5;34m2048\u001b[0m)  │ \u001b[38;5;34m23,561…\u001b[0m │ input_layer[\u001b[38;5;34m0\u001b[0m][\u001b[38;5;34m0\u001b[0m]    │\n",
       "│ (\u001b[38;5;33mResNetBackbone\u001b[0m)    │                   │         │                      │\n",
       "├─────────────────────┼───────────────────┼─────────┼──────────────────────┤\n",
       "│ global_average_poo… │ (\u001b[38;5;34m64\u001b[0m, \u001b[38;5;34m2048\u001b[0m)        │       \u001b[38;5;34m0\u001b[0m │ res_net_backbone[\u001b[38;5;34m0\u001b[0m]… │\n",
       "│ (\u001b[38;5;33mGlobalAveragePool…\u001b[0m │                   │         │                      │\n",
       "├─────────────────────┼───────────────────┼─────────┼──────────────────────┤\n",
       "│ dense (\u001b[38;5;33mDense\u001b[0m)       │ (\u001b[38;5;34m64\u001b[0m, \u001b[38;5;34m32\u001b[0m)          │  \u001b[38;5;34m65,568\u001b[0m │ global_average_pool… │\n",
       "├─────────────────────┼───────────────────┼─────────┼──────────────────────┤\n",
       "│ dense_1 (\u001b[38;5;33mDense\u001b[0m)     │ (\u001b[38;5;34m64\u001b[0m, \u001b[38;5;34m32\u001b[0m)          │  \u001b[38;5;34m65,568\u001b[0m │ global_average_pool… │\n",
       "├─────────────────────┼───────────────────┼─────────┼──────────────────────┤\n",
       "│ dense_2 (\u001b[38;5;33mDense\u001b[0m)     │ (\u001b[38;5;34m64\u001b[0m, \u001b[38;5;34m32\u001b[0m)          │  \u001b[38;5;34m65,568\u001b[0m │ global_average_pool… │\n",
       "├─────────────────────┼───────────────────┼─────────┼──────────────────────┤\n",
       "│ dense_3 (\u001b[38;5;33mDense\u001b[0m)     │ (\u001b[38;5;34m64\u001b[0m, \u001b[38;5;34m32\u001b[0m)          │  \u001b[38;5;34m65,568\u001b[0m │ global_average_pool… │\n",
       "├─────────────────────┼───────────────────┼─────────┼──────────────────────┤\n",
       "│ dense_4 (\u001b[38;5;33mDense\u001b[0m)     │ (\u001b[38;5;34m64\u001b[0m, \u001b[38;5;34m32\u001b[0m)          │  \u001b[38;5;34m65,568\u001b[0m │ global_average_pool… │\n",
       "├─────────────────────┼───────────────────┼─────────┼──────────────────────┤\n",
       "│ bowel (\u001b[38;5;33mDense\u001b[0m)       │ (\u001b[38;5;34m64\u001b[0m, \u001b[38;5;34m1\u001b[0m)           │      \u001b[38;5;34m33\u001b[0m │ dense[\u001b[38;5;34m0\u001b[0m][\u001b[38;5;34m0\u001b[0m]          │\n",
       "├─────────────────────┼───────────────────┼─────────┼──────────────────────┤\n",
       "│ extra (\u001b[38;5;33mDense\u001b[0m)       │ (\u001b[38;5;34m64\u001b[0m, \u001b[38;5;34m1\u001b[0m)           │      \u001b[38;5;34m33\u001b[0m │ dense_1[\u001b[38;5;34m0\u001b[0m][\u001b[38;5;34m0\u001b[0m]        │\n",
       "├─────────────────────┼───────────────────┼─────────┼──────────────────────┤\n",
       "│ liver (\u001b[38;5;33mDense\u001b[0m)       │ (\u001b[38;5;34m64\u001b[0m, \u001b[38;5;34m3\u001b[0m)           │      \u001b[38;5;34m99\u001b[0m │ dense_2[\u001b[38;5;34m0\u001b[0m][\u001b[38;5;34m0\u001b[0m]        │\n",
       "├─────────────────────┼───────────────────┼─────────┼──────────────────────┤\n",
       "│ kidney (\u001b[38;5;33mDense\u001b[0m)      │ (\u001b[38;5;34m64\u001b[0m, \u001b[38;5;34m3\u001b[0m)           │      \u001b[38;5;34m99\u001b[0m │ dense_3[\u001b[38;5;34m0\u001b[0m][\u001b[38;5;34m0\u001b[0m]        │\n",
       "├─────────────────────┼───────────────────┼─────────┼──────────────────────┤\n",
       "│ spleen (\u001b[38;5;33mDense\u001b[0m)      │ (\u001b[38;5;34m64\u001b[0m, \u001b[38;5;34m3\u001b[0m)           │      \u001b[38;5;34m99\u001b[0m │ dense_4[\u001b[38;5;34m0\u001b[0m][\u001b[38;5;34m0\u001b[0m]        │\n",
       "└─────────────────────┴───────────────────┴─────────┴──────────────────────┘\n"
      ]
     },
     "metadata": {},
     "output_type": "display_data"
    },
    {
     "data": {
      "text/html": [
       "<pre style=\"white-space:pre;overflow-x:auto;line-height:normal;font-family:Menlo,'DejaVu Sans Mono',consolas,'Courier New',monospace\"><span style=\"font-weight: bold\"> Total params: </span><span style=\"color: #00af00; text-decoration-color: #00af00\">71,561,826</span> (272.99 MB)\n",
       "</pre>\n"
      ],
      "text/plain": [
       "\u001b[1m Total params: \u001b[0m\u001b[38;5;34m71,561,826\u001b[0m (272.99 MB)\n"
      ]
     },
     "metadata": {},
     "output_type": "display_data"
    },
    {
     "data": {
      "text/html": [
       "<pre style=\"white-space:pre;overflow-x:auto;line-height:normal;font-family:Menlo,'DejaVu Sans Mono',consolas,'Courier New',monospace\"><span style=\"font-weight: bold\"> Trainable params: </span><span style=\"color: #00af00; text-decoration-color: #00af00\">23,836,235</span> (90.93 MB)\n",
       "</pre>\n"
      ],
      "text/plain": [
       "\u001b[1m Trainable params: \u001b[0m\u001b[38;5;34m23,836,235\u001b[0m (90.93 MB)\n"
      ]
     },
     "metadata": {},
     "output_type": "display_data"
    },
    {
     "data": {
      "text/html": [
       "<pre style=\"white-space:pre;overflow-x:auto;line-height:normal;font-family:Menlo,'DejaVu Sans Mono',consolas,'Courier New',monospace\"><span style=\"font-weight: bold\"> Non-trainable params: </span><span style=\"color: #00af00; text-decoration-color: #00af00\">53,120</span> (207.50 KB)\n",
       "</pre>\n"
      ],
      "text/plain": [
       "\u001b[1m Non-trainable params: \u001b[0m\u001b[38;5;34m53,120\u001b[0m (207.50 KB)\n"
      ]
     },
     "metadata": {},
     "output_type": "display_data"
    },
    {
     "data": {
      "text/html": [
       "<pre style=\"white-space:pre;overflow-x:auto;line-height:normal;font-family:Menlo,'DejaVu Sans Mono',consolas,'Courier New',monospace\"><span style=\"font-weight: bold\"> Optimizer params: </span><span style=\"color: #00af00; text-decoration-color: #00af00\">47,672,471</span> (181.86 MB)\n",
       "</pre>\n"
      ],
      "text/plain": [
       "\u001b[1m Optimizer params: \u001b[0m\u001b[38;5;34m47,672,471\u001b[0m (181.86 MB)\n"
      ]
     },
     "metadata": {},
     "output_type": "display_data"
    }
   ],
   "source": [
    "model = keras.models.load_model(\"/content/drive/MyDrive/test/rsna-atd-512x512-png-v2-dataset/my_model.keras\")\n",
    "model.summary()"
   ]
  },
  {
   "cell_type": "code",
   "execution_count": null,
   "metadata": {
    "colab": {
     "base_uri": "https://localhost:8080/"
    },
    "id": "Gk8CWqFq_ZLH",
    "outputId": "36da0086-dbe0-47f3-8ff1-14a9f06ae92b"
   },
   "outputs": [
    {
     "name": "stdout",
     "output_type": "stream",
     "text": [
      "Requirement already satisfied: tqdm in /usr/local/lib/python3.10/dist-packages (4.66.1)\n"
     ]
    }
   ],
   "source": [
    "!pip install tqdm"
   ]
  },
  {
   "cell_type": "code",
   "execution_count": null,
   "metadata": {
    "id": "W6OPxYsp_bHF"
   },
   "outputs": [],
   "source": [
    "from tqdm import tqdm\n",
    "import gc"
   ]
  },
  {
   "cell_type": "code",
   "execution_count": null,
   "metadata": {
    "id": "yxTvbTO49j3H"
   },
   "outputs": [],
   "source": [
    "def post_proc(pred, binary_threshold=0.7):\n",
    "    proc_pred = np.empty((pred.shape[0], 2*2 + 3*3), dtype=\"float32\")\n",
    "\n",
    "    # bowel, extravasation\n",
    "    proc_pred[:, 0] = pred[:, 0] if pred[:, 0] >= binary_threshold else np.mean(pred[:, 0])\n",
    "    proc_pred[:, 1] = 1 - proc_pred[:, 0]\n",
    "    proc_pred[:, 2] = pred[:, 1] if pred[:, 1] >= binary_threshold else np.mean(pred[:, 1])\n",
    "    proc_pred[:, 3] = 1 - proc_pred[:, 2]\n",
    "\n",
    "    # liver, kidney, sneel\n",
    "    proc_pred[:, 4:7] = pred[:, 2:5]\n",
    "    proc_pred[:, 7:10] = pred[:, 5:8]\n",
    "    proc_pred[:, 10:13] = pred[:, 8:11]\n",
    "\n",
    "    return proc_pred"
   ]
  },
  {
   "cell_type": "code",
   "execution_count": null,
   "metadata": {
    "colab": {
     "base_uri": "https://localhost:8080/"
    },
    "id": "6eXIyGXl97EC",
    "outputId": "4c43a1ed-5e37-42b7-9272-4bf819bacae3"
   },
   "outputs": [
    {
     "name": "stderr",
     "output_type": "stream",
     "text": [
      "\r",
      "Patients :   0%|          | 0/3 [00:00<?, ?it/s]"
     ]
    },
    {
     "name": "stdout",
     "output_type": "stream",
     "text": [
      "Patient ID: 63706\n",
      "\u001b[1m1/1\u001b[0m \u001b[32m━━━━━━━━━━━━━━━━━━━━\u001b[0m\u001b[37m\u001b[0m \u001b[1m0s\u001b[0m 29ms/step\n",
      "[[1.        0.        0.9988187 0.0011813 1.        0.        0.\n",
      "  1.        0.        0.        1.        0.        0.       ]\n",
      " [0.        0.        0.        0.        0.        0.        0.\n",
      "  0.        0.        0.        0.        0.        0.       ]\n",
      " [0.        0.        0.        0.        0.        0.        0.\n",
      "  0.        0.        0.        0.        0.        0.       ]]\n"
     ]
    },
    {
     "name": "stderr",
     "output_type": "stream",
     "text": [
      "\r",
      "Patients :  33%|███▎      | 1/3 [00:00<00:00,  2.96it/s]"
     ]
    },
    {
     "name": "stdout",
     "output_type": "stream",
     "text": [
      "Patient ID: 50046\n",
      "\u001b[1m1/1\u001b[0m \u001b[32m━━━━━━━━━━━━━━━━━━━━\u001b[0m\u001b[37m\u001b[0m \u001b[1m0s\u001b[0m 27ms/step\n",
      "[[1.0000000e+00 0.0000000e+00 9.9881870e-01 1.1813045e-03 1.0000000e+00\n",
      "  0.0000000e+00 0.0000000e+00 1.0000000e+00 0.0000000e+00 0.0000000e+00\n",
      "  1.0000000e+00 0.0000000e+00 0.0000000e+00]\n",
      " [1.0000000e+00 0.0000000e+00 9.9972159e-01 2.7841330e-04 1.0000000e+00\n",
      "  0.0000000e+00 0.0000000e+00 1.0000000e+00 0.0000000e+00 0.0000000e+00\n",
      "  1.0000000e+00 0.0000000e+00 0.0000000e+00]\n",
      " [0.0000000e+00 0.0000000e+00 0.0000000e+00 0.0000000e+00 0.0000000e+00\n",
      "  0.0000000e+00 0.0000000e+00 0.0000000e+00 0.0000000e+00 0.0000000e+00\n",
      "  0.0000000e+00 0.0000000e+00 0.0000000e+00]]\n"
     ]
    },
    {
     "name": "stderr",
     "output_type": "stream",
     "text": [
      "\r",
      "Patients :  67%|██████▋   | 2/3 [00:00<00:00,  2.98it/s]"
     ]
    },
    {
     "name": "stdout",
     "output_type": "stream",
     "text": [
      "Patient ID: 48843\n",
      "\u001b[1m1/1\u001b[0m \u001b[32m━━━━━━━━━━━━━━━━━━━━\u001b[0m\u001b[37m\u001b[0m \u001b[1m0s\u001b[0m 28ms/step\n",
      "[[1.0000000e+00 0.0000000e+00 9.9881870e-01 1.1813045e-03 1.0000000e+00\n",
      "  0.0000000e+00 0.0000000e+00 1.0000000e+00 0.0000000e+00 0.0000000e+00\n",
      "  1.0000000e+00 0.0000000e+00 0.0000000e+00]\n",
      " [1.0000000e+00 0.0000000e+00 9.9972159e-01 2.7841330e-04 1.0000000e+00\n",
      "  0.0000000e+00 0.0000000e+00 1.0000000e+00 0.0000000e+00 0.0000000e+00\n",
      "  1.0000000e+00 0.0000000e+00 0.0000000e+00]\n",
      " [1.0000000e+00 0.0000000e+00 9.9257857e-01 7.4214339e-03 1.0000000e+00\n",
      "  0.0000000e+00 0.0000000e+00 1.0000000e+00 0.0000000e+00 0.0000000e+00\n",
      "  1.0000000e+00 0.0000000e+00 0.0000000e+00]]\n"
     ]
    },
    {
     "name": "stderr",
     "output_type": "stream",
     "text": [
      "Patients : 100%|██████████| 3/3 [00:01<00:00,  2.98it/s]\n"
     ]
    }
   ],
   "source": [
    "# Getting unique patient IDs from test dataset\n",
    "patient_ids = test_df[\"patient_id\"].unique()\n",
    "\n",
    "# Initializing array to store predictions\n",
    "patient_preds = np.zeros(\n",
    "    shape=(len(patient_ids), 2*2 + 3*3),\n",
    "    dtype=\"float32\"\n",
    ")\n",
    "\n",
    "# Iterating over each patient\n",
    "for pidx, patient_id in tqdm(enumerate(patient_ids), total=len(patient_ids), desc=\"Patients \"):\n",
    "    print(f\"Patient ID: {patient_id}\")\n",
    "\n",
    "    # Query the dataframe for a particular patient\n",
    "    patient_df = test_df[test_df[\"patient_id\"] == patient_id]\n",
    "\n",
    "    # Getting image paths for a patient\n",
    "    patient_paths = patient_df.image_path.tolist()\n",
    "\n",
    "    # Building dataset for prediction\n",
    "    dtest = build_dataset_infer(patient_paths)\n",
    "\n",
    "    # Predicting with the model\n",
    "    pred = model.predict(dtest)\n",
    "    pred = np.concatenate(pred, axis=-1).astype(\"float32\")\n",
    "    pred = pred[:len(patient_paths), :]\n",
    "    pred = np.mean(pred.reshape(1, len(patient_paths), 11), axis=0)\n",
    "    pred = np.max(pred, axis=0, keepdims=True)\n",
    "\n",
    "    patient_preds[pidx, :] += post_proc(pred)[0]\n",
    "\n",
    "    print(patient_preds)\n",
    "\n",
    "    # Deleting variables to free up memory\n",
    "    del patient_df, patient_paths, dtest, pred; gc.collect()"
   ]
  },
  {
   "cell_type": "code",
   "execution_count": null,
   "metadata": {
    "colab": {
     "base_uri": "https://localhost:8080/",
     "height": 132
    },
    "id": "0TkKNW9o_Qmt",
    "outputId": "6bdde72c-2d54-4e86-b9ea-321d11a2610a"
   },
   "outputs": [
    {
     "data": {
      "text/html": [
       "\n",
       "  <div id=\"df-d546b424-af55-47c3-98a4-4b609706b9d3\" class=\"colab-df-container\">\n",
       "    <div>\n",
       "<style scoped>\n",
       "    .dataframe tbody tr th:only-of-type {\n",
       "        vertical-align: middle;\n",
       "    }\n",
       "\n",
       "    .dataframe tbody tr th {\n",
       "        vertical-align: top;\n",
       "    }\n",
       "\n",
       "    .dataframe thead th {\n",
       "        text-align: right;\n",
       "    }\n",
       "</style>\n",
       "<table border=\"1\" class=\"dataframe\">\n",
       "  <thead>\n",
       "    <tr style=\"text-align: right;\">\n",
       "      <th></th>\n",
       "      <th>patient_id</th>\n",
       "      <th>bowel_healthy</th>\n",
       "      <th>bowel_injury</th>\n",
       "      <th>extravasation_healthy</th>\n",
       "      <th>extravasation_injury</th>\n",
       "      <th>kidney_healthy</th>\n",
       "      <th>kidney_low</th>\n",
       "      <th>kidney_high</th>\n",
       "      <th>liver_healthy</th>\n",
       "      <th>liver_low</th>\n",
       "      <th>liver_high</th>\n",
       "      <th>spleen_healthy</th>\n",
       "      <th>spleen_low</th>\n",
       "      <th>spleen_high</th>\n",
       "    </tr>\n",
       "  </thead>\n",
       "  <tbody>\n",
       "    <tr>\n",
       "      <th>0</th>\n",
       "      <td>48843</td>\n",
       "      <td>1.0</td>\n",
       "      <td>0.0</td>\n",
       "      <td>0.992697</td>\n",
       "      <td>0.007303</td>\n",
       "      <td>1.0</td>\n",
       "      <td>0.0</td>\n",
       "      <td>0.0</td>\n",
       "      <td>1.0</td>\n",
       "      <td>0.0</td>\n",
       "      <td>0.0</td>\n",
       "      <td>1.0</td>\n",
       "      <td>0.0</td>\n",
       "      <td>0.0</td>\n",
       "    </tr>\n",
       "    <tr>\n",
       "      <th>1</th>\n",
       "      <td>50046</td>\n",
       "      <td>1.0</td>\n",
       "      <td>0.0</td>\n",
       "      <td>0.999726</td>\n",
       "      <td>0.000274</td>\n",
       "      <td>1.0</td>\n",
       "      <td>0.0</td>\n",
       "      <td>0.0</td>\n",
       "      <td>1.0</td>\n",
       "      <td>0.0</td>\n",
       "      <td>0.0</td>\n",
       "      <td>1.0</td>\n",
       "      <td>0.0</td>\n",
       "      <td>0.0</td>\n",
       "    </tr>\n",
       "  </tbody>\n",
       "</table>\n",
       "</div>\n",
       "    <div class=\"colab-df-buttons\">\n",
       "\n",
       "  <div class=\"colab-df-container\">\n",
       "    <button class=\"colab-df-convert\" onclick=\"convertToInteractive('df-d546b424-af55-47c3-98a4-4b609706b9d3')\"\n",
       "            title=\"Convert this dataframe to an interactive table.\"\n",
       "            style=\"display:none;\">\n",
       "\n",
       "  <svg xmlns=\"http://www.w3.org/2000/svg\" height=\"24px\" viewBox=\"0 -960 960 960\">\n",
       "    <path d=\"M120-120v-720h720v720H120Zm60-500h600v-160H180v160Zm220 220h160v-160H400v160Zm0 220h160v-160H400v160ZM180-400h160v-160H180v160Zm440 0h160v-160H620v160ZM180-180h160v-160H180v160Zm440 0h160v-160H620v160Z\"/>\n",
       "  </svg>\n",
       "    </button>\n",
       "\n",
       "  <style>\n",
       "    .colab-df-container {\n",
       "      display:flex;\n",
       "      gap: 12px;\n",
       "    }\n",
       "\n",
       "    .colab-df-convert {\n",
       "      background-color: #E8F0FE;\n",
       "      border: none;\n",
       "      border-radius: 50%;\n",
       "      cursor: pointer;\n",
       "      display: none;\n",
       "      fill: #1967D2;\n",
       "      height: 32px;\n",
       "      padding: 0 0 0 0;\n",
       "      width: 32px;\n",
       "    }\n",
       "\n",
       "    .colab-df-convert:hover {\n",
       "      background-color: #E2EBFA;\n",
       "      box-shadow: 0px 1px 2px rgba(60, 64, 67, 0.3), 0px 1px 3px 1px rgba(60, 64, 67, 0.15);\n",
       "      fill: #174EA6;\n",
       "    }\n",
       "\n",
       "    .colab-df-buttons div {\n",
       "      margin-bottom: 4px;\n",
       "    }\n",
       "\n",
       "    [theme=dark] .colab-df-convert {\n",
       "      background-color: #3B4455;\n",
       "      fill: #D2E3FC;\n",
       "    }\n",
       "\n",
       "    [theme=dark] .colab-df-convert:hover {\n",
       "      background-color: #434B5C;\n",
       "      box-shadow: 0px 1px 3px 1px rgba(0, 0, 0, 0.15);\n",
       "      filter: drop-shadow(0px 1px 2px rgba(0, 0, 0, 0.3));\n",
       "      fill: #FFFFFF;\n",
       "    }\n",
       "  </style>\n",
       "\n",
       "    <script>\n",
       "      const buttonEl =\n",
       "        document.querySelector('#df-d546b424-af55-47c3-98a4-4b609706b9d3 button.colab-df-convert');\n",
       "      buttonEl.style.display =\n",
       "        google.colab.kernel.accessAllowed ? 'block' : 'none';\n",
       "\n",
       "      async function convertToInteractive(key) {\n",
       "        const element = document.querySelector('#df-d546b424-af55-47c3-98a4-4b609706b9d3');\n",
       "        const dataTable =\n",
       "          await google.colab.kernel.invokeFunction('convertToInteractive',\n",
       "                                                    [key], {});\n",
       "        if (!dataTable) return;\n",
       "\n",
       "        const docLinkHtml = 'Like what you see? Visit the ' +\n",
       "          '<a target=\"_blank\" href=https://colab.research.google.com/notebooks/data_table.ipynb>data table notebook</a>'\n",
       "          + ' to learn more about interactive tables.';\n",
       "        element.innerHTML = '';\n",
       "        dataTable['output_type'] = 'display_data';\n",
       "        await google.colab.output.renderOutput(dataTable, element);\n",
       "        const docLink = document.createElement('div');\n",
       "        docLink.innerHTML = docLinkHtml;\n",
       "        element.appendChild(docLink);\n",
       "      }\n",
       "    </script>\n",
       "  </div>\n",
       "\n",
       "\n",
       "<div id=\"df-8ffefd3b-a45d-4e4b-8ed7-01293640949b\">\n",
       "  <button class=\"colab-df-quickchart\" onclick=\"quickchart('df-8ffefd3b-a45d-4e4b-8ed7-01293640949b')\"\n",
       "            title=\"Suggest charts.\"\n",
       "            style=\"display:none;\">\n",
       "\n",
       "<svg xmlns=\"http://www.w3.org/2000/svg\" height=\"24px\"viewBox=\"0 0 24 24\"\n",
       "     width=\"24px\">\n",
       "    <g>\n",
       "        <path d=\"M19 3H5c-1.1 0-2 .9-2 2v14c0 1.1.9 2 2 2h14c1.1 0 2-.9 2-2V5c0-1.1-.9-2-2-2zM9 17H7v-7h2v7zm4 0h-2V7h2v10zm4 0h-2v-4h2v4z\"/>\n",
       "    </g>\n",
       "</svg>\n",
       "  </button>\n",
       "\n",
       "<style>\n",
       "  .colab-df-quickchart {\n",
       "      --bg-color: #E8F0FE;\n",
       "      --fill-color: #1967D2;\n",
       "      --hover-bg-color: #E2EBFA;\n",
       "      --hover-fill-color: #174EA6;\n",
       "      --disabled-fill-color: #AAA;\n",
       "      --disabled-bg-color: #DDD;\n",
       "  }\n",
       "\n",
       "  [theme=dark] .colab-df-quickchart {\n",
       "      --bg-color: #3B4455;\n",
       "      --fill-color: #D2E3FC;\n",
       "      --hover-bg-color: #434B5C;\n",
       "      --hover-fill-color: #FFFFFF;\n",
       "      --disabled-bg-color: #3B4455;\n",
       "      --disabled-fill-color: #666;\n",
       "  }\n",
       "\n",
       "  .colab-df-quickchart {\n",
       "    background-color: var(--bg-color);\n",
       "    border: none;\n",
       "    border-radius: 50%;\n",
       "    cursor: pointer;\n",
       "    display: none;\n",
       "    fill: var(--fill-color);\n",
       "    height: 32px;\n",
       "    padding: 0;\n",
       "    width: 32px;\n",
       "  }\n",
       "\n",
       "  .colab-df-quickchart:hover {\n",
       "    background-color: var(--hover-bg-color);\n",
       "    box-shadow: 0 1px 2px rgba(60, 64, 67, 0.3), 0 1px 3px 1px rgba(60, 64, 67, 0.15);\n",
       "    fill: var(--button-hover-fill-color);\n",
       "  }\n",
       "\n",
       "  .colab-df-quickchart-complete:disabled,\n",
       "  .colab-df-quickchart-complete:disabled:hover {\n",
       "    background-color: var(--disabled-bg-color);\n",
       "    fill: var(--disabled-fill-color);\n",
       "    box-shadow: none;\n",
       "  }\n",
       "\n",
       "  .colab-df-spinner {\n",
       "    border: 2px solid var(--fill-color);\n",
       "    border-color: transparent;\n",
       "    border-bottom-color: var(--fill-color);\n",
       "    animation:\n",
       "      spin 1s steps(1) infinite;\n",
       "  }\n",
       "\n",
       "  @keyframes spin {\n",
       "    0% {\n",
       "      border-color: transparent;\n",
       "      border-bottom-color: var(--fill-color);\n",
       "      border-left-color: var(--fill-color);\n",
       "    }\n",
       "    20% {\n",
       "      border-color: transparent;\n",
       "      border-left-color: var(--fill-color);\n",
       "      border-top-color: var(--fill-color);\n",
       "    }\n",
       "    30% {\n",
       "      border-color: transparent;\n",
       "      border-left-color: var(--fill-color);\n",
       "      border-top-color: var(--fill-color);\n",
       "      border-right-color: var(--fill-color);\n",
       "    }\n",
       "    40% {\n",
       "      border-color: transparent;\n",
       "      border-right-color: var(--fill-color);\n",
       "      border-top-color: var(--fill-color);\n",
       "    }\n",
       "    60% {\n",
       "      border-color: transparent;\n",
       "      border-right-color: var(--fill-color);\n",
       "    }\n",
       "    80% {\n",
       "      border-color: transparent;\n",
       "      border-right-color: var(--fill-color);\n",
       "      border-bottom-color: var(--fill-color);\n",
       "    }\n",
       "    90% {\n",
       "      border-color: transparent;\n",
       "      border-bottom-color: var(--fill-color);\n",
       "    }\n",
       "  }\n",
       "</style>\n",
       "\n",
       "  <script>\n",
       "    async function quickchart(key) {\n",
       "      const quickchartButtonEl =\n",
       "        document.querySelector('#' + key + ' button');\n",
       "      quickchartButtonEl.disabled = true;  // To prevent multiple clicks.\n",
       "      quickchartButtonEl.classList.add('colab-df-spinner');\n",
       "      try {\n",
       "        const charts = await google.colab.kernel.invokeFunction(\n",
       "            'suggestCharts', [key], {});\n",
       "      } catch (error) {\n",
       "        console.error('Error during call to suggestCharts:', error);\n",
       "      }\n",
       "      quickchartButtonEl.classList.remove('colab-df-spinner');\n",
       "      quickchartButtonEl.classList.add('colab-df-quickchart-complete');\n",
       "    }\n",
       "    (() => {\n",
       "      let quickchartButtonEl =\n",
       "        document.querySelector('#df-8ffefd3b-a45d-4e4b-8ed7-01293640949b button');\n",
       "      quickchartButtonEl.style.display =\n",
       "        google.colab.kernel.accessAllowed ? 'block' : 'none';\n",
       "    })();\n",
       "  </script>\n",
       "</div>\n",
       "    </div>\n",
       "  </div>\n"
      ],
      "text/plain": [
       "   patient_id  bowel_healthy  bowel_injury  extravasation_healthy  \\\n",
       "0       48843            1.0           0.0               0.992697   \n",
       "1       50046            1.0           0.0               0.999726   \n",
       "\n",
       "   extravasation_injury  kidney_healthy  kidney_low  kidney_high  \\\n",
       "0              0.007303             1.0         0.0          0.0   \n",
       "1              0.000274             1.0         0.0          0.0   \n",
       "\n",
       "   liver_healthy  liver_low  liver_high  spleen_healthy  spleen_low  \\\n",
       "0            1.0        0.0         0.0             1.0         0.0   \n",
       "1            1.0        0.0         0.0             1.0         0.0   \n",
       "\n",
       "   spleen_high  \n",
       "0          0.0  \n",
       "1          0.0  "
      ]
     },
     "execution_count": 62,
     "metadata": {},
     "output_type": "execute_result"
    }
   ],
   "source": [
    "# Create Submission\n",
    "pred_df = pd.DataFrame({\"patient_id\":patient_ids,})\n",
    "pred_df[config_infer.TARGET_COLS] = patient_preds.astype(\"float32\")\n",
    "\n",
    "# Align with sample submission\n",
    "sub_df = pd.read_csv(f\"{BASE_PATH}/sample_submission.csv\")\n",
    "sub_df = sub_df[[\"patient_id\"]]\n",
    "sub_df = sub_df.merge(pred_df, on=\"patient_id\", how=\"left\")\n",
    "\n",
    "# Store submission\n",
    "sub_df.to_csv(BASE_PATH + \"/submission_resnet.csv\",index=False)\n",
    "sub_df.head(2)"
   ]
  },
  {
   "cell_type": "code",
   "execution_count": null,
   "metadata": {
    "id": "mBFqDufi_srE"
   },
   "outputs": [],
   "source": []
  }
 ],
 "metadata": {
  "accelerator": "GPU",
  "colab": {
   "gpuType": "T4",
   "machine_shape": "hm",
   "provenance": []
  },
  "kernelspec": {
   "display_name": "Python 3 (ipykernel)",
   "language": "python",
   "name": "python3"
  },
  "language_info": {
   "codemirror_mode": {
    "name": "ipython",
    "version": 3
   },
   "file_extension": ".py",
   "mimetype": "text/x-python",
   "name": "python",
   "nbconvert_exporter": "python",
   "pygments_lexer": "ipython3",
   "version": "3.9.13"
  }
 },
 "nbformat": 4,
 "nbformat_minor": 1
}
