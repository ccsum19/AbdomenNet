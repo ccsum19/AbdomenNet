{
 "cells": [
  {
   "cell_type": "markdown",
   "metadata": {},
   "source": [
    "<center><img src=\"https://keras.io/img/logo-small.png\" alt=\"Keras logo\" width=\"100\"><br/>\n",
    "This starter notebook is provided by the Keras team.</center>"
   ]
  },
  {
   "cell_type": "markdown",
   "metadata": {},
   "source": [
    "# Inference Notebook\n",
    "\n",
    "# RSNA 2023 Abdominal Trauma Detection with [KerasCV](https://github.com/keras-team/keras-cv) and [KerasCore](https://github.com/keras-team/keras-core)\n",
    "\n",
    "This notebook walks you through how to submit to the RSNA 2023 Abdominal Trauma Detection competition.\n",
    "\n",
    "## Notebooks\n",
    "\n",
    "For this competition we have two starter notebook. This notebook (you are reading) infers on the trained model. To understand how the model was trained from scratch please visit the training kernel.\n",
    "\n",
    "1. [**Training Kernel**](https://www.kaggle.com/code/aritrag/kerascv-starter-notebook-train)\n",
    "2. [**Inference Kernel**](https://www.kaggle.com/code/aritrag/kerascv-starter-notebook-infer)\n",
    "\n",
    "**Note**: [KerasCV guides](https://keras.io/guides/keras_cv/) is the place to go for a deeper understanding of KerasCV individually."
   ]
  },
  {
   "cell_type": "markdown",
   "metadata": {},
   "source": [
    "# Imports and Setup\n",
    "\n",
    "Please install namex, keras-cv and keras-core for this notebook to work!\n",
    "\n",
    "Note: We will very soon have keras and keras models accessible from offline notebook =D "
   ]
  },
  {
   "cell_type": "code",
   "execution_count": null,
   "metadata": {
    "execution": {
     "iopub.execute_input": "2023-10-10T14:27:44.838271Z",
     "iopub.status.busy": "2023-10-10T14:27:44.837868Z",
     "iopub.status.idle": "2023-10-10T14:27:57.899839Z",
     "shell.execute_reply": "2023-10-10T14:27:57.898861Z",
     "shell.execute_reply.started": "2023-10-10T14:27:44.838234Z"
    }
   },
   "outputs": [],
   "source": [
    "import os\n",
    "os.environ[\"KERAS_BACKEND\"] = \"tensorflow\"\n",
    "import keras_core as keras\n",
    "import keras_cv\n",
    "\n",
    "import gc\n",
    "import cv2\n",
    "import pydicom\n",
    "from joblib import Parallel, delayed\n",
    "\n",
    "import tensorflow as tf\n",
    "import numpy as np\n",
    "import pandas as pd\n",
    "from tqdm.notebook import tqdm\n",
    "from glob import glob"
   ]
  },
  {
   "cell_type": "code",
   "execution_count": null,
   "metadata": {
    "execution": {
     "iopub.execute_input": "2023-10-10T14:27:57.901831Z",
     "iopub.status.busy": "2023-10-10T14:27:57.901296Z",
     "iopub.status.idle": "2023-10-10T14:27:57.907433Z",
     "shell.execute_reply": "2023-10-10T14:27:57.906455Z",
     "shell.execute_reply.started": "2023-10-10T14:27:57.901800Z"
    }
   },
   "outputs": [],
   "source": [
    "from tensorflow.keras.models import load_model"
   ]
  },
  {
   "cell_type": "code",
   "execution_count": null,
   "metadata": {
    "execution": {
     "iopub.execute_input": "2023-10-10T14:27:57.909511Z",
     "iopub.status.busy": "2023-10-10T14:27:57.908930Z",
     "iopub.status.idle": "2023-10-10T14:28:12.929205Z",
     "shell.execute_reply": "2023-10-10T14:28:12.928270Z",
     "shell.execute_reply.started": "2023-10-10T14:27:57.909478Z"
    }
   },
   "outputs": [],
   "source": [
    "model = load_model(\"/kaggle/input/model-test/my_model (1).keras\", compile = False)"
   ]
  },
  {
   "cell_type": "code",
   "execution_count": null,
   "metadata": {
    "execution": {
     "iopub.execute_input": "2023-10-10T14:28:12.933107Z",
     "iopub.status.busy": "2023-10-10T14:28:12.931473Z",
     "iopub.status.idle": "2023-10-10T14:28:12.964457Z",
     "shell.execute_reply": "2023-10-10T14:28:12.963298Z",
     "shell.execute_reply.started": "2023-10-10T14:28:12.933074Z"
    }
   },
   "outputs": [],
   "source": [
    "model.summary()"
   ]
  },
  {
   "cell_type": "code",
   "execution_count": null,
   "metadata": {
    "execution": {
     "iopub.execute_input": "2023-10-10T14:28:12.966687Z",
     "iopub.status.busy": "2023-10-10T14:28:12.965656Z",
     "iopub.status.idle": "2023-10-10T14:28:12.971060Z",
     "shell.execute_reply": "2023-10-10T14:28:12.970168Z",
     "shell.execute_reply.started": "2023-10-10T14:28:12.966655Z"
    }
   },
   "outputs": [],
   "source": [
    "BASE_PATH = \"/kaggle/input/rsna-2023-abdominal-trauma-detection\"\n",
    "IMAGE_DIR = \"/tmp/dataset/rsna-atd\"\n",
    "STRIDE = 10"
   ]
  },
  {
   "cell_type": "code",
   "execution_count": null,
   "metadata": {
    "execution": {
     "iopub.execute_input": "2023-10-10T14:28:12.972859Z",
     "iopub.status.busy": "2023-10-10T14:28:12.972547Z",
     "iopub.status.idle": "2023-10-10T14:28:12.981647Z",
     "shell.execute_reply": "2023-10-10T14:28:12.980802Z",
     "shell.execute_reply.started": "2023-10-10T14:28:12.972832Z"
    }
   },
   "outputs": [],
   "source": [
    "class Config:\n",
    "    IMAGE_SIZE = [256, 256]\n",
    "    RESIZE_DIM = 256\n",
    "    BATCH_SIZE = 64\n",
    "    AUTOTUNE = tf.data.AUTOTUNE\n",
    "    TARGET_COLS  = [\"bowel_healthy\", \"bowel_injury\", \"extravasation_healthy\",\n",
    "                   \"extravasation_injury\", \"kidney_healthy\", \"kidney_low\",\n",
    "                   \"kidney_high\", \"liver_healthy\", \"liver_low\", \"liver_high\",\n",
    "                   \"spleen_healthy\", \"spleen_low\", \"spleen_high\"]\n",
    "\n",
    "config = Config()"
   ]
  },
  {
   "cell_type": "markdown",
   "metadata": {},
   "source": [
    "# Initialize the Trained Model\n",
    "\n",
    "Refer to the [training kernel](https://www.kaggle.com/code/aritrag/kerascv-starter-notebook-train) to understand how we have trained the model.\n",
    "\n",
    "Here we initialize the trained model."
   ]
  },
  {
   "cell_type": "markdown",
   "metadata": {},
   "source": [
    "# Data Pipeline\n",
    "\n",
    "We have a model that accepts image in the PNG format. We will now convert the DICOM images to PNG for the model to infer."
   ]
  },
  {
   "cell_type": "code",
   "execution_count": null,
   "metadata": {
    "execution": {
     "iopub.execute_input": "2023-10-10T14:28:12.984683Z",
     "iopub.status.busy": "2023-10-10T14:28:12.983593Z",
     "iopub.status.idle": "2023-10-10T14:28:13.012328Z",
     "shell.execute_reply": "2023-10-10T14:28:13.011530Z",
     "shell.execute_reply.started": "2023-10-10T14:28:12.984654Z"
    }
   },
   "outputs": [],
   "source": [
    "meta_df = pd.read_csv(f\"{BASE_PATH}/test_series_meta.csv\")\n",
    "\n",
    "# Checking if patients are repeated by finding the number of unique patient IDs\n",
    "num_rows = meta_df.shape[0]\n",
    "unique_patients = meta_df[\"patient_id\"].nunique()\n",
    "\n",
    "print(f\"{num_rows=}\")\n",
    "print(f\"{unique_patients=}\")"
   ]
  },
  {
   "cell_type": "code",
   "execution_count": null,
   "metadata": {
    "execution": {
     "iopub.execute_input": "2023-10-10T14:28:13.013896Z",
     "iopub.status.busy": "2023-10-10T14:28:13.013578Z",
     "iopub.status.idle": "2023-10-10T14:28:13.057710Z",
     "shell.execute_reply": "2023-10-10T14:28:13.056909Z",
     "shell.execute_reply.started": "2023-10-10T14:28:13.013852Z"
    }
   },
   "outputs": [],
   "source": [
    "meta_df[\"dicom_folder\"] = BASE_PATH + \"/\" + \"test_images\"\\\n",
    "                                    + \"/\" + meta_df.patient_id.astype(str)\\\n",
    "                                    + \"/\" + meta_df.series_id.astype(str)\n",
    "\n",
    "test_folders = meta_df.dicom_folder.tolist()\n",
    "test_paths = []\n",
    "for folder in tqdm(test_folders):\n",
    "    test_paths += sorted(glob(os.path.join(folder, \"*dcm\")))[::STRIDE]"
   ]
  },
  {
   "cell_type": "code",
   "execution_count": null,
   "metadata": {
    "execution": {
     "iopub.execute_input": "2023-10-10T14:28:13.059650Z",
     "iopub.status.busy": "2023-10-10T14:28:13.059101Z",
     "iopub.status.idle": "2023-10-10T14:28:13.304179Z",
     "shell.execute_reply": "2023-10-10T14:28:13.303041Z",
     "shell.execute_reply.started": "2023-10-10T14:28:13.059621Z"
    }
   },
   "outputs": [],
   "source": [
    "test_df = pd.DataFrame(test_paths, columns=[\"dicom_path\"])\n",
    "test_df[\"patient_id\"] = test_df.dicom_path.map(lambda x: x.split(\"/\")[-3]).astype(int)\n",
    "test_df[\"series_id\"] = test_df.dicom_path.map(lambda x: x.split(\"/\")[-2]).astype(int)\n",
    "test_df[\"instance_number\"] = test_df.dicom_path.map(lambda x: x.split(\"/\")[-1].replace(\".dcm\",\"\")).astype(int)\n",
    "\n",
    "test_df[\"image_path\"] = f\"{IMAGE_DIR}/test_images\"\\\n",
    "                    + \"/\" + test_df.patient_id.astype(str)\\\n",
    "                    + \"/\" + test_df.series_id.astype(str)\\\n",
    "                    + \"/\" + test_df.instance_number.astype(str) +\".png\"\n",
    "\n",
    "test_df.head(2)"
   ]
  },
  {
   "cell_type": "code",
   "execution_count": null,
   "metadata": {
    "execution": {
     "iopub.execute_input": "2023-10-10T14:28:13.310085Z",
     "iopub.status.busy": "2023-10-10T14:28:13.308422Z",
     "iopub.status.idle": "2023-10-10T14:28:13.315786Z",
     "shell.execute_reply": "2023-10-10T14:28:13.314840Z",
     "shell.execute_reply.started": "2023-10-10T14:28:13.310062Z"
    }
   },
   "outputs": [],
   "source": [
    "# Checking if patients are repeated by finding the number of unique patient IDs\n",
    "num_rows = test_df.shape[0]\n",
    "unique_patients = test_df[\"patient_id\"].nunique()\n",
    "\n",
    "print(f\"{num_rows=}\")\n",
    "print(f\"{unique_patients=}\")"
   ]
  },
  {
   "cell_type": "markdown",
   "metadata": {},
   "source": [
    "## DICOM to PNG pipeline"
   ]
  },
  {
   "cell_type": "code",
   "execution_count": null,
   "metadata": {
    "_kg_hide-input": true,
    "execution": {
     "iopub.execute_input": "2023-10-10T14:28:13.318593Z",
     "iopub.status.busy": "2023-10-10T14:28:13.317836Z",
     "iopub.status.idle": "2023-10-10T14:28:13.326503Z",
     "shell.execute_reply": "2023-10-10T14:28:13.325500Z",
     "shell.execute_reply.started": "2023-10-10T14:28:13.318559Z"
    }
   },
   "outputs": [],
   "source": [
    "#!rm -r {IMAGE_DIR}\n",
    "os.makedirs(f\"{IMAGE_DIR}/train_images\", exist_ok=True)\n",
    "os.makedirs(f\"{IMAGE_DIR}/test_images\", exist_ok=True)"
   ]
  },
  {
   "cell_type": "code",
   "execution_count": null,
   "metadata": {
    "_kg_hide-input": true,
    "execution": {
     "iopub.execute_input": "2023-10-10T14:28:13.328254Z",
     "iopub.status.busy": "2023-10-10T14:28:13.327906Z",
     "iopub.status.idle": "2023-10-10T14:28:13.341843Z",
     "shell.execute_reply": "2023-10-10T14:28:13.341081Z",
     "shell.execute_reply.started": "2023-10-10T14:28:13.328226Z"
    }
   },
   "outputs": [],
   "source": [
    "def standardize_pixel_array(dcm):\n",
    "    # Correct DICOM pixel_array if PixelRepresentation == 1.\n",
    "    pixel_array = dcm.pixel_array\n",
    "    if dcm.PixelRepresentation == 1:\n",
    "        bit_shift = dcm.BitsAllocated - dcm.BitsStored\n",
    "        dtype = pixel_array.dtype \n",
    "        new_array = (pixel_array << bit_shift).astype(dtype) >>  bit_shift\n",
    "        pixel_array = pydicom.pixel_data_handlers.util.apply_modality_lut(new_array, dcm)\n",
    "    return pixel_array\n",
    "\n",
    "def read_xray(path, fix_monochrome=True):\n",
    "    dicom = pydicom.dcmread(path)\n",
    "    data = standardize_pixel_array(dicom)\n",
    "    data = data - np.min(data)\n",
    "    data = data / (np.max(data) + 1e-5)\n",
    "    if fix_monochrome and dicom.PhotometricInterpretation == \"MONOCHROME1\":\n",
    "        data = 1.0 - data\n",
    "    return data\n",
    "\n",
    "def resize_and_save(file_path):\n",
    "    img = read_xray(file_path)\n",
    "    h, w = img.shape[:2]  # orig hw\n",
    "    img = cv2.resize(img, (config.RESIZE_DIM, config.RESIZE_DIM), cv2.INTER_LINEAR)\n",
    "    img = (img * 255).astype(np.uint8)\n",
    "    \n",
    "    sub_path = file_path.split(\"/\",4)[-1].split(\".dcm\")[0] + \".png\"\n",
    "    infos = sub_path.split(\"/\")\n",
    "    sub_path = file_path.split(\"/\",4)[-1].split(\".dcm\")[0] + \".png\"\n",
    "    infos = sub_path.split(\"/\")\n",
    "    pid = infos[-3]\n",
    "    sid = infos[-2]\n",
    "    iid = infos[-1]; iid = iid.replace(\".png\",\"\")\n",
    "    new_path = os.path.join(IMAGE_DIR, sub_path)\n",
    "    os.makedirs(new_path.rsplit(\"/\",1)[0], exist_ok=True)\n",
    "    cv2.imwrite(new_path, img)\n",
    "    return"
   ]
  },
  {
   "cell_type": "code",
   "execution_count": null,
   "metadata": {
    "execution": {
     "iopub.execute_input": "2023-10-10T14:28:13.345201Z",
     "iopub.status.busy": "2023-10-10T14:28:13.343021Z",
     "iopub.status.idle": "2023-10-10T14:28:13.747262Z",
     "shell.execute_reply": "2023-10-10T14:28:13.746357Z",
     "shell.execute_reply.started": "2023-10-10T14:28:13.345171Z"
    }
   },
   "outputs": [],
   "source": [
    "%%time\n",
    "\n",
    "file_paths = test_df.dicom_path.tolist()\n",
    "_ = Parallel(n_jobs=2, backend=\"threading\")(\n",
    "    delayed(resize_and_save)(file_path) for file_path in tqdm(file_paths, leave=True, position=0)\n",
    ")\n",
    "\n",
    "del _; gc.collect()"
   ]
  },
  {
   "cell_type": "markdown",
   "metadata": {},
   "source": [
    "## Building the tf.data pipeline"
   ]
  },
  {
   "cell_type": "code",
   "execution_count": null,
   "metadata": {
    "_kg_hide-input": true,
    "execution": {
     "iopub.execute_input": "2023-10-10T14:28:13.749489Z",
     "iopub.status.busy": "2023-10-10T14:28:13.748573Z",
     "iopub.status.idle": "2023-10-10T14:28:13.755755Z",
     "shell.execute_reply": "2023-10-10T14:28:13.754995Z",
     "shell.execute_reply.started": "2023-10-10T14:28:13.749455Z"
    }
   },
   "outputs": [],
   "source": [
    "def decode_image(image_path):\n",
    "    file_bytes = tf.io.read_file(image_path)\n",
    "    image = tf.io.decode_png(file_bytes, channels=3, dtype=tf.uint8)\n",
    "    image = tf.image.resize(image, config.IMAGE_SIZE, method=\"bilinear\")\n",
    "    image = tf.cast(image, tf.float32) / 255.0\n",
    "    return image\n",
    "\n",
    "def build_dataset(image_paths):\n",
    "    ds = (\n",
    "        tf.data.Dataset.from_tensor_slices(image_paths)\n",
    "        .map(decode_image, num_parallel_calls=config.AUTOTUNE)\n",
    "        .shuffle(config.BATCH_SIZE * 10)\n",
    "        .batch(config.BATCH_SIZE)\n",
    "        .prefetch(config.AUTOTUNE)\n",
    "    )\n",
    "    return ds"
   ]
  },
  {
   "cell_type": "code",
   "execution_count": null,
   "metadata": {
    "_kg_hide-input": true,
    "execution": {
     "iopub.execute_input": "2023-10-10T14:28:13.757746Z",
     "iopub.status.busy": "2023-10-10T14:28:13.757001Z",
     "iopub.status.idle": "2023-10-10T14:28:13.920046Z",
     "shell.execute_reply": "2023-10-10T14:28:13.919026Z",
     "shell.execute_reply.started": "2023-10-10T14:28:13.757722Z"
    }
   },
   "outputs": [],
   "source": [
    "paths  = test_df.image_path.tolist()\n",
    "\n",
    "ds = build_dataset(paths)\n",
    "images = next(iter(ds))\n",
    "\n",
    "images.shape"
   ]
  },
  {
   "cell_type": "code",
   "execution_count": null,
   "metadata": {
    "_kg_hide-input": true,
    "execution": {
     "iopub.execute_input": "2023-10-10T14:28:13.924421Z",
     "iopub.status.busy": "2023-10-10T14:28:13.922133Z",
     "iopub.status.idle": "2023-10-10T14:28:14.172706Z",
     "shell.execute_reply": "2023-10-10T14:28:14.170920Z",
     "shell.execute_reply.started": "2023-10-10T14:28:13.924396Z"
    }
   },
   "outputs": [],
   "source": [
    "keras_cv.visualization.plot_image_gallery(\n",
    "    images=images,\n",
    "    value_range=(0, 1),\n",
    "    rows=1,\n",
    "    cols=3,\n",
    ")"
   ]
  },
  {
   "cell_type": "markdown",
   "metadata": {},
   "source": [
    "# Inference"
   ]
  },
  {
   "cell_type": "code",
   "execution_count": null,
   "metadata": {
    "execution": {
     "iopub.execute_input": "2023-10-10T14:28:14.174250Z",
     "iopub.status.busy": "2023-10-10T14:28:14.173850Z",
     "iopub.status.idle": "2023-10-10T14:28:14.200799Z",
     "shell.execute_reply": "2023-10-10T14:28:14.200066Z",
     "shell.execute_reply.started": "2023-10-10T14:28:14.174218Z"
    }
   },
   "outputs": [],
   "source": [
    "def post_proc(pred):\n",
    "    proc_pred = np.empty((pred.shape[0], 2*2 + 3*3), dtype=\"float32\")\n",
    "\n",
    "    # bowel, extravasation\n",
    "    proc_pred[:, 0] = np.where((0.3 < pred[:, 0]) & (pred[:, 0] < 0.6), np.float32(0.979663), pred[:, 0])\n",
    "    proc_pred[:, 1] = np.where((0.3 < pred[:, 0]) & (pred[:, 0] < 0.6), np.float32(0.020337), 1 - proc_pred[:, 0])\n",
    "    proc_pred[:, 2] = np.where((0.3 < pred[:, 1]) & (pred[:, 1] < 0.6), np.float32(0.936447), pred[:, 1])\n",
    "    proc_pred[:, 3] = np.where((0.3 < pred[:, 1]) & (pred[:, 1] < 0.6), np.float32(0.063553), 1 - proc_pred[:, 2])\n",
    "    \n",
    "    # liver, kidney, sneel\n",
    "    proc_pred[:, 4:7] = pred[:, 2:5]\n",
    "    proc_pred[:, 7:10] = pred[:, 5:8]\n",
    "    proc_pred[:, 10:13] = pred[:, 8:11]\n",
    "\n",
    "    return proc_pred"
   ]
  },
  {
   "cell_type": "code",
   "execution_count": null,
   "metadata": {
    "execution": {
     "iopub.execute_input": "2023-10-10T14:28:14.202235Z",
     "iopub.status.busy": "2023-10-10T14:28:14.201745Z",
     "iopub.status.idle": "2023-10-10T14:28:25.253220Z",
     "shell.execute_reply": "2023-10-10T14:28:25.252289Z",
     "shell.execute_reply.started": "2023-10-10T14:28:14.202206Z"
    }
   },
   "outputs": [],
   "source": [
    "# Getting unique patient IDs from test dataset\n",
    "patient_ids = test_df[\"patient_id\"].unique()\n",
    "\n",
    "# Initializing array to store predictions\n",
    "patient_preds = np.zeros(\n",
    "    shape=(len(patient_ids), 2*2 + 3*3),\n",
    "    dtype=\"float32\"\n",
    ")\n",
    "\n",
    "# Iterating over each patient\n",
    "for pidx, patient_id in tqdm(enumerate(patient_ids), total=len(patient_ids), desc=\"Patients \"):\n",
    "    print(f\"Patient ID: {patient_id}\")\n",
    "    \n",
    "    # Query the dataframe for a particular patient\n",
    "    patient_df = test_df[test_df[\"patient_id\"] == patient_id]\n",
    "    \n",
    "    # Getting image paths for a patient\n",
    "    patient_paths = patient_df.image_path.tolist()\n",
    "    \n",
    "    # Building dataset for prediction\n",
    "    dtest = build_dataset(patient_paths)\n",
    "    \n",
    "    # Predicting with the model\n",
    "    pred = model.predict(dtest)\n",
    "    pred = np.concatenate(pred, axis=-1).astype(\"float32\")\n",
    "    pred = pred[:len(patient_paths), :]\n",
    "    pred = np.mean(pred.reshape(1, len(patient_paths), 11), axis=0)\n",
    "    pred = np.max(pred, axis=0, keepdims=True)\n",
    "    \n",
    "    patient_preds[pidx, :] += post_proc(pred)[0]\n",
    "    \n",
    "\n",
    "    # Deleting variables to free up memory \n",
    "    del patient_df, patient_paths, dtest, pred; gc.collect()"
   ]
  },
  {
   "cell_type": "markdown",
   "metadata": {},
   "source": [
    "# Submission"
   ]
  },
  {
   "cell_type": "code",
   "execution_count": null,
   "metadata": {
    "execution": {
     "iopub.execute_input": "2023-10-10T14:28:25.255129Z",
     "iopub.status.busy": "2023-10-10T14:28:25.254583Z",
     "iopub.status.idle": "2023-10-10T14:28:26.388477Z",
     "shell.execute_reply": "2023-10-10T14:28:26.387176Z",
     "shell.execute_reply.started": "2023-10-10T14:28:25.255097Z"
    }
   },
   "outputs": [],
   "source": [
    "!rm -rf {MODEL_PATH}"
   ]
  },
  {
   "cell_type": "code",
   "execution_count": null,
   "metadata": {
    "execution": {
     "iopub.execute_input": "2023-10-10T14:28:26.391443Z",
     "iopub.status.busy": "2023-10-10T14:28:26.390484Z",
     "iopub.status.idle": "2023-10-10T14:28:26.434987Z",
     "shell.execute_reply": "2023-10-10T14:28:26.434006Z",
     "shell.execute_reply.started": "2023-10-10T14:28:26.391409Z"
    }
   },
   "outputs": [],
   "source": [
    "# Create Submission\n",
    "pred_df = pd.DataFrame({\"patient_id\":patient_ids,})\n",
    "pred_df[config.TARGET_COLS] = patient_preds.astype(\"float32\")\n",
    "\n",
    "# Align with sample submission\n",
    "sub_df = pd.read_csv(f\"{BASE_PATH}/sample_submission.csv\")\n",
    "sub_df = sub_df[[\"patient_id\"]]\n",
    "sub_df = sub_df.merge(pred_df, on=\"patient_id\", how=\"left\")\n",
    "\n",
    "# Store submission\n",
    "sub_df.to_csv(\"submission.csv\",index=False)\n",
    "sub_df.head(2)"
   ]
  }
 ],
 "metadata": {
  "kernelspec": {
   "display_name": "Python 3 (ipykernel)",
   "language": "python",
   "name": "python3"
  },
  "language_info": {
   "codemirror_mode": {
    "name": "ipython",
    "version": 3
   },
   "file_extension": ".py",
   "mimetype": "text/x-python",
   "name": "python",
   "nbconvert_exporter": "python",
   "pygments_lexer": "ipython3",
   "version": "3.9.13"
  }
 },
 "nbformat": 4,
 "nbformat_minor": 4
}
