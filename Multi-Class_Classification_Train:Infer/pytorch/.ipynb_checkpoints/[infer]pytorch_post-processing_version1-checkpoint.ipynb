{
 "cells": [
  {
   "cell_type": "code",
   "execution_count": 1,
   "id": "39d968ea",
   "metadata": {
    "execution": {
     "iopub.execute_input": "2023-10-05T02:00:28.963844Z",
     "iopub.status.busy": "2023-10-05T02:00:28.963433Z",
     "iopub.status.idle": "2023-10-05T02:00:28.998618Z",
     "shell.execute_reply": "2023-10-05T02:00:28.997672Z"
    },
    "papermill": {
     "duration": 0.051604,
     "end_time": "2023-10-05T02:00:29.000691",
     "exception": false,
     "start_time": "2023-10-05T02:00:28.949087",
     "status": "completed"
    },
    "tags": []
   },
   "outputs": [],
   "source": [
    "%matplotlib inline\n",
    "%load_ext autoreload\n",
    "%autoreload 2"
   ]
  },
  {
   "cell_type": "code",
   "execution_count": 2,
   "id": "8c5b4951",
   "metadata": {
    "execution": {
     "iopub.execute_input": "2023-10-05T02:00:29.018286Z",
     "iopub.status.busy": "2023-10-05T02:00:29.017688Z",
     "iopub.status.idle": "2023-10-05T02:01:36.328733Z",
     "shell.execute_reply": "2023-10-05T02:01:36.327639Z"
    },
    "papermill": {
     "duration": 67.322135,
     "end_time": "2023-10-05T02:01:36.330996",
     "exception": false,
     "start_time": "2023-10-05T02:00:29.008861",
     "status": "completed"
    },
    "tags": []
   },
   "outputs": [
    {
     "name": "stdout",
     "output_type": "stream",
     "text": [
      "Processing /kaggle/input/pydicom-and-torchmetrics/pydicom-2.4.3-py3-none-any.whl\r\n",
      "pydicom is already installed with the same version as the provided wheel. Use --force-reinstall to force an installation of the wheel.\r\n",
      "Processing /kaggle/input/pydicom-and-torchmetrics/torchmetrics-1.2.0-py3-none-any.whl\r\n",
      "Requirement already satisfied: numpy>1.20.0 in /opt/conda/lib/python3.10/site-packages (from torchmetrics==1.2.0) (1.23.5)\r\n",
      "Requirement already satisfied: torch>=1.8.1 in /opt/conda/lib/python3.10/site-packages (from torchmetrics==1.2.0) (2.0.0)\r\n",
      "Requirement already satisfied: lightning-utilities>=0.8.0 in /opt/conda/lib/python3.10/site-packages (from torchmetrics==1.2.0) (0.9.0)\r\n",
      "Requirement already satisfied: packaging>=17.1 in /opt/conda/lib/python3.10/site-packages (from lightning-utilities>=0.8.0->torchmetrics==1.2.0) (21.3)\r\n",
      "Requirement already satisfied: typing-extensions in /opt/conda/lib/python3.10/site-packages (from lightning-utilities>=0.8.0->torchmetrics==1.2.0) (4.6.3)\r\n",
      "Requirement already satisfied: filelock in /opt/conda/lib/python3.10/site-packages (from torch>=1.8.1->torchmetrics==1.2.0) (3.12.2)\r\n",
      "Requirement already satisfied: sympy in /opt/conda/lib/python3.10/site-packages (from torch>=1.8.1->torchmetrics==1.2.0) (1.12)\r\n",
      "Requirement already satisfied: networkx in /opt/conda/lib/python3.10/site-packages (from torch>=1.8.1->torchmetrics==1.2.0) (3.1)\r\n",
      "Requirement already satisfied: jinja2 in /opt/conda/lib/python3.10/site-packages (from torch>=1.8.1->torchmetrics==1.2.0) (3.1.2)\r\n",
      "Requirement already satisfied: pyparsing!=3.0.5,>=2.0.2 in /opt/conda/lib/python3.10/site-packages (from packaging>=17.1->lightning-utilities>=0.8.0->torchmetrics==1.2.0) (3.0.9)\r\n",
      "Requirement already satisfied: MarkupSafe>=2.0 in /opt/conda/lib/python3.10/site-packages (from jinja2->torch>=1.8.1->torchmetrics==1.2.0) (2.1.3)\r\n",
      "Requirement already satisfied: mpmath>=0.19 in /opt/conda/lib/python3.10/site-packages (from sympy->torch>=1.8.1->torchmetrics==1.2.0) (1.3.0)\r\n",
      "Installing collected packages: torchmetrics\r\n",
      "  Attempting uninstall: torchmetrics\r\n",
      "    Found existing installation: torchmetrics 1.1.1\r\n",
      "    Uninstalling torchmetrics-1.1.1:\r\n",
      "      Successfully uninstalled torchmetrics-1.1.1\r\n",
      "Successfully installed torchmetrics-1.2.0\r\n"
     ]
    }
   ],
   "source": [
    "!pip install /kaggle/input/pydicom-and-torchmetrics/pydicom-2.4.3-py3-none-any.whl\n",
    "!pip install /kaggle/input/pydicom-and-torchmetrics/torchmetrics-1.2.0-py3-none-any.whl"
   ]
  },
  {
   "cell_type": "code",
   "execution_count": 3,
   "id": "46086e11",
   "metadata": {
    "execution": {
     "iopub.execute_input": "2023-10-05T02:01:36.343058Z",
     "iopub.status.busy": "2023-10-05T02:01:36.342477Z",
     "iopub.status.idle": "2023-10-05T02:01:51.632490Z",
     "shell.execute_reply": "2023-10-05T02:01:51.631573Z"
    },
    "papermill": {
     "duration": 15.29854,
     "end_time": "2023-10-05T02:01:51.634620",
     "exception": false,
     "start_time": "2023-10-05T02:01:36.336080",
     "status": "completed"
    },
    "tags": []
   },
   "outputs": [
    {
     "name": "stderr",
     "output_type": "stream",
     "text": [
      "/opt/conda/lib/python3.10/site-packages/scipy/__init__.py:146: UserWarning: A NumPy version >=1.16.5 and <1.23.0 is required for this version of SciPy (detected version 1.23.5\n",
      "  warnings.warn(f\"A NumPy version >={np_minversion} and <{np_maxversion}\"\n"
     ]
    }
   ],
   "source": [
    "import cv2\n",
    "import gc\n",
    "from glob import glob\n",
    "from joblib import Parallel, delayed\n",
    "import matplotlib.pyplot as plt\n",
    "import numpy as np\n",
    "import os\n",
    "import pandas as pd\n",
    "from PIL import Image\n",
    "import pydicom\n",
    "from sklearn.model_selection import train_test_split\n",
    "import torch\n",
    "import torch.nn as nn\n",
    "import torch.nn.functional as F\n",
    "import torch.optim as optim\n",
    "from torch.utils.data import Dataset, DataLoader\n",
    "from torchmetrics import MeanMetric\n",
    "from torchmetrics.classification import MulticlassAccuracy\n",
    "import torchvision.models as models\n",
    "import torchvision.transforms as transforms\n",
    "from tqdm.notebook import tqdm"
   ]
  },
  {
   "cell_type": "code",
   "execution_count": 4,
   "id": "c5401da9",
   "metadata": {
    "execution": {
     "iopub.execute_input": "2023-10-05T02:01:51.645887Z",
     "iopub.status.busy": "2023-10-05T02:01:51.645573Z",
     "iopub.status.idle": "2023-10-05T02:01:51.715823Z",
     "shell.execute_reply": "2023-10-05T02:01:51.715001Z"
    },
    "papermill": {
     "duration": 0.078129,
     "end_time": "2023-10-05T02:01:51.717894",
     "exception": false,
     "start_time": "2023-10-05T02:01:51.639765",
     "status": "completed"
    },
    "tags": []
   },
   "outputs": [],
   "source": [
    "class Config:\n",
    "    SEED = 42\n",
    "    IMAGE_SIZE = [256, 256]\n",
    "    RESIZE_DIM = 256\n",
    "    BATCH_SIZE = 20\n",
    "    EPOCHS = 5\n",
    "    TARGET_COLS = [\n",
    "        \"bowel_injury\", \"extravasation_injury\",\n",
    "        \"kidney_healthy\", \"kidney_low\", \"kidney_high\",\n",
    "        \"liver_healthy\", \"liver_low\", \"liver_high\",\n",
    "        \"spleen_healthy\", \"spleen_low\", \"spleen_high\",\n",
    "    ]\n",
    "\n",
    "config = Config()"
   ]
  },
  {
   "cell_type": "code",
   "execution_count": 5,
   "id": "d9116837",
   "metadata": {
    "execution": {
     "iopub.execute_input": "2023-10-05T02:01:51.729946Z",
     "iopub.status.busy": "2023-10-05T02:01:51.729386Z",
     "iopub.status.idle": "2023-10-05T02:01:51.800112Z",
     "shell.execute_reply": "2023-10-05T02:01:51.799200Z"
    },
    "papermill": {
     "duration": 0.079106,
     "end_time": "2023-10-05T02:01:51.802363",
     "exception": false,
     "start_time": "2023-10-05T02:01:51.723257",
     "status": "completed"
    },
    "tags": []
   },
   "outputs": [],
   "source": [
    "random_seed = config.SEED\n",
    "np.random.seed(random_seed)"
   ]
  },
  {
   "cell_type": "code",
   "execution_count": 6,
   "id": "e4811b74",
   "metadata": {
    "execution": {
     "iopub.execute_input": "2023-10-05T02:01:51.814340Z",
     "iopub.status.busy": "2023-10-05T02:01:51.813426Z",
     "iopub.status.idle": "2023-10-05T02:01:51.947703Z",
     "shell.execute_reply": "2023-10-05T02:01:51.946624Z"
    },
    "papermill": {
     "duration": 0.141985,
     "end_time": "2023-10-05T02:01:51.949517",
     "exception": false,
     "start_time": "2023-10-05T02:01:51.807532",
     "status": "completed"
    },
    "tags": []
   },
   "outputs": [
    {
     "name": "stdout",
     "output_type": "stream",
     "text": [
      "cuda\n"
     ]
    }
   ],
   "source": [
    "device = torch.device(\"cuda\" if torch.cuda.is_available() else \"cpu\")\n",
    "print(device)"
   ]
  },
  {
   "cell_type": "code",
   "execution_count": 7,
   "id": "e901a5c7",
   "metadata": {
    "execution": {
     "iopub.execute_input": "2023-10-05T02:01:51.961981Z",
     "iopub.status.busy": "2023-10-05T02:01:51.961129Z",
     "iopub.status.idle": "2023-10-05T02:01:53.021379Z",
     "shell.execute_reply": "2023-10-05T02:01:53.020246Z"
    },
    "papermill": {
     "duration": 1.068957,
     "end_time": "2023-10-05T02:01:53.023578",
     "exception": false,
     "start_time": "2023-10-05T02:01:51.954621",
     "status": "completed"
    },
    "tags": []
   },
   "outputs": [
    {
     "name": "stdout",
     "output_type": "stream",
     "text": [
      "rm: cannot remove '/tmp/dataset/rsna-atd': No such file or directory\r\n"
     ]
    }
   ],
   "source": [
    "IMG_DIR = '/tmp/dataset/rsna-atd'\n",
    "BASE_PATH = '/kaggle/input/rsna-2023-abdominal-trauma-detection'\n",
    "IMAGE_DIR = '/tmp/dataset/rsna-atd'\n",
    "INPUT_MODEL_PATH = '/kaggle/input/pytorchcv-starter-notebook-train/model_5.pth'\n",
    "MODEL_PATH = '/kaggle/working/model_5.pth'\n",
    "STRIDE = 10\n",
    "!rm -r {IMG_DIR}\n",
    "os.makedirs(f'{IMG_DIR}/test_images', exist_ok = True)\n",
    "# test_df = pd.read_csv(f'{BASE_PATH}/test_series_meta.csv')"
   ]
  },
  {
   "cell_type": "code",
   "execution_count": 8,
   "id": "f6974d25",
   "metadata": {
    "execution": {
     "iopub.execute_input": "2023-10-05T02:01:53.035720Z",
     "iopub.status.busy": "2023-10-05T02:01:53.034746Z",
     "iopub.status.idle": "2023-10-05T02:01:53.121891Z",
     "shell.execute_reply": "2023-10-05T02:01:53.120953Z"
    },
    "papermill": {
     "duration": 0.095349,
     "end_time": "2023-10-05T02:01:53.124077",
     "exception": false,
     "start_time": "2023-10-05T02:01:53.028728",
     "status": "completed"
    },
    "tags": []
   },
   "outputs": [],
   "source": [
    "# test_df['dicom_folder'] = BASE_PATH + '/' + 'test_images'\\\n",
    "#                                     + '/' + test_df.patient_id.astype(str)\\\n",
    "#                                     + '/' + test_df.series_id.astype(str)"
   ]
  },
  {
   "cell_type": "code",
   "execution_count": 9,
   "id": "6c65b0d1",
   "metadata": {
    "execution": {
     "iopub.execute_input": "2023-10-05T02:01:53.136224Z",
     "iopub.status.busy": "2023-10-05T02:01:53.135443Z",
     "iopub.status.idle": "2023-10-05T02:01:53.226243Z",
     "shell.execute_reply": "2023-10-05T02:01:53.225292Z"
    },
    "papermill": {
     "duration": 0.099005,
     "end_time": "2023-10-05T02:01:53.228468",
     "exception": false,
     "start_time": "2023-10-05T02:01:53.129463",
     "status": "completed"
    },
    "tags": []
   },
   "outputs": [],
   "source": [
    "meta_df = pd.read_csv(f\"{BASE_PATH}/test_series_meta.csv\")"
   ]
  },
  {
   "cell_type": "code",
   "execution_count": 10,
   "id": "da8b911f",
   "metadata": {
    "execution": {
     "iopub.execute_input": "2023-10-05T02:01:53.240864Z",
     "iopub.status.busy": "2023-10-05T02:01:53.240051Z",
     "iopub.status.idle": "2023-10-05T02:01:53.354261Z",
     "shell.execute_reply": "2023-10-05T02:01:53.353199Z"
    },
    "papermill": {
     "duration": 0.122606,
     "end_time": "2023-10-05T02:01:53.356470",
     "exception": false,
     "start_time": "2023-10-05T02:01:53.233864",
     "status": "completed"
    },
    "tags": []
   },
   "outputs": [],
   "source": [
    "meta_df[\"dicom_folder\"] = BASE_PATH + \"/\" + \"test_images\"\\\n",
    "                                    + \"/\" + meta_df.patient_id.astype(str)\\\n",
    "                                    + \"/\" + meta_df.series_id.astype(str)\n",
    "\n",
    "test_folders = meta_df.dicom_folder.tolist()\n",
    "test_paths = []\n",
    "for folder in test_folders:\n",
    "    test_paths += sorted(glob(os.path.join(folder, \"*dcm\")))[::STRIDE]"
   ]
  },
  {
   "cell_type": "code",
   "execution_count": 11,
   "id": "7f9ad38f",
   "metadata": {
    "execution": {
     "iopub.execute_input": "2023-10-05T02:01:53.369223Z",
     "iopub.status.busy": "2023-10-05T02:01:53.368368Z",
     "iopub.status.idle": "2023-10-05T02:01:53.504098Z",
     "shell.execute_reply": "2023-10-05T02:01:53.503187Z"
    },
    "papermill": {
     "duration": 0.14392,
     "end_time": "2023-10-05T02:01:53.505966",
     "exception": false,
     "start_time": "2023-10-05T02:01:53.362046",
     "status": "completed"
    },
    "tags": []
   },
   "outputs": [
    {
     "data": {
      "text/html": [
       "<div>\n",
       "<style scoped>\n",
       "    .dataframe tbody tr th:only-of-type {\n",
       "        vertical-align: middle;\n",
       "    }\n",
       "\n",
       "    .dataframe tbody tr th {\n",
       "        vertical-align: top;\n",
       "    }\n",
       "\n",
       "    .dataframe thead th {\n",
       "        text-align: right;\n",
       "    }\n",
       "</style>\n",
       "<table border=\"1\" class=\"dataframe\">\n",
       "  <thead>\n",
       "    <tr style=\"text-align: right;\">\n",
       "      <th></th>\n",
       "      <th>dicom_path</th>\n",
       "      <th>patient_id</th>\n",
       "      <th>series_id</th>\n",
       "      <th>instance_number</th>\n",
       "      <th>image_path</th>\n",
       "    </tr>\n",
       "  </thead>\n",
       "  <tbody>\n",
       "    <tr>\n",
       "      <th>0</th>\n",
       "      <td>/kaggle/input/rsna-2023-abdominal-trauma-detec...</td>\n",
       "      <td>48843</td>\n",
       "      <td>62825</td>\n",
       "      <td>30</td>\n",
       "      <td>/tmp/dataset/rsna-atd/test_images/48843/62825/...</td>\n",
       "    </tr>\n",
       "    <tr>\n",
       "      <th>1</th>\n",
       "      <td>/kaggle/input/rsna-2023-abdominal-trauma-detec...</td>\n",
       "      <td>50046</td>\n",
       "      <td>24574</td>\n",
       "      <td>30</td>\n",
       "      <td>/tmp/dataset/rsna-atd/test_images/50046/24574/...</td>\n",
       "    </tr>\n",
       "  </tbody>\n",
       "</table>\n",
       "</div>"
      ],
      "text/plain": [
       "                                          dicom_path  patient_id  series_id  \\\n",
       "0  /kaggle/input/rsna-2023-abdominal-trauma-detec...       48843      62825   \n",
       "1  /kaggle/input/rsna-2023-abdominal-trauma-detec...       50046      24574   \n",
       "\n",
       "   instance_number                                         image_path  \n",
       "0               30  /tmp/dataset/rsna-atd/test_images/48843/62825/...  \n",
       "1               30  /tmp/dataset/rsna-atd/test_images/50046/24574/...  "
      ]
     },
     "execution_count": 11,
     "metadata": {},
     "output_type": "execute_result"
    }
   ],
   "source": [
    "test_df = pd.DataFrame(test_paths, columns=[\"dicom_path\"])\n",
    "test_df[\"patient_id\"] = test_df.dicom_path.map(lambda x: x.split(\"/\")[-3]).astype(int)\n",
    "test_df[\"series_id\"] = test_df.dicom_path.map(lambda x: x.split(\"/\")[-2]).astype(int)\n",
    "test_df[\"instance_number\"] = test_df.dicom_path.map(lambda x: x.split(\"/\")[-1].replace(\".dcm\",\"\")).astype(int)\n",
    "\n",
    "test_df[\"image_path\"] = f\"{IMAGE_DIR}/test_images\"\\\n",
    "                    + \"/\" + test_df.patient_id.astype(str)\\\n",
    "                    + \"/\" + test_df.series_id.astype(str)\\\n",
    "                    + \"/\" + test_df.instance_number.astype(str) +\".png\"\n",
    "\n",
    "test_df.head(2)"
   ]
  },
  {
   "cell_type": "code",
   "execution_count": 12,
   "id": "c2de0cf2",
   "metadata": {
    "execution": {
     "iopub.execute_input": "2023-10-05T02:01:53.519509Z",
     "iopub.status.busy": "2023-10-05T02:01:53.518564Z",
     "iopub.status.idle": "2023-10-05T02:01:53.599116Z",
     "shell.execute_reply": "2023-10-05T02:01:53.597850Z"
    },
    "papermill": {
     "duration": 0.089298,
     "end_time": "2023-10-05T02:01:53.600920",
     "exception": false,
     "start_time": "2023-10-05T02:01:53.511622",
     "status": "completed"
    },
    "tags": []
   },
   "outputs": [
    {
     "name": "stdout",
     "output_type": "stream",
     "text": [
      "num_rows=3\n",
      "unique_patients=3\n"
     ]
    }
   ],
   "source": [
    "# Checking if patients are repeated by finding the number of unique patient IDs\n",
    "num_rows = test_df.shape[0]\n",
    "unique_patients = test_df[\"patient_id\"].nunique()\n",
    "\n",
    "print(f\"{num_rows=}\")\n",
    "print(f\"{unique_patients=}\")"
   ]
  },
  {
   "cell_type": "code",
   "execution_count": 13,
   "id": "d2cb3539",
   "metadata": {
    "execution": {
     "iopub.execute_input": "2023-10-05T02:01:53.612909Z",
     "iopub.status.busy": "2023-10-05T02:01:53.612618Z",
     "iopub.status.idle": "2023-10-05T02:01:54.684159Z",
     "shell.execute_reply": "2023-10-05T02:01:54.682885Z"
    },
    "papermill": {
     "duration": 1.080005,
     "end_time": "2023-10-05T02:01:54.686477",
     "exception": false,
     "start_time": "2023-10-05T02:01:53.606472",
     "status": "completed"
    },
    "tags": []
   },
   "outputs": [],
   "source": [
    "!rm -r {IMAGE_DIR}\n",
    "os.makedirs(f\"{IMAGE_DIR}/train_images\", exist_ok=True)\n",
    "os.makedirs(f\"{IMAGE_DIR}/test_images\", exist_ok=True)"
   ]
  },
  {
   "cell_type": "code",
   "execution_count": 14,
   "id": "7bcbe522",
   "metadata": {
    "execution": {
     "iopub.execute_input": "2023-10-05T02:01:54.699814Z",
     "iopub.status.busy": "2023-10-05T02:01:54.699070Z",
     "iopub.status.idle": "2023-10-05T02:01:54.790106Z",
     "shell.execute_reply": "2023-10-05T02:01:54.789138Z"
    },
    "papermill": {
     "duration": 0.100701,
     "end_time": "2023-10-05T02:01:54.792924",
     "exception": false,
     "start_time": "2023-10-05T02:01:54.692223",
     "status": "completed"
    },
    "tags": []
   },
   "outputs": [],
   "source": [
    "class build_model(nn.Module):\n",
    "    def __init__(\n",
    "        self, num_classes_bowel,\n",
    "        num_classes_extra, num_classes_liver,\n",
    "        num_classes_kidney, num_classes_spleen\n",
    "    ):\n",
    "        super(build_model, self).__init__()\n",
    "        \n",
    "        # define backbone\n",
    "        self.backbone = models.efficientnet_b5(pretrained=False)\n",
    "        self.backbone._fc = nn.Identity()\n",
    "\n",
    "        # delete 'necks' for each head\n",
    "        self.neck_bowel = nn.Linear(1000, 32) # self.backbone._swish._num_features\n",
    "        self.neck_extra = nn.Linear(1000, 32)\n",
    "        self.neck_liver = nn.Linear(1000, 32)\n",
    "        self.neck_kidney = nn.Linear(1000, 32)\n",
    "        self.neck_spleen = nn.Linear(1000, 32)\n",
    "\n",
    "        # define heads\n",
    "        self.head_bowel = nn.Linear(32, num_classes_bowel)\n",
    "        self.head_extra = nn.Linear(32, num_classes_extra)\n",
    "        self.head_liver = nn.Linear(32, num_classes_liver)\n",
    "        self.head_kidney = nn.Linear(32, num_classes_kidney)\n",
    "        self.head_spleen = nn.Linear(32, num_classes_spleen)\n",
    "    \n",
    "    def forward(self, x):\n",
    "        # forward pass through the backbone\n",
    "        # print(x.shape)\n",
    "        x = self.backbone(x)\n",
    "        # print(x.shape)\n",
    "\n",
    "        # forward pass through 'necks' and heads\n",
    "        x_bowel = self.head_bowel(self.neck_bowel(x))\n",
    "        x_extra = self.head_extra(self.neck_extra(x))\n",
    "        x_liver = self.head_liver(self.neck_liver(x))\n",
    "        x_kidney = self.head_kidney(self.neck_kidney(x))\n",
    "        x_spleen = self.head_spleen(self.neck_spleen(x))\n",
    "\n",
    "        return x_bowel, x_extra, x_liver, x_kidney, x_spleen"
   ]
  },
  {
   "cell_type": "code",
   "execution_count": 15,
   "id": "0afde263",
   "metadata": {
    "execution": {
     "iopub.execute_input": "2023-10-05T02:01:54.805477Z",
     "iopub.status.busy": "2023-10-05T02:01:54.805167Z",
     "iopub.status.idle": "2023-10-05T02:01:54.881159Z",
     "shell.execute_reply": "2023-10-05T02:01:54.880256Z"
    },
    "papermill": {
     "duration": 0.084716,
     "end_time": "2023-10-05T02:01:54.883564",
     "exception": false,
     "start_time": "2023-10-05T02:01:54.798848",
     "status": "completed"
    },
    "tags": []
   },
   "outputs": [],
   "source": [
    "def standardize_pixel_array(dcm):\n",
    "    # Correct DICOM pixel_array if PixelRepresentation == 1.\n",
    "    pixel_array = dcm.pixel_array\n",
    "    if dcm.PixelRepresentation == 1:\n",
    "        bit_shift = dcm.BitsAllocated - dcm.BitsStored\n",
    "        dtype = pixel_array.dtype \n",
    "        new_array = (pixel_array << bit_shift).astype(dtype) >>  bit_shift\n",
    "        pixel_array = pydicom.pixel_data_handlers.util.apply_modality_lut(new_array, dcm)\n",
    "    return pixel_array\n",
    "\n",
    "def read_xray(path, fix_monochrome=True):\n",
    "    dicom = pydicom.dcmread(path)\n",
    "    data = standardize_pixel_array(dicom)\n",
    "    data = data - np.min(data)\n",
    "    data = data / (np.max(data) + 1e-5)\n",
    "    if fix_monochrome and dicom.PhotometricInterpretation == \"MONOCHROME1\":\n",
    "        data = 1.0 - data\n",
    "    return data\n",
    "\n",
    "def resize_and_save(file_path):\n",
    "    img = read_xray(file_path)\n",
    "    h, w = img.shape[:2]  # orig hw\n",
    "    img = cv2.resize(img, (config.RESIZE_DIM, config.RESIZE_DIM), cv2.INTER_LINEAR)\n",
    "    img = (img * 255).astype(np.uint8)\n",
    "    \n",
    "    sub_path = file_path.split(\"/\",4)[-1].split(\".dcm\")[0] + \".png\"\n",
    "    infos = sub_path.split(\"/\")\n",
    "    sub_path = file_path.split(\"/\",4)[-1].split(\".dcm\")[0] + \".png\"\n",
    "    infos = sub_path.split(\"/\")\n",
    "    pid = infos[-3]\n",
    "    sid = infos[-2]\n",
    "    iid = infos[-1]; iid = iid.replace(\".png\",\"\")\n",
    "    new_path = os.path.join(IMAGE_DIR, sub_path)\n",
    "    os.makedirs(new_path.rsplit(\"/\",1)[0], exist_ok=True)\n",
    "    cv2.imwrite(new_path, img)\n",
    "    return"
   ]
  },
  {
   "cell_type": "code",
   "execution_count": 16,
   "id": "21aa9d9b",
   "metadata": {
    "execution": {
     "iopub.execute_input": "2023-10-05T02:01:54.896203Z",
     "iopub.status.busy": "2023-10-05T02:01:54.895593Z",
     "iopub.status.idle": "2023-10-05T02:02:04.215971Z",
     "shell.execute_reply": "2023-10-05T02:02:04.214977Z"
    },
    "papermill": {
     "duration": 9.3286,
     "end_time": "2023-10-05T02:02:04.217843",
     "exception": false,
     "start_time": "2023-10-05T02:01:54.889243",
     "status": "completed"
    },
    "tags": []
   },
   "outputs": [
    {
     "name": "stderr",
     "output_type": "stream",
     "text": [
      "/opt/conda/lib/python3.10/site-packages/torchvision/models/_utils.py:208: UserWarning: The parameter 'pretrained' is deprecated since 0.13 and may be removed in the future, please use 'weights' instead.\n",
      "  warnings.warn(\n",
      "/opt/conda/lib/python3.10/site-packages/torchvision/models/_utils.py:223: UserWarning: Arguments other than a weight enum or `None` for 'weights' are deprecated since 0.13 and may be removed in the future. The current behavior is equivalent to passing `weights=None`.\n",
      "  warnings.warn(msg)\n"
     ]
    },
    {
     "data": {
      "application/vnd.jupyter.widget-view+json": {
       "model_id": "dd67c6b172664290b181fe73e8b58bee",
       "version_major": 2,
       "version_minor": 0
      },
      "text/plain": [
       "  0%|          | 0/3 [00:00<?, ?it/s]"
      ]
     },
     "metadata": {},
     "output_type": "display_data"
    },
    {
     "data": {
      "text/plain": [
       "154"
      ]
     },
     "execution_count": 16,
     "metadata": {},
     "output_type": "execute_result"
    }
   ],
   "source": [
    "! cp {INPUT_MODEL_PATH} ./\n",
    "\n",
    "model_variable = torch.load(MODEL_PATH, map_location = 'cpu')\n",
    "model = build_model(\n",
    "    num_classes_bowel=1,\n",
    "    num_classes_extra=1,\n",
    "    num_classes_liver=3,\n",
    "    num_classes_kidney=3,\n",
    "    num_classes_spleen=3,\n",
    ")\n",
    "model.load_state_dict(model_variable, strict = False)\n",
    "model.to(device)\n",
    "\n",
    "file_paths = test_df.dicom_path.tolist()\n",
    "_ = Parallel(n_jobs=2, backend=\"threading\")(\n",
    "    delayed(resize_and_save)(file_path) for file_path in tqdm(file_paths, leave=True, position=0)\n",
    ")\n",
    "\n",
    "del _; gc.collect()"
   ]
  },
  {
   "cell_type": "code",
   "execution_count": 17,
   "id": "2f8c3915",
   "metadata": {
    "execution": {
     "iopub.execute_input": "2023-10-05T02:02:04.229714Z",
     "iopub.status.busy": "2023-10-05T02:02:04.229439Z",
     "iopub.status.idle": "2023-10-05T02:02:04.304328Z",
     "shell.execute_reply": "2023-10-05T02:02:04.303436Z"
    },
    "papermill": {
     "duration": 0.083207,
     "end_time": "2023-10-05T02:02:04.306389",
     "exception": false,
     "start_time": "2023-10-05T02:02:04.223182",
     "status": "completed"
    },
    "tags": []
   },
   "outputs": [],
   "source": [
    "class RandomCutout(transforms.RandomApply):\n",
    "    def __init__(self, p, cutout_height_factor=0.2, cutout_width_factor=0.2):\n",
    "        cutout = transforms.RandomErasing(\n",
    "            p=1.0, scale=(cutout_height_factor, cutout_width_factor), ratio=(1,1)\n",
    "        )\n",
    "        super(RandomCutout, self).__init__([cutout], p=p)\n",
    "\n",
    "class CustomDataset(Dataset):\n",
    "    def __init__(self, image_paths, image_size, transform=None):\n",
    "        self.image_paths = image_paths\n",
    "        self.transform = transform\n",
    "        self.image_size = image_size\n",
    "\n",
    "    def __len__(self):\n",
    "        return len(self.image_paths)\n",
    "    \n",
    "    def __getitem__(self, idx):\n",
    "        image_path = self.image_paths[idx]\n",
    "\n",
    "        # load and preprocess the image\n",
    "        image = Image.open(image_path).convert('RGB')\n",
    "        image = transforms.Resize(self.image_size)(image)\n",
    "        image = transforms.ToTensor()(image)\n",
    "        image = image / 255.0\n",
    "\n",
    "        # for additional transformation\n",
    "        if self.transform:\n",
    "            image = self.transform(image)\n",
    "\n",
    "        return image"
   ]
  },
  {
   "cell_type": "code",
   "execution_count": 18,
   "id": "494d5e41",
   "metadata": {
    "execution": {
     "iopub.execute_input": "2023-10-05T02:02:04.318312Z",
     "iopub.status.busy": "2023-10-05T02:02:04.318013Z",
     "iopub.status.idle": "2023-10-05T02:02:04.390412Z",
     "shell.execute_reply": "2023-10-05T02:02:04.389538Z"
    },
    "papermill": {
     "duration": 0.080491,
     "end_time": "2023-10-05T02:02:04.392385",
     "exception": false,
     "start_time": "2023-10-05T02:02:04.311894",
     "status": "completed"
    },
    "tags": []
   },
   "outputs": [],
   "source": [
    "cutout_transform = RandomCutout(p=0.5, cutout_height_factor=0.2, cutout_width_factor=0.2)\n",
    "transform = transforms.Compose([cutout_transform])\n",
    "\n",
    "def build_dataset(image_paths, batch_size, image_size, transform=None):\n",
    "    dataset = CustomDataset(image_paths, image_size=image_size, transform=transform)\n",
    "    dataloader = DataLoader(dataset, batch_size=batch_size, shuffle=True, num_workers=0, pin_memory=True)\n",
    "    return dataloader"
   ]
  },
  {
   "cell_type": "code",
   "execution_count": 19,
   "id": "8554c55f",
   "metadata": {
    "execution": {
     "iopub.execute_input": "2023-10-05T02:02:04.404719Z",
     "iopub.status.busy": "2023-10-05T02:02:04.404051Z",
     "iopub.status.idle": "2023-10-05T02:02:04.475822Z",
     "shell.execute_reply": "2023-10-05T02:02:04.474946Z"
    },
    "papermill": {
     "duration": 0.079964,
     "end_time": "2023-10-05T02:02:04.477885",
     "exception": false,
     "start_time": "2023-10-05T02:02:04.397921",
     "status": "completed"
    },
    "tags": []
   },
   "outputs": [],
   "source": [
    "def post_proc_v3(pred):\n",
    "    proc_pred = np.empty((1, 2*2 + 3*3), dtype='float32')\n",
    "\n",
    "    # bowel, extravasation\n",
    "    proc_pred[:, 0] = 1 - pred[0] # bowel-healthy\n",
    "    proc_pred[:, 1] = pred[0] # bowel-injured\n",
    "    proc_pred[:, 2] = 1 - pred[1] # extra-healthy\n",
    "    proc_pred[:, 3] = pred[1] # extra-injured\n",
    "    \n",
    "    # liver, kidney, sneel\n",
    "    proc_pred[:, 4:7] = pred[2:5]\n",
    "    proc_pred[:, 7:10] = pred[5:8]\n",
    "    proc_pred[:, 10:13] = pred[8:11]\n",
    "\n",
    "    return proc_pred"
   ]
  },
  {
   "cell_type": "code",
   "execution_count": 20,
   "id": "f1502344",
   "metadata": {
    "execution": {
     "iopub.execute_input": "2023-10-05T02:02:04.490927Z",
     "iopub.status.busy": "2023-10-05T02:02:04.490361Z",
     "iopub.status.idle": "2023-10-05T02:02:04.562890Z",
     "shell.execute_reply": "2023-10-05T02:02:04.562029Z"
    },
    "papermill": {
     "duration": 0.080944,
     "end_time": "2023-10-05T02:02:04.564863",
     "exception": false,
     "start_time": "2023-10-05T02:02:04.483919",
     "status": "completed"
    },
    "tags": []
   },
   "outputs": [],
   "source": [
    "def post_proc_v4(pred):\n",
    "    proc_pred = np.empty((1, 2*2 + 3*3), dtype='float32')\n",
    "    \n",
    "    bowel = pred[0] if 0.2 < pred[0] < 0.8 else np.float32(0.020337)\n",
    "    extra = pred[1] if 0.3 < pred[0] < 0.7 else np.float32(0.063553)\n",
    "    kidney = pred[2:5] if np.max(pred[2:5]) > 0.9 else np.array([0.942167, 0.036543, 0.02129])\n",
    "    liver = pred[5:8] if np.max(pred[5:8]) > 0.9 else np.array([0.897998, 0.082301, 0.019701])\n",
    "    spleen = pred[8:11] if np.max(pred[8:11]) > 0.9 else np.array([0.887512, 0.063235, 0.049253])\n",
    "\n",
    "    # bowel, extravasation\n",
    "    proc_pred[:, 0] = 1 - bowel         # bowel-healthy\n",
    "    proc_pred[:, 1] = bowel             # bowel-injured\n",
    "    proc_pred[:, 2] = 1 - extra         # extra-healthy\n",
    "    proc_pred[:, 3] = extra             # extra-injured\n",
    "    \n",
    "    # liver, kidney, sneel\n",
    "    proc_pred[:, 4:7] = kidney\n",
    "    proc_pred[:, 7:10] = liver\n",
    "    proc_pred[:, 10:13] = spleen\n",
    "\n",
    "    return proc_pred"
   ]
  },
  {
   "cell_type": "code",
   "execution_count": 21,
   "id": "b18b0fb8",
   "metadata": {
    "execution": {
     "iopub.execute_input": "2023-10-05T02:02:04.579228Z",
     "iopub.status.busy": "2023-10-05T02:02:04.578968Z",
     "iopub.status.idle": "2023-10-05T02:02:04.649640Z",
     "shell.execute_reply": "2023-10-05T02:02:04.648739Z"
    },
    "papermill": {
     "duration": 0.079185,
     "end_time": "2023-10-05T02:02:04.651748",
     "exception": false,
     "start_time": "2023-10-05T02:02:04.572563",
     "status": "completed"
    },
    "tags": []
   },
   "outputs": [],
   "source": [
    "# def post_proc_v4(pred):\n",
    "#     proc_pred = np.empty((1, 2*2 + 3*3), dtype='float32')\n",
    "    \n",
    "#     if pred[0] < 0.3:\n",
    "#         bowel = np.float32(0.0)\n",
    "#     elif pred[0] > 0.7:\n",
    "#         bowel = np.float32(1.0)\n",
    "#     else:\n",
    "#         bowel = np.float32(0.20337)\n",
    "        \n",
    "#     if pred[1] < 0.3:\n",
    "#         extra = np.float32(0.0)\n",
    "#     elif pred[1] > 0.7:\n",
    "#         extra = np.float32(1.0)\n",
    "#     else:\n",
    "#         extra = np.float32(0.063553)\n",
    "    \n",
    "#     if np.max(pred[2:5]) > 0.9:\n",
    "#         max_index = np.argmax(pred[2:5])\n",
    "#         kidney = np.zeros_like(pred[2:5])\n",
    "#         kidney[max_index] = 1.0\n",
    "#     else:\n",
    "#         kidney = np.array([0.942167, 0.036543, 0.02129])\n",
    "        \n",
    "#     if np.max(pred[5:8]) > 0.9:\n",
    "#         max_index = np.argmax(pred[5:8])\n",
    "#         liver = np.zeros_like(pred[5:8])\n",
    "#         liver[max_index] = 1.0\n",
    "#     else:\n",
    "#         liver = np.array([0.897998, 0.082301, 0.019701])\n",
    "        \n",
    "#     if np.max(pred[8:11]) > 0.9:\n",
    "#         max_index = np.argmax(pred[8:11])\n",
    "#         spleen = np.zeros_like(pred[8:11])\n",
    "#         spleen[max_index] = 1.0\n",
    "#     else:\n",
    "#         spleen = np.array([0.887512, 0.063235, 0.049253])\n",
    "    \n",
    "# #     bowel = pred[0] if 0.3 < pred[0] < 0.7 else np.float32(0.020337)\n",
    "# #     extra = pred[1] if 0.3 < pred[0] < 0.7 else np.float32(0.063553)\n",
    "# #     kidney = pred[2:5] if np.max(pred[2:5]) > 0.9 else np.array([0.942167, 0.036543, 0.02129])\n",
    "# #     liver = pred[5:8] if np.max(pred[5:8]) > 0.9 else np.array([0.897998, 0.082301, 0.019701])\n",
    "# #     spleen = pred[8:11] if np.max(pred[8:11]) > 0.9 else np.array([0.887512, 0.063235, 0.049253])\n",
    "    \n",
    "# #     kidney = pred[2:5] if np.max(pred[2:5]) > 0.9 else np.array([0.942167, 0.036543, 0.02129])\n",
    "# #     liver = pred[5:8] if np.max(pred[5:8]) > 0.9 else np.array([0.897998, 0.082301, 0.019701])\n",
    "# #     spleen = pred[8:11] if np.max(pred[8:11]) > 0.9 else np.array([0.887512, 0.063235, 0.049253])\n",
    "\n",
    "#     # bowel, extravasation\n",
    "#     proc_pred[:, 0] = 1 - bowel         # bowel-healthy\n",
    "#     proc_pred[:, 1] = bowel             # bowel-injured\n",
    "#     proc_pred[:, 2] = 1 - extra         # extra-healthy\n",
    "#     proc_pred[:, 3] = extra             # extra-injured\n",
    "    \n",
    "#     # liver, kidney, sneel\n",
    "#     proc_pred[:, 4:7] = kidney\n",
    "#     proc_pred[:, 7:10] = liver\n",
    "#     proc_pred[:, 10:13] = spleen\n",
    "\n",
    "#     return proc_pred"
   ]
  },
  {
   "cell_type": "code",
   "execution_count": 22,
   "id": "382c349f",
   "metadata": {
    "execution": {
     "iopub.execute_input": "2023-10-05T02:02:04.664292Z",
     "iopub.status.busy": "2023-10-05T02:02:04.663662Z",
     "iopub.status.idle": "2023-10-05T02:02:04.736979Z",
     "shell.execute_reply": "2023-10-05T02:02:04.735922Z"
    },
    "papermill": {
     "duration": 0.081449,
     "end_time": "2023-10-05T02:02:04.738980",
     "exception": false,
     "start_time": "2023-10-05T02:02:04.657531",
     "status": "completed"
    },
    "tags": []
   },
   "outputs": [
    {
     "name": "stdout",
     "output_type": "stream",
     "text": [
      "[1. 0. 0.]\n"
     ]
    }
   ],
   "source": [
    "import numpy as np\n",
    "\n",
    "pred = np.array([0.1, 0.2, 0.95, 0.8, 0.6])\n",
    "\n",
    "kidney = pred[2:5] if np.max(pred[2:5]) > 0.9 else np.array([0.942167, 0.036543, 0.02129])\n",
    "\n",
    "max_index = np.argmax(kidney)\n",
    "kidney = np.zeros_like(kidney)\n",
    "kidney[max_index] = 1.0\n",
    "\n",
    "print(kidney)"
   ]
  },
  {
   "cell_type": "code",
   "execution_count": 23,
   "id": "4e8ec23c",
   "metadata": {
    "execution": {
     "iopub.execute_input": "2023-10-05T02:02:04.751265Z",
     "iopub.status.busy": "2023-10-05T02:02:04.751001Z",
     "iopub.status.idle": "2023-10-05T02:02:10.729693Z",
     "shell.execute_reply": "2023-10-05T02:02:10.728819Z"
    },
    "papermill": {
     "duration": 5.986758,
     "end_time": "2023-10-05T02:02:10.731498",
     "exception": false,
     "start_time": "2023-10-05T02:02:04.744740",
     "status": "completed"
    },
    "tags": []
   },
   "outputs": [
    {
     "data": {
      "application/vnd.jupyter.widget-view+json": {
       "model_id": "f4433e495fbe4965be7637203885538f",
       "version_major": 2,
       "version_minor": 0
      },
      "text/plain": [
       "Patients :   0%|          | 0/3 [00:00<?, ?it/s]"
      ]
     },
     "metadata": {},
     "output_type": "display_data"
    },
    {
     "name": "stdout",
     "output_type": "stream",
     "text": [
      "Patient ID: 48843\n",
      "Patient ID: 50046\n",
      "Patient ID: 63706\n"
     ]
    }
   ],
   "source": [
    "# Getting unique patient IDs from test dataset\n",
    "patient_ids = test_df['patient_id'].unique()\n",
    "\n",
    "# Initializing array to store predictions\n",
    "patient_preds = np.zeros(\n",
    "    shape=(len(patient_ids), 2*2 + 3*3),\n",
    "    dtype=\"float32\"\n",
    ")\n",
    "\n",
    "for pidx, patient_id in tqdm(enumerate(patient_ids), total=len(patient_ids), desc=\"Patients \"):\n",
    "    print(f'Patient ID: {patient_id}')\n",
    "    \n",
    "    model_preds = np.zeros(shape=(1, 11), dtype=np.float32)\n",
    "    \n",
    "    # Query the dataframe for a particualr patient\n",
    "    patient_df = test_df[test_df[\"patient_id\"] == patient_id]\n",
    "    \n",
    "    # Getting image paths for a particular patient\n",
    "    patient_paths = patient_df.image_path.tolist()\n",
    "    \n",
    "    # Bulding dataset for prediction\n",
    "    dtest = build_dataset(patient_paths, 1, config.IMAGE_SIZE)\n",
    "    \n",
    "    # Predicting with the model\n",
    "    model.eval()\n",
    "    with torch.no_grad():\n",
    "        preds = []\n",
    "        for image in dtest:\n",
    "            image = image.to(device)\n",
    "            x_bowel, x_extra, x_liver, x_kidney, x_spleen = model(image)\n",
    "            \n",
    "            bowel =F.sigmoid(x_bowel.cpu()).numpy().flatten()\n",
    "            extra = F.sigmoid(x_extra.cpu()).numpy().flatten()\n",
    "            kidney = F.softmax(x_liver.cpu(),dim =1).numpy().flatten()\n",
    "            liver = F.softmax(x_kidney.cpu(),dim =1).numpy().flatten()\n",
    "            spleen = F.softmax(x_spleen.cpu(),dim =1).numpy().flatten()\n",
    "            \n",
    "            preds.append(np.concatenate((bowel, extra, kidney, liver, spleen), axis=0))\n",
    "            \n",
    "        preds = np.array(preds).astype('float32')\n",
    "        \n",
    "#         print(preds.shape)\n",
    "        preds = preds.reshape(len(patient_paths), 11)\n",
    "#         print(preds.shape)\n",
    "        preds = np.max(preds, axis=0)\n",
    "#         print(preds.shape)\n",
    "#         print(preds[0])\n",
    "#         print(patient_preds[pidx,:].shape)\n",
    "#         print(type(preds[2:5]))\n",
    "#         print(preds[2:5].shape)\n",
    "#         print(type(np.float32(0)))\n",
    "        patient_preds[pidx, :] += post_proc_v4(preds).reshape((2*2+3*3))\n",
    "            \n",
    "        del patient_df, patient_paths, dtest, bowel, extra, liver, kidney, spleen, preds\n",
    "        gc.collect()"
   ]
  },
  {
   "cell_type": "code",
   "execution_count": 24,
   "id": "38617f80",
   "metadata": {
    "execution": {
     "iopub.execute_input": "2023-10-05T02:02:10.744450Z",
     "iopub.status.busy": "2023-10-05T02:02:10.744131Z",
     "iopub.status.idle": "2023-10-05T02:02:10.816932Z",
     "shell.execute_reply": "2023-10-05T02:02:10.816038Z"
    },
    "papermill": {
     "duration": 0.081978,
     "end_time": "2023-10-05T02:02:10.819213",
     "exception": false,
     "start_time": "2023-10-05T02:02:10.737235",
     "status": "completed"
    },
    "tags": []
   },
   "outputs": [],
   "source": [
    "columns = [\n",
    "    'bowel_healthy',\n",
    "    'bowel_injury',\n",
    "    'extravasation_healthy',\n",
    "    'extravasation_injury',\n",
    "    'kidney_healthy',\n",
    "    'kidney_low',\n",
    "    'kidney_high',\n",
    "    'liver_healthy',\n",
    "    'liver_low',\n",
    "    'liver_high',\n",
    "    'spleen_healthy',\n",
    "    'spleen_low',\n",
    "    'spleen_high'\n",
    "]\n",
    "\n",
    "pred_df = pd.DataFrame({\"patient_id\":patient_ids,})\n",
    "pred_df[columns] = patient_preds.astype(\"float32\")"
   ]
  },
  {
   "cell_type": "code",
   "execution_count": 25,
   "id": "62a514fb",
   "metadata": {
    "execution": {
     "iopub.execute_input": "2023-10-05T02:02:10.831488Z",
     "iopub.status.busy": "2023-10-05T02:02:10.831225Z",
     "iopub.status.idle": "2023-10-05T02:02:10.933125Z",
     "shell.execute_reply": "2023-10-05T02:02:10.932169Z"
    },
    "papermill": {
     "duration": 0.110318,
     "end_time": "2023-10-05T02:02:10.935235",
     "exception": false,
     "start_time": "2023-10-05T02:02:10.824917",
     "status": "completed"
    },
    "tags": []
   },
   "outputs": [
    {
     "data": {
      "text/html": [
       "<div>\n",
       "<style scoped>\n",
       "    .dataframe tbody tr th:only-of-type {\n",
       "        vertical-align: middle;\n",
       "    }\n",
       "\n",
       "    .dataframe tbody tr th {\n",
       "        vertical-align: top;\n",
       "    }\n",
       "\n",
       "    .dataframe thead th {\n",
       "        text-align: right;\n",
       "    }\n",
       "</style>\n",
       "<table border=\"1\" class=\"dataframe\">\n",
       "  <thead>\n",
       "    <tr style=\"text-align: right;\">\n",
       "      <th></th>\n",
       "      <th>patient_id</th>\n",
       "      <th>bowel_healthy</th>\n",
       "      <th>bowel_injury</th>\n",
       "      <th>extravasation_healthy</th>\n",
       "      <th>extravasation_injury</th>\n",
       "      <th>kidney_healthy</th>\n",
       "      <th>kidney_low</th>\n",
       "      <th>kidney_high</th>\n",
       "      <th>liver_healthy</th>\n",
       "      <th>liver_low</th>\n",
       "      <th>liver_high</th>\n",
       "      <th>spleen_healthy</th>\n",
       "      <th>spleen_low</th>\n",
       "      <th>spleen_high</th>\n",
       "    </tr>\n",
       "  </thead>\n",
       "  <tbody>\n",
       "    <tr>\n",
       "      <th>0</th>\n",
       "      <td>48843</td>\n",
       "      <td>0.979663</td>\n",
       "      <td>0.020337</td>\n",
       "      <td>0.936447</td>\n",
       "      <td>0.063553</td>\n",
       "      <td>0.998065</td>\n",
       "      <td>0.000225</td>\n",
       "      <td>0.001710</td>\n",
       "      <td>0.004138</td>\n",
       "      <td>0.029599</td>\n",
       "      <td>0.966262</td>\n",
       "      <td>0.068456</td>\n",
       "      <td>0.005505</td>\n",
       "      <td>0.926038</td>\n",
       "    </tr>\n",
       "    <tr>\n",
       "      <th>1</th>\n",
       "      <td>50046</td>\n",
       "      <td>0.979663</td>\n",
       "      <td>0.020337</td>\n",
       "      <td>0.936447</td>\n",
       "      <td>0.063553</td>\n",
       "      <td>0.998677</td>\n",
       "      <td>0.001287</td>\n",
       "      <td>0.000036</td>\n",
       "      <td>0.897998</td>\n",
       "      <td>0.082301</td>\n",
       "      <td>0.019701</td>\n",
       "      <td>0.887512</td>\n",
       "      <td>0.063235</td>\n",
       "      <td>0.049253</td>\n",
       "    </tr>\n",
       "    <tr>\n",
       "      <th>2</th>\n",
       "      <td>63706</td>\n",
       "      <td>0.979663</td>\n",
       "      <td>0.020337</td>\n",
       "      <td>0.936447</td>\n",
       "      <td>0.063553</td>\n",
       "      <td>0.999968</td>\n",
       "      <td>0.000021</td>\n",
       "      <td>0.000011</td>\n",
       "      <td>0.897998</td>\n",
       "      <td>0.082301</td>\n",
       "      <td>0.019701</td>\n",
       "      <td>0.043677</td>\n",
       "      <td>0.000987</td>\n",
       "      <td>0.955335</td>\n",
       "    </tr>\n",
       "  </tbody>\n",
       "</table>\n",
       "</div>"
      ],
      "text/plain": [
       "   patient_id  bowel_healthy  bowel_injury  extravasation_healthy  \\\n",
       "0       48843       0.979663      0.020337               0.936447   \n",
       "1       50046       0.979663      0.020337               0.936447   \n",
       "2       63706       0.979663      0.020337               0.936447   \n",
       "\n",
       "   extravasation_injury  kidney_healthy  kidney_low  kidney_high  \\\n",
       "0              0.063553        0.998065    0.000225     0.001710   \n",
       "1              0.063553        0.998677    0.001287     0.000036   \n",
       "2              0.063553        0.999968    0.000021     0.000011   \n",
       "\n",
       "   liver_healthy  liver_low  liver_high  spleen_healthy  spleen_low  \\\n",
       "0       0.004138   0.029599    0.966262        0.068456    0.005505   \n",
       "1       0.897998   0.082301    0.019701        0.887512    0.063235   \n",
       "2       0.897998   0.082301    0.019701        0.043677    0.000987   \n",
       "\n",
       "   spleen_high  \n",
       "0     0.926038  \n",
       "1     0.049253  \n",
       "2     0.955335  "
      ]
     },
     "execution_count": 25,
     "metadata": {},
     "output_type": "execute_result"
    }
   ],
   "source": [
    "sub_df = pd.read_csv(f\"{BASE_PATH}/sample_submission.csv\")\n",
    "sub_df = sub_df[[\"patient_id\"]]\n",
    "sub_df = sub_df.merge(pred_df, on=\"patient_id\", how=\"left\")\n",
    "\n",
    "sub_df.to_csv(\"submission.csv\",index=False, float_format='%.20f')\n",
    "sub_df.head(3)"
   ]
  },
  {
   "cell_type": "code",
   "execution_count": null,
   "id": "8d6337e2",
   "metadata": {
    "papermill": {
     "duration": 0.006354,
     "end_time": "2023-10-05T02:02:10.947959",
     "exception": false,
     "start_time": "2023-10-05T02:02:10.941605",
     "status": "completed"
    },
    "tags": []
   },
   "outputs": [],
   "source": []
  }
 ],
 "metadata": {
  "kernelspec": {
   "display_name": "Python 3 (ipykernel)",
   "language": "python",
   "name": "python3"
  },
  "language_info": {
   "codemirror_mode": {
    "name": "ipython",
    "version": 3
   },
   "file_extension": ".py",
   "mimetype": "text/x-python",
   "name": "python",
   "nbconvert_exporter": "python",
   "pygments_lexer": "ipython3",
   "version": "3.9.13"
  },
  "papermill": {
   "default_parameters": {},
   "duration": 108.405507,
   "end_time": "2023-10-05T02:02:14.425445",
   "environment_variables": {},
   "exception": null,
   "input_path": "__notebook__.ipynb",
   "output_path": "__notebook__.ipynb",
   "parameters": {},
   "start_time": "2023-10-05T02:00:26.019938",
   "version": "2.4.0"
  },
  "widgets": {
   "application/vnd.jupyter.widget-state+json": {
    "state": {
     "0668816305ee4a32a764f9084f368b19": {
      "model_module": "@jupyter-widgets/base",
      "model_module_version": "1.2.0",
      "model_name": "LayoutModel",
      "state": {
       "_model_module": "@jupyter-widgets/base",
       "_model_module_version": "1.2.0",
       "_model_name": "LayoutModel",
       "_view_count": null,
       "_view_module": "@jupyter-widgets/base",
       "_view_module_version": "1.2.0",
       "_view_name": "LayoutView",
       "align_content": null,
       "align_items": null,
       "align_self": null,
       "border": null,
       "bottom": null,
       "display": null,
       "flex": null,
       "flex_flow": null,
       "grid_area": null,
       "grid_auto_columns": null,
       "grid_auto_flow": null,
       "grid_auto_rows": null,
       "grid_column": null,
       "grid_gap": null,
       "grid_row": null,
       "grid_template_areas": null,
       "grid_template_columns": null,
       "grid_template_rows": null,
       "height": null,
       "justify_content": null,
       "justify_items": null,
       "left": null,
       "margin": null,
       "max_height": null,
       "max_width": null,
       "min_height": null,
       "min_width": null,
       "object_fit": null,
       "object_position": null,
       "order": null,
       "overflow": null,
       "overflow_x": null,
       "overflow_y": null,
       "padding": null,
       "right": null,
       "top": null,
       "visibility": null,
       "width": null
      }
     },
     "4f3bff7b41ba40ccb249851fba358d0e": {
      "model_module": "@jupyter-widgets/base",
      "model_module_version": "1.2.0",
      "model_name": "LayoutModel",
      "state": {
       "_model_module": "@jupyter-widgets/base",
       "_model_module_version": "1.2.0",
       "_model_name": "LayoutModel",
       "_view_count": null,
       "_view_module": "@jupyter-widgets/base",
       "_view_module_version": "1.2.0",
       "_view_name": "LayoutView",
       "align_content": null,
       "align_items": null,
       "align_self": null,
       "border": null,
       "bottom": null,
       "display": null,
       "flex": null,
       "flex_flow": null,
       "grid_area": null,
       "grid_auto_columns": null,
       "grid_auto_flow": null,
       "grid_auto_rows": null,
       "grid_column": null,
       "grid_gap": null,
       "grid_row": null,
       "grid_template_areas": null,
       "grid_template_columns": null,
       "grid_template_rows": null,
       "height": null,
       "justify_content": null,
       "justify_items": null,
       "left": null,
       "margin": null,
       "max_height": null,
       "max_width": null,
       "min_height": null,
       "min_width": null,
       "object_fit": null,
       "object_position": null,
       "order": null,
       "overflow": null,
       "overflow_x": null,
       "overflow_y": null,
       "padding": null,
       "right": null,
       "top": null,
       "visibility": null,
       "width": null
      }
     },
     "55ed81e7532b47d9a035a6eb7c19e4ea": {
      "model_module": "@jupyter-widgets/base",
      "model_module_version": "1.2.0",
      "model_name": "LayoutModel",
      "state": {
       "_model_module": "@jupyter-widgets/base",
       "_model_module_version": "1.2.0",
       "_model_name": "LayoutModel",
       "_view_count": null,
       "_view_module": "@jupyter-widgets/base",
       "_view_module_version": "1.2.0",
       "_view_name": "LayoutView",
       "align_content": null,
       "align_items": null,
       "align_self": null,
       "border": null,
       "bottom": null,
       "display": null,
       "flex": null,
       "flex_flow": null,
       "grid_area": null,
       "grid_auto_columns": null,
       "grid_auto_flow": null,
       "grid_auto_rows": null,
       "grid_column": null,
       "grid_gap": null,
       "grid_row": null,
       "grid_template_areas": null,
       "grid_template_columns": null,
       "grid_template_rows": null,
       "height": null,
       "justify_content": null,
       "justify_items": null,
       "left": null,
       "margin": null,
       "max_height": null,
       "max_width": null,
       "min_height": null,
       "min_width": null,
       "object_fit": null,
       "object_position": null,
       "order": null,
       "overflow": null,
       "overflow_x": null,
       "overflow_y": null,
       "padding": null,
       "right": null,
       "top": null,
       "visibility": null,
       "width": null
      }
     },
     "5cc40a921d70445fb6b62559358fbce1": {
      "model_module": "@jupyter-widgets/base",
      "model_module_version": "1.2.0",
      "model_name": "LayoutModel",
      "state": {
       "_model_module": "@jupyter-widgets/base",
       "_model_module_version": "1.2.0",
       "_model_name": "LayoutModel",
       "_view_count": null,
       "_view_module": "@jupyter-widgets/base",
       "_view_module_version": "1.2.0",
       "_view_name": "LayoutView",
       "align_content": null,
       "align_items": null,
       "align_self": null,
       "border": null,
       "bottom": null,
       "display": null,
       "flex": null,
       "flex_flow": null,
       "grid_area": null,
       "grid_auto_columns": null,
       "grid_auto_flow": null,
       "grid_auto_rows": null,
       "grid_column": null,
       "grid_gap": null,
       "grid_row": null,
       "grid_template_areas": null,
       "grid_template_columns": null,
       "grid_template_rows": null,
       "height": null,
       "justify_content": null,
       "justify_items": null,
       "left": null,
       "margin": null,
       "max_height": null,
       "max_width": null,
       "min_height": null,
       "min_width": null,
       "object_fit": null,
       "object_position": null,
       "order": null,
       "overflow": null,
       "overflow_x": null,
       "overflow_y": null,
       "padding": null,
       "right": null,
       "top": null,
       "visibility": null,
       "width": null
      }
     },
     "78a75ea6bb4642de8c224203bbbc164a": {
      "model_module": "@jupyter-widgets/controls",
      "model_module_version": "1.5.0",
      "model_name": "DescriptionStyleModel",
      "state": {
       "_model_module": "@jupyter-widgets/controls",
       "_model_module_version": "1.5.0",
       "_model_name": "DescriptionStyleModel",
       "_view_count": null,
       "_view_module": "@jupyter-widgets/base",
       "_view_module_version": "1.2.0",
       "_view_name": "StyleView",
       "description_width": ""
      }
     },
     "855ee07c66d44bb38f097699f1976a45": {
      "model_module": "@jupyter-widgets/controls",
      "model_module_version": "1.5.0",
      "model_name": "HTMLModel",
      "state": {
       "_dom_classes": [],
       "_model_module": "@jupyter-widgets/controls",
       "_model_module_version": "1.5.0",
       "_model_name": "HTMLModel",
       "_view_count": null,
       "_view_module": "@jupyter-widgets/controls",
       "_view_module_version": "1.5.0",
       "_view_name": "HTMLView",
       "description": "",
       "description_tooltip": null,
       "layout": "IPY_MODEL_5cc40a921d70445fb6b62559358fbce1",
       "placeholder": "​",
       "style": "IPY_MODEL_f5b5f72e42aa4ec68a8d8a8625bdd606",
       "value": "Patients : 100%"
      }
     },
     "8d679422c3a7414096fb2b4ea0bffd05": {
      "model_module": "@jupyter-widgets/base",
      "model_module_version": "1.2.0",
      "model_name": "LayoutModel",
      "state": {
       "_model_module": "@jupyter-widgets/base",
       "_model_module_version": "1.2.0",
       "_model_name": "LayoutModel",
       "_view_count": null,
       "_view_module": "@jupyter-widgets/base",
       "_view_module_version": "1.2.0",
       "_view_name": "LayoutView",
       "align_content": null,
       "align_items": null,
       "align_self": null,
       "border": null,
       "bottom": null,
       "display": null,
       "flex": null,
       "flex_flow": null,
       "grid_area": null,
       "grid_auto_columns": null,
       "grid_auto_flow": null,
       "grid_auto_rows": null,
       "grid_column": null,
       "grid_gap": null,
       "grid_row": null,
       "grid_template_areas": null,
       "grid_template_columns": null,
       "grid_template_rows": null,
       "height": null,
       "justify_content": null,
       "justify_items": null,
       "left": null,
       "margin": null,
       "max_height": null,
       "max_width": null,
       "min_height": null,
       "min_width": null,
       "object_fit": null,
       "object_position": null,
       "order": null,
       "overflow": null,
       "overflow_x": null,
       "overflow_y": null,
       "padding": null,
       "right": null,
       "top": null,
       "visibility": null,
       "width": null
      }
     },
     "9c1b5cc0983240ccb94481c1cfc31626": {
      "model_module": "@jupyter-widgets/controls",
      "model_module_version": "1.5.0",
      "model_name": "HTMLModel",
      "state": {
       "_dom_classes": [],
       "_model_module": "@jupyter-widgets/controls",
       "_model_module_version": "1.5.0",
       "_model_name": "HTMLModel",
       "_view_count": null,
       "_view_module": "@jupyter-widgets/controls",
       "_view_module_version": "1.5.0",
       "_view_name": "HTMLView",
       "description": "",
       "description_tooltip": null,
       "layout": "IPY_MODEL_0668816305ee4a32a764f9084f368b19",
       "placeholder": "​",
       "style": "IPY_MODEL_ad6ecb7039d844adb242bb0f9889ebc3",
       "value": " 3/3 [00:05&lt;00:00,  1.41s/it]"
      }
     },
     "9c779f7027844fb5bd4e93bc6b0dadb4": {
      "model_module": "@jupyter-widgets/base",
      "model_module_version": "1.2.0",
      "model_name": "LayoutModel",
      "state": {
       "_model_module": "@jupyter-widgets/base",
       "_model_module_version": "1.2.0",
       "_model_name": "LayoutModel",
       "_view_count": null,
       "_view_module": "@jupyter-widgets/base",
       "_view_module_version": "1.2.0",
       "_view_name": "LayoutView",
       "align_content": null,
       "align_items": null,
       "align_self": null,
       "border": null,
       "bottom": null,
       "display": null,
       "flex": null,
       "flex_flow": null,
       "grid_area": null,
       "grid_auto_columns": null,
       "grid_auto_flow": null,
       "grid_auto_rows": null,
       "grid_column": null,
       "grid_gap": null,
       "grid_row": null,
       "grid_template_areas": null,
       "grid_template_columns": null,
       "grid_template_rows": null,
       "height": null,
       "justify_content": null,
       "justify_items": null,
       "left": null,
       "margin": null,
       "max_height": null,
       "max_width": null,
       "min_height": null,
       "min_width": null,
       "object_fit": null,
       "object_position": null,
       "order": null,
       "overflow": null,
       "overflow_x": null,
       "overflow_y": null,
       "padding": null,
       "right": null,
       "top": null,
       "visibility": null,
       "width": null
      }
     },
     "a4827d613a894508916aca19f1754315": {
      "model_module": "@jupyter-widgets/base",
      "model_module_version": "1.2.0",
      "model_name": "LayoutModel",
      "state": {
       "_model_module": "@jupyter-widgets/base",
       "_model_module_version": "1.2.0",
       "_model_name": "LayoutModel",
       "_view_count": null,
       "_view_module": "@jupyter-widgets/base",
       "_view_module_version": "1.2.0",
       "_view_name": "LayoutView",
       "align_content": null,
       "align_items": null,
       "align_self": null,
       "border": null,
       "bottom": null,
       "display": null,
       "flex": null,
       "flex_flow": null,
       "grid_area": null,
       "grid_auto_columns": null,
       "grid_auto_flow": null,
       "grid_auto_rows": null,
       "grid_column": null,
       "grid_gap": null,
       "grid_row": null,
       "grid_template_areas": null,
       "grid_template_columns": null,
       "grid_template_rows": null,
       "height": null,
       "justify_content": null,
       "justify_items": null,
       "left": null,
       "margin": null,
       "max_height": null,
       "max_width": null,
       "min_height": null,
       "min_width": null,
       "object_fit": null,
       "object_position": null,
       "order": null,
       "overflow": null,
       "overflow_x": null,
       "overflow_y": null,
       "padding": null,
       "right": null,
       "top": null,
       "visibility": null,
       "width": null
      }
     },
     "ac93427ee0494684a453d48f4548bba5": {
      "model_module": "@jupyter-widgets/controls",
      "model_module_version": "1.5.0",
      "model_name": "HTMLModel",
      "state": {
       "_dom_classes": [],
       "_model_module": "@jupyter-widgets/controls",
       "_model_module_version": "1.5.0",
       "_model_name": "HTMLModel",
       "_view_count": null,
       "_view_module": "@jupyter-widgets/controls",
       "_view_module_version": "1.5.0",
       "_view_name": "HTMLView",
       "description": "",
       "description_tooltip": null,
       "layout": "IPY_MODEL_8d679422c3a7414096fb2b4ea0bffd05",
       "placeholder": "​",
       "style": "IPY_MODEL_78a75ea6bb4642de8c224203bbbc164a",
       "value": "100%"
      }
     },
     "acd6c92333314a6a9f9aa79e794a1e32": {
      "model_module": "@jupyter-widgets/controls",
      "model_module_version": "1.5.0",
      "model_name": "HTMLModel",
      "state": {
       "_dom_classes": [],
       "_model_module": "@jupyter-widgets/controls",
       "_model_module_version": "1.5.0",
       "_model_name": "HTMLModel",
       "_view_count": null,
       "_view_module": "@jupyter-widgets/controls",
       "_view_module_version": "1.5.0",
       "_view_name": "HTMLView",
       "description": "",
       "description_tooltip": null,
       "layout": "IPY_MODEL_55ed81e7532b47d9a035a6eb7c19e4ea",
       "placeholder": "​",
       "style": "IPY_MODEL_bb85d7946c844f74a7da7954e212d605",
       "value": " 3/3 [00:00&lt;00:00, 157.07it/s]"
      }
     },
     "ad6ecb7039d844adb242bb0f9889ebc3": {
      "model_module": "@jupyter-widgets/controls",
      "model_module_version": "1.5.0",
      "model_name": "DescriptionStyleModel",
      "state": {
       "_model_module": "@jupyter-widgets/controls",
       "_model_module_version": "1.5.0",
       "_model_name": "DescriptionStyleModel",
       "_view_count": null,
       "_view_module": "@jupyter-widgets/base",
       "_view_module_version": "1.2.0",
       "_view_name": "StyleView",
       "description_width": ""
      }
     },
     "bb85d7946c844f74a7da7954e212d605": {
      "model_module": "@jupyter-widgets/controls",
      "model_module_version": "1.5.0",
      "model_name": "DescriptionStyleModel",
      "state": {
       "_model_module": "@jupyter-widgets/controls",
       "_model_module_version": "1.5.0",
       "_model_name": "DescriptionStyleModel",
       "_view_count": null,
       "_view_module": "@jupyter-widgets/base",
       "_view_module_version": "1.2.0",
       "_view_name": "StyleView",
       "description_width": ""
      }
     },
     "da8bc85d627f4ac396a832bc0ac1fe03": {
      "model_module": "@jupyter-widgets/controls",
      "model_module_version": "1.5.0",
      "model_name": "ProgressStyleModel",
      "state": {
       "_model_module": "@jupyter-widgets/controls",
       "_model_module_version": "1.5.0",
       "_model_name": "ProgressStyleModel",
       "_view_count": null,
       "_view_module": "@jupyter-widgets/base",
       "_view_module_version": "1.2.0",
       "_view_name": "StyleView",
       "bar_color": null,
       "description_width": ""
      }
     },
     "dc9cf42f3fa34c20bbb8b4049bf6275c": {
      "model_module": "@jupyter-widgets/base",
      "model_module_version": "1.2.0",
      "model_name": "LayoutModel",
      "state": {
       "_model_module": "@jupyter-widgets/base",
       "_model_module_version": "1.2.0",
       "_model_name": "LayoutModel",
       "_view_count": null,
       "_view_module": "@jupyter-widgets/base",
       "_view_module_version": "1.2.0",
       "_view_name": "LayoutView",
       "align_content": null,
       "align_items": null,
       "align_self": null,
       "border": null,
       "bottom": null,
       "display": null,
       "flex": null,
       "flex_flow": null,
       "grid_area": null,
       "grid_auto_columns": null,
       "grid_auto_flow": null,
       "grid_auto_rows": null,
       "grid_column": null,
       "grid_gap": null,
       "grid_row": null,
       "grid_template_areas": null,
       "grid_template_columns": null,
       "grid_template_rows": null,
       "height": null,
       "justify_content": null,
       "justify_items": null,
       "left": null,
       "margin": null,
       "max_height": null,
       "max_width": null,
       "min_height": null,
       "min_width": null,
       "object_fit": null,
       "object_position": null,
       "order": null,
       "overflow": null,
       "overflow_x": null,
       "overflow_y": null,
       "padding": null,
       "right": null,
       "top": null,
       "visibility": null,
       "width": null
      }
     },
     "dd67c6b172664290b181fe73e8b58bee": {
      "model_module": "@jupyter-widgets/controls",
      "model_module_version": "1.5.0",
      "model_name": "HBoxModel",
      "state": {
       "_dom_classes": [],
       "_model_module": "@jupyter-widgets/controls",
       "_model_module_version": "1.5.0",
       "_model_name": "HBoxModel",
       "_view_count": null,
       "_view_module": "@jupyter-widgets/controls",
       "_view_module_version": "1.5.0",
       "_view_name": "HBoxView",
       "box_style": "",
       "children": [
        "IPY_MODEL_ac93427ee0494684a453d48f4548bba5",
        "IPY_MODEL_dee585ff035f40508012be42985ffa5e",
        "IPY_MODEL_acd6c92333314a6a9f9aa79e794a1e32"
       ],
       "layout": "IPY_MODEL_a4827d613a894508916aca19f1754315"
      }
     },
     "dee585ff035f40508012be42985ffa5e": {
      "model_module": "@jupyter-widgets/controls",
      "model_module_version": "1.5.0",
      "model_name": "FloatProgressModel",
      "state": {
       "_dom_classes": [],
       "_model_module": "@jupyter-widgets/controls",
       "_model_module_version": "1.5.0",
       "_model_name": "FloatProgressModel",
       "_view_count": null,
       "_view_module": "@jupyter-widgets/controls",
       "_view_module_version": "1.5.0",
       "_view_name": "ProgressView",
       "bar_style": "success",
       "description": "",
       "description_tooltip": null,
       "layout": "IPY_MODEL_dc9cf42f3fa34c20bbb8b4049bf6275c",
       "max": 3,
       "min": 0,
       "orientation": "horizontal",
       "style": "IPY_MODEL_da8bc85d627f4ac396a832bc0ac1fe03",
       "value": 3
      }
     },
     "ec262dce485c4675ba26e704f0a4f10f": {
      "model_module": "@jupyter-widgets/controls",
      "model_module_version": "1.5.0",
      "model_name": "ProgressStyleModel",
      "state": {
       "_model_module": "@jupyter-widgets/controls",
       "_model_module_version": "1.5.0",
       "_model_name": "ProgressStyleModel",
       "_view_count": null,
       "_view_module": "@jupyter-widgets/base",
       "_view_module_version": "1.2.0",
       "_view_name": "StyleView",
       "bar_color": null,
       "description_width": ""
      }
     },
     "f2e11bb098ff4332a26f288d4b81008f": {
      "model_module": "@jupyter-widgets/controls",
      "model_module_version": "1.5.0",
      "model_name": "FloatProgressModel",
      "state": {
       "_dom_classes": [],
       "_model_module": "@jupyter-widgets/controls",
       "_model_module_version": "1.5.0",
       "_model_name": "FloatProgressModel",
       "_view_count": null,
       "_view_module": "@jupyter-widgets/controls",
       "_view_module_version": "1.5.0",
       "_view_name": "ProgressView",
       "bar_style": "success",
       "description": "",
       "description_tooltip": null,
       "layout": "IPY_MODEL_4f3bff7b41ba40ccb249851fba358d0e",
       "max": 3,
       "min": 0,
       "orientation": "horizontal",
       "style": "IPY_MODEL_ec262dce485c4675ba26e704f0a4f10f",
       "value": 3
      }
     },
     "f4433e495fbe4965be7637203885538f": {
      "model_module": "@jupyter-widgets/controls",
      "model_module_version": "1.5.0",
      "model_name": "HBoxModel",
      "state": {
       "_dom_classes": [],
       "_model_module": "@jupyter-widgets/controls",
       "_model_module_version": "1.5.0",
       "_model_name": "HBoxModel",
       "_view_count": null,
       "_view_module": "@jupyter-widgets/controls",
       "_view_module_version": "1.5.0",
       "_view_name": "HBoxView",
       "box_style": "",
       "children": [
        "IPY_MODEL_855ee07c66d44bb38f097699f1976a45",
        "IPY_MODEL_f2e11bb098ff4332a26f288d4b81008f",
        "IPY_MODEL_9c1b5cc0983240ccb94481c1cfc31626"
       ],
       "layout": "IPY_MODEL_9c779f7027844fb5bd4e93bc6b0dadb4"
      }
     },
     "f5b5f72e42aa4ec68a8d8a8625bdd606": {
      "model_module": "@jupyter-widgets/controls",
      "model_module_version": "1.5.0",
      "model_name": "DescriptionStyleModel",
      "state": {
       "_model_module": "@jupyter-widgets/controls",
       "_model_module_version": "1.5.0",
       "_model_name": "DescriptionStyleModel",
       "_view_count": null,
       "_view_module": "@jupyter-widgets/base",
       "_view_module_version": "1.2.0",
       "_view_name": "StyleView",
       "description_width": ""
      }
     }
    },
    "version_major": 2,
    "version_minor": 0
   }
  }
 },
 "nbformat": 4,
 "nbformat_minor": 5
}
