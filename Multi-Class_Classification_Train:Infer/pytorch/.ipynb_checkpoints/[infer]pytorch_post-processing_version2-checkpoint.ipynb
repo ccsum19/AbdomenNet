{
 "cells": [
  {
   "cell_type": "code",
   "execution_count": 1,
   "id": "ead6dbca",
   "metadata": {
    "execution": {
     "iopub.execute_input": "2023-10-07T17:38:20.119137Z",
     "iopub.status.busy": "2023-10-07T17:38:20.118765Z",
     "iopub.status.idle": "2023-10-07T17:38:20.139905Z",
     "shell.execute_reply": "2023-10-07T17:38:20.139110Z"
    },
    "papermill": {
     "duration": 0.029437,
     "end_time": "2023-10-07T17:38:20.141638",
     "exception": false,
     "start_time": "2023-10-07T17:38:20.112201",
     "status": "completed"
    },
    "tags": []
   },
   "outputs": [],
   "source": [
    "%matplotlib inline\n",
    "%load_ext autoreload\n",
    "%autoreload 2"
   ]
  },
  {
   "cell_type": "code",
   "execution_count": 2,
   "id": "e6126c19",
   "metadata": {
    "execution": {
     "iopub.execute_input": "2023-10-07T17:38:20.151389Z",
     "iopub.status.busy": "2023-10-07T17:38:20.151157Z",
     "iopub.status.idle": "2023-10-07T17:39:37.386680Z",
     "shell.execute_reply": "2023-10-07T17:39:37.385571Z"
    },
    "papermill": {
     "duration": 77.242701,
     "end_time": "2023-10-07T17:39:37.388808",
     "exception": false,
     "start_time": "2023-10-07T17:38:20.146107",
     "status": "completed"
    },
    "tags": []
   },
   "outputs": [
    {
     "name": "stdout",
     "output_type": "stream",
     "text": [
      "Processing /kaggle/input/pydicom-and-torchmetrics/pydicom-2.4.3-py3-none-any.whl\r\n",
      "pydicom is already installed with the same version as the provided wheel. Use --force-reinstall to force an installation of the wheel.\r\n",
      "Processing /kaggle/input/pydicom-and-torchmetrics/torchmetrics-1.2.0-py3-none-any.whl\r\n",
      "Requirement already satisfied: numpy>1.20.0 in /opt/conda/lib/python3.10/site-packages (from torchmetrics==1.2.0) (1.23.5)\r\n",
      "Requirement already satisfied: torch>=1.8.1 in /opt/conda/lib/python3.10/site-packages (from torchmetrics==1.2.0) (2.0.0)\r\n",
      "Requirement already satisfied: lightning-utilities>=0.8.0 in /opt/conda/lib/python3.10/site-packages (from torchmetrics==1.2.0) (0.9.0)\r\n",
      "Requirement already satisfied: packaging>=17.1 in /opt/conda/lib/python3.10/site-packages (from lightning-utilities>=0.8.0->torchmetrics==1.2.0) (21.3)\r\n",
      "Requirement already satisfied: typing-extensions in /opt/conda/lib/python3.10/site-packages (from lightning-utilities>=0.8.0->torchmetrics==1.2.0) (4.6.3)\r\n",
      "Requirement already satisfied: filelock in /opt/conda/lib/python3.10/site-packages (from torch>=1.8.1->torchmetrics==1.2.0) (3.12.2)\r\n",
      "Requirement already satisfied: sympy in /opt/conda/lib/python3.10/site-packages (from torch>=1.8.1->torchmetrics==1.2.0) (1.12)\r\n",
      "Requirement already satisfied: networkx in /opt/conda/lib/python3.10/site-packages (from torch>=1.8.1->torchmetrics==1.2.0) (3.1)\r\n",
      "Requirement already satisfied: jinja2 in /opt/conda/lib/python3.10/site-packages (from torch>=1.8.1->torchmetrics==1.2.0) (3.1.2)\r\n",
      "Requirement already satisfied: pyparsing!=3.0.5,>=2.0.2 in /opt/conda/lib/python3.10/site-packages (from packaging>=17.1->lightning-utilities>=0.8.0->torchmetrics==1.2.0) (3.0.9)\r\n",
      "Requirement already satisfied: MarkupSafe>=2.0 in /opt/conda/lib/python3.10/site-packages (from jinja2->torch>=1.8.1->torchmetrics==1.2.0) (2.1.3)\r\n",
      "Requirement already satisfied: mpmath>=0.19 in /opt/conda/lib/python3.10/site-packages (from sympy->torch>=1.8.1->torchmetrics==1.2.0) (1.3.0)\r\n",
      "Installing collected packages: torchmetrics\r\n",
      "  Attempting uninstall: torchmetrics\r\n",
      "    Found existing installation: torchmetrics 1.1.1\r\n",
      "    Uninstalling torchmetrics-1.1.1:\r\n",
      "      Successfully uninstalled torchmetrics-1.1.1\r\n",
      "Successfully installed torchmetrics-1.2.0\r\n"
     ]
    }
   ],
   "source": [
    "!pip install /kaggle/input/pydicom-and-torchmetrics/pydicom-2.4.3-py3-none-any.whl\n",
    "!pip install /kaggle/input/pydicom-and-torchmetrics/torchmetrics-1.2.0-py3-none-any.whl"
   ]
  },
  {
   "cell_type": "code",
   "execution_count": 3,
   "id": "d91b35a0",
   "metadata": {
    "execution": {
     "iopub.execute_input": "2023-10-07T17:39:37.400380Z",
     "iopub.status.busy": "2023-10-07T17:39:37.399976Z",
     "iopub.status.idle": "2023-10-07T17:39:51.223186Z",
     "shell.execute_reply": "2023-10-07T17:39:51.222249Z"
    },
    "papermill": {
     "duration": 13.831584,
     "end_time": "2023-10-07T17:39:51.225300",
     "exception": false,
     "start_time": "2023-10-07T17:39:37.393716",
     "status": "completed"
    },
    "tags": []
   },
   "outputs": [
    {
     "name": "stderr",
     "output_type": "stream",
     "text": [
      "/opt/conda/lib/python3.10/site-packages/scipy/__init__.py:146: UserWarning: A NumPy version >=1.16.5 and <1.23.0 is required for this version of SciPy (detected version 1.23.5\n",
      "  warnings.warn(f\"A NumPy version >={np_minversion} and <{np_maxversion}\"\n"
     ]
    }
   ],
   "source": [
    "import cv2\n",
    "import gc\n",
    "from glob import glob\n",
    "from joblib import Parallel, delayed\n",
    "import matplotlib.pyplot as plt\n",
    "import numpy as np\n",
    "import os\n",
    "import pandas as pd\n",
    "from PIL import Image\n",
    "import pydicom\n",
    "from sklearn.model_selection import train_test_split\n",
    "import torch\n",
    "import torch.nn as nn\n",
    "import torch.nn.functional as F\n",
    "import torch.optim as optim\n",
    "from torch.utils.data import Dataset, DataLoader\n",
    "from torchmetrics import MeanMetric\n",
    "from torchmetrics.classification import MulticlassAccuracy\n",
    "import torchvision.models as models\n",
    "import torchvision.transforms as transforms\n",
    "from tqdm.notebook import tqdm"
   ]
  },
  {
   "cell_type": "code",
   "execution_count": 4,
   "id": "01498b00",
   "metadata": {
    "execution": {
     "iopub.execute_input": "2023-10-07T17:39:51.236327Z",
     "iopub.status.busy": "2023-10-07T17:39:51.236040Z",
     "iopub.status.idle": "2023-10-07T17:39:51.302834Z",
     "shell.execute_reply": "2023-10-07T17:39:51.301999Z"
    },
    "papermill": {
     "duration": 0.074301,
     "end_time": "2023-10-07T17:39:51.304596",
     "exception": false,
     "start_time": "2023-10-07T17:39:51.230295",
     "status": "completed"
    },
    "tags": []
   },
   "outputs": [],
   "source": [
    "class Config:\n",
    "    SEED = 42\n",
    "    IMAGE_SIZE = [256, 256]\n",
    "    RESIZE_DIM = 256\n",
    "    BATCH_SIZE = 20\n",
    "    EPOCHS = 5\n",
    "    TARGET_COLS = [\n",
    "        \"bowel_injury\", \"extravasation_injury\",\n",
    "        \"kidney_healthy\", \"kidney_low\", \"kidney_high\",\n",
    "        \"liver_healthy\", \"liver_low\", \"liver_high\",\n",
    "        \"spleen_healthy\", \"spleen_low\", \"spleen_high\",\n",
    "    ]\n",
    "\n",
    "config = Config()"
   ]
  },
  {
   "cell_type": "code",
   "execution_count": 5,
   "id": "13a6827a",
   "metadata": {
    "execution": {
     "iopub.execute_input": "2023-10-07T17:39:51.314917Z",
     "iopub.status.busy": "2023-10-07T17:39:51.314664Z",
     "iopub.status.idle": "2023-10-07T17:39:51.379879Z",
     "shell.execute_reply": "2023-10-07T17:39:51.379081Z"
    },
    "papermill": {
     "duration": 0.072357,
     "end_time": "2023-10-07T17:39:51.381612",
     "exception": false,
     "start_time": "2023-10-07T17:39:51.309255",
     "status": "completed"
    },
    "tags": []
   },
   "outputs": [],
   "source": [
    "random_seed = config.SEED\n",
    "np.random.seed(random_seed)"
   ]
  },
  {
   "cell_type": "code",
   "execution_count": 6,
   "id": "91c3e702",
   "metadata": {
    "execution": {
     "iopub.execute_input": "2023-10-07T17:39:51.392042Z",
     "iopub.status.busy": "2023-10-07T17:39:51.391779Z",
     "iopub.status.idle": "2023-10-07T17:39:51.514825Z",
     "shell.execute_reply": "2023-10-07T17:39:51.513863Z"
    },
    "papermill": {
     "duration": 0.130361,
     "end_time": "2023-10-07T17:39:51.516671",
     "exception": false,
     "start_time": "2023-10-07T17:39:51.386310",
     "status": "completed"
    },
    "tags": []
   },
   "outputs": [
    {
     "name": "stdout",
     "output_type": "stream",
     "text": [
      "cuda\n"
     ]
    }
   ],
   "source": [
    "device = torch.device(\"cuda\" if torch.cuda.is_available() else \"cpu\")\n",
    "print(device)"
   ]
  },
  {
   "cell_type": "code",
   "execution_count": 7,
   "id": "107835fe",
   "metadata": {
    "execution": {
     "iopub.execute_input": "2023-10-07T17:39:51.527469Z",
     "iopub.status.busy": "2023-10-07T17:39:51.527219Z",
     "iopub.status.idle": "2023-10-07T17:39:52.559541Z",
     "shell.execute_reply": "2023-10-07T17:39:52.558442Z"
    },
    "papermill": {
     "duration": 1.040201,
     "end_time": "2023-10-07T17:39:52.561642",
     "exception": false,
     "start_time": "2023-10-07T17:39:51.521441",
     "status": "completed"
    },
    "tags": []
   },
   "outputs": [
    {
     "name": "stdout",
     "output_type": "stream",
     "text": [
      "rm: cannot remove '/tmp/dataset/rsna-atd': No such file or directory\r\n"
     ]
    }
   ],
   "source": [
    "IMG_DIR = '/tmp/dataset/rsna-atd'\n",
    "BASE_PATH = '/kaggle/input/rsna-2023-abdominal-trauma-detection'\n",
    "IMAGE_DIR = '/tmp/dataset/rsna-atd'\n",
    "INPUT_MODEL_PATH = '/kaggle/input/pytorchcv-starter-notebook-train/model_5.pth'\n",
    "MODEL_PATH = '/kaggle/working/model_5.pth'\n",
    "STRIDE = 10\n",
    "!rm -r {IMG_DIR}\n",
    "os.makedirs(f'{IMG_DIR}/test_images', exist_ok = True)\n",
    "# test_df = pd.read_csv(f'{BASE_PATH}/test_series_meta.csv')"
   ]
  },
  {
   "cell_type": "code",
   "execution_count": 8,
   "id": "a3d3ab01",
   "metadata": {
    "execution": {
     "iopub.execute_input": "2023-10-07T17:39:52.573271Z",
     "iopub.status.busy": "2023-10-07T17:39:52.572445Z",
     "iopub.status.idle": "2023-10-07T17:39:52.657655Z",
     "shell.execute_reply": "2023-10-07T17:39:52.656760Z"
    },
    "papermill": {
     "duration": 0.093082,
     "end_time": "2023-10-07T17:39:52.659674",
     "exception": false,
     "start_time": "2023-10-07T17:39:52.566592",
     "status": "completed"
    },
    "tags": []
   },
   "outputs": [],
   "source": [
    "# test_df['dicom_folder'] = BASE_PATH + '/' + 'test_images'\\\n",
    "#                                     + '/' + test_df.patient_id.astype(str)\\\n",
    "#                                     + '/' + test_df.series_id.astype(str)"
   ]
  },
  {
   "cell_type": "code",
   "execution_count": 9,
   "id": "3843acad",
   "metadata": {
    "execution": {
     "iopub.execute_input": "2023-10-07T17:39:52.670840Z",
     "iopub.status.busy": "2023-10-07T17:39:52.670574Z",
     "iopub.status.idle": "2023-10-07T17:39:52.752290Z",
     "shell.execute_reply": "2023-10-07T17:39:52.751425Z"
    },
    "papermill": {
     "duration": 0.089181,
     "end_time": "2023-10-07T17:39:52.754080",
     "exception": false,
     "start_time": "2023-10-07T17:39:52.664899",
     "status": "completed"
    },
    "tags": []
   },
   "outputs": [],
   "source": [
    "meta_df = pd.read_csv(f\"{BASE_PATH}/test_series_meta.csv\")"
   ]
  },
  {
   "cell_type": "code",
   "execution_count": 10,
   "id": "6f8e99d9",
   "metadata": {
    "execution": {
     "iopub.execute_input": "2023-10-07T17:39:52.764867Z",
     "iopub.status.busy": "2023-10-07T17:39:52.764620Z",
     "iopub.status.idle": "2023-10-07T17:39:52.853206Z",
     "shell.execute_reply": "2023-10-07T17:39:52.852276Z"
    },
    "papermill": {
     "duration": 0.095956,
     "end_time": "2023-10-07T17:39:52.855070",
     "exception": false,
     "start_time": "2023-10-07T17:39:52.759114",
     "status": "completed"
    },
    "tags": []
   },
   "outputs": [],
   "source": [
    "meta_df[\"dicom_folder\"] = BASE_PATH + \"/\" + \"test_images\"\\\n",
    "                                    + \"/\" + meta_df.patient_id.astype(str)\\\n",
    "                                    + \"/\" + meta_df.series_id.astype(str)\n",
    "\n",
    "test_folders = meta_df.dicom_folder.tolist()\n",
    "test_paths = []\n",
    "for folder in test_folders:\n",
    "    test_paths += sorted(glob(os.path.join(folder, \"*dcm\")))[::STRIDE]"
   ]
  },
  {
   "cell_type": "code",
   "execution_count": 11,
   "id": "6effc853",
   "metadata": {
    "execution": {
     "iopub.execute_input": "2023-10-07T17:39:52.865676Z",
     "iopub.status.busy": "2023-10-07T17:39:52.865423Z",
     "iopub.status.idle": "2023-10-07T17:39:52.945880Z",
     "shell.execute_reply": "2023-10-07T17:39:52.944908Z"
    },
    "papermill": {
     "duration": 0.087803,
     "end_time": "2023-10-07T17:39:52.947745",
     "exception": false,
     "start_time": "2023-10-07T17:39:52.859942",
     "status": "completed"
    },
    "tags": []
   },
   "outputs": [
    {
     "data": {
      "text/html": [
       "<div>\n",
       "<style scoped>\n",
       "    .dataframe tbody tr th:only-of-type {\n",
       "        vertical-align: middle;\n",
       "    }\n",
       "\n",
       "    .dataframe tbody tr th {\n",
       "        vertical-align: top;\n",
       "    }\n",
       "\n",
       "    .dataframe thead th {\n",
       "        text-align: right;\n",
       "    }\n",
       "</style>\n",
       "<table border=\"1\" class=\"dataframe\">\n",
       "  <thead>\n",
       "    <tr style=\"text-align: right;\">\n",
       "      <th></th>\n",
       "      <th>dicom_path</th>\n",
       "      <th>patient_id</th>\n",
       "      <th>series_id</th>\n",
       "      <th>instance_number</th>\n",
       "      <th>image_path</th>\n",
       "    </tr>\n",
       "  </thead>\n",
       "  <tbody>\n",
       "    <tr>\n",
       "      <th>0</th>\n",
       "      <td>/kaggle/input/rsna-2023-abdominal-trauma-detec...</td>\n",
       "      <td>48843</td>\n",
       "      <td>62825</td>\n",
       "      <td>30</td>\n",
       "      <td>/tmp/dataset/rsna-atd/test_images/48843/62825/...</td>\n",
       "    </tr>\n",
       "    <tr>\n",
       "      <th>1</th>\n",
       "      <td>/kaggle/input/rsna-2023-abdominal-trauma-detec...</td>\n",
       "      <td>50046</td>\n",
       "      <td>24574</td>\n",
       "      <td>30</td>\n",
       "      <td>/tmp/dataset/rsna-atd/test_images/50046/24574/...</td>\n",
       "    </tr>\n",
       "  </tbody>\n",
       "</table>\n",
       "</div>"
      ],
      "text/plain": [
       "                                          dicom_path  patient_id  series_id  \\\n",
       "0  /kaggle/input/rsna-2023-abdominal-trauma-detec...       48843      62825   \n",
       "1  /kaggle/input/rsna-2023-abdominal-trauma-detec...       50046      24574   \n",
       "\n",
       "   instance_number                                         image_path  \n",
       "0               30  /tmp/dataset/rsna-atd/test_images/48843/62825/...  \n",
       "1               30  /tmp/dataset/rsna-atd/test_images/50046/24574/...  "
      ]
     },
     "execution_count": 11,
     "metadata": {},
     "output_type": "execute_result"
    }
   ],
   "source": [
    "test_df = pd.DataFrame(test_paths, columns=[\"dicom_path\"])\n",
    "test_df[\"patient_id\"] = test_df.dicom_path.map(lambda x: x.split(\"/\")[-3]).astype(int)\n",
    "test_df[\"series_id\"] = test_df.dicom_path.map(lambda x: x.split(\"/\")[-2]).astype(int)\n",
    "test_df[\"instance_number\"] = test_df.dicom_path.map(lambda x: x.split(\"/\")[-1].replace(\".dcm\",\"\")).astype(int)\n",
    "\n",
    "test_df[\"image_path\"] = f\"{IMAGE_DIR}/test_images\"\\\n",
    "                    + \"/\" + test_df.patient_id.astype(str)\\\n",
    "                    + \"/\" + test_df.series_id.astype(str)\\\n",
    "                    + \"/\" + test_df.instance_number.astype(str) +\".png\"\n",
    "\n",
    "test_df.head(2)"
   ]
  },
  {
   "cell_type": "code",
   "execution_count": 12,
   "id": "e23e9749",
   "metadata": {
    "execution": {
     "iopub.execute_input": "2023-10-07T17:39:52.958553Z",
     "iopub.status.busy": "2023-10-07T17:39:52.958312Z",
     "iopub.status.idle": "2023-10-07T17:39:53.028453Z",
     "shell.execute_reply": "2023-10-07T17:39:53.027287Z"
    },
    "papermill": {
     "duration": 0.077597,
     "end_time": "2023-10-07T17:39:53.030152",
     "exception": false,
     "start_time": "2023-10-07T17:39:52.952555",
     "status": "completed"
    },
    "tags": []
   },
   "outputs": [
    {
     "name": "stdout",
     "output_type": "stream",
     "text": [
      "num_rows=3\n",
      "unique_patients=3\n"
     ]
    }
   ],
   "source": [
    "# Checking if patients are repeated by finding the number of unique patient IDs\n",
    "num_rows = test_df.shape[0]\n",
    "unique_patients = test_df[\"patient_id\"].nunique()\n",
    "\n",
    "print(f\"{num_rows=}\")\n",
    "print(f\"{unique_patients=}\")"
   ]
  },
  {
   "cell_type": "code",
   "execution_count": 13,
   "id": "c39e41f1",
   "metadata": {
    "execution": {
     "iopub.execute_input": "2023-10-07T17:39:53.040842Z",
     "iopub.status.busy": "2023-10-07T17:39:53.040609Z",
     "iopub.status.idle": "2023-10-07T17:39:54.075018Z",
     "shell.execute_reply": "2023-10-07T17:39:54.073761Z"
    },
    "papermill": {
     "duration": 1.042088,
     "end_time": "2023-10-07T17:39:54.077161",
     "exception": false,
     "start_time": "2023-10-07T17:39:53.035073",
     "status": "completed"
    },
    "tags": []
   },
   "outputs": [],
   "source": [
    "!rm -r {IMAGE_DIR}\n",
    "os.makedirs(f\"{IMAGE_DIR}/train_images\", exist_ok=True)\n",
    "os.makedirs(f\"{IMAGE_DIR}/test_images\", exist_ok=True)"
   ]
  },
  {
   "cell_type": "code",
   "execution_count": 14,
   "id": "8e03d96b",
   "metadata": {
    "execution": {
     "iopub.execute_input": "2023-10-07T17:39:54.090025Z",
     "iopub.status.busy": "2023-10-07T17:39:54.089106Z",
     "iopub.status.idle": "2023-10-07T17:39:54.174577Z",
     "shell.execute_reply": "2023-10-07T17:39:54.173749Z"
    },
    "papermill": {
     "duration": 0.094121,
     "end_time": "2023-10-07T17:39:54.176414",
     "exception": false,
     "start_time": "2023-10-07T17:39:54.082293",
     "status": "completed"
    },
    "tags": []
   },
   "outputs": [],
   "source": [
    "class build_model(nn.Module):\n",
    "    def __init__(\n",
    "        self, num_classes_bowel,\n",
    "        num_classes_extra, num_classes_liver,\n",
    "        num_classes_kidney, num_classes_spleen\n",
    "    ):\n",
    "        super(build_model, self).__init__()\n",
    "        \n",
    "        # define backbone\n",
    "        self.backbone = models.efficientnet_b5(pretrained=False)\n",
    "        self.backbone._fc = nn.Identity()\n",
    "\n",
    "        # delete 'necks' for each head\n",
    "        self.neck_bowel = nn.Linear(1000, 32) # self.backbone._swish._num_features\n",
    "        self.neck_extra = nn.Linear(1000, 32)\n",
    "        self.neck_liver = nn.Linear(1000, 32)\n",
    "        self.neck_kidney = nn.Linear(1000, 32)\n",
    "        self.neck_spleen = nn.Linear(1000, 32)\n",
    "\n",
    "        # define heads\n",
    "        self.head_bowel = nn.Linear(32, num_classes_bowel)\n",
    "        self.head_extra = nn.Linear(32, num_classes_extra)\n",
    "        self.head_liver = nn.Linear(32, num_classes_liver)\n",
    "        self.head_kidney = nn.Linear(32, num_classes_kidney)\n",
    "        self.head_spleen = nn.Linear(32, num_classes_spleen)\n",
    "    \n",
    "    def forward(self, x):\n",
    "        # forward pass through the backbone\n",
    "        # print(x.shape)\n",
    "        x = self.backbone(x)\n",
    "        # print(x.shape)\n",
    "\n",
    "        # forward pass through 'necks' and heads\n",
    "        x_bowel = self.head_bowel(self.neck_bowel(x))\n",
    "        x_extra = self.head_extra(self.neck_extra(x))\n",
    "        x_liver = self.head_liver(self.neck_liver(x))\n",
    "        x_kidney = self.head_kidney(self.neck_kidney(x))\n",
    "        x_spleen = self.head_spleen(self.neck_spleen(x))\n",
    "\n",
    "        return x_bowel, x_extra, x_liver, x_kidney, x_spleen"
   ]
  },
  {
   "cell_type": "code",
   "execution_count": 15,
   "id": "d5a8ab45",
   "metadata": {
    "execution": {
     "iopub.execute_input": "2023-10-07T17:39:54.187405Z",
     "iopub.status.busy": "2023-10-07T17:39:54.187156Z",
     "iopub.status.idle": "2023-10-07T17:39:54.258436Z",
     "shell.execute_reply": "2023-10-07T17:39:54.257615Z"
    },
    "papermill": {
     "duration": 0.078814,
     "end_time": "2023-10-07T17:39:54.260206",
     "exception": false,
     "start_time": "2023-10-07T17:39:54.181392",
     "status": "completed"
    },
    "tags": []
   },
   "outputs": [],
   "source": [
    "def standardize_pixel_array(dcm):\n",
    "    # Correct DICOM pixel_array if PixelRepresentation == 1.\n",
    "    pixel_array = dcm.pixel_array\n",
    "    if dcm.PixelRepresentation == 1:\n",
    "        bit_shift = dcm.BitsAllocated - dcm.BitsStored\n",
    "        dtype = pixel_array.dtype \n",
    "        new_array = (pixel_array << bit_shift).astype(dtype) >>  bit_shift\n",
    "        pixel_array = pydicom.pixel_data_handlers.util.apply_modality_lut(new_array, dcm)\n",
    "    return pixel_array\n",
    "\n",
    "def read_xray(path, fix_monochrome=True):\n",
    "    dicom = pydicom.dcmread(path)\n",
    "    data = standardize_pixel_array(dicom)\n",
    "    data = data - np.min(data)\n",
    "    data = data / (np.max(data) + 1e-5)\n",
    "    if fix_monochrome and dicom.PhotometricInterpretation == \"MONOCHROME1\":\n",
    "        data = 1.0 - data\n",
    "    return data\n",
    "\n",
    "def resize_and_save(file_path):\n",
    "    img = read_xray(file_path)\n",
    "    h, w = img.shape[:2]  # orig hw\n",
    "    img = cv2.resize(img, (config.RESIZE_DIM, config.RESIZE_DIM), cv2.INTER_LINEAR)\n",
    "    img = (img * 255).astype(np.uint8)\n",
    "    \n",
    "    sub_path = file_path.split(\"/\",4)[-1].split(\".dcm\")[0] + \".png\"\n",
    "    infos = sub_path.split(\"/\")\n",
    "    sub_path = file_path.split(\"/\",4)[-1].split(\".dcm\")[0] + \".png\"\n",
    "    infos = sub_path.split(\"/\")\n",
    "    pid = infos[-3]\n",
    "    sid = infos[-2]\n",
    "    iid = infos[-1]; iid = iid.replace(\".png\",\"\")\n",
    "    new_path = os.path.join(IMAGE_DIR, sub_path)\n",
    "    os.makedirs(new_path.rsplit(\"/\",1)[0], exist_ok=True)\n",
    "    cv2.imwrite(new_path, img)\n",
    "    return"
   ]
  },
  {
   "cell_type": "code",
   "execution_count": 16,
   "id": "ae4c0f11",
   "metadata": {
    "execution": {
     "iopub.execute_input": "2023-10-07T17:39:54.271069Z",
     "iopub.status.busy": "2023-10-07T17:39:54.270793Z",
     "iopub.status.idle": "2023-10-07T17:40:06.088575Z",
     "shell.execute_reply": "2023-10-07T17:40:06.087377Z"
    },
    "papermill": {
     "duration": 11.825403,
     "end_time": "2023-10-07T17:40:06.090498",
     "exception": false,
     "start_time": "2023-10-07T17:39:54.265095",
     "status": "completed"
    },
    "tags": []
   },
   "outputs": [
    {
     "name": "stderr",
     "output_type": "stream",
     "text": [
      "/opt/conda/lib/python3.10/site-packages/torchvision/models/_utils.py:208: UserWarning: The parameter 'pretrained' is deprecated since 0.13 and may be removed in the future, please use 'weights' instead.\n",
      "  warnings.warn(\n",
      "/opt/conda/lib/python3.10/site-packages/torchvision/models/_utils.py:223: UserWarning: Arguments other than a weight enum or `None` for 'weights' are deprecated since 0.13 and may be removed in the future. The current behavior is equivalent to passing `weights=None`.\n",
      "  warnings.warn(msg)\n"
     ]
    },
    {
     "data": {
      "application/vnd.jupyter.widget-view+json": {
       "model_id": "8b666a1035594db6afd398c409ba219c",
       "version_major": 2,
       "version_minor": 0
      },
      "text/plain": [
       "  0%|          | 0/3 [00:00<?, ?it/s]"
      ]
     },
     "metadata": {},
     "output_type": "display_data"
    },
    {
     "data": {
      "text/plain": [
       "154"
      ]
     },
     "execution_count": 16,
     "metadata": {},
     "output_type": "execute_result"
    }
   ],
   "source": [
    "! cp {INPUT_MODEL_PATH} ./\n",
    "\n",
    "model_variable = torch.load(MODEL_PATH, map_location = 'cpu')\n",
    "model = build_model(\n",
    "    num_classes_bowel=1,\n",
    "    num_classes_extra=1,\n",
    "    num_classes_liver=3,\n",
    "    num_classes_kidney=3,\n",
    "    num_classes_spleen=3,\n",
    ")\n",
    "model.load_state_dict(model_variable, strict = False)\n",
    "model.to(device)\n",
    "\n",
    "file_paths = test_df.dicom_path.tolist()\n",
    "_ = Parallel(n_jobs=2, backend=\"threading\")(\n",
    "    delayed(resize_and_save)(file_path) for file_path in tqdm(file_paths, leave=True, position=0)\n",
    ")\n",
    "\n",
    "del _; gc.collect()"
   ]
  },
  {
   "cell_type": "code",
   "execution_count": 17,
   "id": "a8591e21",
   "metadata": {
    "execution": {
     "iopub.execute_input": "2023-10-07T17:40:06.102152Z",
     "iopub.status.busy": "2023-10-07T17:40:06.101751Z",
     "iopub.status.idle": "2023-10-07T17:40:06.174870Z",
     "shell.execute_reply": "2023-10-07T17:40:06.174103Z"
    },
    "papermill": {
     "duration": 0.08083,
     "end_time": "2023-10-07T17:40:06.176548",
     "exception": false,
     "start_time": "2023-10-07T17:40:06.095718",
     "status": "completed"
    },
    "tags": []
   },
   "outputs": [],
   "source": [
    "class RandomCutout(transforms.RandomApply):\n",
    "    def __init__(self, p, cutout_height_factor=0.2, cutout_width_factor=0.2):\n",
    "        cutout = transforms.RandomErasing(\n",
    "            p=1.0, scale=(cutout_height_factor, cutout_width_factor), ratio=(1,1)\n",
    "        )\n",
    "        super(RandomCutout, self).__init__([cutout], p=p)\n",
    "\n",
    "class CustomDataset(Dataset):\n",
    "    def __init__(self, image_paths, image_size, transform=None):\n",
    "        self.image_paths = image_paths\n",
    "        self.transform = transform\n",
    "        self.image_size = image_size\n",
    "\n",
    "    def __len__(self):\n",
    "        return len(self.image_paths)\n",
    "    \n",
    "    def __getitem__(self, idx):\n",
    "        image_path = self.image_paths[idx]\n",
    "\n",
    "        # load and preprocess the image\n",
    "        image = Image.open(image_path).convert('RGB')\n",
    "        image = transforms.Resize(self.image_size)(image)\n",
    "        image = transforms.ToTensor()(image)\n",
    "        image = image / 255.0\n",
    "\n",
    "        # for additional transformation\n",
    "        if self.transform:\n",
    "            image = self.transform(image)\n",
    "\n",
    "        return image"
   ]
  },
  {
   "cell_type": "code",
   "execution_count": 18,
   "id": "a9ce1df3",
   "metadata": {
    "execution": {
     "iopub.execute_input": "2023-10-07T17:40:06.187875Z",
     "iopub.status.busy": "2023-10-07T17:40:06.187595Z",
     "iopub.status.idle": "2023-10-07T17:40:06.255067Z",
     "shell.execute_reply": "2023-10-07T17:40:06.254271Z"
    },
    "papermill": {
     "duration": 0.075075,
     "end_time": "2023-10-07T17:40:06.256784",
     "exception": false,
     "start_time": "2023-10-07T17:40:06.181709",
     "status": "completed"
    },
    "tags": []
   },
   "outputs": [],
   "source": [
    "cutout_transform = RandomCutout(p=0.5, cutout_height_factor=0.2, cutout_width_factor=0.2)\n",
    "transform = transforms.Compose([cutout_transform])\n",
    "\n",
    "def build_dataset(image_paths, batch_size, image_size, transform=None):\n",
    "    dataset = CustomDataset(image_paths, image_size=image_size, transform=transform)\n",
    "    dataloader = DataLoader(dataset, batch_size=batch_size, shuffle=True, num_workers=0, pin_memory=True)\n",
    "    return dataloader"
   ]
  },
  {
   "cell_type": "code",
   "execution_count": 19,
   "id": "118aa276",
   "metadata": {
    "execution": {
     "iopub.execute_input": "2023-10-07T17:40:06.268105Z",
     "iopub.status.busy": "2023-10-07T17:40:06.267814Z",
     "iopub.status.idle": "2023-10-07T17:40:06.334720Z",
     "shell.execute_reply": "2023-10-07T17:40:06.333939Z"
    },
    "papermill": {
     "duration": 0.074552,
     "end_time": "2023-10-07T17:40:06.336422",
     "exception": false,
     "start_time": "2023-10-07T17:40:06.261870",
     "status": "completed"
    },
    "tags": []
   },
   "outputs": [],
   "source": [
    "# def post_proc_v4(pred):\n",
    "#     proc_pred = np.empty((1, 2*2 + 3*3), dtype='float32')\n",
    "    \n",
    "#     bowel = pred[0] if 0.2 < pred[0] < 0.8 else np.float32(0.020337)\n",
    "#     extra = pred[1] if 0.3 < pred[0] < 0.7 else np.float32(0.063553)\n",
    "#     kidney = pred[2:5] if np.max(pred[2:5]) > 0.9 else np.array([0.942167, 0.036543, 0.02129])\n",
    "#     liver = pred[5:8] if np.max(pred[5:8]) > 0.9 else np.array([0.897998, 0.082301, 0.019701])\n",
    "#     spleen = pred[8:11] if np.max(pred[8:11]) > 0.9 else np.array([0.887512, 0.063235, 0.049253])\n",
    "\n",
    "#     # bowel, extravasation\n",
    "#     proc_pred[:, 0] = 1 - bowel         # bowel-healthy\n",
    "#     proc_pred[:, 1] = bowel             # bowel-injured\n",
    "#     proc_pred[:, 2] = 1 - extra         # extra-healthy\n",
    "#     proc_pred[:, 3] = extra             # extra-injured\n",
    "    \n",
    "#     # liver, kidney, sneel\n",
    "#     proc_pred[:, 4:7] = kidney\n",
    "#     proc_pred[:, 7:10] = liver\n",
    "#     proc_pred[:, 10:13] = spleen\n",
    "\n",
    "#     return proc_pred"
   ]
  },
  {
   "cell_type": "code",
   "execution_count": 20,
   "id": "565101e8",
   "metadata": {
    "execution": {
     "iopub.execute_input": "2023-10-07T17:40:06.347828Z",
     "iopub.status.busy": "2023-10-07T17:40:06.347554Z",
     "iopub.status.idle": "2023-10-07T17:40:06.415894Z",
     "shell.execute_reply": "2023-10-07T17:40:06.415073Z"
    },
    "papermill": {
     "duration": 0.076052,
     "end_time": "2023-10-07T17:40:06.417760",
     "exception": false,
     "start_time": "2023-10-07T17:40:06.341708",
     "status": "completed"
    },
    "tags": []
   },
   "outputs": [],
   "source": [
    "def post_proc_v3(pred):\n",
    "    proc_pred = np.empty((1, 2*2 + 3*3), dtype='float32')\n",
    "\n",
    "    # bowel, extravasation\n",
    "    proc_pred[:, 0] = 1 - pred[0] # bowel-healthy\n",
    "    proc_pred[:, 1] = pred[0] # bowel-injured\n",
    "    proc_pred[:, 2] = 1 - pred[1] # extra-healthy\n",
    "    proc_pred[:, 3] = pred[1] # extra-injured\n",
    "    \n",
    "    # liver, kidney, sneel\n",
    "    proc_pred[:, 4:7] = pred[2:5]\n",
    "    proc_pred[:, 7:10] = pred[5:8]\n",
    "    proc_pred[:, 10:13] = pred[8:11]\n",
    "\n",
    "    return proc_pred"
   ]
  },
  {
   "cell_type": "code",
   "execution_count": 21,
   "id": "187c0b26",
   "metadata": {
    "execution": {
     "iopub.execute_input": "2023-10-07T17:40:06.429317Z",
     "iopub.status.busy": "2023-10-07T17:40:06.429055Z",
     "iopub.status.idle": "2023-10-07T17:40:06.499329Z",
     "shell.execute_reply": "2023-10-07T17:40:06.498518Z"
    },
    "papermill": {
     "duration": 0.078124,
     "end_time": "2023-10-07T17:40:06.501118",
     "exception": false,
     "start_time": "2023-10-07T17:40:06.422994",
     "status": "completed"
    },
    "tags": []
   },
   "outputs": [],
   "source": [
    "def post_proc_v4(pred):\n",
    "    proc_pred = np.empty((1, 2*2 + 3*3), dtype='float32')\n",
    "    print('print')\n",
    "    # bowel, extravasation\n",
    "    proc_pred[:, 0] = np.where((0.3 < pred[0]) & (pred[0] < 0.7), np.float32(0.973956), pred[0])\n",
    "    proc_pred[:, 1] = np.where((0.3 < pred[0]) & (pred[0] < 0.7), np.float32(0.098461), 1 - pred[0])\n",
    "    proc_pred[:, 2] = np.where((0.3 < pred[1]) & (pred[1] < 0.7), np.float32(0.931948), pred[1])\n",
    "    proc_pred[:, 3] = np.where((0.3 < pred[1]) & (pred[1] < 0.7), np.float32(0.104006), 1 - pred[1])\n",
    "    \n",
    "    # kidney, liver, spleen\n",
    "    proc_pred[:, 4:7] = np.where(np.max(pred[2:5]) > 0.9, pred[2:5], np.array([0.93764, 0.104006, 0.103077]))\n",
    "    proc_pred[:, 7:10] = np.where(np.max(pred[5:8]) > 0.9, pred[5:8], np.array([0.893683, 0.23424, 0.095384]))\n",
    "    proc_pred[:, 10:13] = np.where(np.max(pred[8:11]) > 0.9, pred[8:11], np.array([0.883248, 0.179976, 0.140182]))\n",
    "\n",
    "    return proc_pred"
   ]
  },
  {
   "cell_type": "code",
   "execution_count": 22,
   "id": "2abe4c21",
   "metadata": {
    "execution": {
     "iopub.execute_input": "2023-10-07T17:40:06.512567Z",
     "iopub.status.busy": "2023-10-07T17:40:06.512316Z",
     "iopub.status.idle": "2023-10-07T17:40:11.767011Z",
     "shell.execute_reply": "2023-10-07T17:40:11.766059Z"
    },
    "papermill": {
     "duration": 5.263419,
     "end_time": "2023-10-07T17:40:11.769698",
     "exception": false,
     "start_time": "2023-10-07T17:40:06.506279",
     "status": "completed"
    },
    "tags": []
   },
   "outputs": [
    {
     "data": {
      "application/vnd.jupyter.widget-view+json": {
       "model_id": "8fc9ee475db4447686b90bee0ae97cda",
       "version_major": 2,
       "version_minor": 0
      },
      "text/plain": [
       "Patients :   0%|          | 0/3 [00:00<?, ?it/s]"
      ]
     },
     "metadata": {},
     "output_type": "display_data"
    },
    {
     "name": "stdout",
     "output_type": "stream",
     "text": [
      "Patient ID: 48843\n",
      "print\n",
      "Patient ID: 50046\n",
      "print\n",
      "Patient ID: 63706\n",
      "print\n"
     ]
    }
   ],
   "source": [
    "# Getting unique patient IDs from test dataset\n",
    "patient_ids = test_df['patient_id'].unique()\n",
    "\n",
    "# Initializing array to store predictions\n",
    "patient_preds = np.zeros(\n",
    "    shape=(len(patient_ids), 2*2 + 3*3),\n",
    "    dtype=\"float32\"\n",
    ")\n",
    "\n",
    "for pidx, patient_id in tqdm(enumerate(patient_ids), total=len(patient_ids), desc=\"Patients \"):\n",
    "    print(f'Patient ID: {patient_id}')\n",
    "    \n",
    "    model_preds = np.zeros(shape=(1, 11), dtype=np.float32)\n",
    "    \n",
    "    # Query the dataframe for a particualr patient\n",
    "    patient_df = test_df[test_df[\"patient_id\"] == patient_id]\n",
    "    \n",
    "    # Getting image paths for a particular patient\n",
    "    patient_paths = patient_df.image_path.tolist()\n",
    "    \n",
    "    # Bulding dataset for prediction\n",
    "    dtest = build_dataset(patient_paths, 1, config.IMAGE_SIZE)\n",
    "    \n",
    "    # Predicting with the model\n",
    "    model.eval()\n",
    "    with torch.no_grad():\n",
    "        preds = []\n",
    "        for image in dtest:\n",
    "            image = image.to(device)\n",
    "            x_bowel, x_extra, x_liver, x_kidney, x_spleen = model(image)\n",
    "            \n",
    "            bowel =F.sigmoid(x_bowel.cpu()).numpy().flatten()\n",
    "            extra = F.sigmoid(x_extra.cpu()).numpy().flatten()\n",
    "            kidney = F.softmax(x_liver.cpu(),dim =1).numpy().flatten()\n",
    "            liver = F.softmax(x_kidney.cpu(),dim =1).numpy().flatten()\n",
    "            spleen = F.softmax(x_spleen.cpu(),dim =1).numpy().flatten()\n",
    "            \n",
    "            preds.append(np.concatenate((bowel, extra, kidney, liver, spleen), axis=0))\n",
    "            \n",
    "        preds = np.array(preds).astype('float32')\n",
    "        \n",
    "#         print(preds.shape)\n",
    "        preds = preds.reshape(len(patient_paths), 11)\n",
    "#         print(preds.shape)\n",
    "        preds = np.max(preds, axis=0)\n",
    "#         print(preds.shape)\n",
    "#         print(preds[0])\n",
    "#         print(patient_preds[pidx,:].shape)\n",
    "#         print(type(preds[2:5]))\n",
    "#         print(preds[2:5].shape)\n",
    "#         print(type(np.float32(0)))\n",
    "        patient_preds[pidx, :] += post_proc_v4(preds).reshape((2*2+3*3))\n",
    "            \n",
    "        del patient_df, patient_paths, dtest, bowel, extra, liver, kidney, spleen, preds\n",
    "        gc.collect()"
   ]
  },
  {
   "cell_type": "code",
   "execution_count": 23,
   "id": "f609884f",
   "metadata": {
    "execution": {
     "iopub.execute_input": "2023-10-07T17:40:11.783765Z",
     "iopub.status.busy": "2023-10-07T17:40:11.783334Z",
     "iopub.status.idle": "2023-10-07T17:40:11.856199Z",
     "shell.execute_reply": "2023-10-07T17:40:11.855368Z"
    },
    "papermill": {
     "duration": 0.081776,
     "end_time": "2023-10-07T17:40:11.857848",
     "exception": false,
     "start_time": "2023-10-07T17:40:11.776072",
     "status": "completed"
    },
    "tags": []
   },
   "outputs": [],
   "source": [
    "columns = [\n",
    "    'bowel_healthy',\n",
    "    'bowel_injury',\n",
    "    'extravasation_healthy',\n",
    "    'extravasation_injury',\n",
    "    'kidney_healthy',\n",
    "    'kidney_low',\n",
    "    'kidney_high',\n",
    "    'liver_healthy',\n",
    "    'liver_low',\n",
    "    'liver_high',\n",
    "    'spleen_healthy',\n",
    "    'spleen_low',\n",
    "    'spleen_high'\n",
    "]\n",
    "\n",
    "pred_df = pd.DataFrame({\"patient_id\":patient_ids,})\n",
    "pred_df[columns] = patient_preds.astype(\"float32\")"
   ]
  },
  {
   "cell_type": "code",
   "execution_count": 24,
   "id": "b6fbe858",
   "metadata": {
    "execution": {
     "iopub.execute_input": "2023-10-07T17:40:11.869503Z",
     "iopub.status.busy": "2023-10-07T17:40:11.869249Z",
     "iopub.status.idle": "2023-10-07T17:40:13.521840Z",
     "shell.execute_reply": "2023-10-07T17:40:13.520862Z"
    },
    "papermill": {
     "duration": 1.660714,
     "end_time": "2023-10-07T17:40:13.523907",
     "exception": false,
     "start_time": "2023-10-07T17:40:11.863193",
     "status": "completed"
    },
    "tags": []
   },
   "outputs": [
    {
     "data": {
      "text/html": [
       "<div>\n",
       "<style scoped>\n",
       "    .dataframe tbody tr th:only-of-type {\n",
       "        vertical-align: middle;\n",
       "    }\n",
       "\n",
       "    .dataframe tbody tr th {\n",
       "        vertical-align: top;\n",
       "    }\n",
       "\n",
       "    .dataframe thead th {\n",
       "        text-align: right;\n",
       "    }\n",
       "</style>\n",
       "<table border=\"1\" class=\"dataframe\">\n",
       "  <thead>\n",
       "    <tr style=\"text-align: right;\">\n",
       "      <th></th>\n",
       "      <th>patient_id</th>\n",
       "      <th>bowel_healthy</th>\n",
       "      <th>bowel_injury</th>\n",
       "      <th>extravasation_healthy</th>\n",
       "      <th>extravasation_injury</th>\n",
       "      <th>kidney_healthy</th>\n",
       "      <th>kidney_low</th>\n",
       "      <th>kidney_high</th>\n",
       "      <th>liver_healthy</th>\n",
       "      <th>liver_low</th>\n",
       "      <th>liver_high</th>\n",
       "      <th>spleen_healthy</th>\n",
       "      <th>spleen_low</th>\n",
       "      <th>spleen_high</th>\n",
       "    </tr>\n",
       "  </thead>\n",
       "  <tbody>\n",
       "    <tr>\n",
       "      <th>0</th>\n",
       "      <td>48843</td>\n",
       "      <td>0.000412</td>\n",
       "      <td>0.999588</td>\n",
       "      <td>0.999960</td>\n",
       "      <td>0.000040</td>\n",
       "      <td>0.998065</td>\n",
       "      <td>0.000225</td>\n",
       "      <td>0.001710</td>\n",
       "      <td>0.004138</td>\n",
       "      <td>0.029599</td>\n",
       "      <td>0.966262</td>\n",
       "      <td>0.068456</td>\n",
       "      <td>0.005505</td>\n",
       "      <td>0.926038</td>\n",
       "    </tr>\n",
       "    <tr>\n",
       "      <th>1</th>\n",
       "      <td>50046</td>\n",
       "      <td>0.003232</td>\n",
       "      <td>0.996768</td>\n",
       "      <td>0.939373</td>\n",
       "      <td>0.060627</td>\n",
       "      <td>0.998677</td>\n",
       "      <td>0.001287</td>\n",
       "      <td>0.000036</td>\n",
       "      <td>0.893683</td>\n",
       "      <td>0.234240</td>\n",
       "      <td>0.095384</td>\n",
       "      <td>0.883248</td>\n",
       "      <td>0.179976</td>\n",
       "      <td>0.140182</td>\n",
       "    </tr>\n",
       "    <tr>\n",
       "      <th>2</th>\n",
       "      <td>63706</td>\n",
       "      <td>0.000227</td>\n",
       "      <td>0.999773</td>\n",
       "      <td>0.995884</td>\n",
       "      <td>0.004116</td>\n",
       "      <td>0.999968</td>\n",
       "      <td>0.000021</td>\n",
       "      <td>0.000011</td>\n",
       "      <td>0.893683</td>\n",
       "      <td>0.234240</td>\n",
       "      <td>0.095384</td>\n",
       "      <td>0.043677</td>\n",
       "      <td>0.000987</td>\n",
       "      <td>0.955335</td>\n",
       "    </tr>\n",
       "  </tbody>\n",
       "</table>\n",
       "</div>"
      ],
      "text/plain": [
       "   patient_id  bowel_healthy  bowel_injury  extravasation_healthy  \\\n",
       "0       48843       0.000412      0.999588               0.999960   \n",
       "1       50046       0.003232      0.996768               0.939373   \n",
       "2       63706       0.000227      0.999773               0.995884   \n",
       "\n",
       "   extravasation_injury  kidney_healthy  kidney_low  kidney_high  \\\n",
       "0              0.000040        0.998065    0.000225     0.001710   \n",
       "1              0.060627        0.998677    0.001287     0.000036   \n",
       "2              0.004116        0.999968    0.000021     0.000011   \n",
       "\n",
       "   liver_healthy  liver_low  liver_high  spleen_healthy  spleen_low  \\\n",
       "0       0.004138   0.029599    0.966262        0.068456    0.005505   \n",
       "1       0.893683   0.234240    0.095384        0.883248    0.179976   \n",
       "2       0.893683   0.234240    0.095384        0.043677    0.000987   \n",
       "\n",
       "   spleen_high  \n",
       "0     0.926038  \n",
       "1     0.140182  \n",
       "2     0.955335  "
      ]
     },
     "execution_count": 24,
     "metadata": {},
     "output_type": "execute_result"
    }
   ],
   "source": [
    "sub_df = pd.read_csv(f\"{BASE_PATH}/sample_submission.csv\")\n",
    "sub_df = sub_df[[\"patient_id\"]]\n",
    "sub_df = sub_df.merge(pred_df, on=\"patient_id\", how=\"left\")\n",
    "\n",
    "sub_df.to_csv(\"submission.csv\",index=False, float_format='%.20f')\n",
    "sub_df.head(3)"
   ]
  },
  {
   "cell_type": "code",
   "execution_count": null,
   "id": "cfe5dc5b",
   "metadata": {
    "papermill": {
     "duration": 0.005961,
     "end_time": "2023-10-07T17:40:13.536010",
     "exception": false,
     "start_time": "2023-10-07T17:40:13.530049",
     "status": "completed"
    },
    "tags": []
   },
   "outputs": [],
   "source": []
  }
 ],
 "metadata": {
  "kernelspec": {
   "display_name": "Python 3 (ipykernel)",
   "language": "python",
   "name": "python3"
  },
  "language_info": {
   "codemirror_mode": {
    "name": "ipython",
    "version": 3
   },
   "file_extension": ".py",
   "mimetype": "text/x-python",
   "name": "python",
   "nbconvert_exporter": "python",
   "pygments_lexer": "ipython3",
   "version": "3.9.13"
  },
  "papermill": {
   "default_parameters": {},
   "duration": 119.389385,
   "end_time": "2023-10-07T17:40:16.597693",
   "environment_variables": {},
   "exception": null,
   "input_path": "__notebook__.ipynb",
   "output_path": "__notebook__.ipynb",
   "parameters": {},
   "start_time": "2023-10-07T17:38:17.208308",
   "version": "2.4.0"
  },
  "widgets": {
   "application/vnd.jupyter.widget-state+json": {
    "state": {
     "06d3a3670eb749d5b24b7a2e80054d78": {
      "model_module": "@jupyter-widgets/base",
      "model_module_version": "1.2.0",
      "model_name": "LayoutModel",
      "state": {
       "_model_module": "@jupyter-widgets/base",
       "_model_module_version": "1.2.0",
       "_model_name": "LayoutModel",
       "_view_count": null,
       "_view_module": "@jupyter-widgets/base",
       "_view_module_version": "1.2.0",
       "_view_name": "LayoutView",
       "align_content": null,
       "align_items": null,
       "align_self": null,
       "border": null,
       "bottom": null,
       "display": null,
       "flex": null,
       "flex_flow": null,
       "grid_area": null,
       "grid_auto_columns": null,
       "grid_auto_flow": null,
       "grid_auto_rows": null,
       "grid_column": null,
       "grid_gap": null,
       "grid_row": null,
       "grid_template_areas": null,
       "grid_template_columns": null,
       "grid_template_rows": null,
       "height": null,
       "justify_content": null,
       "justify_items": null,
       "left": null,
       "margin": null,
       "max_height": null,
       "max_width": null,
       "min_height": null,
       "min_width": null,
       "object_fit": null,
       "object_position": null,
       "order": null,
       "overflow": null,
       "overflow_x": null,
       "overflow_y": null,
       "padding": null,
       "right": null,
       "top": null,
       "visibility": null,
       "width": null
      }
     },
     "19f985cba04e458db500e6c4cb3aa6c5": {
      "model_module": "@jupyter-widgets/controls",
      "model_module_version": "1.5.0",
      "model_name": "HTMLModel",
      "state": {
       "_dom_classes": [],
       "_model_module": "@jupyter-widgets/controls",
       "_model_module_version": "1.5.0",
       "_model_name": "HTMLModel",
       "_view_count": null,
       "_view_module": "@jupyter-widgets/controls",
       "_view_module_version": "1.5.0",
       "_view_name": "HTMLView",
       "description": "",
       "description_tooltip": null,
       "layout": "IPY_MODEL_fcc85ea4d2bf440b8f9a4db5bb9e379c",
       "placeholder": "​",
       "style": "IPY_MODEL_23da7d12bacf419e96c1c13089f1a967",
       "value": "Patients : 100%"
      }
     },
     "23da7d12bacf419e96c1c13089f1a967": {
      "model_module": "@jupyter-widgets/controls",
      "model_module_version": "1.5.0",
      "model_name": "DescriptionStyleModel",
      "state": {
       "_model_module": "@jupyter-widgets/controls",
       "_model_module_version": "1.5.0",
       "_model_name": "DescriptionStyleModel",
       "_view_count": null,
       "_view_module": "@jupyter-widgets/base",
       "_view_module_version": "1.2.0",
       "_view_name": "StyleView",
       "description_width": ""
      }
     },
     "24d861c55f4b48c99ffc934793e3b897": {
      "model_module": "@jupyter-widgets/controls",
      "model_module_version": "1.5.0",
      "model_name": "ProgressStyleModel",
      "state": {
       "_model_module": "@jupyter-widgets/controls",
       "_model_module_version": "1.5.0",
       "_model_name": "ProgressStyleModel",
       "_view_count": null,
       "_view_module": "@jupyter-widgets/base",
       "_view_module_version": "1.2.0",
       "_view_name": "StyleView",
       "bar_color": null,
       "description_width": ""
      }
     },
     "2704253e37a745bcbd70e92a31a64d0f": {
      "model_module": "@jupyter-widgets/controls",
      "model_module_version": "1.5.0",
      "model_name": "DescriptionStyleModel",
      "state": {
       "_model_module": "@jupyter-widgets/controls",
       "_model_module_version": "1.5.0",
       "_model_name": "DescriptionStyleModel",
       "_view_count": null,
       "_view_module": "@jupyter-widgets/base",
       "_view_module_version": "1.2.0",
       "_view_name": "StyleView",
       "description_width": ""
      }
     },
     "48557a4de28742cb9e125f12bf85d5b1": {
      "model_module": "@jupyter-widgets/base",
      "model_module_version": "1.2.0",
      "model_name": "LayoutModel",
      "state": {
       "_model_module": "@jupyter-widgets/base",
       "_model_module_version": "1.2.0",
       "_model_name": "LayoutModel",
       "_view_count": null,
       "_view_module": "@jupyter-widgets/base",
       "_view_module_version": "1.2.0",
       "_view_name": "LayoutView",
       "align_content": null,
       "align_items": null,
       "align_self": null,
       "border": null,
       "bottom": null,
       "display": null,
       "flex": null,
       "flex_flow": null,
       "grid_area": null,
       "grid_auto_columns": null,
       "grid_auto_flow": null,
       "grid_auto_rows": null,
       "grid_column": null,
       "grid_gap": null,
       "grid_row": null,
       "grid_template_areas": null,
       "grid_template_columns": null,
       "grid_template_rows": null,
       "height": null,
       "justify_content": null,
       "justify_items": null,
       "left": null,
       "margin": null,
       "max_height": null,
       "max_width": null,
       "min_height": null,
       "min_width": null,
       "object_fit": null,
       "object_position": null,
       "order": null,
       "overflow": null,
       "overflow_x": null,
       "overflow_y": null,
       "padding": null,
       "right": null,
       "top": null,
       "visibility": null,
       "width": null
      }
     },
     "648b76ba52804616ba28c061dfeea0df": {
      "model_module": "@jupyter-widgets/controls",
      "model_module_version": "1.5.0",
      "model_name": "HTMLModel",
      "state": {
       "_dom_classes": [],
       "_model_module": "@jupyter-widgets/controls",
       "_model_module_version": "1.5.0",
       "_model_name": "HTMLModel",
       "_view_count": null,
       "_view_module": "@jupyter-widgets/controls",
       "_view_module_version": "1.5.0",
       "_view_name": "HTMLView",
       "description": "",
       "description_tooltip": null,
       "layout": "IPY_MODEL_f71fa3a236c84585a252054adbed88ca",
       "placeholder": "​",
       "style": "IPY_MODEL_2704253e37a745bcbd70e92a31a64d0f",
       "value": "100%"
      }
     },
     "658d7a24e49344b48ed93f68e6f3b032": {
      "model_module": "@jupyter-widgets/controls",
      "model_module_version": "1.5.0",
      "model_name": "DescriptionStyleModel",
      "state": {
       "_model_module": "@jupyter-widgets/controls",
       "_model_module_version": "1.5.0",
       "_model_name": "DescriptionStyleModel",
       "_view_count": null,
       "_view_module": "@jupyter-widgets/base",
       "_view_module_version": "1.2.0",
       "_view_name": "StyleView",
       "description_width": ""
      }
     },
     "7f4720ce658a466ca8072190998e29de": {
      "model_module": "@jupyter-widgets/base",
      "model_module_version": "1.2.0",
      "model_name": "LayoutModel",
      "state": {
       "_model_module": "@jupyter-widgets/base",
       "_model_module_version": "1.2.0",
       "_model_name": "LayoutModel",
       "_view_count": null,
       "_view_module": "@jupyter-widgets/base",
       "_view_module_version": "1.2.0",
       "_view_name": "LayoutView",
       "align_content": null,
       "align_items": null,
       "align_self": null,
       "border": null,
       "bottom": null,
       "display": null,
       "flex": null,
       "flex_flow": null,
       "grid_area": null,
       "grid_auto_columns": null,
       "grid_auto_flow": null,
       "grid_auto_rows": null,
       "grid_column": null,
       "grid_gap": null,
       "grid_row": null,
       "grid_template_areas": null,
       "grid_template_columns": null,
       "grid_template_rows": null,
       "height": null,
       "justify_content": null,
       "justify_items": null,
       "left": null,
       "margin": null,
       "max_height": null,
       "max_width": null,
       "min_height": null,
       "min_width": null,
       "object_fit": null,
       "object_position": null,
       "order": null,
       "overflow": null,
       "overflow_x": null,
       "overflow_y": null,
       "padding": null,
       "right": null,
       "top": null,
       "visibility": null,
       "width": null
      }
     },
     "812a2d38a20f4490bc6e256bf5448b86": {
      "model_module": "@jupyter-widgets/base",
      "model_module_version": "1.2.0",
      "model_name": "LayoutModel",
      "state": {
       "_model_module": "@jupyter-widgets/base",
       "_model_module_version": "1.2.0",
       "_model_name": "LayoutModel",
       "_view_count": null,
       "_view_module": "@jupyter-widgets/base",
       "_view_module_version": "1.2.0",
       "_view_name": "LayoutView",
       "align_content": null,
       "align_items": null,
       "align_self": null,
       "border": null,
       "bottom": null,
       "display": null,
       "flex": null,
       "flex_flow": null,
       "grid_area": null,
       "grid_auto_columns": null,
       "grid_auto_flow": null,
       "grid_auto_rows": null,
       "grid_column": null,
       "grid_gap": null,
       "grid_row": null,
       "grid_template_areas": null,
       "grid_template_columns": null,
       "grid_template_rows": null,
       "height": null,
       "justify_content": null,
       "justify_items": null,
       "left": null,
       "margin": null,
       "max_height": null,
       "max_width": null,
       "min_height": null,
       "min_width": null,
       "object_fit": null,
       "object_position": null,
       "order": null,
       "overflow": null,
       "overflow_x": null,
       "overflow_y": null,
       "padding": null,
       "right": null,
       "top": null,
       "visibility": null,
       "width": null
      }
     },
     "8b666a1035594db6afd398c409ba219c": {
      "model_module": "@jupyter-widgets/controls",
      "model_module_version": "1.5.0",
      "model_name": "HBoxModel",
      "state": {
       "_dom_classes": [],
       "_model_module": "@jupyter-widgets/controls",
       "_model_module_version": "1.5.0",
       "_model_name": "HBoxModel",
       "_view_count": null,
       "_view_module": "@jupyter-widgets/controls",
       "_view_module_version": "1.5.0",
       "_view_name": "HBoxView",
       "box_style": "",
       "children": [
        "IPY_MODEL_648b76ba52804616ba28c061dfeea0df",
        "IPY_MODEL_9f1cd4e9f3d24e17808ebe250fd8f40b",
        "IPY_MODEL_baab3813716f49fb83fe66c470e04cdb"
       ],
       "layout": "IPY_MODEL_812a2d38a20f4490bc6e256bf5448b86"
      }
     },
     "8fc9ee475db4447686b90bee0ae97cda": {
      "model_module": "@jupyter-widgets/controls",
      "model_module_version": "1.5.0",
      "model_name": "HBoxModel",
      "state": {
       "_dom_classes": [],
       "_model_module": "@jupyter-widgets/controls",
       "_model_module_version": "1.5.0",
       "_model_name": "HBoxModel",
       "_view_count": null,
       "_view_module": "@jupyter-widgets/controls",
       "_view_module_version": "1.5.0",
       "_view_name": "HBoxView",
       "box_style": "",
       "children": [
        "IPY_MODEL_19f985cba04e458db500e6c4cb3aa6c5",
        "IPY_MODEL_9c79b10754364a75a92e22f0f74a20d2",
        "IPY_MODEL_ea5414a7b6c947b9a9a0b1222f0f553d"
       ],
       "layout": "IPY_MODEL_06d3a3670eb749d5b24b7a2e80054d78"
      }
     },
     "9118b612ee154ba4ad55f14c363c1954": {
      "model_module": "@jupyter-widgets/base",
      "model_module_version": "1.2.0",
      "model_name": "LayoutModel",
      "state": {
       "_model_module": "@jupyter-widgets/base",
       "_model_module_version": "1.2.0",
       "_model_name": "LayoutModel",
       "_view_count": null,
       "_view_module": "@jupyter-widgets/base",
       "_view_module_version": "1.2.0",
       "_view_name": "LayoutView",
       "align_content": null,
       "align_items": null,
       "align_self": null,
       "border": null,
       "bottom": null,
       "display": null,
       "flex": null,
       "flex_flow": null,
       "grid_area": null,
       "grid_auto_columns": null,
       "grid_auto_flow": null,
       "grid_auto_rows": null,
       "grid_column": null,
       "grid_gap": null,
       "grid_row": null,
       "grid_template_areas": null,
       "grid_template_columns": null,
       "grid_template_rows": null,
       "height": null,
       "justify_content": null,
       "justify_items": null,
       "left": null,
       "margin": null,
       "max_height": null,
       "max_width": null,
       "min_height": null,
       "min_width": null,
       "object_fit": null,
       "object_position": null,
       "order": null,
       "overflow": null,
       "overflow_x": null,
       "overflow_y": null,
       "padding": null,
       "right": null,
       "top": null,
       "visibility": null,
       "width": null
      }
     },
     "9c79b10754364a75a92e22f0f74a20d2": {
      "model_module": "@jupyter-widgets/controls",
      "model_module_version": "1.5.0",
      "model_name": "FloatProgressModel",
      "state": {
       "_dom_classes": [],
       "_model_module": "@jupyter-widgets/controls",
       "_model_module_version": "1.5.0",
       "_model_name": "FloatProgressModel",
       "_view_count": null,
       "_view_module": "@jupyter-widgets/controls",
       "_view_module_version": "1.5.0",
       "_view_name": "ProgressView",
       "bar_style": "success",
       "description": "",
       "description_tooltip": null,
       "layout": "IPY_MODEL_48557a4de28742cb9e125f12bf85d5b1",
       "max": 3,
       "min": 0,
       "orientation": "horizontal",
       "style": "IPY_MODEL_24d861c55f4b48c99ffc934793e3b897",
       "value": 3
      }
     },
     "9f1cd4e9f3d24e17808ebe250fd8f40b": {
      "model_module": "@jupyter-widgets/controls",
      "model_module_version": "1.5.0",
      "model_name": "FloatProgressModel",
      "state": {
       "_dom_classes": [],
       "_model_module": "@jupyter-widgets/controls",
       "_model_module_version": "1.5.0",
       "_model_name": "FloatProgressModel",
       "_view_count": null,
       "_view_module": "@jupyter-widgets/controls",
       "_view_module_version": "1.5.0",
       "_view_name": "ProgressView",
       "bar_style": "success",
       "description": "",
       "description_tooltip": null,
       "layout": "IPY_MODEL_9118b612ee154ba4ad55f14c363c1954",
       "max": 3,
       "min": 0,
       "orientation": "horizontal",
       "style": "IPY_MODEL_f1250fe10f8040438a16ec4f6ea28e88",
       "value": 3
      }
     },
     "baab3813716f49fb83fe66c470e04cdb": {
      "model_module": "@jupyter-widgets/controls",
      "model_module_version": "1.5.0",
      "model_name": "HTMLModel",
      "state": {
       "_dom_classes": [],
       "_model_module": "@jupyter-widgets/controls",
       "_model_module_version": "1.5.0",
       "_model_name": "HTMLModel",
       "_view_count": null,
       "_view_module": "@jupyter-widgets/controls",
       "_view_module_version": "1.5.0",
       "_view_name": "HTMLView",
       "description": "",
       "description_tooltip": null,
       "layout": "IPY_MODEL_c36f39127ad84698af4263dc29102770",
       "placeholder": "​",
       "style": "IPY_MODEL_e2294f16ab294cf6a8449ac6af2726f3",
       "value": " 3/3 [00:00&lt;00:00, 212.76it/s]"
      }
     },
     "c36f39127ad84698af4263dc29102770": {
      "model_module": "@jupyter-widgets/base",
      "model_module_version": "1.2.0",
      "model_name": "LayoutModel",
      "state": {
       "_model_module": "@jupyter-widgets/base",
       "_model_module_version": "1.2.0",
       "_model_name": "LayoutModel",
       "_view_count": null,
       "_view_module": "@jupyter-widgets/base",
       "_view_module_version": "1.2.0",
       "_view_name": "LayoutView",
       "align_content": null,
       "align_items": null,
       "align_self": null,
       "border": null,
       "bottom": null,
       "display": null,
       "flex": null,
       "flex_flow": null,
       "grid_area": null,
       "grid_auto_columns": null,
       "grid_auto_flow": null,
       "grid_auto_rows": null,
       "grid_column": null,
       "grid_gap": null,
       "grid_row": null,
       "grid_template_areas": null,
       "grid_template_columns": null,
       "grid_template_rows": null,
       "height": null,
       "justify_content": null,
       "justify_items": null,
       "left": null,
       "margin": null,
       "max_height": null,
       "max_width": null,
       "min_height": null,
       "min_width": null,
       "object_fit": null,
       "object_position": null,
       "order": null,
       "overflow": null,
       "overflow_x": null,
       "overflow_y": null,
       "padding": null,
       "right": null,
       "top": null,
       "visibility": null,
       "width": null
      }
     },
     "e2294f16ab294cf6a8449ac6af2726f3": {
      "model_module": "@jupyter-widgets/controls",
      "model_module_version": "1.5.0",
      "model_name": "DescriptionStyleModel",
      "state": {
       "_model_module": "@jupyter-widgets/controls",
       "_model_module_version": "1.5.0",
       "_model_name": "DescriptionStyleModel",
       "_view_count": null,
       "_view_module": "@jupyter-widgets/base",
       "_view_module_version": "1.2.0",
       "_view_name": "StyleView",
       "description_width": ""
      }
     },
     "ea5414a7b6c947b9a9a0b1222f0f553d": {
      "model_module": "@jupyter-widgets/controls",
      "model_module_version": "1.5.0",
      "model_name": "HTMLModel",
      "state": {
       "_dom_classes": [],
       "_model_module": "@jupyter-widgets/controls",
       "_model_module_version": "1.5.0",
       "_model_name": "HTMLModel",
       "_view_count": null,
       "_view_module": "@jupyter-widgets/controls",
       "_view_module_version": "1.5.0",
       "_view_name": "HTMLView",
       "description": "",
       "description_tooltip": null,
       "layout": "IPY_MODEL_7f4720ce658a466ca8072190998e29de",
       "placeholder": "​",
       "style": "IPY_MODEL_658d7a24e49344b48ed93f68e6f3b032",
       "value": " 3/3 [00:05&lt;00:00,  1.25s/it]"
      }
     },
     "f1250fe10f8040438a16ec4f6ea28e88": {
      "model_module": "@jupyter-widgets/controls",
      "model_module_version": "1.5.0",
      "model_name": "ProgressStyleModel",
      "state": {
       "_model_module": "@jupyter-widgets/controls",
       "_model_module_version": "1.5.0",
       "_model_name": "ProgressStyleModel",
       "_view_count": null,
       "_view_module": "@jupyter-widgets/base",
       "_view_module_version": "1.2.0",
       "_view_name": "StyleView",
       "bar_color": null,
       "description_width": ""
      }
     },
     "f71fa3a236c84585a252054adbed88ca": {
      "model_module": "@jupyter-widgets/base",
      "model_module_version": "1.2.0",
      "model_name": "LayoutModel",
      "state": {
       "_model_module": "@jupyter-widgets/base",
       "_model_module_version": "1.2.0",
       "_model_name": "LayoutModel",
       "_view_count": null,
       "_view_module": "@jupyter-widgets/base",
       "_view_module_version": "1.2.0",
       "_view_name": "LayoutView",
       "align_content": null,
       "align_items": null,
       "align_self": null,
       "border": null,
       "bottom": null,
       "display": null,
       "flex": null,
       "flex_flow": null,
       "grid_area": null,
       "grid_auto_columns": null,
       "grid_auto_flow": null,
       "grid_auto_rows": null,
       "grid_column": null,
       "grid_gap": null,
       "grid_row": null,
       "grid_template_areas": null,
       "grid_template_columns": null,
       "grid_template_rows": null,
       "height": null,
       "justify_content": null,
       "justify_items": null,
       "left": null,
       "margin": null,
       "max_height": null,
       "max_width": null,
       "min_height": null,
       "min_width": null,
       "object_fit": null,
       "object_position": null,
       "order": null,
       "overflow": null,
       "overflow_x": null,
       "overflow_y": null,
       "padding": null,
       "right": null,
       "top": null,
       "visibility": null,
       "width": null
      }
     },
     "fcc85ea4d2bf440b8f9a4db5bb9e379c": {
      "model_module": "@jupyter-widgets/base",
      "model_module_version": "1.2.0",
      "model_name": "LayoutModel",
      "state": {
       "_model_module": "@jupyter-widgets/base",
       "_model_module_version": "1.2.0",
       "_model_name": "LayoutModel",
       "_view_count": null,
       "_view_module": "@jupyter-widgets/base",
       "_view_module_version": "1.2.0",
       "_view_name": "LayoutView",
       "align_content": null,
       "align_items": null,
       "align_self": null,
       "border": null,
       "bottom": null,
       "display": null,
       "flex": null,
       "flex_flow": null,
       "grid_area": null,
       "grid_auto_columns": null,
       "grid_auto_flow": null,
       "grid_auto_rows": null,
       "grid_column": null,
       "grid_gap": null,
       "grid_row": null,
       "grid_template_areas": null,
       "grid_template_columns": null,
       "grid_template_rows": null,
       "height": null,
       "justify_content": null,
       "justify_items": null,
       "left": null,
       "margin": null,
       "max_height": null,
       "max_width": null,
       "min_height": null,
       "min_width": null,
       "object_fit": null,
       "object_position": null,
       "order": null,
       "overflow": null,
       "overflow_x": null,
       "overflow_y": null,
       "padding": null,
       "right": null,
       "top": null,
       "visibility": null,
       "width": null
      }
     }
    },
    "version_major": 2,
    "version_minor": 0
   }
  }
 },
 "nbformat": 4,
 "nbformat_minor": 5
}
